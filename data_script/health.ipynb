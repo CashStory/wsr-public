{
 "cells": [
  {
   "cell_type": "code",
   "execution_count": 6,
   "metadata": {},
   "outputs": [],
   "source": [
    "# bob.refresh {\"cron\": \"5,30 2,3,4,5,6,19,20,21 * * *\", \"timeout\": 40000}"
   ]
  },
  {
   "cell_type": "code",
   "execution_count": 4,
   "metadata": {},
   "outputs": [
    {
     "name": "stdout",
     "output_type": "stream",
     "text": [
      "HealthCheck init in prod mode\n",
      "Start ==> send to https://health.cashstory.com/ping/51c8f3e8-3d84-4888-878e-a53f0a152e1a, 2020-04-06\n"
     ]
    }
   ],
   "source": [
    "import bob\n",
    "hc = bob.HealthCheck()\n",
    "hc_key = \"51c8f3e8-3d84-4888-878e-a53f0a152e1a\"\n",
    "start = hc.start(hc_key)\n",
    "print(start)"
   ]
  },
  {
   "cell_type": "code",
   "execution_count": 2,
   "metadata": {},
   "outputs": [
    {
     "name": "stdout",
     "output_type": "stream",
     "text": [
      "Successfully connected to MongoDB\n"
     ]
    }
   ],
   "source": [
    "import bob\n",
    "import json\n",
    "from datetime import datetime, timedelta, date\n",
    "import time\n",
    "import pandas as pd\n",
    "import numpy as np\n",
    "\n",
    "#--- STEP0 --- : Init\n",
    "#-> Repository\n",
    "input_folder = \"../data_input/\"\n",
    "output_folder = \"../data_output/\"\n",
    "param_folder = \"../../_parameters/\"\n",
    "\n",
    "#-> Date\n",
    "now = datetime.now().strftime('%d/%m/%Y %H:%M:%S')\n",
    "\n",
    "#-> Get credentials info+\n",
    "credentials = param_folder + 'mongodb.json'\n",
    "with open(credentials) as f:\n",
    "    dbCon = json.load(f)\n",
    "\n",
    "mongo_host = dbCon[\"host\"]\n",
    "mongo_port = dbCon[\"port\"]\n",
    "mongo_username = dbCon[\"username\"]\n",
    "mongo_password = dbCon[\"password\"]\n",
    "\n",
    "#-> Bob connect\n",
    "MongoDB = bob.mongo.connect(mongo_host,mongo_port,mongo_username,mongo_password)\n",
    "db = 'app-wsr-v1'"
   ]
  },
  {
   "cell_type": "code",
   "execution_count": 4,
   "metadata": {},
   "outputs": [
    {
     "name": "stdout",
     "output_type": "stream",
     "text": [
      "Script execution completed at 04/04/2020 11:11:56. Time: --- 2.6272594928741455 secnds ---\n"
     ]
    }
   ],
   "source": [
    "#--- Load data source\n",
    "start_time = time.time()\n",
    "db_conso = pd.read_csv(output_folder + 'WORLD_DB_CONSO.csv', sep=';',low_memory=False)\n",
    "db_all = pd.read_csv(output_folder + 'WORLD_DB_ALL.csv', sep=';',low_memory=False)\n",
    "db_trend = pd.read_csv(output_folder + 'WORLD_DB_TREND.csv', sep=';',low_memory=False)\n",
    "db_all_fr = pd.read_csv(output_folder + 'FRANCE_DB_ALL.csv', sep=';',low_memory=False)\n",
    "# db_conso = bob.mongo.read_df('WORLD_DB_CONSO','covid-19').drop('_id', axis=1)\n",
    "# db_all = bob.mongo.read_df('WORLD_DB_ALL','covid-19').drop('_id', axis=1)\n",
    "# db_trend = bob.mongo.read_df('WORLD_DB_TREND','covid-19').drop('_id', axis=1)\n",
    "# db_all_fr = bob.mongo.read_df('FRANCE_DB_ALL','covid-19').drop('_id', axis=1)\n",
    "print(\"Script execution completed at \" + now + \". Time: --- %s secnds ---\" % (time.time() - start_time))"
   ]
  },
  {
   "cell_type": "code",
   "execution_count": 9,
   "metadata": {},
   "outputs": [
    {
     "name": "stdout",
     "output_type": "stream",
     "text": [
      "Dataframe ENTITIES successfully save in database app-wsr-v1 in MongoDB. Time: --- 0.02267289161682129 secnds ---\n"
     ]
    }
   ],
   "source": [
    "#-- Date selector : ENTITIES\n",
    "def get_entities(df):\n",
    "    cols_to_rename = {\"ENTITY\": \"ENTITIES\", \"ENTITY_GROUPS\": \"GROUPS\"}\n",
    "    filters = ['WORLDWIDE','Europe','Asia','Africa','North America','South America','Oceania','Other','To be affected']\n",
    "    df = df[df['ENTITY_GROUPS'].isin(filters)].rename(index=str, columns=cols_to_rename)[['ENTITIES','GROUPS']].drop_duplicates().sort_values(by=\"ENTITIES\", ascending=True).reset_index(drop=True)\n",
    "    df['ORDER'] = df.index + 8\n",
    "    df.loc[df['ENTITIES'] == 'WORLDWIDE', 'ORDER'] = 0\n",
    "    df.loc[df['ENTITIES'] == 'Europe', 'ORDER'] = 1\n",
    "    df.loc[df['ENTITIES'] == 'Asia', 'ORDER'] = 2\n",
    "    df.loc[df['ENTITIES'] == 'Africa', 'ORDER'] = 3\n",
    "    df.loc[df['ENTITIES'] == 'North America', 'ORDER'] = 4\n",
    "    df.loc[df['ENTITIES'] == 'South America', 'ORDER'] = 5\n",
    "    df.loc[df['ENTITIES'] == 'Oceania', 'ORDER'] = 6\n",
    "    df.loc[df['ENTITIES'] == 'Other', 'ORDER'] = 7\n",
    "    df.loc[df['ENTITIES'] == 'To be affected', 'ORDER'] = 8\n",
    "    \n",
    "    df.loc[df['ENTITIES'] == 'WORLDWIDE', 'ORDER_GROUPS'] = 0\n",
    "    df.loc[df['ENTITIES'] == 'Europe', 'ORDER_GROUPS'] = 1\n",
    "    df.loc[df['ENTITIES'] == 'Asia', 'ORDER_GROUPS'] = 2\n",
    "    df.loc[df['ENTITIES'] == 'Africa', 'ORDER_GROUPS'] = 3\n",
    "    df.loc[df['ENTITIES'] == 'North America', 'ORDER_GROUPS'] = 4\n",
    "    df.loc[df['ENTITIES'] == 'South America', 'ORDER_GROUPS'] = 5\n",
    "    df.loc[df['ENTITIES'] == 'Oceania', 'ORDER_GROUPS'] = 6\n",
    "    df.loc[df['ENTITIES'] == 'Other', 'ORDER_GROUPS'] = 7\n",
    "    df.loc[df['ENTITIES'] == 'To be affected', 'ORDER_GROUPS'] = 8\n",
    "\n",
    "    df.loc[df['GROUPS'] == 'Europe', 'ORDER_GROUPS'] = 1\n",
    "    df.loc[df['GROUPS'] == 'Asia', 'ORDER_GROUPS'] = 2\n",
    "    df.loc[df['GROUPS'] == 'Africa', 'ORDER_GROUPS'] = 3\n",
    "    df.loc[df['GROUPS'] == 'North America', 'ORDER_GROUPS'] = 4\n",
    "    df.loc[df['GROUPS'] == 'South America', 'ORDER_GROUPS'] = 5\n",
    "    df.loc[df['GROUPS'] == 'Oceania', 'ORDER_GROUPS'] = 6\n",
    "    df.loc[df['GROUPS'] == 'Other', 'ORDER_GROUPS'] = 7\n",
    "    df.loc[df['GROUPS'] == 'To be affected', 'ORDER_GROUPS'] = 8\n",
    "    \n",
    "    df.loc[df['GROUPS'] == 'WORLDWIDE','ENTITY_DISPLAY'] = df['ENTITIES']\n",
    "    df.loc[df['GROUPS'] != 'WORLDWIDE','ENTITY_DISPLAY'] = '--- ' + df['ENTITIES']\n",
    "    return df.sort_values(by=['ORDER_GROUPS','ORDER'], ascending=True)\n",
    "\n",
    "entities = get_entities(db_conso)\n",
    "entities.to_csv(output_folder + 'ENTITIES.csv',sep=\";\")\n",
    "bob.mongo.save_df(entities,'ENTITIES',db,True)\n",
    "# entities.head(5)"
   ]
  },
  {
   "cell_type": "code",
   "execution_count": 10,
   "metadata": {},
   "outputs": [
    {
     "name": "stdout",
     "output_type": "stream",
     "text": [
      "Dataframe SCENARIOS successfully save in database app-wsr-v1 in MongoDB. Time: --- 0.02179408073425293 secnds ---\n"
     ]
    },
    {
     "data": {
      "text/html": [
       "<div>\n",
       "<style scoped>\n",
       "    .dataframe tbody tr th:only-of-type {\n",
       "        vertical-align: middle;\n",
       "    }\n",
       "\n",
       "    .dataframe tbody tr th {\n",
       "        vertical-align: top;\n",
       "    }\n",
       "\n",
       "    .dataframe thead th {\n",
       "        text-align: right;\n",
       "    }\n",
       "</style>\n",
       "<table border=\"1\" class=\"dataframe\">\n",
       "  <thead>\n",
       "    <tr style=\"text-align: right;\">\n",
       "      <th></th>\n",
       "      <th>SCENARIO</th>\n",
       "      <th>DATE_ORDER</th>\n",
       "      <th>SCENARIO_DIPLAY</th>\n",
       "    </tr>\n",
       "  </thead>\n",
       "  <tbody>\n",
       "    <tr>\n",
       "      <th>72</th>\n",
       "      <td>03/04/2020</td>\n",
       "      <td>20200403</td>\n",
       "      <td>03 Apr 2020</td>\n",
       "    </tr>\n",
       "    <tr>\n",
       "      <th>71</th>\n",
       "      <td>02/04/2020</td>\n",
       "      <td>20200402</td>\n",
       "      <td>02 Apr 2020</td>\n",
       "    </tr>\n",
       "    <tr>\n",
       "      <th>70</th>\n",
       "      <td>01/04/2020</td>\n",
       "      <td>20200401</td>\n",
       "      <td>01 Apr 2020</td>\n",
       "    </tr>\n",
       "    <tr>\n",
       "      <th>69</th>\n",
       "      <td>31/03/2020</td>\n",
       "      <td>20200331</td>\n",
       "      <td>31 Mar 2020</td>\n",
       "    </tr>\n",
       "    <tr>\n",
       "      <th>68</th>\n",
       "      <td>30/03/2020</td>\n",
       "      <td>20200330</td>\n",
       "      <td>30 Mar 2020</td>\n",
       "    </tr>\n",
       "  </tbody>\n",
       "</table>\n",
       "</div>"
      ],
      "text/plain": [
       "      SCENARIO  DATE_ORDER SCENARIO_DIPLAY\n",
       "72  03/04/2020    20200403     03 Apr 2020\n",
       "71  02/04/2020    20200402     02 Apr 2020\n",
       "70  01/04/2020    20200401     01 Apr 2020\n",
       "69  31/03/2020    20200331     31 Mar 2020\n",
       "68  30/03/2020    20200330     30 Mar 2020"
      ]
     },
     "execution_count": 10,
     "metadata": {},
     "output_type": "execute_result"
    }
   ],
   "source": [
    "#-- Date selector : SCENARIOS\n",
    "def get_scenarios(df):\n",
    "    df = df[['SCENARIO','DATE_ORDER']].drop_duplicates()\n",
    "    df['SCENARIO_DIPLAY'] = pd.to_datetime(df['SCENARIO'], format='%d/%m/%Y').dt.strftime('%d %b %Y')\n",
    "    return df.sort_values(by='DATE_ORDER', ascending=False)\n",
    "\n",
    "scenarios = get_scenarios(db_all)\n",
    "scenarios.to_csv(output_folder + 'SCENARIOS.csv',sep=\";\")\n",
    "bob.mongo.save_df(scenarios,'SCENARIOS',db,True)\n",
    "scenarios.head(5)"
   ]
  },
  {
   "cell_type": "code",
   "execution_count": 11,
   "metadata": {},
   "outputs": [],
   "source": [
    "#Dashboard value dynamic template\n",
    "def dashboard_value(df,kpi,label):\n",
    "    filters = ['WORLDWIDE','Europe','Asia','Africa','North America','South America','Oceania','Other','To be affected']\n",
    "    domain = df[(df['ENTITY_GROUPS'].isin(filters)) & (df['KPI'].isin([kpi]))]\n",
    "    domain = pd.DataFrame({\n",
    "        'ENTITY': domain['ENTITY'],\n",
    "        'ENTITY_GROUPS': domain['ENTITY_GROUPS'],\n",
    "        'SCENARIO': domain['SCENARIO'],\n",
    "        'DATE_ORDER': domain['DATE_ORDER'],\n",
    "        'LABEL': domain[label],\n",
    "        'VALUE': domain['VALUE'],\n",
    "        'VALUE_D-1': domain['VALUE_D-1'],\n",
    "        'VAR': domain['VARV'],\n",
    "        'VARP': domain['VARP'],\n",
    "        'UNIT_VALUE': domain['UNIT_VALUE'],\n",
    "        'UNIT_VAR': domain['UNIT_VAR'],\n",
    "        'UNIT_VARP': domain['UNIT_VARP'],\n",
    "        'PRECISION_VALUE': domain['PRECISION_VALUE'],\n",
    "        'PRECISION_VAR': domain['PRECISION_VAR'],\n",
    "        'PRECISION_VARP': domain['PRECISION_VARP'],\n",
    "        'LAST_UPDATE': now,\n",
    "    })\n",
    "    return domain"
   ]
  },
  {
   "cell_type": "code",
   "execution_count": 12,
   "metadata": {},
   "outputs": [],
   "source": [
    "#Dashboard leaderboard template\n",
    "def dashboard_leaderboard(df,kpi):\n",
    "    domain = df[(df['KPI'].isin([kpi]))]\n",
    "    domain = pd.DataFrame({\n",
    "        'ENTITY': domain['ENTITY_GROUPS'],\n",
    "        'SCENARIO': domain['SCENARIO'],\n",
    "        'DATE_ORDER': domain['DATE_ORDER'],\n",
    "        'LABEL': domain['ENTITY'],\n",
    "        'VALUE': domain['VALUE'],\n",
    "        'VALUE_D-1': domain['VALUE_D-1'],\n",
    "        'VAR': domain['VARV'],\n",
    "        'VARP': domain['VARP'],\n",
    "        'UNIT_VALUE': domain['UNIT_VALUE'],\n",
    "        'UNIT_VAR': domain['UNIT_VAR'],\n",
    "        'UNIT_VARP': domain['UNIT_VARP'],\n",
    "        'PRECISION_VALUE': domain['PRECISION_VALUE'],\n",
    "        'PRECISION_VAR': domain['PRECISION_VAR'],\n",
    "        'PRECISION_VARP': domain['PRECISION_VARP'],\n",
    "        'LAST_UPDATE': now,\n",
    "    })\n",
    "    return domain"
   ]
  },
  {
   "cell_type": "code",
   "execution_count": 13,
   "metadata": {},
   "outputs": [],
   "source": [
    "#Duplicate to rank countries WORLDWIDE\n",
    "def get_ww(df): \n",
    "    filters = ['Europe','Asia','Africa','North America','South America','Oceania','Other','To be affected']\n",
    "    df_ww = df.copy()[(df['ENTITY'].isin(filters))] \n",
    "    df_ww['ENTITY'] = \"WORLDWIDE\"           \n",
    "    df = df.append(df_ww)\n",
    "    return df"
   ]
  },
  {
   "cell_type": "code",
   "execution_count": 14,
   "metadata": {},
   "outputs": [
    {
     "name": "stdout",
     "output_type": "stream",
     "text": [
      "Dataframe 001 successfully save in database app-wsr-v1 in MongoDB. Time: --- 10.344755172729492 secnds ---\n",
      "Dataframe 002 successfully save in database app-wsr-v1 in MongoDB. Time: --- 10.138439655303955 secnds ---\n",
      "Dataframe 003 successfully save in database app-wsr-v1 in MongoDB. Time: --- 9.976490497589111 secnds ---\n",
      "Dataframe 004 successfully save in database app-wsr-v1 in MongoDB. Time: --- 10.451014757156372 secnds ---\n",
      "Dataframe 005 successfully save in database app-wsr-v1 in MongoDB. Time: --- 10.278908967971802 secnds ---\n",
      "Dataframe 006 successfully save in database app-wsr-v1 in MongoDB. Time: --- 9.818326950073242 secnds ---\n",
      "Script execution completed at 04/04/2020 07:14:26. Time: --- 61.86918616294861 secnds ---\n"
     ]
    }
   ],
   "source": [
    "#--- DASHBOARD ---\n",
    "#-- VALUE DYNAMIC KPIS\n",
    "start_time = time.time()\n",
    "domain001 = dashboard_value(db_all,'Confirmed','KPI')\n",
    "domain001.to_csv(output_folder + '001.csv',sep=\";\")\n",
    "bob.mongo.save_df(domain001,'001', db,True)\n",
    "\n",
    "domain002 = dashboard_value(db_all,'Deaths','KPI')\n",
    "domain002.to_csv(output_folder + '002.csv',sep=\";\")\n",
    "bob.mongo.save_df(domain002,'002', db,True)\n",
    "\n",
    "domain003 = dashboard_value(db_all,'Recovered','KPI')\n",
    "domain003.to_csv(output_folder + '003.csv',sep=\";\")\n",
    "bob.mongo.save_df(domain003,'003', db,True)\n",
    "\n",
    "domain004 = dashboard_value(db_all,'Active cases','KPI')\n",
    "domain004.to_csv(output_folder + '004.csv',sep=\";\")\n",
    "bob.mongo.save_df(domain004,'004', db,True)\n",
    "\n",
    "domain005 = dashboard_value(db_all,\"Fatality Rate\",'KPI')\n",
    "domain005.to_csv(output_folder + '005.csv',sep=\";\")\n",
    "bob.mongo.save_df(domain005,'005', db,True)\n",
    "\n",
    "domain006 = dashboard_value(db_all,\"Recovery Rate\",'KPI')\n",
    "domain006.to_csv(output_folder + '006.csv',sep=\";\")\n",
    "bob.mongo.save_df(domain006,'006', db,True)\n",
    "print(\"Script execution completed at \" + now + \". Time: --- %s secnds ---\" % (time.time() - start_time))"
   ]
  },
  {
   "cell_type": "code",
   "execution_count": 15,
   "metadata": {},
   "outputs": [
    {
     "name": "stdout",
     "output_type": "stream",
     "text": [
      "Dataframe 007 successfully save in database app-wsr-v1 in MongoDB. Time: --- 0.0447232723236084 secnds ---\n",
      "Dataframe 008 successfully save in database app-wsr-v1 in MongoDB. Time: --- 0.04421401023864746 secnds ---\n",
      "Dataframe 009 successfully save in database app-wsr-v1 in MongoDB. Time: --- 0.04503488540649414 secnds ---\n",
      "Script execution completed at 04/04/2020 07:14:26. Time: --- 0.18891453742980957 secnds ---\n"
     ]
    }
   ],
   "source": [
    "#-- LEADERBOARD BY REGION\n",
    "start_time = time.time()\n",
    "db_r = db_all[(db_all['ENTITY_GROUPS'] == 'WORLDWIDE') & (db_all['ENTITY'] != 'WORLDWIDE')]\n",
    "domain007 = dashboard_leaderboard(db_r,'Confirmed')\n",
    "domain007.to_csv(output_folder + '007.csv',sep=\";\")\n",
    "bob.mongo.save_df(domain007,'007', db,True)\n",
    "\n",
    "domain008 = dashboard_leaderboard(db_r,'Deaths')\n",
    "domain008.to_csv(output_folder + '008.csv',sep=\";\")\n",
    "bob.mongo.save_df(domain008,'008', db,True)\n",
    "\n",
    "domain009 = dashboard_leaderboard(db_r,'Recovered')\n",
    "domain009.to_csv(output_folder + '009.csv',sep=\";\")\n",
    "bob.mongo.save_df(domain009,'009', db,True)\n",
    "print(\"Script execution completed at \" + now + \". Time: --- %s secnds ---\" % (time.time() - start_time))"
   ]
  },
  {
   "cell_type": "code",
   "execution_count": 16,
   "metadata": {},
   "outputs": [
    {
     "name": "stdout",
     "output_type": "stream",
     "text": [
      "Dataframe 010 successfully save in database app-wsr-v1 in MongoDB. Time: --- 19.519050121307373 secnds ---\n",
      "Dataframe 011 successfully save in database app-wsr-v1 in MongoDB. Time: --- 19.518616199493408 secnds ---\n",
      "Dataframe 012 successfully save in database app-wsr-v1 in MongoDB. Time: --- 19.156473398208618 secnds ---\n",
      "Script execution completed at 04/04/2020 07:14:26. Time: --- 59.41916036605835 secnds ---\n"
     ]
    }
   ],
   "source": [
    "#-- LEADERBOARD BY COUNTRIES\n",
    "start_time = time.time()\n",
    "db_c = db_all[(db_all['ENTITY_GROUPS'] != 'WORLDWIDE')]\n",
    "domain010 = get_ww(dashboard_leaderboard(db_c,'Confirmed'))\n",
    "domain010.to_csv(output_folder + '010.csv',sep=\";\")\n",
    "bob.mongo.save_df(domain010,'010',db,True)\n",
    "\n",
    "domain011 = get_ww(dashboard_leaderboard(db_c,'Deaths'))\n",
    "domain011.to_csv(output_folder + '011.csv',sep=\";\")\n",
    "bob.mongo.save_df(domain011,'011', db,True)\n",
    "\n",
    "domain012 = get_ww(dashboard_leaderboard(db_c,'Recovered'))\n",
    "domain012.to_csv(output_folder + '012.csv',sep=\";\")\n",
    "bob.mongo.save_df(domain012,'012', db,True)\n",
    "print(\"Script execution completed at \" + now + \". Time: --- %s secnds ---\" % (time.time() - start_time))"
   ]
  },
  {
   "cell_type": "code",
   "execution_count": 17,
   "metadata": {},
   "outputs": [
    {
     "name": "stdout",
     "output_type": "stream",
     "text": [
      "Script execution completed at 04/04/2020 07:14:26. Time: --- 0.5818274021148682 secnds ---\n",
      "Dataframe 101 successfully save in database app-wsr-v1 in MongoDB. Time: --- 55.88365626335144 secnds ---\n"
     ]
    }
   ],
   "source": [
    "#-- Covid-19 - TRENDS\n",
    "start_time = time.time()\n",
    "def domain_101(df):\n",
    "    domain = df[df['KPI'].isin(['Confirmed','Deaths','Recovered','Active cases','Deaths ratio','Recovered ratio'])]\n",
    "    domain = pd.DataFrame({\n",
    "        'ENTITY': domain['ENTITY'],\n",
    "        'ENTITY_GROUPS': domain['ENTITY_GROUPS'],\n",
    "        'SCENARIO': domain['SCENARIO'],\n",
    "        'DATE_ORDER': domain['DATE_ORDER'],\n",
    "        'GROUPS': domain['KPI'],\n",
    "        'BOTTOM_FILTER': domain['DATE_SCENARIO'],\n",
    "        'UPPER_FILTER_M': domain['METRIC'],\n",
    "        'VALUE': domain['VALUE'],\n",
    "        'UNIT_VALUE': domain['UNIT'],\n",
    "        'PRECISION': domain['PRECISION'],\n",
    "        'LAST_UPDATE': now,\n",
    "    })\n",
    "    \n",
    "    domain.loc[domain['UPPER_FILTER_M'] == 'VALUE','UPPER_FILTER_M'] = 'EVOLUTION'\n",
    "    domain.loc[(domain['UPPER_FILTER_M'] == 'VARV') & (domain['GROUPS'].isin(['Confirmed','Deaths','Recovered','Active cases'])),'UPPER_FILTER_M'] = 'DAILY VARIATION (CASES)'\n",
    "    domain.loc[(domain['UPPER_FILTER_M'] == 'VARV') & (domain['GROUPS'].isin(['Deaths ratio','Recovered ratio'])),'UPPER_FILTER_M'] = 'DAILY VARIATION (PTS)'\n",
    "    domain.loc[(domain['UPPER_FILTER_M'] == 'VARP') & (domain['GROUPS'].isin(['Confirmed','Deaths','Recovered','Active cases'])),'UPPER_FILTER_M'] = 'DAILY VARIATION (%)'\n",
    "    domain.loc[(domain['UPPER_FILTER_M'] == 'VARP') & (domain['GROUPS'].isin(['Deaths ratio','Recovered ratio'])),'UPPER_FILTER_M'] = ''\n",
    "    return domain\n",
    "\n",
    "domain101 = domain_101(db_trend)\n",
    "print(\"Script execution completed at \" + now + \". Time: --- %s secnds ---\" % (time.time() - start_time))\n",
    "domain101.to_csv(output_folder + '101.csv',sep=\";\")\n",
    "bob.mongo.save_df(domain101,'101',db,True)\n",
    "# domain101.head(5)"
   ]
  },
  {
   "cell_type": "code",
   "execution_count": 18,
   "metadata": {},
   "outputs": [
    {
     "name": "stdout",
     "output_type": "stream",
     "text": [
      "Script execution completed at 04/04/2020 07:14:26. Time: --- 0.22937583923339844 secnds ---\n",
      "Dataframe 102 successfully save in database app-wsr-v1 in MongoDB. Time: --- 18.474308490753174 secnds ---\n"
     ]
    }
   ],
   "source": [
    "#-- Covid-19 - TRENDS BY COUNTRIES\n",
    "start_time = time.time()\n",
    "def domain_102(df):\n",
    "    domain = df.copy()\n",
    "    max_date = domain['DATE_ORDER'].max()\n",
    "    filters =  ['Europe','Asia','Africa','North America','South America','Oceania','Other','To be affected']\n",
    "    countries = domain[(domain['ENTITY_GROUPS'].isin(filters)) & (domain['DATE_ORDER'] == max_date) & (domain['GROUPS'] == 'Confirmed') & (domain['BOTTOM_FILTER'] == 'Since beginning')].sort_values(by= 'VALUE', ascending=False)['ENTITY'].drop_duplicates().values.tolist()[:10]\n",
    "    domain = domain[(domain['ENTITY_GROUPS'] != \"WORLDWIDE\") & (domain['ENTITY'].isin(countries))]\n",
    "    return domain\n",
    "\n",
    "domain102 = domain_102(domain101)\n",
    "print(\"Script execution completed at \" + now + \". Time: --- %s secnds ---\" % (time.time() - start_time))\n",
    "domain102.to_csv(output_folder + '102.csv',sep=\";\")\n",
    "bob.mongo.save_df(domain102,'102',db,True)\n",
    "# domain102.head(5)"
   ]
  },
  {
   "cell_type": "code",
   "execution_count": 19,
   "metadata": {},
   "outputs": [
    {
     "name": "stdout",
     "output_type": "stream",
     "text": [
      "Script execution completed at 04/04/2020 07:14:26. Time: --- 0.4764735698699951 secnds ---\n",
      "Dataframe 103 successfully save in database app-wsr-v1 in MongoDB. Time: --- 41.83936357498169 secnds ---\n"
     ]
    }
   ],
   "source": [
    "#-- Covid-19 - RANKING BY COUNTRIES\n",
    "start_time = time.time()\n",
    "#-> Referentials\n",
    "ref_continent = pd.read_excel(input_folder + 'REF_WSR.xlsx', sheet_name = 'REF_CONTINENT')\n",
    "def domain_103(df,ref):\n",
    "    domain = df.copy()\n",
    "    cols_to_rename = {\"LABEL\": \"KPI\",\"ENTITY\": \"LABEL\", \"ENTITY_GROUPS\":\"ENTITY\", \"VARV\":\"VAR\"}\n",
    "    domain = get_ww(domain.drop(['DATE','UNIT_VAR','UNIT_VARP','PRECISION_VALUE','PRECISION_VAR','PRECISION_VARP'],axis=1).rename(index=str, columns=cols_to_rename).reset_index(drop=True))\n",
    "    domain = pd.merge(domain, ref, left_on=['LABEL'], right_on=['COUNTRY_REGION'], how='left').drop(['CONTINENT','COUNTRY_REGION'],axis=1)\n",
    "    return domain.reset_index(drop=True)\n",
    "\n",
    "domain103 = domain_103(db_all,ref_continent)\n",
    "print(\"Script execution completed at \" + now + \". Time: --- %s secnds ---\" % (time.time() - start_time))\n",
    "domain103.to_csv(output_folder + '103.csv',sep=\";\")\n",
    "bob.mongo.save_df(domain103,'103',db,True)\n",
    "# domain103.head(5)"
   ]
  },
  {
   "cell_type": "code",
   "execution_count": 5,
   "metadata": {},
   "outputs": [
    {
     "name": "stdout",
     "output_type": "stream",
     "text": [
      "Script execution completed at 04/04/2020 11:11:56. Time: --- 0.19437956809997559 secnds ---\n",
      "Dataframe 105 successfully save in database app-wsr-v1 in MongoDB. Time: --- 15.282022714614868 secnds ---\n"
     ]
    }
   ],
   "source": [
    "#-- Covid-19 - FRANCE FOCUS\n",
    "start_time = time.time()\n",
    "def domain_105(df):\n",
    "    domain = df.copy()\n",
    "    domain = pd.DataFrame({\n",
    "        'ENTITY': 'France',\n",
    "        'LABEL': domain['LABEL'],\n",
    "        'GROUPS': domain['LABEL_GROUPS'],\n",
    "        'GROUPS_ORDER': domain['STATUS_ORDER'],\n",
    "        'SCENARIO': domain['SCENARIO'],\n",
    "        'DATE_ORDER': domain['DATE_ORDER'],\n",
    "        'BOTTOM_FILTER': 'Depuis le début',\n",
    "        'UPPER_FILTER_M': domain['STATUS_NAME'],\n",
    "        'VALUE': domain['VALUE'],\n",
    "        'VAR': domain['VARV'],\n",
    "        'VARP': domain['VARP'],\n",
    "        'UNIT_VALUE': ' ',\n",
    "        'PRECISION': ',.0f',\n",
    "        'LAST_UPDATE': now,\n",
    "    })\n",
    "    \n",
    "    domain = domain.sort_values(by='DATE_ORDER',ascending=True)\n",
    "    def get_lastdays(df,all_dates,title):\n",
    "        df_b = pd.DataFrame()\n",
    "        for d in all_dates:\n",
    "            tmp_df = df[df['DATE_ORDER'] == d]\n",
    "            df_b = df_b.append(tmp_df)\n",
    "            df_b['BOTTOM_FILTER'] = title\n",
    "        return df_b\n",
    "    \n",
    "    last_14 = domain['DATE_ORDER'].sort_values(ascending=False).drop_duplicates().values.tolist()[:14]\n",
    "    df_last14 = get_lastdays(domain, last_14,\"14 derniers jours\")\n",
    "    last_30 = domain['DATE_ORDER'].sort_values(ascending=False).drop_duplicates().values.tolist()[:30]\n",
    "    df_last30 = get_lastdays(domain, last_30,\"30 derniers jours\")\n",
    "    domain = pd.concat([domain,df_last14,df_last30],axis=0)\n",
    "    \n",
    "    return domain.reset_index(drop=True)\n",
    "\n",
    "domain105 = domain_105(db_all_fr).sort_values(by=['DATE_ORDER','LABEL','GROUPS','GROUPS_ORDER'],ascending=True)\n",
    "print(\"Script execution completed at \" + now + \". Time: --- %s secnds ---\" % (time.time() - start_time))\n",
    "domain105.to_csv(output_folder + '105.csv', sep=';')\n",
    "bob.mongo.save_df(domain105,'105',db,True)\n",
    "# domain105.head(5)"
   ]
  },
  {
   "cell_type": "code",
   "execution_count": 21,
   "metadata": {},
   "outputs": [
    {
     "name": "stdout",
     "output_type": "stream",
     "text": [
      "Script execution completed at 04/04/2020 07:14:26. Time: --- 12.703436613082886 secnds ---\n",
      "Dataframe 106 successfully save in database app-wsr-v1 in MongoDB. Time: --- 18.11886739730835 secnds ---\n"
     ]
    }
   ],
   "source": [
    "#-- Covid-19 - FRANCE FOCUS\n",
    "start_time = time.time()\n",
    "def domain_106(df):\n",
    "    df = df[~df['KPI'].isin(['Fatality Rate',\"Recovery Rate\"])]\n",
    "    \n",
    "    #--Value\n",
    "    domain_val = df.copy()[['ENTITY_GROUPS','ENTITY','SCENARIO','KPI','VALUE','VALUE_D-1']][df['ENTITY_GROUPS'] == 'WORLDWIDE']\n",
    "    cols_to_keep = ['ENTITY_GROUPS','ENTITY','SCENARIO','KPI']\n",
    "    domain_val = domain_val.melt(id_vars=cols_to_keep, value_name='VALUE',var_name='METRIC')\n",
    "    domain_val['ENTITY_GROUPS'] = domain_val['ENTITY']\n",
    "    domain_val.loc[domain_val['METRIC'] == 'VALUE', 'LABEL_ORDER'] = 99999999\n",
    "    domain_val.loc[domain_val['METRIC'] == 'VALUE_D-1', 'LABEL_ORDER'] = 0\n",
    "    domain_val.loc[domain_val['METRIC'] == 'VALUE', 'METRIC'] = domain_val['SCENARIO']\n",
    "    domain_val.loc[domain_val['METRIC'] == 'VALUE_D-1', 'METRIC'] = (pd.to_datetime(domain_val['SCENARIO'], format='%d/%m/%Y') + timedelta(days=-1)).dt.strftime('%d/%m/%Y')\n",
    "    \n",
    "    cols_to_rename = {'METRIC':'LABEL', 'ENTITY_GROUPS': 'ENTITY','KPI':'UPPER_FILTER_R'}\n",
    "    domain_val = domain_val.drop('ENTITY',axis=1).rename(index=str, columns=cols_to_rename)\n",
    "    domain_val['PRECISION'] = ',.0f'\n",
    "\n",
    "    #--Variation\n",
    "    filters = ['Europe','Asia','Africa','North America','South America','Oceania','Other','To be affected']\n",
    "    domain_var = df.copy()[['ENTITY_GROUPS','ENTITY','SCENARIO','KPI','VARV','VARP']][df['ENTITY_GROUPS'].isin(filters)]\n",
    "    cols_to_rename = {'VARV':'VALUE', 'VARP': 'VAR'}\n",
    "    domain_var = domain_var.rename(index=str, columns=cols_to_rename).reset_index(drop=True)\n",
    "    domain_var = domain_var[domain_var['VALUE'] !=0 ]\n",
    "    \n",
    "    filters = domain_var[['ENTITY_GROUPS','SCENARIO','KPI']].drop_duplicates().values.tolist()\n",
    "    domain_w = pd.DataFrame()\n",
    "    for f in filters:\n",
    "        tmp_df = domain_var[(domain_var['ENTITY_GROUPS'] == f[0]) & (domain_var['SCENARIO'] == f[1]) & (domain_var['KPI'] == f[2])].sort_values(by=[\"VALUE\",\"ENTITY\"],ascending=False).reset_index(drop=True)\n",
    "        tmp_df['LABEL_ORDER'] = tmp_df.index.astype(int) + 1\n",
    "        if len(tmp_df) > 9:\n",
    "            tmp_df.loc[tmp_df.index > 9, 'ENTITY'] = 'Other countries'\n",
    "            cols_to_group = ['ENTITY_GROUPS','ENTITY','SCENARIO','KPI','LABEL_ORDER']\n",
    "            tmp_df = tmp_df.groupby(cols_to_group, as_index=False).agg({'VALUE':'sum'})\n",
    "        tmp_df['PRECISION'] = '+,.0f'\n",
    "        domain_w = domain_w.append(tmp_df)\n",
    "        \n",
    "    cols_to_rename = {'ENTITY':'LABEL', 'ENTITY_GROUPS': 'ENTITY','KPI':'UPPER_FILTER_R'}\n",
    "    domain_w = domain_w.rename(index=str, columns=cols_to_rename)\n",
    "    domain_w['GROUPS'] = domain_w['LABEL']\n",
    "    \n",
    "    cols_to_rename = {'LABEL':'GROUPS', 'ENTITY':'LABEL'}\n",
    "    domain_w2 = domain_w.copy().drop('GROUPS',axis=1).rename(index=str, columns=cols_to_rename)\n",
    "    domain_w2['ENTITY'] = 'WORLDWIDE'\n",
    "    \n",
    "    domain = pd.concat([domain_val,domain_w,domain_w2],axis=0).sort_values(['ENTITY','UPPER_FILTER_R','LABEL_ORDER'])\n",
    "    return domain.reset_index(drop=True)\n",
    "\n",
    "domain106 = domain_106(db_all)\n",
    "print(\"Script execution completed at \" + now + \". Time: --- %s secnds ---\" % (time.time() - start_time))\n",
    "# domain106 = domain106[(domain106['UPPER_FILTER_R'] == 'Confirmed') & (domain106['SCENARIO'] == '02/04/2020')]\n",
    "domain106.to_csv(output_folder + '106.csv', sep=\";\")\n",
    "bob.mongo.save_df(domain106,'106',db,True)\n",
    "# domain106.head(15)"
   ]
  },
  {
   "cell_type": "code",
   "execution_count": 5,
   "metadata": {},
   "outputs": [
    {
     "name": "stdout",
     "output_type": "stream",
     "text": [
      "End ==> send to https://health.cashstory.com/ping/51c8f3e8-3d84-4888-878e-a53f0a152e1a, 2020-04-06\n"
     ]
    }
   ],
   "source": [
    "done = hc.done(hc_key)\n",
    "print(done)"
   ]
  },
  {
   "cell_type": "code",
   "execution_count": null,
   "metadata": {},
   "outputs": [],
   "source": []
  }
 ],
 "metadata": {
  "kernelspec": {
   "display_name": "Python 3",
   "language": "python",
   "name": "python3"
  },
  "language_info": {
   "codemirror_mode": {
    "name": "ipython",
    "version": 3
   },
   "file_extension": ".py",
   "mimetype": "text/x-python",
   "name": "python",
   "nbconvert_exporter": "python",
   "pygments_lexer": "ipython3",
   "version": "3.7.6"
  }
 },
 "nbformat": 4,
 "nbformat_minor": 4
}
