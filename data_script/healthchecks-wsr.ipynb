{
 "cells": [
  {
   "cell_type": "code",
   "execution_count": 1,
   "metadata": {},
   "outputs": [],
   "source": [
    "# bob.refresh {\"cron\": \"*/2 * * * *\", \"timeout\": 500}"
   ]
  },
  {
   "cell_type": "code",
   "execution_count": 2,
   "metadata": {},
   "outputs": [
    {
     "name": "stdout",
     "output_type": "stream",
     "text": [
      "HealthCheck init in prod mode\n",
      "Start ==> send to https://health.cashstory.com/ping/8a88abd1-0d78-44b5-a19a-98407d1f7303, 2020-04-06\n",
      "http://worldsituationroom.com is heathy send to https://health.cashstory.com/ping/49101db7-74eb-4e5b-aabf-89d3e4c68e90 2020-04-06\n",
      "https://api.toucan.cashstory.com is heathy send to https://health.cashstory.com/ping/74111e9d-84aa-41d8-bdef-ec4942713b46 2020-04-06\n",
      "End ==> send to https://health.cashstory.com/ping/8a88abd1-0d78-44b5-a19a-98407d1f7303, 2020-04-06\n"
     ]
    }
   ],
   "source": [
    "from requests.auth import HTTPBasicAuth\n",
    "import traceback\n",
    "import bob\n",
    "\n",
    "hc = bob.HealthCheck()\n",
    "hc_key = \"8a88abd1-0d78-44b5-a19a-98407d1f7303\"\n",
    "start = hc.start(hc_key)\n",
    "print(start)\n",
    "\n",
    "services_list= [\n",
    "    {\"url\": \"http://worldsituationroom.com\", \"health\": \"49101db7-74eb-4e5b-aabf-89d3e4c68e90\"},\n",
    "    {\"url\": \"https://api.toucan.cashstory.com\", \"health\": \"74111e9d-84aa-41d8-bdef-ec4942713b46\"},\n",
    "]\n",
    "\n",
    "for service in services_list:\n",
    "    auth = None\n",
    "    verify = True\n",
    "    if \"verify\" in service.keys():\n",
    "        verify= service[\"verify\"]\n",
    "    if \"auth\" in service.keys():\n",
    "        auth = service[\"auth\"]\n",
    "    try:\n",
    "        res = hc.checkUp(service[\"url\"], service[\"health\"], auth=auth, verify=verify)\n",
    "        print (res)\n",
    "    except Exception as e:\n",
    "      print(\"An exception occurred\", service[\"url\"], traceback.format_exc())\n",
    "\n",
    "done = hc.done(hc_key)\n",
    "print(done)"
   ]
  },
  {
   "cell_type": "code",
   "execution_count": null,
   "metadata": {},
   "outputs": [],
   "source": []
  }
 ],
 "metadata": {
  "kernelspec": {
   "display_name": "Python 3",
   "language": "python",
   "name": "python3"
  },
  "language_info": {
   "codemirror_mode": {
    "name": "ipython",
    "version": 3
   },
   "file_extension": ".py",
   "mimetype": "text/x-python",
   "name": "python",
   "nbconvert_exporter": "python",
   "pygments_lexer": "ipython3",
   "version": "3.7.6"
  }
 },
 "nbformat": 4,
 "nbformat_minor": 4
}
