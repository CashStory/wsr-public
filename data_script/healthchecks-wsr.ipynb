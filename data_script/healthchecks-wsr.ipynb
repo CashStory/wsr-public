{
 "cells": [
  {
   "cell_type": "code",
   "execution_count": null,
   "metadata": {},
   "outputs": [],
   "source": [
    "# bob.refresh {\"cron\": \"*/2 * * * *\", \"timeout\": 500}"
   ]
  },
  {
   "cell_type": "code",
   "execution_count": null,
   "metadata": {},
   "outputs": [],
   "source": [
    "# from requests.auth import HTTPBasicAuth\n",
    "import traceback\n",
    "import bob\n",
    "\n",
    "BHC = bob.HealthCheck()\n",
    "BHC_KEY = \"8a88abd1-0d78-44b5-a19a-98407d1f7303\"\n",
    "START = BHC.start(BHC_KEY)\n",
    "print(START)\n",
    "\n",
    "SERVICES_LIST = [{\"url\": \"http://worldsituationroom.com\",\n",
    "                  \"health\": \"49101db7-74eb-4e5b-aabf-89d3e4c68e90\"},\n",
    "                 {\"url\": \"https://api.toucan.cashstory.com\",\n",
    "                  \"health\": \"74111e9d-84aa-41d8-bdef-ec4942713b46\"}]\n",
    "\n",
    "for service in SERVICES_LIST:\n",
    "    AUTH = None\n",
    "    VERIFY = True\n",
    "    if \"verify\" in service.keys():\n",
    "        VERIFY = service[\"verify\"]\n",
    "    if \"auth\" in service.keys():\n",
    "        AUTH = service[\"auth\"]\n",
    "    try:\n",
    "        RES = BHC.checkUp(service[\"url\"],\n",
    "                          service[\"health\"],\n",
    "                          auth=AUTH,\n",
    "                          verify=VERIFY)\n",
    "        print(RES)\n",
    "    except Exception:\n",
    "        print('An exception occurred '\n",
    "              f'{service[\"url\"]} {traceback.format_exc()}')\n",
    "\n",
    "DONE = BHC.done(BHC_KEY)\n",
    "print(DONE)"
   ]
  },
  {
   "cell_type": "code",
   "execution_count": null,
   "metadata": {},
   "outputs": [],
   "source": []
  }
 ],
 "metadata": {
  "kernelspec": {
   "display_name": "Python 3",
   "language": "python",
   "name": "python3"
  },
  "language_info": {
   "codemirror_mode": {
    "name": "ipython",
    "version": 3
   },
   "file_extension": ".py",
   "mimetype": "text/x-python",
   "name": "python",
   "nbconvert_exporter": "python",
   "pygments_lexer": "ipython3",
   "version": "3.7.3"
  }
 },
 "nbformat": 4,
 "nbformat_minor": 4
}
