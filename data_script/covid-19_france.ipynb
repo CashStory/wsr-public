{
 "cells": [
  {
   "cell_type": "code",
   "execution_count": 7,
   "metadata": {},
   "outputs": [],
   "source": [
    "#  bob.refresh {\"cron\": \"0,25 19-22 * * *\", \"timeout\": 40000}"
   ]
  },
  {
   "cell_type": "code",
   "execution_count": 8,
   "metadata": {},
   "outputs": [
    {
     "name": "stdout",
     "output_type": "stream",
     "text": [
      "HealthCheck init in prod mode\n",
      "Start ==> send to https://health.cashstory.com/ping/a0475c76-9c0c-41b3-a001-354b535171df, 2020-04-07\n"
     ]
    }
   ],
   "source": [
    "import bob\n",
    "hc = bob.HealthCheck()\n",
    "hc_key = \"a0475c76-9c0c-41b3-a001-354b535171df\"\n",
    "start = hc.start(hc_key)\n",
    "print(start)"
   ]
  },
  {
   "cell_type": "code",
   "execution_count": 9,
   "metadata": {},
   "outputs": [
    {
     "name": "stdout",
     "output_type": "stream",
     "text": [
      "Successfully connected to MongoDB\n"
     ]
    }
   ],
   "source": [
    "%run __init__.ipynb"
   ]
  },
  {
   "cell_type": "code",
   "execution_count": 10,
   "metadata": {},
   "outputs": [
    {
     "name": "stdout",
     "output_type": "stream",
     "text": [
      "Script execution completed at 07/04/2020 19:05:28. Time: --- 1.1002347469329834 secnds ---\n"
     ]
    }
   ],
   "source": [
    "#--- STEP1 ---: Get data source & cleaning\n",
    "start_time = time.time()\n",
    "def get_datasource(url):\n",
    "    df = pd.DataFrame()\n",
    "    try:\n",
    "        df = pd.read_csv(url, sep=';')\n",
    "    except Exception as e:\n",
    "        print(f'Error connecting to {url}.')\n",
    "        print(e.__doc__)\n",
    "        print(str(e)) \n",
    "    return df\n",
    "\n",
    "url = 'https://www.data.gouv.fr/fr/datasets/r/63352e38-d353-4b54-bfd1-f1b3ee1cabd7'\n",
    "dataFrance = get_datasource(url)\n",
    "ref_france = pd.read_excel(input_folder + 'REF_WSR.xlsx', sheet_name = 'REF_FRANCE')\n",
    "print(\"Script execution completed at \" + now + \". Time: --- %s secnds ---\" % (time.time() - start_time))"
   ]
  },
  {
   "cell_type": "code",
   "execution_count": 11,
   "metadata": {},
   "outputs": [
    {
     "name": "stdout",
     "output_type": "stream",
     "text": [
      "Script execution completed at 07/04/2020 19:05:28. Time: --- 0.010419130325317383 secnds ---\n",
      "Dataframe FRANCE_DB_CONCAT successfully save in database covid-19-dev in MongoDB. Time: --- 0.22269725799560547 secnds ---\n"
     ]
    }
   ],
   "source": [
    "#--- STEP2 ---: Create DB with data source (output = DB_CONCAT)\n",
    "start_time = time.time()\n",
    "def step2(df):\n",
    "    df= df[(df['sexe'] == 0)].drop(['sexe'], axis=1)\n",
    "    df.columns= df.columns.str.upper()\n",
    "    cols_to_keep= ['DEP','JOUR']\n",
    "    df= df.melt(id_vars=cols_to_keep ,value_name='VALUE',var_name='STATUS').fillna(0)\n",
    "    return df\n",
    "\n",
    "db_concat = step2(dataFrance)\n",
    "print(\"Script execution completed at \" + now + \". Time: --- %s secnds ---\" % (time.time() - start_time))\n",
    "db_concat.to_csv(output_folder + 'FRANCE_DB_CONCAT.csv',sep=\";\")\n",
    "bob.mongo.save_df(db_concat,'FRANCE_DB_CONCAT',db_src,True)\n",
    "# db_concat"
   ]
  },
  {
   "cell_type": "code",
   "execution_count": 12,
   "metadata": {},
   "outputs": [
    {
     "name": "stdout",
     "output_type": "stream",
     "text": [
      "Script execution completed at 07/04/2020 19:05:28. Time: --- 0.04443168640136719 secnds ---\n",
      "Dataframe FRANCE_DB_CONSO successfully save in database covid-19-dev in MongoDB. Time: --- 0.33692455291748047 secnds ---\n"
     ]
    }
   ],
   "source": [
    "#--- STEP3 ---: Consolidate and enrich data (output = DB_CONSO)\n",
    "start_time = time.time()\n",
    "def step3(df,ref):\n",
    "    #-- Merge France\n",
    "    df['DEP'] = df['DEP'].astype(str)\n",
    "    ref['DEP_CODE'] = ref['DEP_CODE'].astype(str)\n",
    "    ref['DEP_FULL'] = ref['DEP_CODE'] + ' - ' + ref['DEP_NAME']\n",
    "    cols_to_rename = {\"REG_NAME\": \"LABEL_GROUPS\",'DEP_FULL':'LABEL','JOUR':'DATE'}\n",
    "    df= pd.merge(df,ref, left_on='DEP', right_on='DEP_CODE',how='left').drop(['DEP','DEP_CODE','DEP_NAME'], axis=1).rename(index=str, columns=cols_to_rename)\n",
    "    \n",
    "    #-- Conso Region\n",
    "    df_re = df.copy()\n",
    "    df_re['LABEL'] = df_re['LABEL_GROUPS']\n",
    "    df_re['LABEL_GROUPS'] = 'France'\n",
    "    \n",
    "    #-- Conso France\n",
    "    df_fr = df_re.copy()\n",
    "    df_fr['LABEL'] = df_re['LABEL_GROUPS']\n",
    "    df_fr['LABEL_GROUPS'] = 'France'\n",
    "    \n",
    "    df = pd.concat([df,df_re,df_fr],axis=0)\n",
    "    cols_to_group = ['DATE','STATUS','LABEL','LABEL_GROUPS']\n",
    "    df = df.groupby(cols_to_group, as_index=False).agg({'VALUE':'sum'})\n",
    "    return df.reset_index(drop=True)\n",
    "\n",
    "db_conso = step3(db_concat,ref_france)\n",
    "print(\"Script execution completed at \" + now + \". Time: --- %s secnds ---\" % (time.time() - start_time))\n",
    "db_conso.to_csv(output_folder + 'FRANCE_DB_CONSO.csv', sep=';')\n",
    "bob.mongo.save_df(db_conso,'FRANCE_DB_CONSO',db_src,True)\n",
    "# db_conso"
   ]
  },
  {
   "cell_type": "code",
   "execution_count": 13,
   "metadata": {},
   "outputs": [
    {
     "name": "stdout",
     "output_type": "stream",
     "text": [
      "Script execution completed at 07/04/2020 19:05:28. Time: --- 0.18207144737243652 secnds ---\n",
      "Dataframe FRANCE_DB_ALL successfully save in database covid-19-dev in MongoDB. Time: --- 0.6737484931945801 secnds ---\n"
     ]
    }
   ],
   "source": [
    "#--- STEP4 ---: Calculate KPIs (output = DB_ALL)\n",
    "start_time = time.time()\n",
    "def step4(df):\n",
    "    df= df.copy().sort_values(by='DATE',ascending=False)\n",
    "    #-- Calc var vs yesterday\n",
    "    #Add variable date\n",
    "    df['DATE']= pd.to_datetime(df['DATE'], format='%Y-%m-%d')\n",
    "    df['LAST_DAY']= pd.to_datetime(df['DATE'] + timedelta(days=-1))\n",
    "    \n",
    "    #Create new df\n",
    "    cols_to_rename = {\"DATE\": \"LAST_DAY\",'VALUE':'VALUE_D-1'}\n",
    "    df_last = df.drop(['LAST_DAY'],axis=1).rename(index=str, columns=cols_to_rename)\n",
    "    \n",
    "    #Merge variation\n",
    "    cols_to_merge = ['LAST_DAY','STATUS','LABEL','LABEL_GROUPS']\n",
    "    df = df.merge(df_last, on=cols_to_merge)#.drop(['LAST_DAY'],axis=1)\n",
    "    df['SCENARIO']= pd.to_datetime(df['DATE'], format='%Y-%m-%d').dt.strftime('%d/%m/%Y')\n",
    "    df['DATE_ORDER']= pd.to_datetime(df['DATE'], format='%Y-%m-%d').dt.strftime('%Y%m%d')\n",
    "    \n",
    "    #calc var\n",
    "    df['VARV'] = df['VALUE'] - df['VALUE_D-1'] \n",
    "    df['VARP'] = df['VARV'] / abs(df['VALUE_D-1']) * 100\n",
    "    \n",
    "    #-- Rename status\n",
    "    df.loc[df['STATUS'] == 'HOSP','STATUS_NAME'] = 'Hospitalisations'\n",
    "    df.loc[df['STATUS'] == 'REA','STATUS_NAME'] = 'En réanimation'\n",
    "    df.loc[df['STATUS'] == 'RAD','STATUS_NAME'] = 'Retours à domicile'\n",
    "    df.loc[df['STATUS'] == 'DC','STATUS_NAME'] = 'Décès à l’hôpital'\n",
    "    df.loc[df['STATUS'] == 'HOSP','STATUS_ORDER'] = 1\n",
    "    df.loc[df['STATUS'] == 'REA','STATUS_ORDER'] = 2\n",
    "    df.loc[df['STATUS'] == 'RAD','STATUS_ORDER'] = 3\n",
    "    df.loc[df['STATUS'] == 'DC','STATUS_ORDER'] = 4\n",
    "    return df.reset_index(drop=True)\n",
    "\n",
    "db_all=step4(db_conso)    \n",
    "print(\"Script execution completed at \" + now + \". Time: --- %s secnds ---\" % (time.time() - start_time))\n",
    "db_all.to_csv(output_folder + 'FRANCE_DB_ALL.csv',sep=\";\")\n",
    "bob.mongo.save_df(db_all,'FRANCE_DB_ALL',db_src,True)\n",
    "# db_all=db_all[(db_all['STATUS'] == 'REA') & (db_all['LABEL'] == 'France')]\n",
    "# db_all.head(5)"
   ]
  },
  {
   "cell_type": "code",
   "execution_count": 14,
   "metadata": {},
   "outputs": [
    {
     "name": "stdout",
     "output_type": "stream",
     "text": [
      "End ==> send to https://health.cashstory.com/ping/a0475c76-9c0c-41b3-a001-354b535171df, 2020-04-07\n"
     ]
    }
   ],
   "source": [
    "done = hc.done(hc_key)\n",
    "print(done)"
   ]
  }
 ],
 "metadata": {
  "kernelspec": {
   "display_name": "Python 3",
   "language": "python",
   "name": "python3"
  },
  "language_info": {
   "codemirror_mode": {
    "name": "ipython",
    "version": 3
   },
   "file_extension": ".py",
   "mimetype": "text/x-python",
   "name": "python",
   "nbconvert_exporter": "python",
   "pygments_lexer": "ipython3",
   "version": "3.7.6"
  }
 },
 "nbformat": 4,
 "nbformat_minor": 4
}
