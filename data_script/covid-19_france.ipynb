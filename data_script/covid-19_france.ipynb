{
 "cells": [
  {
   "cell_type": "code",
   "execution_count": 1,
   "metadata": {},
   "outputs": [],
   "source": [
    "# bob.refresh {\"cron\": \"0,25 19-22 * * *\", \"timeout\": 40000}"
   ]
  },
  {
   "cell_type": "code",
   "execution_count": 3,
   "metadata": {},
   "outputs": [
    {
     "name": "stdout",
     "output_type": "stream",
     "text": [
      "HealthCheck init in prod mode\n"
     ]
    }
   ],
   "source": [
    "import bob\n",
    "hc = bob.HealthCheck()\n",
    "hc_key = \"a0475c76-9c0c-41b3-a001-354b535171df\"\n",
    "start = hc.start(hc_key)\n",
    "print(start)"
   ]
  },
  {
   "cell_type": "code",
   "execution_count": 2,
   "metadata": {},
   "outputs": [
    {
     "name": "stdout",
     "output_type": "stream",
     "text": [
      "Successfully connected to MongoDB\n"
     ]
    }
   ],
   "source": [
    "\n",
    "import json\n",
    "from datetime import datetime, timedelta, date\n",
    "import time\n",
    "import pandas as pd\n",
    "import openpyxl\n",
    "\n",
    "\n",
    "#--- STEP0 --- : Init\n",
    "#-> Repository\n",
    "input_folder = \"../data_input/\"\n",
    "output_folder = \"../data_output/\"\n",
    "param_folder = \"../../_parameters/\"\n",
    "\n",
    "#-> Date\n",
    "now = datetime.now().strftime('%d/%m/%Y %H:%M:%S')\n",
    "today = date.today()\n",
    "yesterday = (today - timedelta(days = 1))\n",
    "b_yesterday = (today - timedelta(days = 2))\n",
    "\n",
    "#-> Get credentials info\n",
    "credentials = param_folder + 'mongodb.json'\n",
    "with open(credentials) as f:\n",
    "    dbCon = json.load(f)\n",
    "\n",
    "mongo_host = dbCon[\"host\"]\n",
    "mongo_port = dbCon[\"port\"]\n",
    "mongo_username = dbCon[\"username\"]\n",
    "mongo_password = dbCon[\"password\"]\n",
    "\n",
    "#-> Bob connect\n",
    "MongoDB = bob.mongo.connect(mongo_host,mongo_port,mongo_username,mongo_password)\n",
    "db = 'covid-19'"
   ]
  },
  {
   "cell_type": "code",
   "execution_count": 3,
   "metadata": {},
   "outputs": [
    {
     "name": "stdout",
     "output_type": "stream",
     "text": [
      "Script execution completed at 04/04/2020 11:11:26. Time: --- 0.9092955589294434 secnds ---\n"
     ]
    }
   ],
   "source": [
    "#--- STEP1 ---: Get data source & cleaning\n",
    "start_time = time.time()\n",
    "def get_datasource(url):\n",
    "    df = pd.DataFrame()\n",
    "    try:\n",
    "        df = pd.read_csv(url, sep=';')\n",
    "    except Exception as e:\n",
    "        print(f'Error connecting to {url}.')\n",
    "        print(e.__doc__)\n",
    "        print(str(e)) \n",
    "    return df\n",
    "\n",
    "url = 'https://www.data.gouv.fr/fr/datasets/r/63352e38-d353-4b54-bfd1-f1b3ee1cabd7'\n",
    "dataFrance = get_datasource(url)\n",
    "ref_france = pd.read_excel(input_folder + 'REF_WSR.xlsx', sheet_name = 'REF_FRANCE')\n",
    "print(\"Script execution completed at \" + now + \". Time: --- %s secnds ---\" % (time.time() - start_time))"
   ]
  },
  {
   "cell_type": "code",
   "execution_count": 4,
   "metadata": {},
   "outputs": [
    {
     "name": "stdout",
     "output_type": "stream",
     "text": [
      "Script execution completed at 04/04/2020 11:11:26. Time: --- 0.016403675079345703 secnds ---\n",
      "Dataframe FRANCE_DB_CONCAT successfully save in database covid-19 in MongoDB. Time: --- 0.2385401725769043 secnds ---\n"
     ]
    }
   ],
   "source": [
    "#--- STEP2 ---: Create DB with data source (output = DB_CONCAT)\n",
    "start_time = time.time()\n",
    "def step2(df):\n",
    "    df= df[(df['sexe'] == 0)].drop(['sexe'], axis=1)\n",
    "    df.columns= df.columns.str.upper()\n",
    "    cols_to_keep= ['DEP','JOUR']\n",
    "    df= df.melt(id_vars=cols_to_keep ,value_name='VALUE',var_name='STATUS').fillna(0)\n",
    "    return df\n",
    "\n",
    "db_concat = step2(dataFrance)\n",
    "print(\"Script execution completed at \" + now + \". Time: --- %s secnds ---\" % (time.time() - start_time))\n",
    "db_concat.to_csv(output_folder + 'FRANCE_DB_CONCAT.csv',sep=\";\")\n",
    "bob.mongo.save_df(db_concat,'FRANCE_DB_CONCAT',db,True)\n",
    "# db_concat.head(5)"
   ]
  },
  {
   "cell_type": "code",
   "execution_count": 5,
   "metadata": {},
   "outputs": [
    {
     "name": "stdout",
     "output_type": "stream",
     "text": [
      "Script execution completed at 04/04/2020 11:11:26. Time: --- 0.03725481033325195 secnds ---\n",
      "Dataframe FRANCE_DB_CONSO successfully save in database covid-19 in MongoDB. Time: --- 0.28871703147888184 secnds ---\n"
     ]
    }
   ],
   "source": [
    "#--- STEP3 ---: Consolidate and enrich data (output = DB_CONSO)\n",
    "start_time = time.time()\n",
    "def step3(df,ref):\n",
    "    #-- Merge France\n",
    "    df['DEP'] = df['DEP'].astype(str)\n",
    "    ref['DEP_CODE'] = ref['DEP_CODE'].astype(str)\n",
    "    ref['DEP_FULL'] = ref['DEP_CODE'] + ' - ' + ref['DEP_NAME']\n",
    "    cols_to_rename = {\"REG_NAME\": \"LABEL_GROUPS\",'DEP_FULL':'LABEL','JOUR':'DATE'}\n",
    "    df= pd.merge(df,ref, left_on='DEP', right_on='DEP_CODE',how='left').drop(['DEP','DEP_CODE','DEP_NAME'], axis=1).rename(index=str, columns=cols_to_rename)\n",
    "    \n",
    "    #-- Conso Region\n",
    "    df_re = df.copy()\n",
    "    df_re['LABEL'] = df_re['LABEL_GROUPS']\n",
    "    df_re['LABEL_GROUPS'] = 'France'\n",
    "    \n",
    "    #-- Conso France\n",
    "    df_fr = df_re.copy()\n",
    "    df_fr['LABEL'] = df_re['LABEL_GROUPS']\n",
    "    df_fr['LABEL_GROUPS'] = 'France'\n",
    "    \n",
    "    df = pd.concat([df,df_re,df_fr],axis=0)\n",
    "    cols_to_group = ['DATE','STATUS','LABEL','LABEL_GROUPS']\n",
    "    df = df.groupby(cols_to_group, as_index=False).agg({'VALUE':'sum'})\n",
    "    return df.reset_index(drop=True)\n",
    "\n",
    "db_conso = step3(db_concat,ref_france)\n",
    "print(\"Script execution completed at \" + now + \". Time: --- %s secnds ---\" % (time.time() - start_time))\n",
    "db_conso.to_csv(output_folder + 'FRANCE_DB_CONSO.csv', sep=';')\n",
    "bob.mongo.save_df(db_conso,'FRANCE_DB_CONSO',db,True)\n",
    "# db_conso.head(5)"
   ]
  },
  {
   "cell_type": "code",
   "execution_count": 1,
   "metadata": {},
   "outputs": [
    {
     "ename": "NameError",
     "evalue": "name 'time' is not defined",
     "output_type": "error",
     "traceback": [
      "\u001b[0;31m---------------------------------------------------------------------------\u001b[0m",
      "\u001b[0;31mNameError\u001b[0m                                 Traceback (most recent call last)",
      "\u001b[0;32m<ipython-input-1-0c6821a098e6>\u001b[0m in \u001b[0;36m<module>\u001b[0;34m\u001b[0m\n\u001b[1;32m      1\u001b[0m \u001b[0;31m#--- STEP4 ---: Calculate KPIs (output = DB_ALL)\u001b[0m\u001b[0;34m\u001b[0m\u001b[0;34m\u001b[0m\u001b[0;34m\u001b[0m\u001b[0m\n\u001b[0;32m----> 2\u001b[0;31m \u001b[0mstart_time\u001b[0m \u001b[0;34m=\u001b[0m \u001b[0mtime\u001b[0m\u001b[0;34m.\u001b[0m\u001b[0mtime\u001b[0m\u001b[0;34m(\u001b[0m\u001b[0;34m)\u001b[0m\u001b[0;34m\u001b[0m\u001b[0;34m\u001b[0m\u001b[0m\n\u001b[0m\u001b[1;32m      3\u001b[0m \u001b[0;32mdef\u001b[0m \u001b[0mstep4\u001b[0m\u001b[0;34m(\u001b[0m\u001b[0mdf\u001b[0m\u001b[0;34m)\u001b[0m\u001b[0;34m:\u001b[0m\u001b[0;34m\u001b[0m\u001b[0;34m\u001b[0m\u001b[0m\n\u001b[1;32m      4\u001b[0m     \u001b[0mdf\u001b[0m\u001b[0;34m=\u001b[0m \u001b[0mdf\u001b[0m\u001b[0;34m.\u001b[0m\u001b[0mcopy\u001b[0m\u001b[0;34m(\u001b[0m\u001b[0;34m)\u001b[0m\u001b[0;34m.\u001b[0m\u001b[0msort_values\u001b[0m\u001b[0;34m(\u001b[0m\u001b[0mby\u001b[0m\u001b[0;34m=\u001b[0m\u001b[0;34m'DATE'\u001b[0m\u001b[0;34m,\u001b[0m\u001b[0mascending\u001b[0m\u001b[0;34m=\u001b[0m\u001b[0;32mFalse\u001b[0m\u001b[0;34m)\u001b[0m\u001b[0;34m\u001b[0m\u001b[0;34m\u001b[0m\u001b[0m\n\u001b[1;32m      5\u001b[0m     \u001b[0;31m#-- Calc var vs yesterday\u001b[0m\u001b[0;34m\u001b[0m\u001b[0;34m\u001b[0m\u001b[0;34m\u001b[0m\u001b[0m\n",
      "\u001b[0;31mNameError\u001b[0m: name 'time' is not defined"
     ]
    }
   ],
   "source": [
    "#--- STEP4 ---: Calculate KPIs (output = DB_ALL)\n",
    "start_time = time.time()\n",
    "def step4(df):\n",
    "    df= df.copy().sort_values(by='DATE',ascending=False)\n",
    "    #-- Calc var vs yesterday\n",
    "    #Add variable date\n",
    "    df['DATE']= pd.to_datetime(df['DATE'], format='%Y-%m-%d')\n",
    "    df['LAST_DAY']= pd.to_datetime(df['DATE'] + timedelta(days=-1))\n",
    "    \n",
    "    #Create new df\n",
    "    cols_to_rename = {\"DATE\": \"LAST_DAY\",'VALUE':'VALUE_D-1'}\n",
    "    df_last = df.drop(['LAST_DAY'],axis=1).rename(index=str, columns=cols_to_rename)\n",
    "    \n",
    "    #Merge variation\n",
    "    cols_to_merge = ['LAST_DAY','STATUS','LABEL','LABEL_GROUPS']\n",
    "    df = df.merge(df_last, on=cols_to_merge)#.drop(['LAST_DAY'],axis=1)\n",
    "    df['SCENARIO']= pd.to_datetime(df['DATE'], format='%Y-%m-%d').dt.strftime('%d/%m/%Y')\n",
    "    df['DATE_ORDER']= pd.to_datetime(df['DATE'], format='%Y-%m-%d').dt.strftime('%Y%m%d')\n",
    "    \n",
    "    #calc var\n",
    "    df['VARV'] = df['VALUE'] - df['VALUE_D-1'] \n",
    "    df['VARP'] = df['VARV'] / abs(df['VALUE_D-1']) * 100\n",
    "    \n",
    "    #-- Rename status\n",
    "    df.loc[df['STATUS'] == 'HOSP','STATUS_NAME'] = 'Hospitalisations'\n",
    "    df.loc[df['STATUS'] == 'REA','STATUS_NAME'] = 'En réanimation'\n",
    "    df.loc[df['STATUS'] == 'RAD','STATUS_NAME'] = 'Retours à domicile'\n",
    "    df.loc[df['STATUS'] == 'DC','STATUS_NAME'] = 'Décès à l’hôpital'\n",
    "    df.loc[df['STATUS'] == 'HOSP','STATUS_ORDER'] = 1\n",
    "    df.loc[df['STATUS'] == 'REA','STATUS_ORDER'] = 2\n",
    "    df.loc[df['STATUS'] == 'RAD','STATUS_ORDER'] = 3\n",
    "    df.loc[df['STATUS'] == 'DC','STATUS_ORDER'] = 4\n",
    "    return df.reset_index(drop=True)\n",
    "\n",
    "db_all=step4(db_conso)    \n",
    "print(\"Script execution completed at \" + now + \". Time: --- %s secnds ---\" % (time.time() - start_time))\n",
    "db_all.to_csv(output_folder + 'FRANCE_DB_ALL.csv',sep=\";\")\n",
    "bob.mongo.save_df(db_all,'FRANCE_DB_ALL',db,True)\n",
    "# db_all=db_all[(db_all['STATUS'] == 'REA') & (db_all['LABEL'] == 'France')]\n",
    "# db_all.head(5)"
   ]
  },
  {
   "cell_type": "code",
   "execution_count": 4,
   "metadata": {},
   "outputs": [
    {
     "name": "stdout",
     "output_type": "stream",
     "text": [
      "End ==> send to https://health.cashstory.com/ping/a0475c76-9c0c-41b3-a001-354b535171df, 2020-04-06\n"
     ]
    }
   ],
   "source": [
    "done = hc.done(hc_key)\n",
    "print(done)"
   ]
  },
  {
   "cell_type": "code",
   "execution_count": null,
   "metadata": {},
   "outputs": [],
   "source": []
  }
 ],
 "metadata": {
  "kernelspec": {
   "display_name": "Python 3",
   "language": "python",
   "name": "python3"
  },
  "language_info": {
   "codemirror_mode": {
    "name": "ipython",
    "version": 3
   },
   "file_extension": ".py",
   "mimetype": "text/x-python",
   "name": "python",
   "nbconvert_exporter": "python",
   "pygments_lexer": "ipython3",
   "version": "3.7.6"
  }
 },
 "nbformat": 4,
 "nbformat_minor": 4
}
