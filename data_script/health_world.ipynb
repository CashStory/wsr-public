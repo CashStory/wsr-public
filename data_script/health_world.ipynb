{
 "cells": [
  {
   "cell_type": "code",
   "execution_count": 11,
   "metadata": {},
   "outputs": [],
   "source": [
    "# bob.refresh {\"cron\": \"5,30 2-12 * * *\", \"timeout\": 40000}"
   ]
  },
  {
   "cell_type": "code",
   "execution_count": 12,
   "metadata": {},
   "outputs": [
    {
     "name": "stdout",
     "output_type": "stream",
     "text": [
      "Successfully connected to MongoDB\n"
     ]
    }
   ],
   "source": [
    "%run __init__.ipynb"
   ]
  },
  {
   "cell_type": "code",
   "execution_count": 13,
   "metadata": {},
   "outputs": [
    {
     "name": "stdout",
     "output_type": "stream",
     "text": [
      "HealthCheck init in prod mode\n",
      "Start ==> send to https://health.cashstory.com/ping/51c8f3e8-3d84-4888-878e-a53f0a152e1a, 2020-04-28\n"
     ]
    }
   ],
   "source": [
    "hc = bob.HealthCheck()\n",
    "hc_key = \"51c8f3e8-3d84-4888-878e-a53f0a152e1a\"\n",
    "if use_healthchecks:\n",
    "    step_1 = hc.start(hc_key)\n",
    "    print(step_1)"
   ]
  },
  {
   "cell_type": "code",
   "execution_count": 16,
   "metadata": {},
   "outputs": [
    {
     "name": "stdout",
     "output_type": "stream",
     "text": [
      "End ==> send to https://health.cashstory.com/ping/51c8f3e8-3d84-4888-878e-a53f0a152e1a, 2020-04-28\n"
     ]
    },
    {
     "ename": "SystemExit",
     "evalue": "Data already updated ! DateTime : 28/04/2020 06:47:01",
     "output_type": "error",
     "traceback": [
      "An exception has occurred, use %tb to see the full traceback.\n",
      "\u001b[0;31mSystemExit\u001b[0m\u001b[0;31m:\u001b[0m Data already updated ! DateTime : 28/04/2020 06:47:01\n"
     ]
    },
    {
     "name": "stderr",
     "output_type": "stream",
     "text": [
      "/opt/conda/lib/python3.7/site-packages/IPython/core/interactiveshell.py:3339: UserWarning:\n",
      "\n",
      "To exit: use 'exit', 'quit', or Ctrl-D.\n",
      "\n"
     ]
    }
   ],
   "source": [
    "#--- Check if the data are already updated\n",
    "filePath = f'{output_folder}WORLD_DB_TREND.csv'\n",
    "if path.exists(filePath):\n",
    "    df_check = pd.read_csv(filePath, sep=';',low_memory=False)\n",
    "    date_check = df_check[df_check['SCENARIO'] == yesterday.strftime('%d/%m/%Y')]\n",
    "    if len(date_check) == 0:\n",
    "        %run \"covid-19_world.ipynb\"\n",
    "    else:\n",
    "        if use_healthchecks:\n",
    "            step_2 = hc.done(hc_key)\n",
    "            print(step_2)\n",
    "            sys.exit(f'Data already updated ! DateTime : {now}')\n",
    "else:\n",
    "    %run \"covid-19_world.ipynb\""
   ]
  },
  {
   "cell_type": "code",
   "execution_count": 18,
   "metadata": {},
   "outputs": [
    {
     "name": "stdout",
     "output_type": "stream",
     "text": [
      "Script execution completed at 28/04/2020 06:48:01. Time: --- 6.764148473739624 secnds ---\n"
     ]
    }
   ],
   "source": [
    "#--- Load data source\n",
    "start_time = time.time()\n",
    "db_conso = get_datasource('WORLD_DB_CONSO')\n",
    "db_all = get_datasource('WORLD_DB_ALL')\n",
    "db_trend = get_datasource('WORLD_DB_TREND')\n",
    "print(\"Script execution completed at \" + datetime.now().strftime('%d/%m/%Y %H:%M:%S') + \". Time: --- %s secnds ---\" % (time.time() - start_time))"
   ]
  },
  {
   "cell_type": "code",
   "execution_count": 19,
   "metadata": {},
   "outputs": [
    {
     "name": "stdout",
     "output_type": "stream",
     "text": [
      "Dataframe ENTITIES successfully save in database app-wsr-dev in MongoDB. Time: --- 0.023267745971679688 secnds ---\n"
     ]
    }
   ],
   "source": [
    "#-- Date selector : ENTITIES\n",
    "def get_entities(df):\n",
    "    cols_to_rename = {\"ENTITY\": \"ENTITIES\", \"ENTITY_GROUPS\": \"GROUPS\"}\n",
    "    filters = ['WORLDWIDE','Europe','Asia','Africa','North America','South America','Oceania','Other','To be affected']\n",
    "    df = df[df['ENTITY_GROUPS'].isin(filters)].rename(index=str, columns=cols_to_rename)[['ENTITIES','GROUPS']].drop_duplicates().sort_values(by=\"ENTITIES\", ascending=True).reset_index(drop=True)\n",
    "    df['ORDER'] = df.index + 8\n",
    "    df.loc[df['ENTITIES'] == 'WORLDWIDE', 'ORDER'] = 0\n",
    "    df.loc[df['ENTITIES'] == 'Europe', 'ORDER'] = 1\n",
    "    df.loc[df['ENTITIES'] == 'Asia', 'ORDER'] = 2\n",
    "    df.loc[df['ENTITIES'] == 'Africa', 'ORDER'] = 3\n",
    "    df.loc[df['ENTITIES'] == 'North America', 'ORDER'] = 4\n",
    "    df.loc[df['ENTITIES'] == 'South America', 'ORDER'] = 5\n",
    "    df.loc[df['ENTITIES'] == 'Oceania', 'ORDER'] = 6\n",
    "    df.loc[df['ENTITIES'] == 'Other', 'ORDER'] = 7\n",
    "    df.loc[df['ENTITIES'] == 'To be affected', 'ORDER'] = 8\n",
    "    \n",
    "    df.loc[df['ENTITIES'] == 'WORLDWIDE', 'ORDER_GROUPS'] = 0\n",
    "    df.loc[df['ENTITIES'] == 'Europe', 'ORDER_GROUPS'] = 1\n",
    "    df.loc[df['ENTITIES'] == 'Asia', 'ORDER_GROUPS'] = 2\n",
    "    df.loc[df['ENTITIES'] == 'Africa', 'ORDER_GROUPS'] = 3\n",
    "    df.loc[df['ENTITIES'] == 'North America', 'ORDER_GROUPS'] = 4\n",
    "    df.loc[df['ENTITIES'] == 'South America', 'ORDER_GROUPS'] = 5\n",
    "    df.loc[df['ENTITIES'] == 'Oceania', 'ORDER_GROUPS'] = 6\n",
    "    df.loc[df['ENTITIES'] == 'Other', 'ORDER_GROUPS'] = 7\n",
    "    df.loc[df['ENTITIES'] == 'To be affected', 'ORDER_GROUPS'] = 8\n",
    "\n",
    "    df.loc[df['GROUPS'] == 'Europe', 'ORDER_GROUPS'] = 1\n",
    "    df.loc[df['GROUPS'] == 'Asia', 'ORDER_GROUPS'] = 2\n",
    "    df.loc[df['GROUPS'] == 'Africa', 'ORDER_GROUPS'] = 3\n",
    "    df.loc[df['GROUPS'] == 'North America', 'ORDER_GROUPS'] = 4\n",
    "    df.loc[df['GROUPS'] == 'South America', 'ORDER_GROUPS'] = 5\n",
    "    df.loc[df['GROUPS'] == 'Oceania', 'ORDER_GROUPS'] = 6\n",
    "    df.loc[df['GROUPS'] == 'Other', 'ORDER_GROUPS'] = 7\n",
    "    df.loc[df['GROUPS'] == 'To be affected', 'ORDER_GROUPS'] = 8\n",
    "    \n",
    "    df.loc[df['GROUPS'] == 'WORLDWIDE','ENTITY_DISPLAY'] = df['ENTITIES']\n",
    "    df.loc[df['GROUPS'] != 'WORLDWIDE','ENTITY_DISPLAY'] = '--- ' + df['ENTITIES']\n",
    "    return df.sort_values(by=['ORDER_GROUPS','ORDER'], ascending=True)\n",
    "\n",
    "entities = get_entities(db_conso)\n",
    "entities.to_csv(output_folder + 'ENTITIES.csv',sep=\";\")\n",
    "if use_mongo:\n",
    "    bob.mongo.save_df(entities,'ENTITIES',db_app,True)\n",
    "# entities"
   ]
  },
  {
   "cell_type": "code",
   "execution_count": 20,
   "metadata": {},
   "outputs": [
    {
     "name": "stdout",
     "output_type": "stream",
     "text": [
      "Dataframe SCENARIOS successfully save in database app-wsr-dev in MongoDB. Time: --- 0.03566145896911621 secnds ---\n"
     ]
    }
   ],
   "source": [
    "#-- Date selector : SCENARIOS\n",
    "def get_scenarios(df):\n",
    "    df = df[['SCENARIO','DATE_ORDER']].drop_duplicates()\n",
    "    df['SCENARIO_DIPLAY'] = pd.to_datetime(df['SCENARIO'], format='%d/%m/%Y').dt.strftime('%d %b %Y')\n",
    "    df['SCENARIO_TODAY'] = (pd.to_datetime(df['SCENARIO'], format='%d/%m/%Y') + timedelta(days = 1)).dt.strftime('%d/%m/%Y')\n",
    "    df['SCENARIO_TODAY_DIPLAY'] = pd.to_datetime(df['SCENARIO_TODAY'], format='%d/%m/%Y').dt.strftime('%d %b %Y')\n",
    "    return df.sort_values(by='DATE_ORDER', ascending=False)\n",
    "\n",
    "scenarios = get_scenarios(db_all)\n",
    "scenarios.to_csv(output_folder + 'SCENARIOS.csv',sep=\";\")\n",
    "if use_mongo:\n",
    "    bob.mongo.save_df(scenarios,'SCENARIOS',db_app,True)\n",
    "# scenarios"
   ]
  },
  {
   "cell_type": "code",
   "execution_count": 21,
   "metadata": {},
   "outputs": [],
   "source": [
    "#Dashboard value dynamic template\n",
    "def dashboard_value(df,kpi,domain_num):\n",
    "    filters = ['WORLDWIDE','Europe','Asia','Africa','North America','South America','Oceania','Other','To be affected']\n",
    "    domain = df[(df['ENTITY_GROUPS'].isin(filters)) & (df['KPI'].isin([kpi]))]\n",
    "    domain = pd.DataFrame({\n",
    "        'ENTITY': domain['ENTITY'],\n",
    "        'ENTITY_GROUPS': domain['ENTITY_GROUPS'],\n",
    "        'SCENARIO': domain['SCENARIO'],\n",
    "        'DATE_ORDER': domain['DATE_ORDER'],\n",
    "        'LABEL': domain['KPI'],\n",
    "        'VALUE': domain['VALUE'],\n",
    "        'VALUE_D-1': domain['VALUE_D-1'],\n",
    "        'VAR': domain['VARV'],\n",
    "        'VARP': domain['VARP'],\n",
    "        'UNIT_VALUE': domain['UNIT_VALUE'],\n",
    "        'UNIT_VAR': domain['UNIT_VAR'],\n",
    "        'UNIT_VARP': domain['UNIT_VARP'],\n",
    "        'PRECISION_VALUE': domain['PRECISION_VALUE'],\n",
    "        'PRECISION_VAR': domain['PRECISION_VAR'],\n",
    "        'PRECISION_VARP': domain['PRECISION_VARP'],\n",
    "        'LAST_UPDATE': now,\n",
    "    })\n",
    "    domain = domain.sort_values(by=['ENTITY','SCENARIO'],ascending=False)\n",
    "    domain.to_csv(output_folder + domain_num + '.csv',sep=\";\")\n",
    "    if use_mongo:\n",
    "        bob.mongo.save_df(domain,domain_num, db_app,True)\n",
    "    df_collection = MongoDB[db_app][domain_num]\n",
    "    df_collection.create_index([(\"ENTITY\", DESCENDING),(\"SCENARIO\", DESCENDING)])\n",
    "    return domain"
   ]
  },
  {
   "cell_type": "code",
   "execution_count": 22,
   "metadata": {},
   "outputs": [
    {
     "name": "stdout",
     "output_type": "stream",
     "text": [
      "Dataframe 001 successfully save in database app-wsr-dev in MongoDB. Time: --- 13.520699739456177 secnds ---\n",
      "Dataframe 002 successfully save in database app-wsr-dev in MongoDB. Time: --- 12.687743663787842 secnds ---\n",
      "Dataframe 003 successfully save in database app-wsr-dev in MongoDB. Time: --- 12.758077144622803 secnds ---\n",
      "Dataframe 004 successfully save in database app-wsr-dev in MongoDB. Time: --- 12.735713243484497 secnds ---\n",
      "Dataframe 005 successfully save in database app-wsr-dev in MongoDB. Time: --- 13.040257215499878 secnds ---\n",
      "Dataframe 006 successfully save in database app-wsr-dev in MongoDB. Time: --- 13.240144491195679 secnds ---\n",
      "Script execution completed at 28/04/2020 06:49:24. Time: --- 79.49569416046143 secnds ---\n"
     ]
    }
   ],
   "source": [
    "#--- DASHBOARD ---\n",
    "#-- VALUE DYNAMIC KPIS\n",
    "start_time = time.time()\n",
    "domain001 = dashboard_value(db_all,'Confirmed','001')\n",
    "domain002 = dashboard_value(db_all,'Deaths','002')\n",
    "domain003 = dashboard_value(db_all,'Recovered','003')\n",
    "domain004 = dashboard_value(db_all,'Active cases','004')\n",
    "domain005 = dashboard_value(db_all,\"Fatality Rate\",'005')\n",
    "domain006 = dashboard_value(db_all,\"Recovery Rate\",'006')\n",
    "print(\"Script execution completed at \" + datetime.now().strftime('%d/%m/%Y %H:%M:%S') + \". Time: --- %s secnds ---\" % (time.time() - start_time))"
   ]
  },
  {
   "cell_type": "code",
   "execution_count": 23,
   "metadata": {},
   "outputs": [],
   "source": [
    "#Duplicate to rank countries WORLDWIDE\n",
    "def get_ww(df): \n",
    "    filters = ['Europe','Asia','Africa','North America','South America','Oceania','Other','To be affected']\n",
    "    df_ww = df.copy()[(df['ENTITY'].isin(filters))] \n",
    "    df_ww['ENTITY'] = \"WORLDWIDE\"           \n",
    "    df = df.append(df_ww)\n",
    "    return df"
   ]
  },
  {
   "cell_type": "code",
   "execution_count": 24,
   "metadata": {},
   "outputs": [],
   "source": [
    "#Dashboard leaderboard template\n",
    "def dashboard_leaderboard(df,kpi,domain_num):\n",
    "    domain = df[(df['KPI'].isin([kpi]))]\n",
    "    domain = pd.DataFrame({\n",
    "        'ENTITY': domain['ENTITY_GROUPS'],\n",
    "        'SCENARIO': domain['SCENARIO'],\n",
    "        'DATE_ORDER': domain['DATE_ORDER'],\n",
    "        'LABEL': domain['ENTITY'],\n",
    "        'VALUE': domain['VALUE'],\n",
    "        'VALUE_D-1': domain['VALUE_D-1'],\n",
    "        'VAR': domain['VARV'],\n",
    "        'VARP': domain['VARP'],\n",
    "        'UNIT_VALUE': domain['UNIT_VALUE'],\n",
    "        'UNIT_VAR': domain['UNIT_VAR'],\n",
    "        'UNIT_VARP': domain['UNIT_VARP'],\n",
    "        'PRECISION_VALUE': domain['PRECISION_VALUE'],\n",
    "        'PRECISION_VAR': domain['PRECISION_VAR'],\n",
    "        'PRECISION_VARP': domain['PRECISION_VARP'],\n",
    "        'LAST_UPDATE': now,\n",
    "    })\n",
    "    domain = domain.sort_values(by=['ENTITY','SCENARIO'],ascending=False)\n",
    "    if domain_num == '010' or domain_num == '011' or domain_num == '012':\n",
    "        domain = get_ww(domain)\n",
    "    domain.to_csv(output_folder + domain_num + '.csv',sep=\";\")\n",
    "    if use_mongo:\n",
    "        bob.mongo.save_df(domain,domain_num, db_app,True)\n",
    "    df_collection = MongoDB[db_app][domain_num]\n",
    "    df_collection.create_index([(\"ENTITY\", DESCENDING),(\"SCENARIO\", DESCENDING)])\n",
    "    return domain"
   ]
  },
  {
   "cell_type": "code",
   "execution_count": 25,
   "metadata": {},
   "outputs": [],
   "source": [
    "# #-- LEADERBOARD BY REGION\n",
    "# start_time = time.time()\n",
    "# db_r = db_all[(db_all['ENTITY_GROUPS'] == 'WORLDWIDE') & (db_all['ENTITY'] != 'WORLDWIDE')]\n",
    "# domain007 = dashboard_leaderboard(db_r,'Confirmed','007')\n",
    "# domain008 = dashboard_leaderboard(db_r,'Deaths','008')\n",
    "# domain009 = dashboard_leaderboard(db_r,'Recovered','009')\n",
    "# print(\"Script execution completed at \" + datetime.now().strftime('%d/%m/%Y %H:%M:%S') + \". Time: --- %s secnds ---\" % (time.time() - start_time))"
   ]
  },
  {
   "cell_type": "code",
   "execution_count": 26,
   "metadata": {},
   "outputs": [
    {
     "name": "stdout",
     "output_type": "stream",
     "text": [
      "Dataframe 010 successfully save in database app-wsr-dev in MongoDB. Time: --- 18.541369915008545 secnds ---\n",
      "Dataframe 011 successfully save in database app-wsr-dev in MongoDB. Time: --- 18.923134803771973 secnds ---\n",
      "Dataframe 012 successfully save in database app-wsr-dev in MongoDB. Time: --- 19.3862407207489 secnds ---\n",
      "Script execution completed at 28/04/2020 06:50:23. Time: --- 59.207531213760376 secnds ---\n"
     ]
    }
   ],
   "source": [
    "#-- LEADERBOARD BY COUNTRIES\n",
    "start_time = time.time()\n",
    "db_c = db_all[(db_all['ENTITY_GROUPS'] != 'WORLDWIDE')]\n",
    "domain010 = dashboard_leaderboard(db_c,'Confirmed','010')\n",
    "domain011 = dashboard_leaderboard(db_c,'Deaths','011')\n",
    "domain012 = dashboard_leaderboard(db_c,'Recovered','012')\n",
    "print(\"Script execution completed at \" + datetime.now().strftime('%d/%m/%Y %H:%M:%S') + \". Time: --- %s secnds ---\" % (time.time() - start_time))"
   ]
  },
  {
   "cell_type": "code",
   "execution_count": 27,
   "metadata": {},
   "outputs": [
    {
     "name": "stdout",
     "output_type": "stream",
     "text": [
      "Dataframe 101 successfully save in database app-wsr-dev in MongoDB. Time: --- 63.06806659698486 secnds ---\n",
      "Script execution completed at 28/04/2020 06:51:36. Time: --- 72.68685054779053 secnds ---\n"
     ]
    }
   ],
   "source": [
    "#-- Covid-19 - TRENDS\n",
    "start_time = time.time()\n",
    "def domain_101(df,domain_num):\n",
    "    domain = df[df['KPI'].isin(['Confirmed','Deaths','Recovered','Active cases','Deaths ratio','Recovered ratio'])]\n",
    "    domain = pd.DataFrame({\n",
    "        'ENTITY': domain['ENTITY'],\n",
    "        'ENTITY_GROUPS': domain['ENTITY_GROUPS'],\n",
    "        'SCENARIO': domain['SCENARIO'],\n",
    "        'DATE_ORDER': domain['DATE_ORDER'],\n",
    "        'GROUPS': domain['KPI'],\n",
    "        'BOTTOM_FILTER': domain['DATE_SCENARIO'],\n",
    "        'UPPER_FILTER_M': domain['METRIC'],\n",
    "        'VALUE': domain['VALUE'],\n",
    "        'UNIT_VALUE': domain['UNIT'],\n",
    "        'PRECISION': domain['PRECISION'],\n",
    "        'LAST_UPDATE': now,\n",
    "    })\n",
    "    \n",
    "    domain.loc[domain['UPPER_FILTER_M'] == 'VALUE','UPPER_FILTER_M'] = 'EVOLUTION'\n",
    "    domain.loc[(domain['UPPER_FILTER_M'] == 'VARV') & (domain['GROUPS'].isin(['Confirmed','Deaths','Recovered','Active cases'])),'UPPER_FILTER_M'] = 'DAILY VARIATION (CASES)'\n",
    "    domain.loc[(domain['UPPER_FILTER_M'] == 'VARV') & (domain['GROUPS'].isin(['Deaths ratio','Recovered ratio'])),'UPPER_FILTER_M'] = 'DAILY VARIATION (PTS)'\n",
    "    domain.loc[(domain['UPPER_FILTER_M'] == 'VARP') & (domain['GROUPS'].isin(['Confirmed','Deaths','Recovered','Active cases'])),'UPPER_FILTER_M'] = 'DAILY VARIATION (%)'\n",
    "    domain.loc[(domain['UPPER_FILTER_M'] == 'VARP') & (domain['GROUPS'].isin(['Deaths ratio','Recovered ratio'])),'UPPER_FILTER_M'] = ''\n",
    "    \n",
    "    domain.to_csv(output_folder + domain_num + '.csv',sep=\";\")\n",
    "    if use_mongo:\n",
    "        bob.mongo.save_df(domain,domain_num,db_app,True)\n",
    "    df_collection = MongoDB[db_app][domain_num]\n",
    "    df_collection.create_index([(\"ENTITY\", DESCENDING), (\"UPPER_FILTER_M\", DESCENDING), (\"BOTTOM_FILTER\", DESCENDING)])\n",
    "    return domain\n",
    "\n",
    "domain101 = domain_101(db_trend,'101')\n",
    "print(\"Script execution completed at \" + datetime.now().strftime('%d/%m/%Y %H:%M:%S') + \". Time: --- %s secnds ---\" % (time.time() - start_time))\n",
    "# domain101"
   ]
  },
  {
   "cell_type": "code",
   "execution_count": 28,
   "metadata": {},
   "outputs": [
    {
     "name": "stdout",
     "output_type": "stream",
     "text": [
      "Dataframe 102 successfully save in database app-wsr-dev in MongoDB. Time: --- 21.54850196838379 secnds ---\n",
      "Script execution completed at 28/04/2020 06:51:58. Time: --- 22.135577917099 secnds ---\n"
     ]
    }
   ],
   "source": [
    "#-- Covid-19 - TRENDS BY COUNTRIES\n",
    "start_time = time.time()\n",
    "def domain_102(df,domain_num):\n",
    "    domain = df.copy()\n",
    "    max_date = domain['DATE_ORDER'].max()\n",
    "    filters =  ['Europe','Asia','Africa','North America','South America','Oceania','Other','To be affected']\n",
    "    countries = domain[(domain['ENTITY_GROUPS'].isin(filters)) & (domain['DATE_ORDER'] == max_date) & (domain['GROUPS'] == 'Confirmed') & (domain['BOTTOM_FILTER'] == 'Since beginning')].sort_values(by= 'VALUE', ascending=False)['ENTITY'].drop_duplicates().values.tolist()[:10]\n",
    "    domain = domain[(domain['ENTITY_GROUPS'] != \"WORLDWIDE\") & (domain['ENTITY'].isin(countries))]\n",
    "    \n",
    "    domain.to_csv(output_folder + domain_num + '.csv',sep=\";\")\n",
    "    if use_mongo:\n",
    "        bob.mongo.save_df(domain,domain_num,db_app,True)\n",
    "    df_collection = MongoDB[db_app][domain_num]\n",
    "    df_collection.create_index([(\"GROUPS\", ASCENDING), (\"UPPER_FILTER_M\", DESCENDING), (\"BOTTOM_FILTER\", DESCENDING)])\n",
    "    return domain\n",
    "\n",
    "domain102 = domain_102(domain101,'102')\n",
    "print(\"Script execution completed at \" + datetime.now().strftime('%d/%m/%Y %H:%M:%S') + \". Time: --- %s secnds ---\" % (time.time() - start_time))\n",
    "# domain102"
   ]
  },
  {
   "cell_type": "code",
   "execution_count": 29,
   "metadata": {},
   "outputs": [
    {
     "name": "stdout",
     "output_type": "stream",
     "text": [
      "Dataframe 103 successfully save in database app-wsr-dev in MongoDB. Time: --- 44.13863515853882 secnds ---\n",
      "Script execution completed at 28/04/2020 06:52:48. Time: --- 50.46979212760925 secnds ---\n"
     ]
    }
   ],
   "source": [
    "#-- Covid-19 - RANKING BY COUNTRIES\n",
    "start_time = time.time()\n",
    "#-> Referentials\n",
    "ref_continent = pd.read_excel(input_folder + 'REF_WSR.xlsx', sheet_name = 'REF_CONTINENT')\n",
    "def domain_103(df,ref,domain_num):\n",
    "    domain = df.copy()\n",
    "    cols_to_rename = {\"LABEL\": \"KPI\",\"ENTITY\": \"LABEL\", \"ENTITY_GROUPS\":\"ENTITY\", \"VARV\":\"VAR\"}\n",
    "    domain = get_ww(domain.drop(['DATE','UNIT_VAR','UNIT_VARP','PRECISION_VALUE','PRECISION_VAR','PRECISION_VARP'],axis=1).rename(index=str, columns=cols_to_rename).reset_index(drop=True))\n",
    "    domain = pd.merge(domain, ref, left_on=['LABEL'], right_on=['COUNTRY_REGION'], how='left').drop(['CONTINENT','COUNTRY_REGION'],axis=1).reset_index(drop=True)\n",
    "\n",
    "    domain.to_csv(output_folder + domain_num + '.csv',sep=\";\")\n",
    "    if use_mongo:\n",
    "        bob.mongo.save_df(domain,domain_num,db_app,True)\n",
    "    df_collection = MongoDB[db_app][domain_num]\n",
    "    df_collection.create_index([(\"ENTITY\", DESCENDING), (\"SCENARIO\", DESCENDING), (\"LABEL\", DESCENDING), (\"KPI\", ASCENDING), (\"VALUE\", DESCENDING)])\n",
    "    return domain\n",
    "\n",
    "domain103 = domain_103(db_all,ref_continent,'103')\n",
    "print(\"Script execution completed at \" + datetime.now().strftime('%d/%m/%Y %H:%M:%S') + \". Time: --- %s secnds ---\" % (time.time() - start_time))\n",
    "# domain103"
   ]
  },
  {
   "cell_type": "code",
   "execution_count": 30,
   "metadata": {},
   "outputs": [
    {
     "name": "stdout",
     "output_type": "stream",
     "text": [
      "Dataframe 106 successfully save in database app-wsr-dev in MongoDB. Time: --- 35.09126138687134 secnds ---\n",
      "Script execution completed at 28/04/2020 07:01:01. Time: --- 492.53746461868286 secnds ---\n"
     ]
    }
   ],
   "source": [
    "#-- Covid-19 - DAILY TREND\n",
    "start_time = time.time()\n",
    "def domain_106(df,domain_num):\n",
    "    #-- Exclude Rates\n",
    "    df = df[~df['KPI'].isin(['Fatality Rate',\"Recovery Rate\"])]\n",
    "    \n",
    "    #-- Calculate Value\n",
    "    filters = ['WORLDWIDE','Europe','Asia','Africa','North America','South America','Oceania','Other','To be affected']\n",
    "    domain_val = df.copy()[['ENTITY_GROUPS','ENTITY','SCENARIO','KPI','VALUE','VALUE_D-1']][df['ENTITY_GROUPS'].isin(filters)]#[df['ENTITY_GROUPS'] == 'WORLDWIDE']\n",
    "    cols_to_keep = ['ENTITY_GROUPS','ENTITY','SCENARIO','KPI']\n",
    "    domain_val = domain_val.melt(id_vars=cols_to_keep, value_name='VALUE',var_name='METRIC')\n",
    "    domain_val['ENTITY_GROUPS'] = domain_val['ENTITY']\n",
    "    domain_val.loc[domain_val['METRIC'] == 'VALUE', 'LABEL_ORDER'] = 99999999\n",
    "    domain_val.loc[domain_val['METRIC'] == 'VALUE_D-1', 'LABEL_ORDER'] = 0\n",
    "    domain_val.loc[domain_val['METRIC'] == 'VALUE', 'METRIC'] = domain_val['SCENARIO']\n",
    "    domain_val.loc[domain_val['METRIC'] == 'VALUE_D-1', 'METRIC'] = (pd.to_datetime(domain_val['SCENARIO'], format='%d/%m/%Y') + timedelta(days=-1)).dt.strftime('%d/%m/%Y')\n",
    "    \n",
    "    cols_to_rename = {'METRIC':'LABEL', 'ENTITY_GROUPS': 'ENTITY','KPI':'UPPER_FILTER_R'}\n",
    "    domain_val = domain_val.drop('ENTITY',axis=1).rename(index=str, columns=cols_to_rename)\n",
    "    domain_val['PRECISION'] = ',.0f'\n",
    "\n",
    "    #--Variation\n",
    "    #filters = ['Europe','Asia','Africa','North America','South America','Oceania','Other','To be affected']\n",
    "    domain_var = df.copy()[['ENTITY_GROUPS','ENTITY','SCENARIO','KPI','VARV','VARP']][df['ENTITY_GROUPS']!='WORLDWIDE']#[df['ENTITY_GROUPS'].isin(filters)]\n",
    "    cols_to_rename = {'VARV':'VALUE', 'VARP': 'VAR'}\n",
    "    domain_var = domain_var.rename(index=str, columns=cols_to_rename).reset_index(drop=True)\n",
    "    domain_var = domain_var[domain_var['VALUE'] !=0 ]\n",
    "    \n",
    "    #-- Get the first 10\n",
    "    filters = domain_var[['ENTITY_GROUPS','SCENARIO','KPI']].drop_duplicates().values.tolist()\n",
    "    domain_w = pd.DataFrame()\n",
    "    for f in filters:\n",
    "        tmp_df = domain_var[(domain_var['ENTITY_GROUPS'] == f[0]) & (domain_var['SCENARIO'] == f[1]) & (domain_var['KPI'] == f[2])].sort_values(by=[\"VALUE\",\"ENTITY\"],ascending=False).reset_index(drop=True)\n",
    "        tmp_df['LABEL_ORDER'] = tmp_df.index.astype(int) + 1\n",
    "        if len(tmp_df) > 9:\n",
    "            tmp_df.loc[tmp_df.index > 9, 'ENTITY'] = 'Others'\n",
    "            tmp_df.loc[tmp_df.index > 9, 'LABEL_ORDER'] = 11\n",
    "            cols_to_group = ['ENTITY_GROUPS','ENTITY','SCENARIO','KPI','LABEL_ORDER']\n",
    "            tmp_df = tmp_df.groupby(cols_to_group, as_index=False).agg({'VALUE':'sum'}).reset_index(drop=True)\n",
    "        tmp_df['PRECISION'] = '+,.0f'\n",
    "        domain_w = domain_w.append(tmp_df)\n",
    "        \n",
    "    cols_to_rename = {'ENTITY':'LABEL', 'ENTITY_GROUPS': 'ENTITY','KPI':'UPPER_FILTER_R'}\n",
    "    domain_w = domain_w.rename(index=str, columns=cols_to_rename)\n",
    "    domain_w['GROUPS'] = domain_w['LABEL']\n",
    "    \n",
    "    filters = ['Europe','Asia','Africa','North America','South America','Oceania','Other','To be affected']\n",
    "    cols_to_rename = {'LABEL':'GROUPS', 'ENTITY':'LABEL'}\n",
    "    domain_w2 = domain_w.copy()[domain_w['ENTITY'].isin(filters)].drop('GROUPS',axis=1).rename(index=str, columns=cols_to_rename)\n",
    "    domain_w2['ENTITY'] = 'WORLDWIDE'\n",
    "    \n",
    "    domain = pd.concat([domain_val,domain_w,domain_w2],axis=0)\n",
    "\n",
    "    #-- Save df\n",
    "    domain.to_csv(output_folder + domain_num + '.csv',sep=\";\")\n",
    "    if use_mongo:\n",
    "        bob.mongo.save_df(domain,domain_num,db_app,True)\n",
    "    df_collection = MongoDB[db_app][domain_num]\n",
    "    df_collection.create_index([(\"ENTITY\", DESCENDING), (\"SCENARIO\", DESCENDING), (\"UPPER_FILTER_R\", ASCENDING)])\n",
    "    return domain\n",
    "\n",
    "domain106 = domain_106(db_all,'106')\n",
    "print(\"Script execution completed at \" + datetime.now().strftime('%d/%m/%Y %H:%M:%S') + \". Time: --- %s secnds ---\" % (time.time() - start_time))\n",
    "# domain106"
   ]
  },
  {
   "cell_type": "code",
   "execution_count": 31,
   "metadata": {},
   "outputs": [
    {
     "name": "stdout",
     "output_type": "stream",
     "text": [
      "End ==> End ==> send to https://health.cashstory.com/ping/51c8f3e8-3d84-4888-878e-a53f0a152e1a, 2020-04-28\n"
     ]
    }
   ],
   "source": [
    "if use_healthchecks:\n",
    "    step_2 = hc.done(hc_key)\n",
    "    print(step_2)"
   ]
  }
 ],
 "metadata": {
  "kernelspec": {
   "display_name": "Python 3",
   "language": "python",
   "name": "python3"
  },
  "language_info": {
   "codemirror_mode": {
    "name": "ipython",
    "version": 3
   },
   "file_extension": ".py",
   "mimetype": "text/x-python",
   "name": "python",
   "nbconvert_exporter": "python",
   "pygments_lexer": "ipython3",
   "version": "3.7.6"
  }
 },
 "nbformat": 4,
 "nbformat_minor": 4
}
