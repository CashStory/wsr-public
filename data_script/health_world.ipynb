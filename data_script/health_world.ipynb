{
 "cells": [
  {
   "cell_type": "code",
   "execution_count": 1,
   "metadata": {},
   "outputs": [],
   "source": [
    "# bob.refresh {\"cron\": \"5,30 2-12 * * *\", \"timeout\": 40000}"
   ]
  },
  {
   "cell_type": "code",
   "execution_count": 2,
   "metadata": {},
   "outputs": [
    {
     "name": "stdout",
     "output_type": "stream",
     "text": [
      "Collecting xlsxwriter\n",
      "  Downloading XlsxWriter-1.2.9-py2.py3-none-any.whl (141 kB)\n",
      "\u001b[K     |████████████████████████████████| 141 kB 24.8 MB/s eta 0:00:01\n",
      "\u001b[?25hInstalling collected packages: xlsxwriter\n",
      "Successfully installed xlsxwriter-1.2.9\n",
      "Successfully connected to MongoDB\n"
     ]
    }
   ],
   "source": [
    "%run __init__.ipynb"
   ]
  },
  {
   "cell_type": "code",
   "execution_count": 3,
   "metadata": {},
   "outputs": [
    {
     "name": "stdout",
     "output_type": "stream",
     "text": [
      "HealthCheck init in prod mode\n",
      "Start ==> send to https://health.cashstory.com/ping/51c8f3e8-3d84-4888-878e-a53f0a152e1a, 2020-06-12\n"
     ]
    }
   ],
   "source": [
    "hc = bob.HealthCheck()\n",
    "hc_key = \"51c8f3e8-3d84-4888-878e-a53f0a152e1a\"\n",
    "if USE_HEALTHCHECKS:\n",
    "    step_1 = hc.start(hc_key)\n",
    "    print(step_1)"
   ]
  },
  {
   "cell_type": "code",
   "execution_count": 4,
   "metadata": {},
   "outputs": [
    {
     "name": "stdout",
     "output_type": "stream",
     "text": [
      "WORLD_CONFIRMED successfully saved in WORLD_CONFIRMED\n",
      "Dataframe WORLD_CONFIRMED successfully save in database covid-19 in MongoDB. Time: --- 0.0960395336151123 secnds ---\n",
      "WORLD_DEATHS successfully saved in WORLD_DEATHS\n",
      "Dataframe WORLD_DEATHS successfully save in database covid-19 in MongoDB. Time: --- 0.09109067916870117 secnds ---\n",
      "WORLD_RECOVERED successfully saved in WORLD_RECOVERED\n",
      "Dataframe WORLD_RECOVERED successfully save in database covid-19 in MongoDB. Time: --- 0.08646345138549805 secnds ---\n",
      "US_CONFIRMED successfully saved in US_CONFIRMED\n",
      "Dataframe US_CONFIRMED successfully save in database covid-19 in MongoDB. Time: --- 0.8723409175872803 secnds ---\n",
      "US_DEATHS successfully saved in US_DEATHS\n",
      "Dataframe US_DEATHS successfully save in database covid-19 in MongoDB. Time: --- 0.8876199722290039 secnds ---\n",
      "CPU times: user 2.19 s, sys: 47.5 ms, total: 2.24 s\n",
      "Wall time: 2.75 s\n",
      "CPU times: user 1.23 s, sys: 78.7 ms, total: 1.3 s\n",
      "Wall time: 1.46 s\n",
      "WORLD_DB_CONCAT successfully saved in WORLD_DB_CONCAT\n",
      "CPU times: user 280 ms, sys: 2.9 ms, total: 283 ms\n",
      "Wall time: 294 ms\n",
      "Data updated, 2020-06-11 exits in WORLD_DB_CONCAT\n",
      "CPU times: user 5.04 ms, sys: 0 ns, total: 5.04 ms\n",
      "Wall time: 5 ms\n",
      "WORLD_DB_CONSO successfully saved in WORLD_DB_CONSO\n",
      "CPU times: user 669 ms, sys: 444 ms, total: 1.11 s\n",
      "Wall time: 1.15 s\n",
      "WORLD_DB_ALL successfully saved in WORLD_DB_ALL\n",
      "CPU times: user 11.5 s, sys: 1.07 s, total: 12.6 s\n",
      "Wall time: 13 s\n",
      "WORLD_DB_TREND successfully saved in WORLD_DB_TREND\n",
      "CPU times: user 31.2 s, sys: 7.02 s, total: 38.3 s\n",
      "Wall time: 39.9 s\n",
      "Data check 2020-06-11: TimeSeries - Daily\n",
      "Confirmed: 7514481 - 7514481 = 0\n",
      "Deaths: 421458 - 421458 = 0\n",
      "Recovered: 3540696 - 3540696 = 0\n",
      "Active cases: 3552327 - 3552327 = 0\n",
      "Fatality rate: 5.608610894085699 - 5.608610894085699 = 0.0\n",
      "Recovery rate: 47.118303978677964 - 47.118303978677964 = 0.0\n",
      "CPU times: user 49.6 s, sys: 20.9 s, total: 1min 10s\n",
      "Wall time: 1min 14s\n"
     ]
    }
   ],
   "source": [
    "%%time\n",
    "\n",
    "#--- Check if the data are already updated\n",
    "def init_script():\n",
    "    stop = False\n",
    "    file_path = os.path.join(OUTPUT_FOLDER,'WORLD_DB_TREND.csv')\n",
    "    if path.exists(file_path):\n",
    "        df_check = pd.read_csv(file_path, sep=';',low_memory=False)\n",
    "        date_check = df_check[df_check['SCENARIO'] == YESTERDAY.strftime('%d/%m/%Y')]\n",
    "        if len(date_check) == 0:\n",
    "            %run \"covid-19_world.ipynb\"\n",
    "        else:\n",
    "            if USE_HEALTHCHECKS:\n",
    "                step_2 = hc.done(hc_key)\n",
    "                print(step_2)\n",
    "                print(f'Data already updated !')\n",
    "                stop = True\n",
    "    else:\n",
    "        %run \"covid-19_world.ipynb\"\n",
    "    return stop\n",
    "    \n",
    "stop = init_script()\n",
    "if stop:\n",
    "    %stop"
   ]
  },
  {
   "cell_type": "code",
   "execution_count": 5,
   "metadata": {},
   "outputs": [
    {
     "name": "stdout",
     "output_type": "stream",
     "text": [
      "CPU times: user 3.6 s, sys: 6.45 s, total: 10.1 s\n",
      "Wall time: 10.5 s\n"
     ]
    }
   ],
   "source": [
    "%%time\n",
    "\n",
    "#--- Load data source\n",
    "db_conso = get_datasource('WORLD_DB_CONSO')\n",
    "db_all = get_datasource('WORLD_DB_ALL')\n",
    "db_trend = get_datasource('WORLD_DB_TREND')"
   ]
  },
  {
   "cell_type": "code",
   "execution_count": 6,
   "metadata": {},
   "outputs": [],
   "source": [
    "def df_to_csv_mongo(df,df_name):\n",
    "    if not df.empty:\n",
    "        # Save in CSV\n",
    "        df_save(df, df_name,'csv')\n",
    "        \n",
    "        # Save in MongoDB\n",
    "        if USE_MONGO:\n",
    "            bob.mongo.save_df(df, df_name, DB_APP,True)\n",
    "    else:\n",
    "        print(f'DataFrame {df_name} is empty !')"
   ]
  },
  {
   "cell_type": "code",
   "execution_count": 7,
   "metadata": {},
   "outputs": [
    {
     "name": "stdout",
     "output_type": "stream",
     "text": [
      "CPU times: user 3 µs, sys: 1 µs, total: 4 µs\n",
      "Wall time: 8.11 µs\n"
     ]
    }
   ],
   "source": [
    "%%time\n",
    "\n",
    "#Dashboard value dynamic template\n",
    "def dashboard_value(df,kpi,domain_num):\n",
    "    filters = ['WORLDWIDE','Europe','Asia','Africa','North America','South America','Oceania','Other','To be affected']\n",
    "    domain = df[(df['ENTITY_GROUPS'].isin(filters)) & (df['KPI'].isin([kpi]))]\n",
    "    domain = pd.DataFrame({\n",
    "        'ENTITY': domain['ENTITY'],\n",
    "        'ENTITY_GROUPS': domain['ENTITY_GROUPS'],\n",
    "        'SCENARIO': domain['SCENARIO'],\n",
    "        'DATE_ORDER': domain['DATE_ORDER'],\n",
    "        'LABEL': domain['KPI'],\n",
    "        'VALUE': domain['VALUE'],\n",
    "        'VALUE_D-1': domain['VALUE_D-1'],\n",
    "        'VAR': domain['VARV'],\n",
    "        'VARP': domain['VARP'],\n",
    "        'UNIT_VALUE': domain['UNIT_VALUE'],\n",
    "        'UNIT_VAR': domain['UNIT_VAR'],\n",
    "        'UNIT_VARP': domain['UNIT_VARP'],\n",
    "        'PRECISION_VALUE': domain['PRECISION_VALUE'],\n",
    "        'PRECISION_VAR': domain['PRECISION_VAR'],\n",
    "        'PRECISION_VARP': domain['PRECISION_VARP'],\n",
    "        'LAST_UPDATE': datetime.now().strftime('%d/%m/%Y %H:%M:%S'),\n",
    "    })\n",
    "    domain = domain.sort_values(by=['ENTITY','SCENARIO'],ascending=False)\n",
    "    df_to_csv_mongo(domain,domain_num)\n",
    "    df_collection = MONGO_DB[DB_APP][domain_num]\n",
    "    df_collection.create_index([(\"ENTITY\", DESCENDING),(\"SCENARIO\", DESCENDING)])\n",
    "    return domain"
   ]
  },
  {
   "cell_type": "code",
   "execution_count": 8,
   "metadata": {},
   "outputs": [],
   "source": [
    "#Duplicate to rank countries WORLDWIDE\n",
    "def get_ww(df): \n",
    "    filters = ['Europe','Asia','Africa','North America','South America','Oceania','Other','To be affected']\n",
    "    df_ww = df.copy()[(df['ENTITY'].isin(filters))] \n",
    "    df_ww['ENTITY'] = \"WORLDWIDE\"           \n",
    "    df = df.append(df_ww)\n",
    "    return df"
   ]
  },
  {
   "cell_type": "code",
   "execution_count": 9,
   "metadata": {},
   "outputs": [],
   "source": [
    "#Dashboard leaderboard template\n",
    "def dashboard_leaderboard(df,kpi,domain_num):\n",
    "    domain = df[(df['KPI'].isin([kpi]))]\n",
    "    domain = pd.DataFrame({\n",
    "        'ENTITY': domain['ENTITY_GROUPS'],\n",
    "        'SCENARIO': domain['SCENARIO'],\n",
    "        'DATE_ORDER': domain['DATE_ORDER'],\n",
    "        'LABEL': domain['ENTITY'],\n",
    "        'VALUE': domain['VALUE'],\n",
    "        'VALUE_D-1': domain['VALUE_D-1'],\n",
    "        'VAR': domain['VARV'],\n",
    "        'VARP': domain['VARP'],\n",
    "        'UNIT_VALUE': domain['UNIT_VALUE'],\n",
    "        'UNIT_VAR': domain['UNIT_VAR'],\n",
    "        'UNIT_VARP': domain['UNIT_VARP'],\n",
    "        'PRECISION_VALUE': domain['PRECISION_VALUE'],\n",
    "        'PRECISION_VAR': domain['PRECISION_VAR'],\n",
    "        'PRECISION_VARP': domain['PRECISION_VARP'],\n",
    "        'LAST_UPDATE': datetime.now().strftime('%d/%m/%Y %H:%M:%S'),\n",
    "    })\n",
    "    domain = domain.sort_values(by=['ENTITY','SCENARIO'],ascending=False)\n",
    "    if domain_num == '010' or domain_num == '011' or domain_num == '012':\n",
    "        domain = get_ww(domain)\n",
    "    df_to_csv_mongo(domain,domain_num)\n",
    "    df_collection = MONGO_DB[DB_APP][domain_num]\n",
    "    df_collection.create_index([(\"ENTITY\", DESCENDING),(\"SCENARIO\", DESCENDING)])\n",
    "    return domain"
   ]
  },
  {
   "cell_type": "code",
   "execution_count": 10,
   "metadata": {},
   "outputs": [
    {
     "name": "stdout",
     "output_type": "stream",
     "text": [
      "ENTITIES successfully saved in ENTITIES\n",
      "Dataframe ENTITIES successfully save in database app-wsr in MongoDB. Time: --- 0.03865671157836914 secnds ---\n",
      "CPU times: user 91 ms, sys: 2.26 ms, total: 93.3 ms\n",
      "Wall time: 128 ms\n"
     ]
    }
   ],
   "source": [
    "%%time\n",
    "\n",
    "#-- Date selector : ENTITIES\n",
    "def get_entities(df):\n",
    "    cols_to_rename = {\"ENTITY\": \"ENTITIES\", \"ENTITY_GROUPS\": \"GROUPS\"}\n",
    "    filters = ['WORLDWIDE','Europe','Asia','Africa','North America','South America','Oceania','Other','To be affected']\n",
    "    df = df[df['ENTITY_GROUPS'].isin(filters)].rename(index=str, columns=cols_to_rename)[['ENTITIES','GROUPS']].drop_duplicates().sort_values(by=\"ENTITIES\", ascending=True).reset_index(drop=True)\n",
    "    df['ORDER'] = df.index + 8\n",
    "    df.loc[df['ENTITIES'] == 'WORLDWIDE', 'ORDER'] = 0\n",
    "    df.loc[df['ENTITIES'] == 'Europe', 'ORDER'] = 1\n",
    "    df.loc[df['ENTITIES'] == 'Asia', 'ORDER'] = 2\n",
    "    df.loc[df['ENTITIES'] == 'Africa', 'ORDER'] = 3\n",
    "    df.loc[df['ENTITIES'] == 'North America', 'ORDER'] = 4\n",
    "    df.loc[df['ENTITIES'] == 'South America', 'ORDER'] = 5\n",
    "    df.loc[df['ENTITIES'] == 'Oceania', 'ORDER'] = 6\n",
    "    df.loc[df['ENTITIES'] == 'Other', 'ORDER'] = 7\n",
    "    df.loc[df['ENTITIES'] == 'To be affected', 'ORDER'] = 8\n",
    "    \n",
    "    df.loc[df['ENTITIES'] == 'WORLDWIDE', 'ORDER_GROUPS'] = 0\n",
    "    df.loc[df['ENTITIES'] == 'Europe', 'ORDER_GROUPS'] = 1\n",
    "    df.loc[df['ENTITIES'] == 'Asia', 'ORDER_GROUPS'] = 2\n",
    "    df.loc[df['ENTITIES'] == 'Africa', 'ORDER_GROUPS'] = 3\n",
    "    df.loc[df['ENTITIES'] == 'North America', 'ORDER_GROUPS'] = 4\n",
    "    df.loc[df['ENTITIES'] == 'South America', 'ORDER_GROUPS'] = 5\n",
    "    df.loc[df['ENTITIES'] == 'Oceania', 'ORDER_GROUPS'] = 6\n",
    "    df.loc[df['ENTITIES'] == 'Other', 'ORDER_GROUPS'] = 7\n",
    "    df.loc[df['ENTITIES'] == 'To be affected', 'ORDER_GROUPS'] = 8\n",
    "\n",
    "    df.loc[df['GROUPS'] == 'Europe', 'ORDER_GROUPS'] = 1\n",
    "    df.loc[df['GROUPS'] == 'Asia', 'ORDER_GROUPS'] = 2\n",
    "    df.loc[df['GROUPS'] == 'Africa', 'ORDER_GROUPS'] = 3\n",
    "    df.loc[df['GROUPS'] == 'North America', 'ORDER_GROUPS'] = 4\n",
    "    df.loc[df['GROUPS'] == 'South America', 'ORDER_GROUPS'] = 5\n",
    "    df.loc[df['GROUPS'] == 'Oceania', 'ORDER_GROUPS'] = 6\n",
    "    df.loc[df['GROUPS'] == 'Other', 'ORDER_GROUPS'] = 7\n",
    "    df.loc[df['GROUPS'] == 'To be affected', 'ORDER_GROUPS'] = 8\n",
    "    \n",
    "    df.loc[df['GROUPS'] == 'WORLDWIDE','ENTITY_DISPLAY'] = df['ENTITIES']\n",
    "    df.loc[df['GROUPS'] != 'WORLDWIDE','ENTITY_DISPLAY'] = '--- ' + df['ENTITIES']\n",
    "    return df.sort_values(by=['ORDER_GROUPS','ORDER'], ascending=True)\n",
    "\n",
    "entities = get_entities(db_conso)\n",
    "df_to_csv_mongo(entities,'ENTITIES')\n",
    "# entities"
   ]
  },
  {
   "cell_type": "code",
   "execution_count": 11,
   "metadata": {},
   "outputs": [
    {
     "name": "stdout",
     "output_type": "stream",
     "text": [
      "SCENARIOS successfully saved in SCENARIOS\n",
      "Dataframe SCENARIOS successfully save in database app-wsr in MongoDB. Time: --- 0.028421878814697266 secnds ---\n",
      "CPU times: user 72.9 ms, sys: 6.6 ms, total: 79.5 ms\n",
      "Wall time: 105 ms\n"
     ]
    }
   ],
   "source": [
    "%%time\n",
    "\n",
    "#-- Date selector : SCENARIOS\n",
    "def get_scenarios(df):\n",
    "    df = df[['SCENARIO','DATE_ORDER']].drop_duplicates()\n",
    "    df['SCENARIO_DIPLAY'] = pd.to_datetime(df['SCENARIO'], format='%d/%m/%Y').dt.strftime('%d %b %Y')\n",
    "    df['SCENARIO_TODAY'] = (pd.to_datetime(df['SCENARIO'], format='%d/%m/%Y') + timedelta(days = 1)).dt.strftime('%d/%m/%Y')\n",
    "    df['SCENARIO_TODAY_DIPLAY'] = pd.to_datetime(df['SCENARIO_TODAY'], format='%d/%m/%Y').dt.strftime('%d %b %Y')\n",
    "    return df.sort_values(by='DATE_ORDER', ascending=False)\n",
    "\n",
    "scenarios = get_scenarios(db_all)\n",
    "df_to_csv_mongo(scenarios,'SCENARIOS')\n",
    "# scenarios"
   ]
  },
  {
   "cell_type": "code",
   "execution_count": 12,
   "metadata": {},
   "outputs": [
    {
     "name": "stdout",
     "output_type": "stream",
     "text": [
      "001 successfully saved in 001\n",
      "Dataframe 001 successfully save in database app-wsr in MongoDB. Time: --- 22.22281265258789 secnds ---\n",
      "002 successfully saved in 002\n",
      "Dataframe 002 successfully save in database app-wsr in MongoDB. Time: --- 20.957187175750732 secnds ---\n",
      "003 successfully saved in 003\n",
      "Dataframe 003 successfully save in database app-wsr in MongoDB. Time: --- 20.90709114074707 secnds ---\n",
      "004 successfully saved in 004\n",
      "Dataframe 004 successfully save in database app-wsr in MongoDB. Time: --- 21.797520875930786 secnds ---\n",
      "005 successfully saved in 005\n",
      "Dataframe 005 successfully save in database app-wsr in MongoDB. Time: --- 21.26444911956787 secnds ---\n",
      "006 successfully saved in 006\n",
      "Dataframe 006 successfully save in database app-wsr in MongoDB. Time: --- 22.330798387527466 secnds ---\n",
      "CPU times: user 1min 6s, sys: 7.8 s, total: 1min 14s\n",
      "Wall time: 2min 11s\n"
     ]
    }
   ],
   "source": [
    "%%time\n",
    "\n",
    "#--- DASHBOARD ---\n",
    "#-- VALUE DYNAMIC KPIS\n",
    "domain001 = dashboard_value(db_all,'Confirmed','001')\n",
    "domain002 = dashboard_value(db_all,'Deaths','002')\n",
    "domain003 = dashboard_value(db_all,'Recovered','003')\n",
    "domain004 = dashboard_value(db_all,'Active cases','004')\n",
    "domain005 = dashboard_value(db_all,\"Fatality Rate\",'005')\n",
    "domain006 = dashboard_value(db_all,\"Recovery Rate\",'006')"
   ]
  },
  {
   "cell_type": "code",
   "execution_count": 13,
   "metadata": {},
   "outputs": [
    {
     "name": "stdout",
     "output_type": "stream",
     "text": [
      "010 successfully saved in 010\n",
      "Dataframe 010 successfully save in database app-wsr in MongoDB. Time: --- 21.120256900787354 secnds ---\n",
      "011 successfully saved in 011\n",
      "Dataframe 011 successfully save in database app-wsr in MongoDB. Time: --- 20.876609802246094 secnds ---\n",
      "012 successfully saved in 012\n",
      "Dataframe 012 successfully save in database app-wsr in MongoDB. Time: --- 21.220457553863525 secnds ---\n",
      "CPU times: user 39.3 s, sys: 3.71 s, total: 43 s\n",
      "Wall time: 1min 7s\n"
     ]
    }
   ],
   "source": [
    "%%time\n",
    "\n",
    "#-- LEADERBOARD BY COUNTRIES\n",
    "db_c = db_all[(db_all['ENTITY_GROUPS'] != 'WORLDWIDE')]\n",
    "domain010 = dashboard_leaderboard(db_c,'Confirmed','010')\n",
    "domain011 = dashboard_leaderboard(db_c,'Deaths','011')\n",
    "domain012 = dashboard_leaderboard(db_c,'Recovered','012')"
   ]
  },
  {
   "cell_type": "code",
   "execution_count": 14,
   "metadata": {},
   "outputs": [
    {
     "name": "stdout",
     "output_type": "stream",
     "text": [
      "101 successfully saved in 101\n",
      "Dataframe 101 successfully save in database app-wsr in MongoDB. Time: --- 85.58711695671082 secnds ---\n",
      "CPU times: user 1min 10s, sys: 5.45 s, total: 1min 15s\n",
      "Wall time: 1min 41s\n"
     ]
    }
   ],
   "source": [
    "%%time\n",
    "\n",
    "#-- Covid-19 - TRENDS\n",
    "def domain_101(df,domain_num):\n",
    "#     filters = ['Confirmed','Deaths','Recovered','Active cases','Deaths ratio','Recovered ratio']\n",
    "    filters = ['Confirmed','Deaths','Recovered','Active cases']\n",
    "    domain = df[df['KPI'].isin(filters)]\n",
    "    domain = pd.DataFrame({\n",
    "        'ENTITY': domain['ENTITY'],\n",
    "        'ENTITY_GROUPS': domain['ENTITY_GROUPS'],\n",
    "        'SCENARIO': domain['SCENARIO'],\n",
    "        'DATE_ORDER': domain['DATE_ORDER'],\n",
    "        'GROUPS': domain['KPI'],\n",
    "        'BOTTOM_FILTER': domain['DATE_SCENARIO'],\n",
    "        'UPPER_FILTER_M': domain['METRIC'],\n",
    "        'VALUE': domain['VALUE'],\n",
    "        'UNIT_VALUE': domain['UNIT'],\n",
    "        'PRECISION': domain['PRECISION'],\n",
    "        'LAST_UPDATE': datetime.now().strftime('%d/%m/%Y %H:%M:%S'),\n",
    "    })\n",
    "\n",
    "    #Deconfinement France\n",
    "    groups_name = 'Deconfinement'\n",
    "    df_france = domain.copy()[(domain['ENTITY'] == 'France') & (domain['GROUPS'] == 'Confirmed') & (domain['UPPER_FILTER_M'] == 'VARV')]\n",
    "    df_france.loc[:,'GROUPS'] = groups_name\n",
    "    df_france.loc[:,'VALUE'] = 3000\n",
    "    domain = pd.concat([domain,df_france],axis=0)\n",
    "    \n",
    "    #Rename upper filter\n",
    "    domain.loc[domain['UPPER_FILTER_M'] == 'VALUE','UPPER_FILTER_M'] = 'EVOLUTION'\n",
    "    domain.loc[(domain['UPPER_FILTER_M'] == 'VARV') & (domain['GROUPS'].isin(['Confirmed','Deaths','Recovered','Active cases',groups_name])),'UPPER_FILTER_M'] = 'DAILY VARIATION (CASES)'\n",
    "#     domain.loc[(domain['UPPER_FILTER_M'] == 'VARV') & (domain['GROUPS'].isin(['Deaths ratio','Recovered ratio'])),'UPPER_FILTER_M'] = 'DAILY VARIATION (PTS)'\n",
    "    domain.loc[(domain['UPPER_FILTER_M'] == 'VARP') & (domain['GROUPS'].isin(['Confirmed','Deaths','Recovered','Active cases',groups_name])),'UPPER_FILTER_M'] = 'DAILY VARIATION (%)'\n",
    "#     domain.loc[(domain['UPPER_FILTER_M'] == 'VARP') & (domain['GROUPS'].isin(['Deaths ratio','Recovered ratio'])),'UPPER_FILTER_M'] = ''\n",
    "    \n",
    "    df_to_csv_mongo(domain,domain_num)\n",
    "    df_collection = MONGO_DB[DB_APP][domain_num]\n",
    "    df_collection.create_index([(\"ENTITY\", DESCENDING), (\"UPPER_FILTER_M\", DESCENDING), (\"BOTTOM_FILTER\", DESCENDING)])\n",
    "    return domain\n",
    "\n",
    "domain101 = domain_101(db_trend,'101')\n",
    "# domain101"
   ]
  },
  {
   "cell_type": "code",
   "execution_count": 15,
   "metadata": {},
   "outputs": [
    {
     "name": "stdout",
     "output_type": "stream",
     "text": [
      "102 successfully saved in 102\n",
      "Dataframe 102 successfully save in database app-wsr in MongoDB. Time: --- 17.918198823928833 secnds ---\n",
      "CPU times: user 10.1 s, sys: 1.09 s, total: 11.2 s\n",
      "Wall time: 19 s\n"
     ]
    }
   ],
   "source": [
    "%%time\n",
    "\n",
    "#-- Covid-19 - TRENDS BY COUNTRIES\n",
    "def domain_102(df,domain_num):\n",
    "    domain = df.copy()\n",
    "    max_date = domain['DATE_ORDER'].max()\n",
    "    \n",
    "    filters =  ['Europe','Asia','Africa','North America','South America','Oceania','Other','To be affected']\n",
    "    countries_df = domain[(domain['ENTITY_GROUPS'].isin(filters)) & (domain['DATE_ORDER'] == max_date) & (domain['GROUPS'] == 'Confirmed') & (domain['BOTTOM_FILTER'] == 'Since beginning')].sort_values(by= 'VALUE', ascending=False).drop_duplicates().reset_index(drop=True)[:10]#['ENTITY'].drop_duplicates().values.tolist()[:10]\n",
    "    countries_df['ENTITY_ORDER'] = countries_df.index\n",
    "    countries_df = countries_df[['ENTITY','ENTITY_ORDER']]\n",
    "    \n",
    "    countries = countries_df['ENTITY'].values.tolist()\n",
    "    \n",
    "    domain = domain[(domain['ENTITY_GROUPS'] != \"WORLDWIDE\") & (domain['ENTITY'].isin(countries))]\n",
    "    domain = pd.merge(domain,countries_df, on=['ENTITY'], how='left')\n",
    "\n",
    "    df_to_csv_mongo(domain,domain_num)\n",
    "    df_collection = MONGO_DB[DB_APP][domain_num]\n",
    "    df_collection.create_index([(\"GROUPS\", ASCENDING), (\"UPPER_FILTER_M\", DESCENDING), (\"BOTTOM_FILTER\", DESCENDING)])\n",
    "    return domain\n",
    "    \n",
    "domain102 = domain_102(domain101,'102')\n",
    "# domain102"
   ]
  },
  {
   "cell_type": "code",
   "execution_count": 16,
   "metadata": {},
   "outputs": [
    {
     "name": "stdout",
     "output_type": "stream",
     "text": [
      "103 successfully saved in 103\n",
      "Dataframe 103 successfully save in database app-wsr in MongoDB. Time: --- 61.581942081451416 secnds ---\n",
      "CPU times: user 45.4 s, sys: 2.63 s, total: 48 s\n",
      "Wall time: 1min 10s\n"
     ]
    }
   ],
   "source": [
    "%%time\n",
    "\n",
    "#-- Covid-19 - RANKING BY COUNTRIES\n",
    "#-> Referentials\n",
    "ref_continent = pd.read_excel(REF_WSR_PATH, sheet_name='REF_CONTINENT')\n",
    "def domain_103(df,ref,domain_num):\n",
    "    domain = df.copy()\n",
    "    cols_to_rename = {\"LABEL\": \"KPI\",\"ENTITY\": \"LABEL\", \"ENTITY_GROUPS\":\"ENTITY\", \"VARV\":\"VAR\"}\n",
    "    domain = get_ww(domain.drop(['DATE','UNIT_VAR','UNIT_VARP','PRECISION_VALUE','PRECISION_VAR','PRECISION_VARP'],axis=1).rename(index=str, columns=cols_to_rename).reset_index(drop=True))\n",
    "    domain = pd.merge(domain, ref, left_on=['LABEL'], right_on=['COUNTRY_REGION'], how='left').drop(['CONTINENT','COUNTRY_REGION'],axis=1).reset_index(drop=True)\n",
    "\n",
    "    df_to_csv_mongo(domain,domain_num)\n",
    "    df_collection = MONGO_DB[DB_APP][domain_num]\n",
    "    df_collection.create_index([(\"ENTITY\", DESCENDING), (\"SCENARIO\", DESCENDING), (\"LABEL\", DESCENDING), (\"KPI\", ASCENDING), (\"VALUE\", DESCENDING)])\n",
    "    return domain\n",
    "\n",
    "domain103 = domain_103(db_all,ref_continent,'103')\n",
    "# domain103"
   ]
  },
  {
   "cell_type": "code",
   "execution_count": 17,
   "metadata": {},
   "outputs": [
    {
     "name": "stdout",
     "output_type": "stream",
     "text": [
      "106 successfully saved in 106\n",
      "Dataframe 106 successfully save in database app-wsr in MongoDB. Time: --- 43.27333617210388 secnds ---\n",
      "CPU times: user 24min 24s, sys: 14.5 s, total: 24min 38s\n",
      "Wall time: 26min 17s\n"
     ]
    }
   ],
   "source": [
    "%%time\n",
    "\n",
    "#-- Covid-19 - DAILY TREND\n",
    "def domain_106(df,domain_num):\n",
    "    #-- Exclude Rates\n",
    "    df = df[~df['KPI'].isin(['Fatality Rate',\"Recovery Rate\"])]\n",
    "    \n",
    "    #-- Calculate Value\n",
    "    filters = ['WORLDWIDE','Europe','Asia','Africa','North America','South America','Oceania','Other','To be affected']\n",
    "    domain_val = df.copy()[['ENTITY_GROUPS','ENTITY','SCENARIO','KPI','VALUE','VALUE_D-1']][df['ENTITY_GROUPS'].isin(filters)]#[df['ENTITY_GROUPS'] == 'WORLDWIDE']\n",
    "    cols_to_keep = ['ENTITY_GROUPS','ENTITY','SCENARIO','KPI']\n",
    "    domain_val = domain_val.melt(id_vars=cols_to_keep, value_name='VALUE',var_name='METRIC')\n",
    "    domain_val['ENTITY_GROUPS'] = domain_val['ENTITY']\n",
    "    domain_val.loc[domain_val['METRIC'] == 'VALUE', 'LABEL_ORDER'] = 99999999\n",
    "    domain_val.loc[domain_val['METRIC'] == 'VALUE_D-1', 'LABEL_ORDER'] = 0\n",
    "    domain_val.loc[domain_val['METRIC'] == 'VALUE', 'METRIC'] = domain_val['SCENARIO']\n",
    "    domain_val.loc[domain_val['METRIC'] == 'VALUE_D-1', 'METRIC'] = (pd.to_datetime(domain_val['SCENARIO'], format='%d/%m/%Y') + timedelta(days=-1)).dt.strftime('%d/%m/%Y')\n",
    "    \n",
    "    cols_to_rename = {'METRIC':'LABEL', 'ENTITY_GROUPS': 'ENTITY','KPI':'UPPER_FILTER_R'}\n",
    "    domain_val = domain_val.drop('ENTITY',axis=1).rename(index=str, columns=cols_to_rename)\n",
    "    domain_val['PRECISION'] = ',.0f'\n",
    "\n",
    "    #--Variation\n",
    "    #filters = ['Europe','Asia','Africa','North America','South America','Oceania','Other','To be affected']\n",
    "    domain_var = df.copy()[['ENTITY_GROUPS','ENTITY','SCENARIO','KPI','VARV','VARP']][df['ENTITY_GROUPS']!='WORLDWIDE']#[df['ENTITY_GROUPS'].isin(filters)]\n",
    "    cols_to_rename = {'VARV':'VALUE', 'VARP': 'VAR'}\n",
    "    domain_var = domain_var.rename(index=str, columns=cols_to_rename).reset_index(drop=True)\n",
    "    domain_var = domain_var[domain_var['VALUE'] !=0 ]\n",
    "    \n",
    "    #-- Get the first 10\n",
    "    filters = domain_var[['ENTITY_GROUPS','SCENARIO','KPI']].drop_duplicates().values.tolist()\n",
    "    domain_w = pd.DataFrame()\n",
    "    for f in filters:\n",
    "        tmp_df = domain_var[(domain_var['ENTITY_GROUPS'] == f[0]) & (domain_var['SCENARIO'] == f[1]) & (domain_var['KPI'] == f[2])].sort_values(by=[\"VALUE\",\"ENTITY\"],ascending=False).reset_index(drop=True)\n",
    "        tmp_df['LABEL_ORDER'] = tmp_df.index.astype(int) + 1\n",
    "        if len(tmp_df) > 9:\n",
    "            tmp_df.loc[tmp_df.index > 9, 'ENTITY'] = 'Others'\n",
    "            tmp_df.loc[tmp_df.index > 9, 'LABEL_ORDER'] = 11\n",
    "            cols_to_group = ['ENTITY_GROUPS','ENTITY','SCENARIO','KPI','LABEL_ORDER']\n",
    "            tmp_df = tmp_df.groupby(cols_to_group, as_index=False).agg({'VALUE':'sum'}).reset_index(drop=True)\n",
    "        tmp_df['PRECISION'] = '+,.0f'\n",
    "        domain_w = domain_w.append(tmp_df)\n",
    "        \n",
    "    cols_to_rename = {'ENTITY':'LABEL', 'ENTITY_GROUPS': 'ENTITY','KPI':'UPPER_FILTER_R'}\n",
    "    domain_w = domain_w.rename(index=str, columns=cols_to_rename)\n",
    "    domain_w['GROUPS'] = domain_w['LABEL']\n",
    "    \n",
    "    filters = ['Europe','Asia','Africa','North America','South America','Oceania','Other','To be affected']\n",
    "    cols_to_rename = {'LABEL':'GROUPS', 'ENTITY':'LABEL'}\n",
    "    domain_w2 = domain_w.copy()[domain_w['ENTITY'].isin(filters)].drop('GROUPS',axis=1).rename(index=str, columns=cols_to_rename)\n",
    "    domain_w2['ENTITY'] = 'WORLDWIDE'\n",
    "    \n",
    "    domain = pd.concat([domain_val,domain_w,domain_w2],axis=0)\n",
    "\n",
    "    #-- Save df\n",
    "    df_to_csv_mongo(domain,domain_num)\n",
    "    df_collection = MONGO_DB[DB_APP][domain_num]\n",
    "    df_collection.create_index([(\"ENTITY\", DESCENDING), (\"SCENARIO\", DESCENDING), (\"UPPER_FILTER_R\", ASCENDING)])\n",
    "    return domain\n",
    "\n",
    "domain106 = domain_106(db_all,'106')\n",
    "# domain106"
   ]
  },
  {
   "cell_type": "code",
   "execution_count": 18,
   "metadata": {},
   "outputs": [
    {
     "name": "stdout",
     "output_type": "stream",
     "text": [
      "Done ==> send to https://health.cashstory.com/ping/51c8f3e8-3d84-4888-878e-a53f0a152e1a, 2020-06-12\n"
     ]
    }
   ],
   "source": [
    "if USE_HEALTHCHECKS:\n",
    "    step_2 = hc.done(hc_key)\n",
    "    print(step_2)"
   ]
  }
 ],
 "metadata": {
  "kernelspec": {
   "display_name": "Python 3",
   "language": "python",
   "name": "python3"
  },
  "language_info": {
   "codemirror_mode": {
    "name": "ipython",
    "version": 3
   },
   "file_extension": ".py",
   "mimetype": "text/x-python",
   "name": "python",
   "nbconvert_exporter": "python",
   "pygments_lexer": "ipython3",
   "version": "3.7.6"
  }
 },
 "nbformat": 4,
 "nbformat_minor": 4
}
