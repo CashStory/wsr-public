{
 "cells": [
  {
   "cell_type": "code",
   "execution_count": 1,
   "metadata": {},
   "outputs": [],
   "source": [
    "# bob.refresh {\"cron\": \"15 9-23 * * 1-5\", \"timeout\": 400000}"
   ]
  },
  {
   "cell_type": "code",
   "execution_count": 2,
   "metadata": {},
   "outputs": [
    {
     "name": "stdout",
     "output_type": "stream",
     "text": [
      "HealthCheck init in prod mode\n",
      "Start ==> send to https://health.cashstory.com/ping/bfc41c24-d278-4bc8-8d95-767e5da44f59, 2020-04-17\n"
     ]
    }
   ],
   "source": [
    "import bob\n",
    "hc = bob.HealthCheck()\n",
    "hc_key = \"bfc41c24-d278-4bc8-8d95-767e5da44f59\"\n",
    "start = hc.start(hc_key)\n",
    "print(start)"
   ]
  },
  {
   "cell_type": "code",
   "execution_count": 3,
   "metadata": {},
   "outputs": [
    {
     "name": "stdout",
     "output_type": "stream",
     "text": [
      "Successfully connected to MongoDB\n"
     ]
    }
   ],
   "source": [
    "%run __init__.ipynb"
   ]
  },
  {
   "cell_type": "code",
   "execution_count": 4,
   "metadata": {},
   "outputs": [],
   "source": [
    "#-- Data source\n",
    "# ACTUAL\n",
    "db_yahoo = bob.mongo.read_df('DB_ALL','yahoo').drop('_id', axis=1).sort_values(by='DATE_ORDER',ascending=False)\n",
    "db_all = pd.DataFrame()\n",
    "\n",
    "# Get only the last 360 days\n",
    "tickers = db_yahoo['TICKER'].drop_duplicates().values.tolist()\n",
    "for ticker in tickers:\n",
    "    tmp_df = db_yahoo[db_yahoo['TICKER'] == ticker]\n",
    "    all_dates = tmp_df['DATE'].drop_duplicates().sort_values(ascending=False).values.tolist()[:360]\n",
    "    tmp_df = tmp_df[tmp_df['DATE'].isin(all_dates)]\n",
    "    db_all = db_all.append(tmp_df)\n",
    "\n",
    "# ML    \n",
    "db_all_ml = bob.mongo.read_df('DB_ALL_ML','yahoo').drop('_id', axis=1).sort_values(by='DATE_ORDER',ascending=False)\n",
    "# db_all_ml.to_csv(output_folder +'DB_ALL_ML.csv', sep=';')"
   ]
  },
  {
   "cell_type": "code",
   "execution_count": 5,
   "metadata": {},
   "outputs": [],
   "source": [
    "#-- Transform yahoo finance data DB_ALL (VALUE, VAR, VARP)\n",
    "def get_all(df,df_ml,filter1=None):\n",
    "    #-- ACUTAL DATA\n",
    "    #Filter data\n",
    "    if filter1 == None:\n",
    "        domain = df.reset_index(drop=True)\n",
    "    else:\n",
    "        domain = df[df['TYPE'] == filter1]\n",
    "        \n",
    "    domain_ac = pd.DataFrame({\n",
    "        'ENTITY': 'WORLDWIDE',\n",
    "        'SCENARIO': pd.to_datetime(domain['DATE'], format='%Y-%m-%d').dt.strftime('%d/%m/%Y'),\n",
    "        'DATE_ORDER': domain['DATE_ORDER'],\n",
    "        'LABEL': domain['LABEL'],\n",
    "        'GROUPS': 'ACTUAL',\n",
    "        'SETTING': \"w/o ML\",\n",
    "        'TYPE': domain['TYPE'],\n",
    "        'VALUE': domain['CLOSE'],\n",
    "        'VAR': domain['VARV'],\n",
    "        'VARP': domain['VARP'],\n",
    "        'VOLUME': domain['VOLUME'].astype('int'),\n",
    "        'META': domain['META'],\n",
    "        'UNIT_VALUE': domain['UNIT'],\n",
    "        'UNIT_VARP': ' %',\n",
    "    })\n",
    "    \n",
    "    #-- ML DATA\n",
    "    #Filter data\n",
    "    if filter1 == None:\n",
    "        domain = df_ml.reset_index(drop=True)\n",
    "    else:\n",
    "        domain = df_ml[df_ml['TYPE'] == filter1].reset_index(drop=True)  \n",
    "        \n",
    "    domain_ml = pd.DataFrame({\n",
    "        'ENTITY': 'WORLDWIDE',\n",
    "        'SCENARIO': pd.to_datetime(domain['DATE'], format='%Y-%m-%d').dt.strftime('%d/%m/%Y'),\n",
    "        'DATE_ORDER': domain['DATE_ORDER'],\n",
    "        'LABEL': domain['LABEL'],\n",
    "        'GROUPS': domain['ML'],\n",
    "        'SETTING': \"with ML\",\n",
    "        'TYPE': domain['TYPE'],\n",
    "        'VALUE': domain['VALUE'],\n",
    "        'VAR': domain['VARV'],\n",
    "        'VARP': domain['VARP'],\n",
    "        'META': domain['META'],\n",
    "        'UNIT_VALUE': domain['UNIT'],\n",
    "        'UNIT_VARP': ' %',\n",
    "    })\n",
    "    \n",
    "    #Prepare to save\n",
    "    domain = pd.concat([domain_ac,domain_ml], axis=0).reset_index(drop=True)\n",
    "    domain['LAST_UPDATE']=datetime.now().strftime('%d/%m/%Y %H:%M:%S')\n",
    "    domain = domain.sort_values(by=['DATE_ORDER','ENTITY','TYPE'], ascending=False).reset_index(drop=True)\n",
    "    return domain"
   ]
  },
  {
   "cell_type": "code",
   "execution_count": 6,
   "metadata": {},
   "outputs": [],
   "source": [
    "def save_df_all(domain,domain_num):\n",
    "    #Save to mongo\n",
    "    domain.to_csv(output_folder + domain_num + '.csv', sep=';')\n",
    "    bob.mongo.save_df(domain,domain_num,db_app,True)\n",
    "    df_collection = MongoDB[db_app][domain_num]\n",
    "    df_collection.create_index([(\"SCENARIO\", DESCENDING)])\n",
    "    df_collection.create_index([(\"LABEL\", ASCENDING)])\n",
    "    return domain"
   ]
  },
  {
   "cell_type": "code",
   "execution_count": 7,
   "metadata": {},
   "outputs": [
    {
     "name": "stdout",
     "output_type": "stream",
     "text": [
      "Dataframe 200 successfully save in database app-wsr in MongoDB. Time: --- 18.756577968597412 secnds ---\n"
     ]
    }
   ],
   "source": [
    "#-- Economy Highlighted KPIS \n",
    "domain200 = get_all(db_all,db_all_ml)\n",
    "domain200 = domain200[domain200['GROUPS'] == 'ACTUAL']\n",
    "domain200 = save_df_all(domain200,'200')\n",
    "# domain200"
   ]
  },
  {
   "cell_type": "code",
   "execution_count": 8,
   "metadata": {},
   "outputs": [
    {
     "name": "stdout",
     "output_type": "stream",
     "text": [
      "Dataframe 201BIS successfully save in database app-wsr-dev in MongoDB. Time: --- 0.3380744457244873 secnds ---\n"
     ]
    }
   ],
   "source": [
    "#-- Indice Performance\n",
    "domain201bis = get_all(db_all,db_all_ml,'INDICES')\n",
    "domain201bis = save_df_all(domain201bis,'201BIS')\n",
    "# domain201bis"
   ]
  },
  {
   "cell_type": "code",
   "execution_count": 9,
   "metadata": {},
   "outputs": [
    {
     "name": "stdout",
     "output_type": "stream",
     "text": [
      "Dataframe 202BIS successfully save in database app-wsr-dev in MongoDB. Time: --- 7.9925148487091064 secnds ---\n"
     ]
    }
   ],
   "source": [
    "#-- Major Currencies\n",
    "domain202bis = get_all(db_all,db_all_ml,'CURRENCIES')\n",
    "domain202bis = save_df_all(domain202bis,'202BIS')\n",
    "# domain202bis"
   ]
  },
  {
   "cell_type": "code",
   "execution_count": 10,
   "metadata": {},
   "outputs": [
    {
     "name": "stdout",
     "output_type": "stream",
     "text": [
      "Dataframe 203BIS successfully save in database app-wsr-dev in MongoDB. Time: --- 0.3423576354980469 secnds ---\n"
     ]
    }
   ],
   "source": [
    "#Stories - Market winners / market losers\n",
    "def domain_203bis(df,domain_num):\n",
    "    #-- Get market winners and market losers\n",
    "    df=df[~df['UNIT_VALUE'].isin([' KRW',' CNY'])]\n",
    "    limit = 7\n",
    "    domain = pd.DataFrame()\n",
    "    all_dates = df[['DATE_ORDER','GROUPS']].sort_values(by=['DATE_ORDER'], ascending=False).drop_duplicates().values.tolist()\n",
    "    for d in all_dates: \n",
    "        date=d[0]\n",
    "        groups=d[1]\n",
    "        #Filter on date\n",
    "        tmp_df = df[(df['DATE_ORDER'] == date) & (df['GROUPS'] == groups)]\n",
    "        \n",
    "        #Get winner, sort var. in % descending\n",
    "        df_winner= tmp_df[tmp_df['VARP'] > 0].sort_values(by='VARP',ascending=False)[:limit]\n",
    "        df_winner['PACKS'] = 'MARKET WINNERS'\n",
    "        \n",
    "        #Get losers, sort var. in % ascending\n",
    "        df_loser= tmp_df[tmp_df['VARP'] < 0].sort_values(by='VARP',ascending=True)[:limit]\n",
    "        df_loser['PACKS'] = 'MARKET LOSERS'\n",
    "        \n",
    "        #Append domain\n",
    "        domain = domain.append(df_winner).append(df_loser)\n",
    "        \n",
    "    #-- Create DF for Toucan\n",
    "    domain = pd.DataFrame({\n",
    "        'ENTITY': 'WORLDWIDE',\n",
    "        'DATE_ORDER': domain['DATE_ORDER'],\n",
    "        'LABEL': domain['LABEL'],\n",
    "        'GROUPS': domain['GROUPS'],\n",
    "        'SETTING': domain['SETTING'],\n",
    "        'PACKS': domain['PACKS'],\n",
    "        'VALUE': domain['VALUE'],\n",
    "        'VAR': domain['VAR'],\n",
    "        'VARP': domain['VARP'],\n",
    "        'UNIT_VALUE': domain['UNIT_VALUE'],\n",
    "        'UNIT_VARP': domain['UNIT_VARP'],\n",
    "        'LAST_UPDATE': datetime.now().strftime('%d/%m/%Y %H:%M:%S'),\n",
    "    })      \n",
    "    \n",
    "    #Save dataframe\n",
    "    domain.to_csv(output_folder + domain_num + '.csv', sep=';')\n",
    "    bob.mongo.save_df(domain,domain_num,db_app,True)\n",
    "    df_collection = MongoDB[db_app][domain_num]\n",
    "    df_collection.create_index([(\"DATE_ORDER\", DESCENDING), (\"PACKS\", DESCENDING)])\n",
    "    \n",
    "    return domain\n",
    "\n",
    "domain203allbis = get_all(db_all,db_all_ml,'EQUITIES')\n",
    "domain203bis = domain_203bis(domain203allbis,'203BIS')\n",
    "# domain203bis"
   ]
  },
  {
   "cell_type": "code",
   "execution_count": 11,
   "metadata": {},
   "outputs": [
    {
     "name": "stdout",
     "output_type": "stream",
     "text": [
      "Dataframe 204BIS successfully save in database app-wsr-dev in MongoDB. Time: --- 7.942807197570801 secnds ---\n"
     ]
    }
   ],
   "source": [
    "#-- Commodities\n",
    "#Data source\n",
    "def domain_204bis(df,domain_num):    \n",
    "    #Create df for all categories\n",
    "    df['PACKS'] = df['META']\n",
    "    \n",
    "    df_all = df.copy()\n",
    "    df_all['META'] = ' All categories'\n",
    "    domain = pd.concat([df,df_all])\n",
    "\n",
    "    #Save to mongo\n",
    "    domain.to_csv(output_folder + domain_num + '.csv', sep=';')\n",
    "    bob.mongo.save_df(domain,domain_num,db_app,True)\n",
    "    df_collection = MongoDB[db_app][domain_num]\n",
    "    df_collection.create_index([(\"SCENARIO\", DESCENDING)])\n",
    "    df_collection.create_index([(\"LABEL\", ASCENDING)])\n",
    "    df_collection.create_index([(\"META\", ASCENDING)])\n",
    "    return domain\n",
    "\n",
    "domain204bis = get_all(db_all,db_all_ml,'COMMODITIES')\n",
    "domain204bis = domain_204bis(domain204bis,'204BIS')\n",
    "# domain204bis"
   ]
  },
  {
   "cell_type": "code",
   "execution_count": 12,
   "metadata": {},
   "outputs": [],
   "source": [
    "def max_date(df,domain_num):\n",
    "    #get max date for each ticker\n",
    "    df = df[df['GROUPS'] == 'ACTUAL']\n",
    "    domain = pd.DataFrame()\n",
    "    \n",
    "    tickers = df['LABEL'].drop_duplicates().sort_values(ascending=True).values.tolist()\n",
    "#     print(tickers)\n",
    "    for ticker in tickers:\n",
    "#         print(ticker)\n",
    "        tmp_df = df[df['LABEL'] == ticker]\n",
    "        max_df = tmp_df['DATE_ORDER'].max()\n",
    "#         print(max_df)\n",
    "        tmp_df = tmp_df[tmp_df['DATE_ORDER'] == max_df]\n",
    "        domain = domain.append(tmp_df)\n",
    "        \n",
    "    #Save to mongo\n",
    "    domain.to_csv(output_folder + domain_num + '.csv', sep=';')\n",
    "    bob.mongo.save_df(domain,domain_num,db_app,True)\n",
    "    df_collection = MongoDB[db_app][domain_num]\n",
    "    df_collection.create_index([(\"SCENARIO\", DESCENDING)])\n",
    "    df_collection.create_index([(\"LABEL\", ASCENDING)])\n",
    "    return domain"
   ]
  },
  {
   "cell_type": "code",
   "execution_count": 13,
   "metadata": {},
   "outputs": [
    {
     "name": "stdout",
     "output_type": "stream",
     "text": [
      "Dataframe 021 successfully save in database app-wsr-dev in MongoDB. Time: --- 0.02323293685913086 secnds ---\n"
     ]
    }
   ],
   "source": [
    "#-- Indice Performance (Widget)\n",
    "domain021 = max_date(domain201bis,'021')\n",
    "# domain021"
   ]
  },
  {
   "cell_type": "code",
   "execution_count": 14,
   "metadata": {},
   "outputs": [
    {
     "name": "stdout",
     "output_type": "stream",
     "text": [
      "Dataframe 022 successfully save in database app-wsr-dev in MongoDB. Time: --- 0.022048234939575195 secnds ---\n"
     ]
    }
   ],
   "source": [
    "#-- Major Currencies\n",
    "domain022 = max_date(domain202bis,'022')\n",
    "# domain022"
   ]
  },
  {
   "cell_type": "code",
   "execution_count": 15,
   "metadata": {},
   "outputs": [
    {
     "name": "stdout",
     "output_type": "stream",
     "text": [
      "Dataframe 023 successfully save in database app-wsr-dev in MongoDB. Time: --- 0.03186368942260742 secnds ---\n"
     ]
    }
   ],
   "source": [
    "#-- Equities\n",
    "domain023 = max_date(domain203allbis,'023')\n",
    "# domain023"
   ]
  },
  {
   "cell_type": "code",
   "execution_count": 16,
   "metadata": {},
   "outputs": [
    {
     "name": "stdout",
     "output_type": "stream",
     "text": [
      "Dataframe 024 successfully save in database app-wsr-dev in MongoDB. Time: --- 0.02780914306640625 secnds ---\n"
     ]
    }
   ],
   "source": [
    "#-- Commodities\n",
    "domain024 = max_date(domain204bis,'024')\n",
    "# domain024"
   ]
  },
  {
   "cell_type": "code",
   "execution_count": 17,
   "metadata": {},
   "outputs": [],
   "source": [
    "#-- Data source\n",
    "# ACTUAL\n",
    "db_trend = bob.mongo.read_df('DB_TREND','yahoo')\n",
    "\n",
    "# ML\n",
    "db_trend_ml = bob.mongo.read_df('DB_TREND_ML','yahoo')\n",
    "db_trend_ml.to_csv(output_folder +'DB_TREND_ML.csv', sep=';')"
   ]
  },
  {
   "cell_type": "code",
   "execution_count": 18,
   "metadata": {},
   "outputs": [],
   "source": [
    "#-- Transform yahoo finance data DB_TREND\n",
    "def get_trend(df,df_ml,variable):\n",
    "    domain = df.copy()[df['TYPE'] == variable]\n",
    "    domain_ac = pd.DataFrame({\n",
    "        'ENTITY': 'WORLDWIDE',\n",
    "        'DATE': domain['DATE'],\n",
    "        'DATE_ORDER': domain['DATE_ORDER'],\n",
    "        'LABEL': domain['LABEL'],\n",
    "        'GROUPS': 'ACTUAL',\n",
    "        'BOTTOM_FILTER': domain['DATE_SCENARIO'],\n",
    "        'UPPER_FILTER_M': domain['METRIC'],\n",
    "        'UPPER_FILTER_R': \"w/o ML\",\n",
    "        'VALUE': domain['VALUE'],\n",
    "        'UNIT_VALUE': domain['UNIT'],\n",
    "        'PRECISION': domain['PRECISION'],\n",
    "        'OPEN': domain['OPEN'],\n",
    "        'HIGH': domain['HIGH'],\n",
    "        'LOW': domain['LOW'],\n",
    "        'CLOSE': domain['CLOSE'],\n",
    "        'VOLUME': domain['VOLUME'],\n",
    "        'META': domain['META'],\n",
    "        'META1': domain['META1'],\n",
    "        'META2': domain['META2'],\n",
    "    })\n",
    "    \n",
    "    domain = df_ml.copy()[(df_ml['TYPE'] == variable) & (df_ml['ML'] != 'ACTUAL')]\n",
    "    domain_ml = pd.DataFrame({\n",
    "        'ENTITY': 'WORLDWIDE',\n",
    "        'DATE': domain['DATE'],\n",
    "        'DATE_ORDER': domain['DATE_ORDER'],\n",
    "        'LABEL': domain['LABEL'],\n",
    "        'GROUPS':  domain['ML'],\n",
    "        'BOTTOM_FILTER': domain['DATE_SCENARIO'],\n",
    "        'UPPER_FILTER_M': domain['METRIC'],\n",
    "        'UPPER_FILTER_R': \"with ML\",\n",
    "        'VALUE': domain['VALUE'],\n",
    "        'UNIT_VALUE': domain['UNIT'],\n",
    "        'PRECISION': domain['PRECISION'],\n",
    "        'META': domain['META'],\n",
    "        'META1': domain['META1'],\n",
    "        'META2': domain['META2'],\n",
    "    })\n",
    "    \n",
    "    domain_ml2 = domain_ac.copy()\n",
    "    domain_ml2['UPPER_FILTER_R'] = \"with ML\"\n",
    "    \n",
    "    domain = pd.concat([domain_ac,domain_ml,domain_ml2], axis=0).reset_index(drop=True)\n",
    "    domain['LAST_UPDATE']=datetime.now().strftime('%d/%m/%Y %H:%M:%S')\n",
    "    return domain"
   ]
  },
  {
   "cell_type": "code",
   "execution_count": 19,
   "metadata": {},
   "outputs": [],
   "source": [
    "def save_df(domain,domain_num):\n",
    "    #Save dataframe\n",
    "    domain.to_csv(output_folder + domain_num + '.csv', sep=';')\n",
    "    bob.mongo.save_df(domain,domain_num,db_app,True)\n",
    "    df_collection = MongoDB[db_app][domain_num]\n",
    "    df_collection.create_index([(\"LABEL\", ASCENDING),(\"BOTTOM_FILTER\", DESCENDING),(\"UPPER_FILTER_M\", DESCENDING),(\"UPPER_FILTER_R\", DESCENDING)])\n",
    "    return domain"
   ]
  },
  {
   "cell_type": "code",
   "execution_count": 20,
   "metadata": {},
   "outputs": [
    {
     "name": "stdout",
     "output_type": "stream",
     "text": [
      "Dataframe 201 successfully save in database app-wsr-dev in MongoDB. Time: --- 23.351306915283203 secnds ---\n"
     ]
    }
   ],
   "source": [
    "#-- Economy - Indice\n",
    "domain201 = save_df(get_trend(db_trend, db_trend_ml,'INDICES'),'201')\n",
    "# domain201"
   ]
  },
  {
   "cell_type": "code",
   "execution_count": 21,
   "metadata": {},
   "outputs": [
    {
     "name": "stdout",
     "output_type": "stream",
     "text": [
      "Dataframe 202 successfully save in database app-wsr-dev in MongoDB. Time: --- 20.78868532180786 secnds ---\n",
      "Dataframe 202_UPPER_FILTER successfully save in database app-wsr-dev in MongoDB. Time: --- 0.019428491592407227 secnds ---\n"
     ]
    }
   ],
   "source": [
    "#-- Economy - Currencies\n",
    "domain202 = save_df(get_trend(db_trend, db_trend_ml, 'CURRENCIES'),'202')\n",
    "# domain202\n",
    "\n",
    "upper_filter_202 = domain202[['META','LABEL']].drop_duplicates().sort_values(by=['META','LABEL'],ascending=True).reset_index(drop=True)\n",
    "bob.mongo.save_df(upper_filter_202,'202_UPPER_FILTER',db_app,True)"
   ]
  },
  {
   "cell_type": "code",
   "execution_count": 22,
   "metadata": {},
   "outputs": [
    {
     "name": "stdout",
     "output_type": "stream",
     "text": [
      "Dataframe 203 successfully save in database app-wsr-dev in MongoDB. Time: --- 49.10305738449097 secnds ---\n",
      "Dataframe 203_UPPER_FILTER successfully save in database app-wsr-dev in MongoDB. Time: --- 0.02235126495361328 secnds ---\n"
     ]
    }
   ],
   "source": [
    "#-- Economy - Equities\n",
    "domain203 = save_df(get_trend(db_trend, db_trend_ml, 'EQUITIES'),'203')\n",
    "# domain203\n",
    "\n",
    "#Save upper filter\n",
    "upper_filter = domain203[['META','LABEL']].drop_duplicates()\n",
    "\n",
    "upper_filter_all = upper_filter.copy()\n",
    "upper_filter_all['META'] = ' All sectors'\n",
    "\n",
    "upper_filter_203 = pd.concat([upper_filter,upper_filter_all], axis=0).sort_values(by=['META','LABEL'],ascending=True).reset_index(drop=True)\n",
    "bob.mongo.save_df(upper_filter_203,'203_UPPER_FILTER',db_app,True)\n",
    "# upper_filter_203"
   ]
  },
  {
   "cell_type": "code",
   "execution_count": 23,
   "metadata": {},
   "outputs": [
    {
     "name": "stdout",
     "output_type": "stream",
     "text": [
      "Dataframe 204 successfully save in database app-wsr-dev in MongoDB. Time: --- 17.575907707214355 secnds ---\n",
      "Dataframe 204_UPPER_FILTER successfully save in database app-wsr-dev in MongoDB. Time: --- 0.026545047760009766 secnds ---\n"
     ]
    }
   ],
   "source": [
    "#-- Economy - Commodities\n",
    "domain204 = save_df(get_trend(db_trend, db_trend_ml, 'COMMODITIES'),'204')\n",
    "# domain204\n",
    "\n",
    "#Save upper filter\n",
    "upper_filter = domain204[['META','LABEL']].drop_duplicates()\n",
    "\n",
    "upper_filter_all = upper_filter.copy()\n",
    "upper_filter_all['META'] = ' All categories'\n",
    "\n",
    "upper_filter_204 = pd.concat([upper_filter,upper_filter_all], axis=0).sort_values(by=['META','LABEL'],ascending=True).reset_index(drop=True)\n",
    "bob.mongo.save_df(upper_filter_204,'204_UPPER_FILTER',db_app,True)"
   ]
  },
  {
   "cell_type": "code",
   "execution_count": 24,
   "metadata": {},
   "outputs": [
    {
     "name": "stdout",
     "output_type": "stream",
     "text": [
      "End ==> send to https://health.cashstory.com/ping/bfc41c24-d278-4bc8-8d95-767e5da44f59, 2020-04-15\n"
     ]
    }
   ],
   "source": [
    "done = hc.done(hc_key)\n",
    "print(done)"
   ]
  }
 ],
 "metadata": {
  "kernelspec": {
   "display_name": "Python 3",
   "language": "python",
   "name": "python3"
  },
  "language_info": {
   "codemirror_mode": {
    "name": "ipython",
    "version": 3
   },
   "file_extension": ".py",
   "mimetype": "text/x-python",
   "name": "python",
   "nbconvert_exporter": "python",
   "pygments_lexer": "ipython3",
   "version": "3.7.6"
  }
 },
 "nbformat": 4,
 "nbformat_minor": 4
}
