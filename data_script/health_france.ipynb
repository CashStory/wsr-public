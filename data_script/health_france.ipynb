{
 "cells": [
  {
   "cell_type": "code",
   "execution_count": null,
   "metadata": {},
   "outputs": [],
   "source": [
    "# bob.refresh {\"cron\": \"10,35 8,11,19,21 * * *\", \"timeout\": 40000}"
   ]
  },
  {
   "cell_type": "code",
   "execution_count": null,
   "metadata": {},
   "outputs": [],
   "source": [
    "%run __init__.ipynb"
   ]
  },
  {
   "cell_type": "code",
   "execution_count": null,
   "metadata": {},
   "outputs": [],
   "source": [
    "BHC = bob.HealthCheck()\n",
    "BHC_KEY = \"99c0c879-0fe1-45c5-b5a6-95f0c2b1b203\"\n",
    "if USE_HEALTHCHECKS:\n",
    "    STEP_1 = BHC.start(BHC_KEY)\n",
    "    print(STEP_1)"
   ]
  },
  {
   "cell_type": "code",
   "execution_count": null,
   "metadata": {},
   "outputs": [],
   "source": [
    "# --- Covid-19 France data updated everyday at 19:00PM\n",
    "%run \"covid-19_france.ipynb\""
   ]
  },
  {
   "cell_type": "code",
   "execution_count": null,
   "metadata": {},
   "outputs": [],
   "source": [
    "# --- Load data source\n",
    "START_TIME = time.time()\n",
    "DB_ALL_FR = get_datasource('FRANCE_DB_ALL')\n",
    "DB_TREND_FR = get_datasource('FRANCE_DB_TREND')\n",
    "print(\"Script execution completed at \"\n",
    "      f\"{datetime.now().strftime('%d/%m/%Y %H:%M:%S')}. \"\n",
    "      f\"Time: --- {time.time() - START_TIME} secnds ---\")"
   ]
  },
  {
   "cell_type": "code",
   "execution_count": null,
   "metadata": {},
   "outputs": [],
   "source": [
    "# -- Covid-19 - DATA.GOUV.FR TENDANCES\n",
    "START_TIME = time.time()\n",
    "\n",
    "\n",
    "def domain_105(dataf, domain_num):\n",
    "    \"\"\"\n",
    "    doc string\n",
    "    \"\"\"\n",
    "    # -- Create Datamodel\n",
    "    domain = dataf.copy()\n",
    "    domain = pd.DataFrame({'ENTITY': 'France',\n",
    "                           'SCENARIO': domain['SCENARIO'],\n",
    "                           'GROUPS': domain['STATUS_NAME'],\n",
    "                           'GROUPS_ORDER': domain['STATUS_ORDER'],\n",
    "                           'DATE_ORDER': domain['DATE_ORDER'],\n",
    "                           'BOTTOM_FILTER': 'Depuis le début',\n",
    "                           'UPPER_FILTER_M': domain['METRIC'],\n",
    "                           'UPPER_FILTER_R': domain['LABEL'],\n",
    "                           'LABEL_GROUPS': domain['LABEL_GROUPS'],\n",
    "                           'VALUE': domain['VALUE'],\n",
    "                           'UNIT_VALUE': domain['UNIT'],\n",
    "                           'PRECISION': domain['PRECISION']})\n",
    "\n",
    "    # -- Rename upper filter\n",
    "    domain.loc[domain['UPPER_FILTER_M'] == 'VALUE',\n",
    "               'UPPER_FILTER_M'] = 'EVOLUTION'\n",
    "    domain.loc[domain['UPPER_FILTER_M'] == 'VARV',\n",
    "               'UPPER_FILTER_M'] = 'VARIATION EN NB'\n",
    "    domain.loc[domain['UPPER_FILTER_M'] == 'VARP',\n",
    "               'UPPER_FILTER_M'] = 'VARIATION EN %'\n",
    "\n",
    "    # -- Create new date scenario in BOTTOM_FILTER\n",
    "    df1 = get_lastdays(domain, 15, \"15 derniers jours\", 'BOTTOM_FILTER')\n",
    "    domain = pd.concat([domain, df1], axis=0)\n",
    "\n",
    "    # -- Filter upperfilter value to get France and detailed by region\n",
    "    domain_dep = domain[domain['LABEL_GROUPS'] != 'France']\n",
    "    domain_fra = domain[domain['UPPER_FILTER_R'] == 'France']\n",
    "    domain = pd.concat([domain_dep, domain_fra], axis=0)\n",
    "\n",
    "    # -- Reset indexes & save domain\n",
    "    domain = domain.reset_index(drop=True)\n",
    "    domain['LAST_UPDATE'] = datetime.now().strftime('%d/%m/%Y %H:%M:%S')\n",
    "    domain.to_csv(os.path.join(OUTPUT_FOLDER, domain_num + '.csv'), sep=';')\n",
    "    if USE_MONGO:\n",
    "        bob.mongo.save_df(domain, domain_num, DB_APP, True)\n",
    "\n",
    "    # -- Create upper filter domain\n",
    "    upper_filter = (domain[['UPPER_FILTER_R']].\n",
    "                    drop_duplicates().\n",
    "                    sort_values(by='UPPER_FILTER_R', ascending=True).\n",
    "                    reset_index(drop=True))\n",
    "    upper_filter['ORDER'] = upper_filter.index + 1\n",
    "    upper_filter.loc[upper_filter['UPPER_FILTER_R'] == 'France', 'ORDER'] = 0\n",
    "    upper_filter = upper_filter.sort_values(by='ORDER', ascending=True)\n",
    "    upper_filter.to_csv(os.path.join(OUTPUT_FOLDER,\n",
    "                                     '105_UPPER_FILTER.csv'), sep=';')\n",
    "    if USE_MONGO:\n",
    "        bob.mongo.save_df(upper_filter, '105_UPPER_FILTER', DB_APP, True)\n",
    "    return domain\n",
    "\n",
    "\n",
    "DOMAIN105 = domain_105(DB_TREND_FR, '105')\n",
    "print(\"Script execution completed at \"\n",
    "      f\"{datetime.now().strftime('%d/%m/%Y %H:%M:%S')}. \"\n",
    "      f\"Time: --- {time.time() - START_TIME} secnds ---\")\n",
    "DOMAIN105"
   ]
  },
  {
   "cell_type": "code",
   "execution_count": null,
   "metadata": {},
   "outputs": [],
   "source": [
    "# -- Covid-19 - DATA.GOUV.FR CLASSEMENT\n",
    "START_TIME = time.time()\n",
    "\n",
    "\n",
    "def domain_107(dataf, domain_num):\n",
    "    \"\"\"\n",
    "    doc string\n",
    "    \"\"\"\n",
    "    domain = dataf.copy()\n",
    "    domain = pd.DataFrame({'ENTITY': 'France',\n",
    "                           'SCENARIO': domain['SCENARIO'],\n",
    "                           'DATE_ORDER': domain['DATE_ORDER'],\n",
    "                           'CHILD': domain['LABEL'],\n",
    "                           'PARENT': domain['LABEL_GROUPS'],\n",
    "                           'UPPER_FILTER_M': domain['STATUS_NAME'],\n",
    "                           'ORDER': domain['STATUS_ORDER'],\n",
    "                           'VALUE': domain['VALUE'],\n",
    "                           'VAR': domain['VARV'],\n",
    "                           'VARP': domain['VARP'],\n",
    "                           'UNIT_VARP': ' %',\n",
    "                           'PRECISION_VALUE': ',.0f',\n",
    "                           'PRECISION_VAR': '+,.0f',\n",
    "                           'PRECISION_VARP': '+,.2f'})\n",
    "\n",
    "    domain.loc[domain['PARENT'] == 'France', 'PARENT'] = 'root'\n",
    "\n",
    "    # -- Reset indexes & save domain\n",
    "    domain = domain.reset_index(drop=True)\n",
    "    domain['LAST_UPDATE'] = datetime.now().strftime('%d/%m/%Y %H:%M:%S')\n",
    "    domain.to_csv(os.path.join(OUTPUT_FOLDER, domain_num + '.csv'), sep=';')\n",
    "    if USE_MONGO:\n",
    "        bob.mongo.save_df(domain, domain_num, DB_APP, True)\n",
    "    return domain\n",
    "\n",
    "\n",
    "DOMAIN107 = domain_107(DB_ALL_FR, '107')\n",
    "print(\"Script execution completed at \"\n",
    "      f\"{datetime.now().strftime('%d/%m/%Y %H:%M:%S')}. \"\n",
    "      f\"Time: --- {time.time() - START_TIME} secnds ---\")\n",
    "DOMAIN107"
   ]
  },
  {
   "cell_type": "code",
   "execution_count": null,
   "metadata": {},
   "outputs": [],
   "source": [
    "if USE_HEALTHCHECKS:\n",
    "    STEP_2 = BHC.done(BHC_KEY)\n",
    "    print(STEP_2)"
   ]
  }
 ],
 "metadata": {
  "kernelspec": {
   "display_name": "Python 3",
   "language": "python",
   "name": "python3"
  },
  "language_info": {
   "codemirror_mode": {
    "name": "ipython",
    "version": 3
   },
   "file_extension": ".py",
   "mimetype": "text/x-python",
   "name": "python",
   "nbconvert_exporter": "python",
   "pygments_lexer": "ipython3",
   "version": "3.7.3"
  }
 },
 "nbformat": 4,
 "nbformat_minor": 4
}
