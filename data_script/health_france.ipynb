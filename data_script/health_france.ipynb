{
 "cells": [
  {
   "cell_type": "code",
   "execution_count": 1,
   "metadata": {},
   "outputs": [],
   "source": [
    "# bob.refresh {\"cron\": \"10,35 8,11,19,21 * * *\", \"timeout\": 40000}"
   ]
  },
  {
   "cell_type": "code",
   "execution_count": 2,
   "metadata": {},
   "outputs": [
    {
     "name": "stdout",
     "output_type": "stream",
     "text": [
      "Requirement already satisfied: xlsxwriter in /home/ftp/.local/lib/python3.7/site-packages (1.2.9)\n",
      "Successfully connected to MongoDB\n"
     ]
    }
   ],
   "source": [
    "%run __init__.ipynb"
   ]
  },
  {
   "cell_type": "code",
   "execution_count": 3,
   "metadata": {},
   "outputs": [
    {
     "name": "stdout",
     "output_type": "stream",
     "text": [
      "HealthCheck init in prod mode\n",
      "Start ==> send to https://health.cashstory.com/ping/99c0c879-0fe1-45c5-b5a6-95f0c2b1b203, 2020-06-12\n"
     ]
    }
   ],
   "source": [
    "hc = bob.HealthCheck()\n",
    "hc_key = \"99c0c879-0fe1-45c5-b5a6-95f0c2b1b203\"\n",
    "if USE_HEALTHCHECKS:\n",
    "    step_1 = hc.start(hc_key)\n",
    "    print(step_1)"
   ]
  },
  {
   "cell_type": "code",
   "execution_count": 4,
   "metadata": {},
   "outputs": [
    {
     "name": "stdout",
     "output_type": "stream",
     "text": [
      "FRANCE_INIT successfully saved in FRANCE_INIT\n",
      "Dataframe FRANCE_INIT successfully save in database covid-19 in MongoDB. Time: --- 0.910222053527832 secnds ---\n",
      "CPU times: user 811 ms, sys: 37.6 ms, total: 849 ms\n",
      "Wall time: 1.97 s\n",
      "FRANCE_DB_CONCAT successfully saved in FRANCE_DB_CONCAT\n",
      "Dataframe FRANCE_DB_CONCAT successfully save in database covid-19 in MongoDB. Time: --- 0.8792746067047119 secnds ---\n",
      "CPU times: user 761 ms, sys: 41.5 ms, total: 803 ms\n",
      "Wall time: 988 ms\n",
      "FRANCE_DB_CONSO successfully saved in FRANCE_DB_CONSO\n",
      "Dataframe FRANCE_DB_CONSO successfully save in database covid-19 in MongoDB. Time: --- 32.30619525909424 secnds ---\n",
      "CPU times: user 15 s, sys: 2.04 s, total: 17.1 s\n",
      "Wall time: 32.6 s\n",
      "FRANCE_DB_ALL successfully saved in FRANCE_DB_ALL\n",
      "Dataframe FRANCE_DB_ALL successfully save in database covid-19 in MongoDB. Time: --- 32.09176731109619 secnds ---\n",
      "CPU times: user 17 s, sys: 2.01 s, total: 19 s\n",
      "Wall time: 33.5 s\n",
      "FRANCE_DB_TREND successfully saved in FRANCE_DB_TREND\n",
      "Dataframe FRANCE_DB_TREND successfully save in database covid-19 in MongoDB. Time: --- 33.46599769592285 secnds ---\n",
      "CPU times: user 17.6 s, sys: 2.23 s, total: 19.9 s\n",
      "Wall time: 35.1 s\n"
     ]
    }
   ],
   "source": [
    "#--- Covid-19 France data updated everyday at 19:00PM\n",
    "%run \"covid-19_france.ipynb\""
   ]
  },
  {
   "cell_type": "code",
   "execution_count": 5,
   "metadata": {},
   "outputs": [
    {
     "name": "stdout",
     "output_type": "stream",
     "text": [
      "CPU times: user 252 ms, sys: 70.7 ms, total: 323 ms\n",
      "Wall time: 330 ms\n"
     ]
    }
   ],
   "source": [
    "%%time\n",
    "\n",
    "#--- Load data source\n",
    "db_all_fr = get_datasource('FRANCE_DB_ALL')\n",
    "db_trend_fr = get_datasource('FRANCE_DB_TREND')"
   ]
  },
  {
   "cell_type": "code",
   "execution_count": 6,
   "metadata": {},
   "outputs": [
    {
     "name": "stdout",
     "output_type": "stream",
     "text": [
      "105 successfully saved in 105\n",
      "Dataframe 105 successfully save in database app-wsr in MongoDB. Time: --- 21.107834815979004 secnds ---\n",
      "105_UPPER_FILTER successfully saved in 105_UPPER_FILTER\n",
      "Dataframe 105_UPPER_FILTER successfully save in database app-wsr in MongoDB. Time: --- 0.024575233459472656 secnds ---\n",
      "CPU times: user 13.6 s, sys: 1.19 s, total: 14.8 s\n",
      "Wall time: 22.5 s\n"
     ]
    }
   ],
   "source": [
    "%%time\n",
    "\n",
    "#-- Covid-19 - DATA.GOUV.FR TENDANCES\n",
    "def domain_105(df,domain_num):\n",
    "    #-- Create Datamodel\n",
    "    domain = df.copy()\n",
    "    domain = pd.DataFrame({\n",
    "        'ENTITY': 'France',\n",
    "        'SCENARIO': domain['SCENARIO'],\n",
    "        'GROUPS': domain['STATUS_NAME'],\n",
    "        'GROUPS_ORDER': domain['STATUS_ORDER'],\n",
    "        'DATE_ORDER': domain['DATE_ORDER'],\n",
    "        'BOTTOM_FILTER': 'Depuis le début',\n",
    "        'UPPER_FILTER_M': domain['METRIC'],\n",
    "        'UPPER_FILTER_R': domain['LABEL'],\n",
    "        'LABEL_GROUPS': domain['LABEL_GROUPS'],\n",
    "        'VALUE': domain['VALUE'],\n",
    "        'UNIT_VALUE': domain['UNIT'],\n",
    "        'PRECISION': domain['PRECISION'],\n",
    "    })\n",
    "    \n",
    "    #-- Rename upper filter\n",
    "    domain.loc[domain['UPPER_FILTER_M'] == 'VALUE','UPPER_FILTER_M'] = 'EVOLUTION'\n",
    "    domain.loc[domain['UPPER_FILTER_M'] == 'VARV','UPPER_FILTER_M'] = 'VARIATION EN NB'\n",
    "    domain.loc[domain['UPPER_FILTER_M'] == 'VARP','UPPER_FILTER_M'] = 'VARIATION EN %'\n",
    "    \n",
    "    #-- Create new date scenario in BOTTOM_FILTER\n",
    "    df1 = get_lastdays(domain, 15,\"15 derniers jours\",'BOTTOM_FILTER')\n",
    "    domain = pd.concat([domain,df1],axis=0)\n",
    "    \n",
    "    #-- Filter upperfilter value to get France and detailed by region\n",
    "    domain_dep = domain[domain['LABEL_GROUPS'] != 'France']\n",
    "    domain_fra = domain[domain['UPPER_FILTER_R'] == 'France']\n",
    "    domain = pd.concat([domain_dep,domain_fra],axis=0)\n",
    "    \n",
    "    #-- Reset indexes & save domain\n",
    "    domain = domain.reset_index(drop=True)\n",
    "    domain['LAST_UPDATE']= datetime.now().strftime('%d/%m/%Y %H:%M:%S')\n",
    "    df_save(domain,domain_num,'csv')\n",
    "    if USE_MONGO:\n",
    "        bob.mongo.save_df(domain,domain_num,DB_APP,True)\n",
    "    \n",
    "    #-- Create upper filter domain\n",
    "    upper_filter = domain[['UPPER_FILTER_R']].drop_duplicates().sort_values(by='UPPER_FILTER_R', ascending=True).reset_index(drop=True)\n",
    "    upper_filter['ORDER'] = upper_filter.index + 1\n",
    "    upper_filter.loc[upper_filter['UPPER_FILTER_R'] == 'France', 'ORDER'] = 0\n",
    "    upper_filter = upper_filter.sort_values(by='ORDER',ascending=True)\n",
    "    df_save(upper_filter,'105_UPPER_FILTER','csv')\n",
    "    if USE_MONGO:\n",
    "        bob.mongo.save_df(upper_filter,'105_UPPER_FILTER',DB_APP,True)\n",
    "    return domain\n",
    "\n",
    "domain105 = domain_105(db_trend_fr,'105')\n",
    "# domain105"
   ]
  },
  {
   "cell_type": "code",
   "execution_count": 7,
   "metadata": {},
   "outputs": [
    {
     "name": "stdout",
     "output_type": "stream",
     "text": [
      "107 successfully saved in 107\n",
      "Dataframe 107 successfully save in database app-wsr in MongoDB. Time: --- 18.981517553329468 secnds ---\n",
      "CPU times: user 9.69 s, sys: 1.08 s, total: 10.8 s\n",
      "Wall time: 19.3 s\n"
     ]
    }
   ],
   "source": [
    "%%time\n",
    "\n",
    "#-- Covid-19 - DATA.GOUV.FR CLASSEMENT\n",
    "def domain_107(df,domain_num):\n",
    "    domain = df.copy()\n",
    "    domain = pd.DataFrame({\n",
    "        'ENTITY': 'France',\n",
    "        'SCENARIO': domain['SCENARIO'],\n",
    "        'DATE_ORDER': domain['DATE_ORDER'],\n",
    "        'CHILD': domain['LABEL'],\n",
    "        'PARENT': domain['LABEL_GROUPS'],\n",
    "        'UPPER_FILTER_M': domain['STATUS_NAME'],\n",
    "        'ORDER':domain['STATUS_ORDER'],\n",
    "        'VALUE': domain['VALUE'],\n",
    "        'VAR': domain['VARV'],\n",
    "        'VARP': domain['VARP'],\n",
    "        'UNIT_VARP': ' %',\n",
    "        'PRECISION_VALUE': ',.0f',\n",
    "        'PRECISION_VAR': '+,.0f',\n",
    "        'PRECISION_VARP': '+,.2f',\n",
    "    })\n",
    "    \n",
    "    domain.loc[domain['PARENT'] == 'France', 'PARENT'] = 'root'\n",
    "    \n",
    "    #-- Reset indexes & save domain\n",
    "    domain = domain.reset_index(drop=True)\n",
    "    domain['LAST_UPDATE']= datetime.now().strftime('%d/%m/%Y %H:%M:%S')\n",
    "    df_save(domain,domain_num,'csv')\n",
    "    if USE_MONGO:\n",
    "        bob.mongo.save_df(domain,domain_num,DB_APP,True)\n",
    "    return domain\n",
    "\n",
    "domain107 = domain_107(db_all_fr,'107')\n",
    "# domain107"
   ]
  },
  {
   "cell_type": "code",
   "execution_count": 8,
   "metadata": {},
   "outputs": [
    {
     "name": "stdout",
     "output_type": "stream",
     "text": [
      "Done ==> send to https://health.cashstory.com/ping/99c0c879-0fe1-45c5-b5a6-95f0c2b1b203, 2020-06-12\n"
     ]
    }
   ],
   "source": [
    "if USE_HEALTHCHECKS:\n",
    "    step_2 = hc.done(hc_key)\n",
    "    print(step_2)"
   ]
  }
 ],
 "metadata": {
  "kernelspec": {
   "display_name": "Python 3",
   "language": "python",
   "name": "python3"
  },
  "language_info": {
   "codemirror_mode": {
    "name": "ipython",
    "version": 3
   },
   "file_extension": ".py",
   "mimetype": "text/x-python",
   "name": "python",
   "nbconvert_exporter": "python",
   "pygments_lexer": "ipython3",
   "version": "3.7.6"
  }
 },
 "nbformat": 4,
 "nbformat_minor": 4
}
