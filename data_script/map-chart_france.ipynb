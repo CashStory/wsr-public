{
 "cells": [
  {
   "cell_type": "code",
   "execution_count": 1,
   "metadata": {},
   "outputs": [],
   "source": [
    "# bob.refresh {\"cron\": \"10,35 8,11,19,21 * * *\", \"timeout\": 40000}\n",
    "# bob.static {\"token\": \"4622c4cc3822f6c1164cadbd53ed0d1230fb0a562d7c6bc824116cd82a78\", \"path\": \"/home/ftp/ftp/dev/wsr-public/data_output/France_HOSP_DEP_NAME.html\", \"filename\": \"../data_output/France_HOSP_DEP_NAME.html\"}\n",
    "# bob.static {\"token\": \"24e8978d3f09f857f81ed59d08c2b01a98e7eb0a95b85d985158b449bf0a\", \"path\": \"/home/ftp/ftp/dev/wsr-public/data_output/France_REA_DEP_NAME.html\", \"filename\": \"../data_output/France_REA_DEP_NAME.html\"} \n",
    "# bob.static {\"token\": \"83596ba6c97aa043e1994c93e4fc49354cd31842c2f83d66da0ce9dc314f\", \"path\": \"/home/ftp/ftp/dev/wsr-public/data_output/France_DC_DEP_NAME.html\", \"filename\": \"../data_output/France_DC_DEP_NAME.html\"} \n",
    "# bob.static {\"token\": \"09e1f0c28332e7b570cb13fe66def2187a457697a9a54921c96cfb2f76fd\", \"path\": \"/home/ftp/ftp/dev/wsr-public/data_output/France_RAD_DEP_NAME.html\", \"filename\": \"../data_output/France_RAD_DEP_NAME.html\"} \n",
    "\n",
    "# bob.static {\"token\": \"113a1888cfa76275418845a0a21fbed1e2f766bf12a0a7b9b72c20de1aa5\", \"path\": \"/home/ftp/ftp/dev/wsr-public/data_output/France_HOSP_REG_NAME.html\", \"filename\": \"../data_output/France_HOSP_REG_NAME.html\"}\n",
    "# bob.static {\"token\": \"1bf05f448efec2591a9b59b2a8683b24eb99eaf3314f7a6d87937d05f7f4\", \"path\": \"/home/ftp/ftp/dev/wsr-public/data_output/France_REA_REG_NAME.html\", \"filename\": \"../data_output/France_REA_REG_NAME.html\"}\n",
    "# bob.static {\"token\": \"a1e16c779ba48901c40ad7daf39dceea2dda8752b6de257b58108a97b9eb\", \"path\": \"/home/ftp/ftp/dev/wsr-public/data_output/France_DC_REG_NAME.html\", \"filename\": \"../data_output/France_DC_REG_NAME.html\"} \n",
    "# bob.static {\"token\": \"5fd5e5d8525afa27210b5c64420d475a531c3b1eb3d6bbd9fed979f3081d\", \"path\": \"/home/ftp/ftp/dev/wsr-public/data_output/France_RAD_REG_NAME.html\", \"filename\": \"../data_output/France_RAD_REG_NAME.html\"} \n",
    "\n",
    "# bob.static {\"token\": \"4ceed8297bc280060b989e37c94640e523377c5f78c0eae0cd0dd74d74cd\", \"path\": \"/home/ftp/ftp/dev/wsr-public/data_output/France_EPI_DEP_NAME.html\", \"filename\": \"../data_output/France_EPI_DEP_NAME.html\"}"
   ]
  },
  {
   "cell_type": "code",
   "execution_count": 2,
   "metadata": {},
   "outputs": [
    {
     "name": "stdout",
     "output_type": "stream",
     "text": [
      "Successfully connected to MongoDB\n"
     ]
    }
   ],
   "source": [
    "%run __init__.ipynb"
   ]
  },
  {
   "cell_type": "code",
   "execution_count": 8,
   "metadata": {},
   "outputs": [],
   "source": [
    "def analysis(df,variable):\n",
    "    Min = df[variable].min()\n",
    "    Max = df[variable].max()\n",
    "    Avr = round(df[variable].mean(),0)\n",
    "    Med = round(np.median(df[variable]),0)\n",
    "    AvrMax = round((Avr / Max),2)\n",
    "    MedMax = round((Med / Max),2)\n",
    "    to_print = f'{variable} : Min: {Min}, Max: {Max}, Average: {Avr}, AvrMax: {AvrMax}, Med: {Med}, MedMax: {MedMax}'\n",
    "    return print(to_print)"
   ]
  },
  {
   "cell_type": "code",
   "execution_count": 24,
   "metadata": {},
   "outputs": [],
   "source": [
    "#Var France\n",
    "map_center = {\"lat\": 46.7667, \"lon\": 2.45}\n",
    "def create_map(df,geo,dfKey,geoKey,scale,colors,map_center,label,file_html):\n",
    "    fig = px.choropleth_mapbox(df, \n",
    "                               geojson=geo, \n",
    "                               color=\"VALUE\",\n",
    "                               locations=dfKey, \n",
    "                               featureidkey=geoKey,\n",
    "                               range_color=scale,\n",
    "                               color_continuous_scale=colors,\n",
    "                               mapbox_style=\"carto-positron\", \n",
    "                               zoom=5, \n",
    "                               center=map_center,\n",
    "                               hover_data=[\"VALUE\",\"VAR\"],\n",
    "                               labels=label,\n",
    "                              )\n",
    "    fig.update_layout(margin={\"r\":0,\"l\":0,},autosize=True)\n",
    "    fig.write_html(f\"{output_folder}{file_html}\")\n",
    "    updateChartCss(f\"{output_folder}{file_html}\", f\"{input_folder}map.css\")\n",
    "#     return fig"
   ]
  },
  {
   "cell_type": "code",
   "execution_count": 36,
   "metadata": {},
   "outputs": [],
   "source": [
    "def create_map_epid(df,geo,dfKey,geoKey,map_center,label,file_html):\n",
    "    fig = px.choropleth_mapbox(df, \n",
    "                               geojson=geo, \n",
    "                               color=\"VALUE\",\n",
    "                               locations=dfKey, \n",
    "                               featureidkey=geoKey,\n",
    "                                color_discrete_map={ # replaces default color mapping by value\n",
    "                                    \"vert\": \"#99f542\", \"orange\": \"#f5b342\", \"rouge\": \"#f54842\"\n",
    "                                },\n",
    "                               mapbox_style=\"carto-positron\", \n",
    "                               zoom=5, \n",
    "                               center=map_center,\n",
    "                               hover_data=[\"VALUE\"],\n",
    "                               labels=label,\n",
    "                              )\n",
    "    fig.update_layout(margin={\"r\":0,\"l\":0,},autosize=True, showlegend=False)\n",
    "    fig.write_html(f\"{output_folder}{file_html}\")\n",
    "    updateChartCss(f\"{output_folder}{file_html}\", f\"{input_folder}map.css\")\n",
    "    return fig"
   ]
  },
  {
   "cell_type": "code",
   "execution_count": 10,
   "metadata": {},
   "outputs": [],
   "source": [
    "#--- Format ref France\n",
    "ref_france['DEP_CODE'] = ref_france['DEP_CODE'].astype(str)\n",
    "ref_france['DEP_NAME'] = ref_france['DEP_NAME'].astype(str)\n",
    "ref_france['DEP_FULL'] = ref_france['DEP_CODE'] + ' - ' + ref_france['DEP_NAME']\n",
    "# ref_france"
   ]
  },
  {
   "cell_type": "code",
   "execution_count": 38,
   "metadata": {},
   "outputs": [
    {
     "data": {
      "text/html": [
       "<div>\n",
       "<style scoped>\n",
       "    .dataframe tbody tr th:only-of-type {\n",
       "        vertical-align: middle;\n",
       "    }\n",
       "\n",
       "    .dataframe tbody tr th {\n",
       "        vertical-align: top;\n",
       "    }\n",
       "\n",
       "    .dataframe thead th {\n",
       "        text-align: right;\n",
       "    }\n",
       "</style>\n",
       "<table border=\"1\" class=\"dataframe\">\n",
       "  <thead>\n",
       "    <tr style=\"text-align: right;\">\n",
       "      <th></th>\n",
       "      <th>DATE</th>\n",
       "      <th>VALUE</th>\n",
       "      <th>DEP_CODE</th>\n",
       "      <th>DEP_NAME</th>\n",
       "    </tr>\n",
       "  </thead>\n",
       "  <tbody>\n",
       "    <tr>\n",
       "      <th>0</th>\n",
       "      <td>2020-04-30</td>\n",
       "      <td>vert</td>\n",
       "      <td>971</td>\n",
       "      <td>Guadeloupe</td>\n",
       "    </tr>\n",
       "    <tr>\n",
       "      <th>1</th>\n",
       "      <td>2020-04-30</td>\n",
       "      <td>vert</td>\n",
       "      <td>972</td>\n",
       "      <td>Martinique</td>\n",
       "    </tr>\n",
       "    <tr>\n",
       "      <th>2</th>\n",
       "      <td>2020-04-30</td>\n",
       "      <td>vert</td>\n",
       "      <td>973</td>\n",
       "      <td>Guyane</td>\n",
       "    </tr>\n",
       "    <tr>\n",
       "      <th>3</th>\n",
       "      <td>2020-04-30</td>\n",
       "      <td>vert</td>\n",
       "      <td>974</td>\n",
       "      <td>La Réunion</td>\n",
       "    </tr>\n",
       "    <tr>\n",
       "      <th>4</th>\n",
       "      <td>2020-04-30</td>\n",
       "      <td>rouge</td>\n",
       "      <td>976</td>\n",
       "      <td>Mayotte</td>\n",
       "    </tr>\n",
       "  </tbody>\n",
       "</table>\n",
       "</div>"
      ],
      "text/plain": [
       "        DATE  VALUE DEP_CODE    DEP_NAME\n",
       "0 2020-04-30   vert      971  Guadeloupe\n",
       "1 2020-04-30   vert      972  Martinique\n",
       "2 2020-04-30   vert      973      Guyane\n",
       "3 2020-04-30   vert      974  La Réunion\n",
       "4 2020-04-30  rouge      976     Mayotte"
      ]
     },
     "execution_count": 38,
     "metadata": {},
     "output_type": "execute_result"
    }
   ],
   "source": [
    "#--- Situation epidémiologique\n",
    "url = 'https://www.data.gouv.fr/fr/datasets/r/c50efb6f-a967-4a5a-812e-4f311a577629'\n",
    "df_epi =check_url(url,';')\n",
    "df_epi = pd.merge(df_epi,ref_france, left_on='departement', right_on='DEP_CODE',how='left').rename(index=str, columns={\"extract_date\":\"DATE\", \"indic_synthese\":\"VALUE\"}).drop(['departement','DEP_FULL','REG_NAME'], axis=1)\n",
    "df_epi['DATE']= pd.to_datetime(df_epi['DATE'], format='%Y-%m-%d')\n",
    "df_epi.head(5)"
   ]
  },
  {
   "cell_type": "code",
   "execution_count": 39,
   "metadata": {},
   "outputs": [
    {
     "name": "stdout",
     "output_type": "stream",
     "text": [
      "[Bob from JupyterHub] => Add this line: \n",
      " # bob.static {\"token\": \"4ceed8297bc280060b989e37c94640e523377c5f78c0eae0cd0dd74d74cd\", \"path\": \"/home/ftp/ftp/dev/wsr-public/data_output/France_EPI_DEP_NAME.html\", \"filename\": \"../data_output/France_EPI_DEP_NAME.html\"} \n",
      "\n",
      "At the top of this file to make it gettable at this url \n",
      " https:/api.dev.cashstory.com/api/v1/notebook/bob_40cashstory_2Ecom/4ceed8297bc280060b989e37c94640e523377c5f78c0eae0cd0dd74d74cd \n",
      "\n",
      "Now you can remove the code bob.makeStaticGettable() from this file\n",
      "If you want to remove the gettable capability, just remove the line you have added (# bob.static ...) or the file\n"
     ]
    }
   ],
   "source": [
    "#--- Situation epidémiologique_Département\n",
    "kpi = 'Situation epidémiologique'\n",
    "file_html = \"France_EPI_DEP_NAME.html\"\n",
    "\n",
    "df_map = df_epi.copy()[(df_epi['DATE'] == yesterday.strftime('%Y-%m-%d'))]\n",
    "\n",
    "dfKey = \"DEP_NAME\"\n",
    "geoKey=\"properties.nom\"\n",
    "to_rename = {'DEP_NAME':'Département','VALUE': kpi}\n",
    "create_map_epid(df_map,france_dep,dfKey,geoKey,map_center,to_rename,file_html)\n",
    "# bob.makeStaticGettable(output_folder + file_html,\"dev\")\n",
    "# url = 'https:/api.dev.cashstory.com/api/v1/notebook/bob_40cashstory_2Ecom/4ceed8297bc280060b989e37c94640e523377c5f78c0eae0cd0dd74d74cd'"
   ]
  },
  {
   "cell_type": "code",
   "execution_count": 3,
   "metadata": {},
   "outputs": [],
   "source": [
    "#--- Check if the data are already updated\n",
    "filePath = f'{output_folder}107_FRANCE.csv'\n",
    "if path.exists(filePath):\n",
    "    df_check = pd.read_csv(filePath, sep=';',low_memory=False)\n",
    "    date_check = df_check[df_check['SCENARIO'] == yesterday.strftime('%d/%m/%Y')]\n",
    "    if len(date_check) > 0:\n",
    "        raise Exception(f'Data already updated ! DateTime : {now}')"
   ]
  },
  {
   "cell_type": "code",
   "execution_count": 4,
   "metadata": {},
   "outputs": [
    {
     "data": {
      "text/html": [
       "<div>\n",
       "<style scoped>\n",
       "    .dataframe tbody tr th:only-of-type {\n",
       "        vertical-align: middle;\n",
       "    }\n",
       "\n",
       "    .dataframe tbody tr th {\n",
       "        vertical-align: top;\n",
       "    }\n",
       "\n",
       "    .dataframe thead th {\n",
       "        text-align: right;\n",
       "    }\n",
       "</style>\n",
       "<table border=\"1\" class=\"dataframe\">\n",
       "  <thead>\n",
       "    <tr style=\"text-align: right;\">\n",
       "      <th></th>\n",
       "      <th>ENTITY</th>\n",
       "      <th>SCENARIO</th>\n",
       "      <th>DATE_ORDER</th>\n",
       "      <th>CHILD</th>\n",
       "      <th>PARENT</th>\n",
       "      <th>UPPER_FILTER_M</th>\n",
       "      <th>ORDER</th>\n",
       "      <th>VALUE</th>\n",
       "      <th>VAR</th>\n",
       "      <th>VARP</th>\n",
       "      <th>LABEL</th>\n",
       "    </tr>\n",
       "  </thead>\n",
       "  <tbody>\n",
       "    <tr>\n",
       "      <th>0</th>\n",
       "      <td>France</td>\n",
       "      <td>30/04/2020</td>\n",
       "      <td>20200430</td>\n",
       "      <td>Île-de-France</td>\n",
       "      <td>root</td>\n",
       "      <td>En réanimation</td>\n",
       "      <td>2.0</td>\n",
       "      <td>1613</td>\n",
       "      <td>-67</td>\n",
       "      <td>-3.988095</td>\n",
       "      <td>Île-de-France</td>\n",
       "    </tr>\n",
       "    <tr>\n",
       "      <th>1</th>\n",
       "      <td>France</td>\n",
       "      <td>30/04/2020</td>\n",
       "      <td>20200430</td>\n",
       "      <td>Île-de-France</td>\n",
       "      <td>root</td>\n",
       "      <td>Hospitalisations</td>\n",
       "      <td>1.0</td>\n",
       "      <td>10901</td>\n",
       "      <td>-184</td>\n",
       "      <td>-1.659901</td>\n",
       "      <td>Île-de-France</td>\n",
       "    </tr>\n",
       "    <tr>\n",
       "      <th>2</th>\n",
       "      <td>France</td>\n",
       "      <td>30/04/2020</td>\n",
       "      <td>20200430</td>\n",
       "      <td>31 - Haute-Garonne</td>\n",
       "      <td>Occitanie</td>\n",
       "      <td>Hospitalisations</td>\n",
       "      <td>1.0</td>\n",
       "      <td>125</td>\n",
       "      <td>-6</td>\n",
       "      <td>-4.580153</td>\n",
       "      <td>Haute-Garonne</td>\n",
       "    </tr>\n",
       "    <tr>\n",
       "      <th>3</th>\n",
       "      <td>France</td>\n",
       "      <td>30/04/2020</td>\n",
       "      <td>20200430</td>\n",
       "      <td>32 - Gers</td>\n",
       "      <td>Occitanie</td>\n",
       "      <td>Hospitalisations</td>\n",
       "      <td>1.0</td>\n",
       "      <td>29</td>\n",
       "      <td>-6</td>\n",
       "      <td>-17.142857</td>\n",
       "      <td>Gers</td>\n",
       "    </tr>\n",
       "    <tr>\n",
       "      <th>4</th>\n",
       "      <td>France</td>\n",
       "      <td>30/04/2020</td>\n",
       "      <td>20200430</td>\n",
       "      <td>33 - Gironde</td>\n",
       "      <td>Nouvelle-Aquitaine</td>\n",
       "      <td>Hospitalisations</td>\n",
       "      <td>1.0</td>\n",
       "      <td>219</td>\n",
       "      <td>-15</td>\n",
       "      <td>-6.410256</td>\n",
       "      <td>Gironde</td>\n",
       "    </tr>\n",
       "  </tbody>\n",
       "</table>\n",
       "</div>"
      ],
      "text/plain": [
       "   ENTITY    SCENARIO  DATE_ORDER               CHILD              PARENT  \\\n",
       "0  France  30/04/2020    20200430       Île-de-France                root   \n",
       "1  France  30/04/2020    20200430       Île-de-France                root   \n",
       "2  France  30/04/2020    20200430  31 - Haute-Garonne           Occitanie   \n",
       "3  France  30/04/2020    20200430           32 - Gers           Occitanie   \n",
       "4  France  30/04/2020    20200430        33 - Gironde  Nouvelle-Aquitaine   \n",
       "\n",
       "     UPPER_FILTER_M  ORDER  VALUE  VAR       VARP          LABEL  \n",
       "0    En réanimation    2.0   1613  -67  -3.988095  Île-de-France  \n",
       "1  Hospitalisations    1.0  10901 -184  -1.659901  Île-de-France  \n",
       "2  Hospitalisations    1.0    125   -6  -4.580153  Haute-Garonne  \n",
       "3  Hospitalisations    1.0     29   -6 -17.142857           Gers  \n",
       "4  Hospitalisations    1.0    219  -15  -6.410256        Gironde  "
      ]
     },
     "execution_count": 4,
     "metadata": {},
     "output_type": "execute_result"
    }
   ],
   "source": [
    "#Source 107\n",
    "df = pd.read_csv(output_folder + '107.csv',sep=\";\").drop('Unnamed: 0',axis=1)\n",
    "df = df[(df['SCENARIO'] == yesterday.strftime('%d/%m/%Y'))].reset_index(drop=True)\n",
    "if len(df) == 0:\n",
    "    raise Exception(f'Data not updated ! DateTime : {now}')\n",
    "else:\n",
    "    df.to_csv(output_folder + '107_FRANCE.csv',sep=\";\")\n",
    "\n",
    "df = pd.merge(df,ref_france, left_on='CHILD', right_on='DEP_FULL',how='left').rename(index=str, columns={\"DEP_NAME\":\"LABEL\"}).drop(['DEP_CODE','DEP_FULL','REG_NAME'], axis=1)\n",
    "df.loc[df['PARENT'] == 'root', 'LABEL'] = df['CHILD']\n",
    "df = df.drop(['UNIT_VARP','PRECISION_VALUE','PRECISION_VAR','PRECISION_VARP','LAST_UPDATE'],axis=1)\n",
    "df.head(5)"
   ]
  },
  {
   "cell_type": "code",
   "execution_count": 7,
   "metadata": {},
   "outputs": [
    {
     "name": "stdout",
     "output_type": "stream",
     "text": [
      "VALUE : Min: 0, Max: 2292, Average: 259.0, AvrMax: 0.11, Med: 113.0, MedMax: 0.05\n"
     ]
    }
   ],
   "source": [
    "#Hospitalisation - Département\n",
    "kpi = 'Hospitalisations'\n",
    "file_html = \"France_HOSP_DEP_NAME.html\"\n",
    "\n",
    "df_map = df.copy()[(df['UPPER_FILTER_M'] == kpi) & (df['PARENT'] != 'root')]\n",
    "analysis(df_map,'VALUE')\n",
    "\n",
    "scale = (0,3000)\n",
    "colors = [\n",
    "    [0.0, \"#FFFFFF\"],\n",
    "    [0.05,\"#B3D7D2\"],\n",
    "    [0.10, \"#81B1BD\"],\n",
    "    [0.55, \"#437F9D\"],\n",
    "    [1.0, \"#00354E\"]\n",
    "]\n",
    "dfKey = \"LABEL\"\n",
    "geoKey=\"properties.nom\"\n",
    "to_rename = {'LABEL':'Département','VALUE': kpi, 'VAR': 'Variation en nb.'}\n",
    "create_map(df_map,france_dep,dfKey,geoKey,scale,colors,map_center,to_rename,file_html)\n",
    "# bob.makeStaticGettable(output_folder + file_html,\"dev\")"
   ]
  },
  {
   "cell_type": "code",
   "execution_count": 8,
   "metadata": {},
   "outputs": [
    {
     "name": "stdout",
     "output_type": "stream",
     "text": [
      "VALUE : Min: 0, Max: 455, Average: 39.0, AvrMax: 0.09, Med: 14.0, MedMax: 0.03\n"
     ]
    }
   ],
   "source": [
    "#En réanimation - Département\n",
    "kpi = 'En réanimation'\n",
    "file_html = \"France_REA_DEP_NAME.html\"\n",
    "\n",
    "df_map = df.copy()[(df['UPPER_FILTER_M'] == kpi) & (df['PARENT'] != 'root')]\n",
    "analysis(df_map,'VALUE')\n",
    "\n",
    "scale = (0,800)\n",
    "colors = [\n",
    "    [0.0, \"#FFFFFF\"],\n",
    "    [0.025,\"#B3D7D2\"],\n",
    "    [0.10, \"#81B1BD\"],\n",
    "    [0.55, \"#437F9D\"],\n",
    "    [1.0, \"#00354E\"]\n",
    "]\n",
    "dfKey = \"LABEL\"\n",
    "geoKey=\"properties.nom\"\n",
    "to_rename = {'LABEL':'Département','VALUE': kpi, 'VAR': 'Variation en nb.'}\n",
    "create_map(df_map,france_dep,dfKey,geoKey,scale,colors,map_center,to_rename,file_html)\n",
    "# bob.makeStaticGettable(output_folder + file_html,\"dev\")"
   ]
  },
  {
   "cell_type": "code",
   "execution_count": 9,
   "metadata": {},
   "outputs": [
    {
     "name": "stdout",
     "output_type": "stream",
     "text": [
      "VALUE : Min: 0, Max: 1466, Average: 151.0, AvrMax: 0.1, Med: 59.0, MedMax: 0.04\n"
     ]
    }
   ],
   "source": [
    "#\"Décès à l’hôpital\" - Département\n",
    "kpi = \"Décès à l’hôpital\"\n",
    "file_html = \"France_DC_DEP_NAME.html\"\n",
    "\n",
    "df_map = df.copy()[(df['UPPER_FILTER_M'] == kpi) & (df['PARENT'] != 'root')]\n",
    "analysis(df_map,'VALUE')\n",
    "\n",
    "scale = (0,1500)\n",
    "colors = [\n",
    "    [0.0, \"#FFFFFF\"],\n",
    "    [0.05,\"#B3D7D2\"],\n",
    "    [0.10, \"#81B1BD\"],\n",
    "    [0.55, \"#437F9D\"],\n",
    "    [1.0, \"#00354E\"]\n",
    "]\n",
    "dfKey = \"LABEL\"\n",
    "geoKey=\"properties.nom\"\n",
    "to_rename = {'LABEL':'Département','VALUE': kpi, 'VAR': 'Variation en nb.'}\n",
    "create_map(df_map,france_dep,dfKey,geoKey,scale,colors,map_center,to_rename,file_html)\n",
    "# bob.makeStaticGettable(output_folder + file_html,\"dev\")"
   ]
  },
  {
   "cell_type": "code",
   "execution_count": 10,
   "metadata": {},
   "outputs": [
    {
     "name": "stdout",
     "output_type": "stream",
     "text": [
      "VALUE : Min: 15, Max: 4071, Average: 490.0, AvrMax: 0.12, Med: 173.0, MedMax: 0.04\n"
     ]
    }
   ],
   "source": [
    "#'Retours à domicile' - Département\n",
    "kpi = 'Retours à domicile'\n",
    "file_html = \"France_RAD_DEP_NAME.html\"\n",
    "\n",
    "df_map = df.copy()[(df['UPPER_FILTER_M'] == kpi) & (df['PARENT'] != 'root')]\n",
    "analysis(df_map,'VALUE')\n",
    "\n",
    "scale = (0,3000)\n",
    "colors = [\n",
    "    [0.0, \"#FFFFFF\"],\n",
    "    [0.05,\"#B3D7D2\"],\n",
    "    [0.10, \"#81B1BD\"],\n",
    "    [0.55, \"#437F9D\"],\n",
    "    [1.0, \"#00354E\"]\n",
    "]\n",
    "dfKey = \"LABEL\"\n",
    "geoKey=\"properties.nom\"\n",
    "to_rename = {'LABEL':'Département','VALUE': kpi, 'VAR': 'Variation en nb.'}\n",
    "create_map(df_map,france_dep,dfKey,geoKey,scale,colors,map_center,to_rename,file_html)\n",
    "# bob.makeStaticGettable(output_folder + file_html,\"dev\")"
   ]
  },
  {
   "cell_type": "markdown",
   "metadata": {},
   "source": [
    "#ANALYSIS BY REGION"
   ]
  },
  {
   "cell_type": "code",
   "execution_count": 11,
   "metadata": {},
   "outputs": [
    {
     "name": "stdout",
     "output_type": "stream",
     "text": [
      "VALUE : Min: 0, Max: 10901, Average: 1455.0, AvrMax: 0.13, Med: 622.0, MedMax: 0.06\n"
     ]
    }
   ],
   "source": [
    "#Hospitalisation - Région\n",
    "kpi = 'Hospitalisations'\n",
    "file_html = \"France_HOSP_REG_NAME.html\"\n",
    "\n",
    "df_map = df.copy()[(df['UPPER_FILTER_M'] == kpi) & (df['PARENT'] == 'root') & (df['LABEL'] != 'France')]\n",
    "analysis(df_map,'VALUE')\n",
    "\n",
    "scale = (100,13000)\n",
    "colors = [\n",
    "    [0.0, \"#FFFFFF\"],\n",
    "    [0.075,\"#B3D7D2\"],\n",
    "    [0.15, \"#81B1BD\"],\n",
    "    [0.4, \"#437F9D\"],\n",
    "    [1.0, \"#00354E\"]\n",
    "]\n",
    "dfKey = \"LABEL\"\n",
    "geoKey=\"properties.nom\"\n",
    "to_rename = {'LABEL':'Région','VALUE': kpi, 'VAR': 'Variation en nb.'}\n",
    "create_map(df_map,france_reg,dfKey,geoKey,scale,colors,map_center,to_rename,file_html)\n",
    "# bob.makeStaticGettable(output_folder + file_html,\"dev\")"
   ]
  },
  {
   "cell_type": "code",
   "execution_count": 12,
   "metadata": {},
   "outputs": [
    {
     "name": "stdout",
     "output_type": "stream",
     "text": [
      "VALUE : Min: 0, Max: 1613, Average: 219.0, AvrMax: 0.14, Med: 103.0, MedMax: 0.06\n"
     ]
    }
   ],
   "source": [
    "#En réanimation - Région\n",
    "kpi = 'En réanimation'\n",
    "file_html = \"France_REA_REG_NAME.html\"\n",
    "\n",
    "df_map = df.copy()[(df['UPPER_FILTER_M'] == kpi) & (df['PARENT'] == 'root') & (df['LABEL'] != 'France')]\n",
    "analysis(df_map,'VALUE')\n",
    "\n",
    "scale = (50,2500)\n",
    "colors = [\n",
    "    [0.0, \"#FFFFFF\"],\n",
    "    [0.075,\"#B3D7D2\"],\n",
    "    [0.15, \"#81B1BD\"],\n",
    "    [0.55, \"#437F9D\"],\n",
    "    [1.0, \"#00354E\"]\n",
    "]\n",
    "dfKey = \"LABEL\"\n",
    "geoKey=\"properties.nom\"\n",
    "to_rename = {'LABEL':'Région','VALUE': kpi, 'VAR': 'Variation en nb.'}\n",
    "create_map(df_map,france_reg,dfKey,geoKey,scale,colors,map_center,to_rename,file_html)\n",
    "# bob.makeStaticGettable(output_folder + file_html,\"dev\")"
   ]
  },
  {
   "cell_type": "code",
   "execution_count": 13,
   "metadata": {},
   "outputs": [
    {
     "name": "stdout",
     "output_type": "stream",
     "text": [
      "VALUE : Min: 0, Max: 6008, Average: 846.0, AvrMax: 0.14, Med: 344.0, MedMax: 0.06\n"
     ]
    }
   ],
   "source": [
    "#\"Décès à l’hôpital\" - Région\n",
    "kpi = \"Décès à l’hôpital\"\n",
    "file_html = \"France_DC_REG_NAME.html\"\n",
    "\n",
    "df_map = df.copy()[(df['UPPER_FILTER_M'] == kpi) & (df['PARENT'] == 'root') & (df['LABEL'] != 'France')]\n",
    "analysis(df_map,'VALUE')\n",
    "\n",
    "scale = (100,5500)\n",
    "colors = [\n",
    "    [0.0, \"#FFFFFF\"],\n",
    "    [0.075,\"#B3D7D2\"],\n",
    "    [0.15, \"#81B1BD\"],\n",
    "    [0.4, \"#437F9D\"],\n",
    "    [1.0, \"#00354E\"]\n",
    "]\n",
    "dfKey = \"LABEL\"\n",
    "geoKey=\"properties.nom\"\n",
    "to_rename = {'LABEL':'Région','VALUE': kpi, 'VAR': 'Variation en nb.'}\n",
    "create_map(df_map,france_reg,dfKey,geoKey,scale,colors,map_center,to_rename,file_html)\n",
    "# bob.makeStaticGettable(output_folder + file_html,\"dev\")"
   ]
  },
  {
   "cell_type": "code",
   "execution_count": 14,
   "metadata": {},
   "outputs": [
    {
     "name": "stdout",
     "output_type": "stream",
     "text": [
      "VALUE : Min: 36, Max: 17570, Average: 2748.0, AvrMax: 0.16, Med: 1231.0, MedMax: 0.07\n"
     ]
    }
   ],
   "source": [
    "#Retours à domicile - Région\n",
    "kpi = 'Retours à domicile'\n",
    "file_html = \"France_RAD_REG_NAME.html\"\n",
    "\n",
    "df_map = df.copy()[(df['UPPER_FILTER_M'] == kpi) & (df['PARENT'] == 'root') & (df['LABEL'] != 'France')]\n",
    "analysis(df_map,'VALUE')\n",
    "\n",
    "scale = (200,15000)\n",
    "colors = [\n",
    "    [0.0, \"#FFFFFF\"],\n",
    "    [0.075,\"#B3D7D2\"],\n",
    "    [0.15, \"#81B1BD\"],\n",
    "    [0.4, \"#437F9D\"],\n",
    "    [1.0, \"#00354E\"]\n",
    "]\n",
    "dfKey = \"LABEL\"\n",
    "geoKey=\"properties.nom\"\n",
    "to_rename = {'LABEL':'Région','VALUE': kpi, 'VAR': 'Variation en nb.'}\n",
    "create_map(df_map,france_reg,dfKey,geoKey,scale,colors,map_center,to_rename,file_html)\n",
    "# bob.makeStaticGettable(output_folder + file_html,\"dev\")"
   ]
  },
  {
   "cell_type": "code",
   "execution_count": 15,
   "metadata": {},
   "outputs": [
    {
     "name": "stdout",
     "output_type": "stream",
     "text": [
      "Dataframe 110 successfully save in database app-wsr-dev in MongoDB. Time: --- 0.020633459091186523 secnds ---\n"
     ]
    },
    {
     "data": {
      "text/html": [
       "<div>\n",
       "<style scoped>\n",
       "    .dataframe tbody tr th:only-of-type {\n",
       "        vertical-align: middle;\n",
       "    }\n",
       "\n",
       "    .dataframe tbody tr th {\n",
       "        vertical-align: top;\n",
       "    }\n",
       "\n",
       "    .dataframe thead th {\n",
       "        text-align: right;\n",
       "    }\n",
       "</style>\n",
       "<table border=\"1\" class=\"dataframe\">\n",
       "  <thead>\n",
       "    <tr style=\"text-align: right;\">\n",
       "      <th></th>\n",
       "      <th>URL</th>\n",
       "      <th>KPI</th>\n",
       "      <th>UPPER_FILTER</th>\n",
       "      <th>VALUE</th>\n",
       "    </tr>\n",
       "  </thead>\n",
       "  <tbody>\n",
       "    <tr>\n",
       "      <th>0</th>\n",
       "      <td>https://api.dev.cashstory.com/api/v1/notebook/...</td>\n",
       "      <td>Hospitalisations</td>\n",
       "      <td>Par département</td>\n",
       "      <td>&lt;iframe src='https://api.dev.cashstory.com/api...</td>\n",
       "    </tr>\n",
       "    <tr>\n",
       "      <th>1</th>\n",
       "      <td>https://api.dev.cashstory.com/api/v1/notebook/...</td>\n",
       "      <td>En réanimation</td>\n",
       "      <td>Par département</td>\n",
       "      <td>&lt;iframe src='https://api.dev.cashstory.com/api...</td>\n",
       "    </tr>\n",
       "    <tr>\n",
       "      <th>2</th>\n",
       "      <td>https://api.dev.cashstory.com/api/v1/notebook/...</td>\n",
       "      <td>Retours à domicile</td>\n",
       "      <td>Par département</td>\n",
       "      <td>&lt;iframe src='https://api.dev.cashstory.com/api...</td>\n",
       "    </tr>\n",
       "    <tr>\n",
       "      <th>3</th>\n",
       "      <td>https://api.dev.cashstory.com/api/v1/notebook/...</td>\n",
       "      <td>Décès à l’hôpital</td>\n",
       "      <td>Par département</td>\n",
       "      <td>&lt;iframe src='https://api.dev.cashstory.com/api...</td>\n",
       "    </tr>\n",
       "    <tr>\n",
       "      <th>4</th>\n",
       "      <td>https://api.dev.cashstory.com/api/v1/notebook/...</td>\n",
       "      <td>Hospitalisations</td>\n",
       "      <td>Par région</td>\n",
       "      <td>&lt;iframe src='https://api.dev.cashstory.com/api...</td>\n",
       "    </tr>\n",
       "    <tr>\n",
       "      <th>5</th>\n",
       "      <td>https://api.dev.cashstory.com/api/v1/notebook/...</td>\n",
       "      <td>En réanimation</td>\n",
       "      <td>Par région</td>\n",
       "      <td>&lt;iframe src='https://api.dev.cashstory.com/api...</td>\n",
       "    </tr>\n",
       "    <tr>\n",
       "      <th>6</th>\n",
       "      <td>https://api.dev.cashstory.com/api/v1/notebook/...</td>\n",
       "      <td>Retours à domicile</td>\n",
       "      <td>Par région</td>\n",
       "      <td>&lt;iframe src='https://api.dev.cashstory.com/api...</td>\n",
       "    </tr>\n",
       "    <tr>\n",
       "      <th>7</th>\n",
       "      <td>https://api.dev.cashstory.com/api/v1/notebook/...</td>\n",
       "      <td>Décès à l’hôpital</td>\n",
       "      <td>Par région</td>\n",
       "      <td>&lt;iframe src='https://api.dev.cashstory.com/api...</td>\n",
       "    </tr>\n",
       "  </tbody>\n",
       "</table>\n",
       "</div>"
      ],
      "text/plain": [
       "                                                 URL                 KPI  \\\n",
       "0  https://api.dev.cashstory.com/api/v1/notebook/...    Hospitalisations   \n",
       "1  https://api.dev.cashstory.com/api/v1/notebook/...      En réanimation   \n",
       "2  https://api.dev.cashstory.com/api/v1/notebook/...  Retours à domicile   \n",
       "3  https://api.dev.cashstory.com/api/v1/notebook/...   Décès à l’hôpital   \n",
       "4  https://api.dev.cashstory.com/api/v1/notebook/...    Hospitalisations   \n",
       "5  https://api.dev.cashstory.com/api/v1/notebook/...      En réanimation   \n",
       "6  https://api.dev.cashstory.com/api/v1/notebook/...  Retours à domicile   \n",
       "7  https://api.dev.cashstory.com/api/v1/notebook/...   Décès à l’hôpital   \n",
       "\n",
       "      UPPER_FILTER                                              VALUE  \n",
       "0  Par département  <iframe src='https://api.dev.cashstory.com/api...  \n",
       "1  Par département  <iframe src='https://api.dev.cashstory.com/api...  \n",
       "2  Par département  <iframe src='https://api.dev.cashstory.com/api...  \n",
       "3  Par département  <iframe src='https://api.dev.cashstory.com/api...  \n",
       "4       Par région  <iframe src='https://api.dev.cashstory.com/api...  \n",
       "5       Par région  <iframe src='https://api.dev.cashstory.com/api...  \n",
       "6       Par région  <iframe src='https://api.dev.cashstory.com/api...  \n",
       "7       Par région  <iframe src='https://api.dev.cashstory.com/api...  "
      ]
     },
     "execution_count": 15,
     "metadata": {},
     "output_type": "execute_result"
    }
   ],
   "source": [
    "#html\n",
    "#Par département\n",
    "hosp_dep = [{'URL' : 'https://api.dev.cashstory.com/api/v1/notebook/bob_40cashstory_2Ecom/4622c4cc3822f6c1164cadbd53ed0d1230fb0a562d7c6bc824116cd82a78', 'KPI' : 'Hospitalisations', 'UPPER_FILTER' : 'Par département'}]\n",
    "rea_dep = [{'URL' : 'https://api.dev.cashstory.com/api/v1/notebook/bob_40cashstory_2Ecom/24e8978d3f09f857f81ed59d08c2b01a98e7eb0a95b85d985158b449bf0a', 'KPI' : 'En réanimation', 'UPPER_FILTER' : 'Par département'}]\n",
    "dc_dep = [{'URL' : 'https://api.dev.cashstory.com/api/v1/notebook/bob_40cashstory_2Ecom/09e1f0c28332e7b570cb13fe66def2187a457697a9a54921c96cfb2f76fd', 'KPI' : 'Retours à domicile', 'UPPER_FILTER' : 'Par département'}]\n",
    "rad_dep = [{'URL' :'https://api.dev.cashstory.com/api/v1/notebook/bob_40cashstory_2Ecom/83596ba6c97aa043e1994c93e4fc49354cd31842c2f83d66da0ce9dc314f', 'KPI' : 'Décès à l’hôpital', 'UPPER_FILTER' : 'Par département'}]\n",
    "          \n",
    "#Par région\n",
    "hosp_reg = [{'URL' : 'https://api.dev.cashstory.com/api/v1/notebook/bob_40cashstory_2Ecom/113a1888cfa76275418845a0a21fbed1e2f766bf12a0a7b9b72c20de1aa5', 'KPI' : 'Hospitalisations', 'UPPER_FILTER' : 'Par région'}]\n",
    "rea_reg = [{'URL' : 'https://api.dev.cashstory.com/api/v1/notebook/bob_40cashstory_2Ecom/1bf05f448efec2591a9b59b2a8683b24eb99eaf3314f7a6d87937d05f7f4', 'KPI' : 'En réanimation', 'UPPER_FILTER' : 'Par région'}]\n",
    "dc_reg = [{'URL' : 'https://api.dev.cashstory.com/api/v1/notebook/bob_40cashstory_2Ecom/5fd5e5d8525afa27210b5c64420d475a531c3b1eb3d6bbd9fed979f3081d', 'KPI' : 'Retours à domicile', 'UPPER_FILTER' : 'Par région'}]\n",
    "rad_reg = [{'URL' : 'https://api.dev.cashstory.com/api/v1/notebook/bob_40cashstory_2Ecom/a1e16c779ba48901c40ad7daf39dceea2dda8752b6de257b58108a97b9eb', 'KPI' : 'Décès à l’hôpital', 'UPPER_FILTER' : 'Par région'}]\n",
    "        \n",
    "list_kpis = hosp_dep + rea_dep + dc_dep + rad_dep + hosp_reg+ rea_reg + dc_reg + rad_reg\n",
    "domain = pd.DataFrame(list_kpis)\n",
    "domain.loc[:,'VALUE'] = \"\"\"<iframe src='\"\"\"+ domain['URL'] +\"\"\"' frameborder='0' style='overflow:hidden;height:85vh;width:100%' height='100%' width='100%'></iframe> <style>.modebar{display: none!important;}</style>\"\"\"\n",
    "if use_mongo:\n",
    "    bob.mongo.save_df(domain,'110',db_app,True)\n",
    "domain"
   ]
  }
 ],
 "metadata": {
  "kernelspec": {
   "display_name": "Python 3",
   "language": "python",
   "name": "python3"
  },
  "language_info": {
   "codemirror_mode": {
    "name": "ipython",
    "version": 3
   },
   "file_extension": ".py",
   "mimetype": "text/x-python",
   "name": "python",
   "nbconvert_exporter": "python",
   "pygments_lexer": "ipython3",
   "version": "3.7.6"
  }
 },
 "nbformat": 4,
 "nbformat_minor": 4
}
