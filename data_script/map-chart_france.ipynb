{
 "cells": [
  {
   "cell_type": "code",
   "execution_count": 100,
   "metadata": {},
   "outputs": [],
   "source": [
    "# bob.refresh {\"cron\": \"10,35 8,11,19,21 * * *\", \"timeout\": 40000}\n",
    "# bob.static {\"token\": \"4622c4cc3822f6c1164cadbd53ed0d1230fb0a562d7c6bc824116cd82a78\", \"path\": \"/home/ftp/ftp/dev/wsr-public/data_output/France_HOSP_DEP_NAME.html\", \"filename\": \"../data_output/France_HOSP_DEP_NAME.html\"}\n",
    "# bob.static {\"token\": \"24e8978d3f09f857f81ed59d08c2b01a98e7eb0a95b85d985158b449bf0a\", \"path\": \"/home/ftp/ftp/dev/wsr-public/data_output/France_REA_DEP_NAME.html\", \"filename\": \"../data_output/France_REA_DEP_NAME.html\"} \n",
    "# bob.static {\"token\": \"83596ba6c97aa043e1994c93e4fc49354cd31842c2f83d66da0ce9dc314f\", \"path\": \"/home/ftp/ftp/dev/wsr-public/data_output/France_DC_DEP_NAME.html\", \"filename\": \"../data_output/France_DC_DEP_NAME.html\"} \n",
    "# bob.static {\"token\": \"09e1f0c28332e7b570cb13fe66def2187a457697a9a54921c96cfb2f76fd\", \"path\": \"/home/ftp/ftp/dev/wsr-public/data_output/France_RAD_DEP_NAME.html\", \"filename\": \"../data_output/France_RAD_DEP_NAME.html\"} \n",
    "\n",
    "# bob.static {\"token\": \"113a1888cfa76275418845a0a21fbed1e2f766bf12a0a7b9b72c20de1aa5\", \"path\": \"/home/ftp/ftp/dev/wsr-public/data_output/France_HOSP_REG_NAME.html\", \"filename\": \"../data_output/France_HOSP_REG_NAME.html\"}\n",
    "# bob.static {\"token\": \"1bf05f448efec2591a9b59b2a8683b24eb99eaf3314f7a6d87937d05f7f4\", \"path\": \"/home/ftp/ftp/dev/wsr-public/data_output/France_REA_REG_NAME.html\", \"filename\": \"../data_output/France_REA_REG_NAME.html\"}\n",
    "# bob.static {\"token\": \"a1e16c779ba48901c40ad7daf39dceea2dda8752b6de257b58108a97b9eb\", \"path\": \"/home/ftp/ftp/dev/wsr-public/data_output/France_DC_REG_NAME.html\", \"filename\": \"../data_output/France_DC_REG_NAME.html\"} \n",
    "# bob.static {\"token\": \"5fd5e5d8525afa27210b5c64420d475a531c3b1eb3d6bbd9fed979f3081d\", \"path\": \"/home/ftp/ftp/dev/wsr-public/data_output/France_RAD_REG_NAME.html\", \"filename\": \"../data_output/France_RAD_REG_NAME.html\"} \n",
    "\n",
    "# bob.static {\"token\": \"3a0e8e24ed4c4a9631007d76a988bd40660844e2e6ce6a631a528c22774d\", \"path\": \"/home/ftp/ftp/dev/wsr-public/data_output/France_TSHOSP_DEP_NAME.html\", \"filename\": \"../data_output/France_TSHOSP_DEP_NAME.html\"}\n",
    "# bob.static {\"token\": \"ec820131eb62001106cb3f0a74f2adbacefb68f5d11854be593972e4f55f\", \"path\": \"/home/ftp/ftp/dev/wsr-public/data_output/France_TSHOSP_REG_NAME.html\", \"filename\": \"../data_output/France_TSHOSP_REG_NAME.html\"}"
   ]
  },
  {
   "cell_type": "code",
   "execution_count": 101,
   "metadata": {},
   "outputs": [
    {
     "name": "stdout",
     "output_type": "stream",
     "text": [
      "Successfully connected to MongoDB\n"
     ]
    }
   ],
   "source": [
    "%run __init__.ipynb"
   ]
  },
  {
   "cell_type": "code",
   "execution_count": 102,
   "metadata": {},
   "outputs": [],
   "source": [
    "def analysis(df,variable):\n",
    "    Min = df[variable].min()\n",
    "    Max = df[variable].max()\n",
    "    Avr = round(df[variable].mean(),0)\n",
    "    Med = round(np.median(df[variable]),0)\n",
    "    AvrMax = round((Avr / Max),2)\n",
    "    MedMax = round((Med / Max),2)\n",
    "    to_print = f'{variable} : Min: {Min}, Max: {Max}, Average: {Avr}, AvrMax: {AvrMax}, Med: {Med}, MedMax: {MedMax}'\n",
    "    return print(to_print)"
   ]
  },
  {
   "cell_type": "code",
   "execution_count": 103,
   "metadata": {},
   "outputs": [],
   "source": [
    "#Var France\n",
    "map_center = {\"lat\": 46.7667, \"lon\": 2.45}\n",
    "def create_map(df,geo,dfKey,geoKey,scale,colors,map_center,label,file_html):\n",
    "    fig = px.choropleth_mapbox(df, \n",
    "                               geojson=geo, \n",
    "                               color=\"VALUE\",\n",
    "                               locations=dfKey, \n",
    "                               featureidkey=geoKey,\n",
    "                               range_color=scale,\n",
    "                               color_continuous_scale=colors,\n",
    "                               mapbox_style=\"carto-positron\", \n",
    "                               zoom=5, \n",
    "                               center=map_center,\n",
    "                               hover_data=[\"VALUE\",\"VAR\"],\n",
    "                               labels=label,\n",
    "                              )\n",
    "    fig.update_layout(margin={\"r\":0,\"l\":0,},autosize=True)\n",
    "    fig.write_html(f\"{output_folder}{file_html}\")\n",
    "    updateChartCss(f\"{output_folder}{file_html}\", f\"{input_folder}map.css\")\n",
    "#     return fig"
   ]
  },
  {
   "cell_type": "code",
   "execution_count": 104,
   "metadata": {},
   "outputs": [
    {
     "ename": "Exception",
     "evalue": "Data already updated ! DateTime : 01/05/2020 19:41:38",
     "output_type": "error",
     "traceback": [
      "\u001b[0;31m---------------------------------------------------------------------------\u001b[0m",
      "\u001b[0;31mException\u001b[0m                                 Traceback (most recent call last)",
      "\u001b[0;32m<ipython-input-104-874ebe06354e>\u001b[0m in \u001b[0;36m<module>\u001b[0;34m\u001b[0m\n\u001b[1;32m      5\u001b[0m     \u001b[0mdate_check\u001b[0m \u001b[0;34m=\u001b[0m \u001b[0mdf_check\u001b[0m\u001b[0;34m[\u001b[0m\u001b[0mdf_check\u001b[0m\u001b[0;34m[\u001b[0m\u001b[0;34m'SCENARIO'\u001b[0m\u001b[0;34m]\u001b[0m \u001b[0;34m==\u001b[0m \u001b[0myesterday\u001b[0m\u001b[0;34m.\u001b[0m\u001b[0mstrftime\u001b[0m\u001b[0;34m(\u001b[0m\u001b[0;34m'%d/%m/%Y'\u001b[0m\u001b[0;34m)\u001b[0m\u001b[0;34m]\u001b[0m\u001b[0;34m\u001b[0m\u001b[0;34m\u001b[0m\u001b[0m\n\u001b[1;32m      6\u001b[0m     \u001b[0;32mif\u001b[0m \u001b[0mlen\u001b[0m\u001b[0;34m(\u001b[0m\u001b[0mdate_check\u001b[0m\u001b[0;34m)\u001b[0m \u001b[0;34m>\u001b[0m \u001b[0;36m0\u001b[0m\u001b[0;34m:\u001b[0m\u001b[0;34m\u001b[0m\u001b[0;34m\u001b[0m\u001b[0m\n\u001b[0;32m----> 7\u001b[0;31m         \u001b[0;32mraise\u001b[0m \u001b[0mException\u001b[0m\u001b[0;34m(\u001b[0m\u001b[0;34mf'Data already updated ! DateTime : {now}'\u001b[0m\u001b[0;34m)\u001b[0m\u001b[0;34m\u001b[0m\u001b[0;34m\u001b[0m\u001b[0m\n\u001b[0m",
      "\u001b[0;31mException\u001b[0m: Data already updated ! DateTime : 01/05/2020 19:41:38"
     ]
    }
   ],
   "source": [
    "#--- Check if the data are already updated\n",
    "filePath = f'{output_folder}107_FRANCE.csv'\n",
    "if path.exists(filePath):\n",
    "    df_check = pd.read_csv(filePath, sep=';',low_memory=False)\n",
    "    date_check = df_check[df_check['SCENARIO'] == yesterday.strftime('%d/%m/%Y')]\n",
    "    if len(date_check) > 0:\n",
    "        raise Exception(f'Data already updated ! DateTime : {now}')"
   ]
  },
  {
   "cell_type": "code",
   "execution_count": null,
   "metadata": {},
   "outputs": [],
   "source": [
    "#Source 107\n",
    "df = pd.read_csv(output_folder + '107.csv',sep=\";\").drop('Unnamed: 0',axis=1)\n",
    "df = df[(df['SCENARIO'] == yesterday.strftime('%d/%m/%Y'))].reset_index(drop=True)\n",
    "if len(df) == 0:\n",
    "    raise Exception(f'Data not updated ! DateTime : {now}')\n",
    "else:\n",
    "    df.to_csv(output_folder + '107_FRANCE.csv',sep=\";\")\n",
    "\n",
    "df = pd.merge(df,ref_france, left_on='CHILD', right_on='DEP_FULL',how='left').rename(index=str, columns={\"DEP_NAME\":\"LABEL\"}).drop(['DEP_CODE','DEP_FULL','REG_NAME'], axis=1)\n",
    "df.loc[df['PARENT'] == 'root', 'LABEL'] = df['CHILD']\n",
    "df = df.drop(['UNIT_VARP','PRECISION_VALUE','PRECISION_VAR','PRECISION_VARP','LAST_UPDATE'],axis=1)\n",
    "df.head(5)"
   ]
  },
  {
   "cell_type": "code",
   "execution_count": null,
   "metadata": {},
   "outputs": [],
   "source": [
    "#Hospitalisation - Département\n",
    "kpi = 'Hospitalisations'\n",
    "file_html = \"France_HOSP_DEP_NAME.html\"\n",
    "\n",
    "df_map = df.copy()[(df['UPPER_FILTER_M'] == kpi) & (df['PARENT'] != 'root')]\n",
    "analysis(df_map,'VALUE')\n",
    "\n",
    "scale = (0,3000)\n",
    "colors = [\n",
    "    [0.0, \"#FFFFFF\"],\n",
    "    [0.05,\"#B3D7D2\"],\n",
    "    [0.10, \"#81B1BD\"],\n",
    "    [0.55, \"#437F9D\"],\n",
    "    [1.0, \"#00354E\"]\n",
    "]\n",
    "dfKey = \"LABEL\"\n",
    "geoKey=\"properties.nom\"\n",
    "to_rename = {'LABEL':'Département','VALUE': kpi, 'VAR': 'Variation en nb.'}\n",
    "create_map(df_map,france_dep,dfKey,geoKey,scale,colors,map_center,to_rename,file_html)\n",
    "# bob.makeStaticGettable(output_folder + file_html,\"dev\")"
   ]
  },
  {
   "cell_type": "code",
   "execution_count": null,
   "metadata": {},
   "outputs": [],
   "source": [
    "#En réanimation - Département\n",
    "kpi = 'En réanimation'\n",
    "file_html = \"France_REA_DEP_NAME.html\"\n",
    "\n",
    "df_map = df.copy()[(df['UPPER_FILTER_M'] == kpi) & (df['PARENT'] != 'root')]\n",
    "analysis(df_map,'VALUE')\n",
    "\n",
    "scale = (0,800)\n",
    "colors = [\n",
    "    [0.0, \"#FFFFFF\"],\n",
    "    [0.025,\"#B3D7D2\"],\n",
    "    [0.10, \"#81B1BD\"],\n",
    "    [0.55, \"#437F9D\"],\n",
    "    [1.0, \"#00354E\"]\n",
    "]\n",
    "dfKey = \"LABEL\"\n",
    "geoKey=\"properties.nom\"\n",
    "to_rename = {'LABEL':'Département','VALUE': kpi, 'VAR': 'Variation en nb.'}\n",
    "create_map(df_map,france_dep,dfKey,geoKey,scale,colors,map_center,to_rename,file_html)\n",
    "# bob.makeStaticGettable(output_folder + file_html,\"dev\")"
   ]
  },
  {
   "cell_type": "code",
   "execution_count": null,
   "metadata": {},
   "outputs": [],
   "source": [
    "#\"Décès à l’hôpital\" - Département\n",
    "kpi = \"Décès à l’hôpital\"\n",
    "file_html = \"France_DC_DEP_NAME.html\"\n",
    "\n",
    "df_map = df.copy()[(df['UPPER_FILTER_M'] == kpi) & (df['PARENT'] != 'root')]\n",
    "analysis(df_map,'VALUE')\n",
    "\n",
    "scale = (0,1500)\n",
    "colors = [\n",
    "    [0.0, \"#FFFFFF\"],\n",
    "    [0.05,\"#B3D7D2\"],\n",
    "    [0.10, \"#81B1BD\"],\n",
    "    [0.55, \"#437F9D\"],\n",
    "    [1.0, \"#00354E\"]\n",
    "]\n",
    "dfKey = \"LABEL\"\n",
    "geoKey=\"properties.nom\"\n",
    "to_rename = {'LABEL':'Département','VALUE': kpi, 'VAR': 'Variation en nb.'}\n",
    "create_map(df_map,france_dep,dfKey,geoKey,scale,colors,map_center,to_rename,file_html)\n",
    "# bob.makeStaticGettable(output_folder + file_html,\"dev\")"
   ]
  },
  {
   "cell_type": "code",
   "execution_count": null,
   "metadata": {},
   "outputs": [],
   "source": [
    "#'Retours à domicile' - Département\n",
    "kpi = 'Retours à domicile'\n",
    "file_html = \"France_RAD_DEP_NAME.html\"\n",
    "\n",
    "df_map = df.copy()[(df['UPPER_FILTER_M'] == kpi) & (df['PARENT'] != 'root')]\n",
    "analysis(df_map,'VALUE')\n",
    "\n",
    "scale = (0,3000)\n",
    "colors = [\n",
    "    [0.0, \"#FFFFFF\"],\n",
    "    [0.05,\"#B3D7D2\"],\n",
    "    [0.10, \"#81B1BD\"],\n",
    "    [0.55, \"#437F9D\"],\n",
    "    [1.0, \"#00354E\"]\n",
    "]\n",
    "dfKey = \"LABEL\"\n",
    "geoKey=\"properties.nom\"\n",
    "to_rename = {'LABEL':'Département','VALUE': kpi, 'VAR': 'Variation en nb.'}\n",
    "create_map(df_map,france_dep,dfKey,geoKey,scale,colors,map_center,to_rename,file_html)\n",
    "# bob.makeStaticGettable(output_folder + file_html,\"dev\")"
   ]
  },
  {
   "cell_type": "markdown",
   "metadata": {},
   "source": [
    "#ANALYSIS BY REGION"
   ]
  },
  {
   "cell_type": "code",
   "execution_count": null,
   "metadata": {},
   "outputs": [],
   "source": [
    "#Hospitalisation - Région\n",
    "kpi = 'Hospitalisations'\n",
    "file_html = \"France_HOSP_REG_NAME.html\"\n",
    "\n",
    "df_map = df.copy()[(df['UPPER_FILTER_M'] == kpi) & (df['PARENT'] == 'root') & (df['LABEL'] != 'France')]\n",
    "analysis(df_map,'VALUE')\n",
    "\n",
    "scale = (100,13000)\n",
    "colors = [\n",
    "    [0.0, \"#FFFFFF\"],\n",
    "    [0.075,\"#B3D7D2\"],\n",
    "    [0.15, \"#81B1BD\"],\n",
    "    [0.4, \"#437F9D\"],\n",
    "    [1.0, \"#00354E\"]\n",
    "]\n",
    "dfKey = \"LABEL\"\n",
    "geoKey=\"properties.nom\"\n",
    "to_rename = {'LABEL':'Région','VALUE': kpi, 'VAR': 'Variation en nb.'}\n",
    "create_map(df_map,france_reg,dfKey,geoKey,scale,colors,map_center,to_rename,file_html)\n",
    "# bob.makeStaticGettable(output_folder + file_html,\"dev\")"
   ]
  },
  {
   "cell_type": "code",
   "execution_count": null,
   "metadata": {},
   "outputs": [],
   "source": [
    "#En réanimation - Région\n",
    "kpi = 'En réanimation'\n",
    "file_html = \"France_REA_REG_NAME.html\"\n",
    "\n",
    "df_map = df.copy()[(df['UPPER_FILTER_M'] == kpi) & (df['PARENT'] == 'root') & (df['LABEL'] != 'France')]\n",
    "analysis(df_map,'VALUE')\n",
    "\n",
    "scale = (50,2500)\n",
    "colors = [\n",
    "    [0.0, \"#FFFFFF\"],\n",
    "    [0.075,\"#B3D7D2\"],\n",
    "    [0.15, \"#81B1BD\"],\n",
    "    [0.55, \"#437F9D\"],\n",
    "    [1.0, \"#00354E\"]\n",
    "]\n",
    "dfKey = \"LABEL\"\n",
    "geoKey=\"properties.nom\"\n",
    "to_rename = {'LABEL':'Région','VALUE': kpi, 'VAR': 'Variation en nb.'}\n",
    "create_map(df_map,france_reg,dfKey,geoKey,scale,colors,map_center,to_rename,file_html)\n",
    "# bob.makeStaticGettable(output_folder + file_html,\"dev\")"
   ]
  },
  {
   "cell_type": "code",
   "execution_count": null,
   "metadata": {},
   "outputs": [],
   "source": [
    "#\"Décès à l’hôpital\" - Région\n",
    "kpi = \"Décès à l’hôpital\"\n",
    "file_html = \"France_DC_REG_NAME.html\"\n",
    "\n",
    "df_map = df.copy()[(df['UPPER_FILTER_M'] == kpi) & (df['PARENT'] == 'root') & (df['LABEL'] != 'France')]\n",
    "analysis(df_map,'VALUE')\n",
    "\n",
    "scale = (100,5500)\n",
    "colors = [\n",
    "    [0.0, \"#FFFFFF\"],\n",
    "    [0.075,\"#B3D7D2\"],\n",
    "    [0.15, \"#81B1BD\"],\n",
    "    [0.4, \"#437F9D\"],\n",
    "    [1.0, \"#00354E\"]\n",
    "]\n",
    "dfKey = \"LABEL\"\n",
    "geoKey=\"properties.nom\"\n",
    "to_rename = {'LABEL':'Région','VALUE': kpi, 'VAR': 'Variation en nb.'}\n",
    "create_map(df_map,france_reg,dfKey,geoKey,scale,colors,map_center,to_rename,file_html)\n",
    "# bob.makeStaticGettable(output_folder + file_html,\"dev\")"
   ]
  },
  {
   "cell_type": "code",
   "execution_count": null,
   "metadata": {},
   "outputs": [],
   "source": [
    "#Retours à domicile - Région\n",
    "kpi = 'Retours à domicile'\n",
    "file_html = \"France_RAD_REG_NAME.html\"\n",
    "\n",
    "df_map = df.copy()[(df['UPPER_FILTER_M'] == kpi) & (df['PARENT'] == 'root') & (df['LABEL'] != 'France')]\n",
    "analysis(df_map,'VALUE')\n",
    "\n",
    "scale = (200,15000)\n",
    "colors = [\n",
    "    [0.0, \"#FFFFFF\"],\n",
    "    [0.075,\"#B3D7D2\"],\n",
    "    [0.15, \"#81B1BD\"],\n",
    "    [0.4, \"#437F9D\"],\n",
    "    [1.0, \"#00354E\"]\n",
    "]\n",
    "dfKey = \"LABEL\"\n",
    "geoKey=\"properties.nom\"\n",
    "to_rename = {'LABEL':'Région','VALUE': kpi, 'VAR': 'Variation en nb.'}\n",
    "create_map(df_map,france_reg,dfKey,geoKey,scale,colors,map_center,to_rename,file_html)\n",
    "# bob.makeStaticGettable(output_folder + file_html,\"dev\")"
   ]
  },
  {
   "cell_type": "code",
   "execution_count": null,
   "metadata": {},
   "outputs": [],
   "source": [
    "map_center = {\"lat\": 46.7667, \"lon\": 2.45}\n",
    "def create_map_epid(df,geo,dfKey,geoKey,col_color,hoverdata,map_center,label,file_html):\n",
    "    fig = px.choropleth_mapbox(df, \n",
    "                               geojson=geo, \n",
    "                               color=col_color,\n",
    "                               locations=dfKey, \n",
    "                               featureidkey=geoKey,\n",
    "                                color_discrete_map={ # replaces default color mapping by value\n",
    "                                    \"vert\": \"#4CCD88\", \"orange\": \"#FDB47A\", \"rouge\": \"#DD6D88\"\n",
    "                                },\n",
    "                               mapbox_style=\"carto-positron\", \n",
    "                               zoom=5, \n",
    "                               center=map_center,\n",
    "                               hover_data= hoverdata,\n",
    "                               labels=label,\n",
    "                               opacity=0.8\n",
    "                              )\n",
    "    fig.update_layout(margin={\"r\":0,\"l\":0,},autosize=True, showlegend=False)\n",
    "    fig.write_html(f\"{output_folder}{file_html}\")\n",
    "    updateChartCss(f\"{output_folder}{file_html}\", f\"{input_folder}map.css\")\n",
    "    return fig"
   ]
  },
  {
   "cell_type": "code",
   "execution_count": null,
   "metadata": {},
   "outputs": [],
   "source": [
    "#--- Situation epidémiologique DATA\n",
    "cols = ['DEP','DEP_NAME','REA_2013','REA_2018','SI_2013','SI_2018','SC_2013','SC_2018','ALL_2013','ALL_2018']\n",
    "ref_france_lits = pd.read_excel(input_folder + 'drees_lits_reanimation_2013-2018.xlsx', sheet_name = 'Lits_2013-2018', header=7, names=cols)\n",
    "ref_france_lits = ref_france_lits[['DEP','DEP_NAME','REA_2018']]\n",
    "ref_france_lits['DEP'] = ref_france_lits['DEP'].astype(str)\n",
    "ref_france_lits.head(5)"
   ]
  },
  {
   "cell_type": "code",
   "execution_count": null,
   "metadata": {},
   "outputs": [],
   "source": [
    "#---Tension Data\n",
    "df_rea = pd.read_csv(output_folder + '107_FRANCE.csv',sep=\";\").drop('Unnamed: 0',axis=1)\n",
    "df_rea = df_rea[['ENTITY','SCENARIO','CHILD','PARENT','UPPER_FILTER_M','VALUE','VAR']]\n",
    "df_rea = pd.merge(df_rea,ref_france, left_on='CHILD', right_on='DEP_FULL',how='left').rename(index=str, columns={\"DEP_NAME\":\"LABEL\"}).drop(['DEP_FULL'], axis=1)\n",
    "df_rea.loc[df_rea['PARENT'] == 'root', 'LABEL'] = df_rea['CHILD']\n",
    "df_rea['DEP_CODE'] = df_rea['DEP_CODE'].astype(str)\n",
    "\n",
    "df_rea.loc[df_rea['CHILD'] == 'France', 'DEP_CODE'] = 'FR'\n",
    "df_rea = pd.merge(df_rea,ref_france_lits, left_on='DEP_CODE', right_on='DEP',how='left').drop(['DEP','DEP_NAME'], axis=1)\n",
    "df_rea.head(5)"
   ]
  },
  {
   "cell_type": "code",
   "execution_count": null,
   "metadata": {},
   "outputs": [],
   "source": [
    "#---HKPIS\n",
    "df_hkpis = df_rea.copy()[df_rea['CHILD'] == 'France']\n",
    "df_kpis = df_hkpis[['ENTITY','SCENARIO','UPPER_FILTER_M','VALUE','VAR']]\n",
    "\n",
    "df_reakpi = df_hkpis.copy()[df_hkpis['UPPER_FILTER_M'] == 'En réanimation'][['ENTITY','SCENARIO','UPPER_FILTER_M','VALUE','VAR','REA_2018']]\n",
    "df_reakpi['VALUEP'] = round((df_reakpi['VALUE'] / df_reakpi['REA_2018'] * 100),2)\n",
    "df_reakpi['VALUE_N1'] = (df_reakpi['VALUE'] - df_reakpi['VAR'])\n",
    "df_reakpi['VALUEP_N1'] = round(((df_reakpi['VALUE_N1'] / df_reakpi['REA_2018']) * 100),2)\n",
    "df_reakpi['VALUEP_VAR'] = df_reakpi['VALUEP'] - df_reakpi['VALUEP_N1']\n",
    "\n",
    "df_reakpi = df_reakpi.drop(['VALUE','VAR','REA_2018','VALUE_N1','VALUEP_N1'],axis=1).rename(index=str, columns={\"VALUEP\":\"VALUE\",\"VALUEP_VAR\":\"VAR\"})\n",
    "df_reakpi['UPPER_FILTER_M'] = 'Tensions hospitalières'\n",
    "\n",
    "df_final = pd.concat([df_kpis,df_reakpi], axis=0)\n",
    "df_final.loc[df_final['UPPER_FILTER_M'] == 'Tensions hospitalières','UNIT_VALUE'] = ' %'\n",
    "df_final.loc[df_final['UPPER_FILTER_M'] == 'Tensions hospitalières','UNIT_VAR'] = ' pts'\n",
    "df_final.loc[:,'PRECISION'] = ',.0f'\n",
    "df_final.loc[df_final['UPPER_FILTER_M'] == 'Tensions hospitalières','PRECISION'] = ',.2f'\n",
    "\n",
    "if use_mongo:\n",
    "    bob.mongo.save_df(df_final,'110_BIS',db_app,True)\n",
    "df_final"
   ]
  },
  {
   "cell_type": "code",
   "execution_count": null,
   "metadata": {},
   "outputs": [],
   "source": [
    "#Par département\n",
    "df_rea_dep = df_rea.copy()[(df_rea['UPPER_FILTER_M'] == 'En réanimation') & (df_rea['PARENT'] != 'root') & (df_rea['SCENARIO'] == yesterday.strftime('%d/%m/%Y'))]\n",
    "df_rea_dep['VALUEP'] = round((df_rea_dep['VALUE'] / df_rea_dep['REA_2018'] * 100),2)\n",
    "df_rea_dep.loc[df_rea_dep['VALUEP'] < 60 ,'COLOR'] = 'vert'\n",
    "df_rea_dep.loc[df_rea_dep['VALUEP'] >= 60, 'COLOR'] = 'orange'\n",
    "df_rea_dep.loc[df_rea_dep['VALUEP'] >= 80, 'COLOR'] = 'rouge'\n",
    "df_rea_dep.head(5)"
   ]
  },
  {
   "cell_type": "code",
   "execution_count": null,
   "metadata": {},
   "outputs": [],
   "source": [
    "#---Tension_Département\n",
    "kpi = 'Tension hospitalière (%)'\n",
    "file_html = \"France_TSHOSP_DEP_NAME.html\"\n",
    "dfKey = \"LABEL\"\n",
    "geoKey=\"properties.nom\"\n",
    "col_color = 'COLOR'\n",
    "hoverdata=[\"VALUE\",\"REA_2018\",'VALUEP']\n",
    "to_rename = {'COLOR': \"Niveau\",'LABEL':'Département', 'VALUE': 'Nombre de cas en réanimation', 'REA_2018': 'Nombre de lits en service réanimation','VALUEP': kpi}\n",
    "create_map_epid(df_rea_dep,france_dep,dfKey,geoKey,col_color,hoverdata,map_center,to_rename,file_html)\n",
    "# bob.makeStaticGettable(output_folder + file_html,\"dev\")\n",
    "# url ='https:/api.dev.cashstory.com/api/v1/notebook/bob_40cashstory_2Ecom/3a0e8e24ed4c4a9631007d76a988bd40660844e2e6ce6a631a528c22774d'"
   ]
  },
  {
   "cell_type": "code",
   "execution_count": null,
   "metadata": {},
   "outputs": [],
   "source": [
    "#Par région\n",
    "df_rea_re = df_rea.copy()[(df_rea['UPPER_FILTER_M'] == 'En réanimation') & (df_rea['PARENT'] != 'root') & (df_rea['SCENARIO'] == yesterday.strftime('%d/%m/%Y'))]\n",
    "cols_to_group = ['ENTITY','SCENARIO','REG_NAME']\n",
    "df_rea_re['VALUE'] = df_rea_re['VALUE'].astype(int)\n",
    "df_rea_re['VAR'] = df_rea_re['VAR'].astype(int)\n",
    "df_rea_re = df_rea_re.groupby(cols_to_group, as_index=False).agg({\"VALUE\":'sum',\"VAR\":'sum',\"REA_2018\":'sum'})\n",
    "\n",
    "df_rea_re['VALUEP'] = round((df_rea_re['VALUE'] / df_rea_re['REA_2018'] * 100),2)\n",
    "df_rea_re.loc[df_rea_re['VALUEP'] < 60 ,'COLOR'] = 'vert'\n",
    "df_rea_re.loc[df_rea_re['VALUEP'] >= 60, 'COLOR'] = 'orange'\n",
    "df_rea_re.loc[df_rea_re['VALUEP'] >= 80, 'COLOR'] = 'rouge'\n",
    "df_rea_re.head(5)"
   ]
  },
  {
   "cell_type": "code",
   "execution_count": null,
   "metadata": {},
   "outputs": [],
   "source": [
    "#---Tension_Région\n",
    "kpi = 'Tension hospitalière (%)'\n",
    "file_html = \"France_TSHOSP_REG_NAME.html\"\n",
    "dfKey = \"REG_NAME\"\n",
    "geoKey=\"properties.nom\"\n",
    "col_color = 'COLOR'\n",
    "hoverdata=[\"VALUE\",\"REA_2018\",'VALUEP']\n",
    "to_rename = {'REG_NAME':'Région','COLOR': \"Niveau\", 'VALUE': 'Nombre de cas en réanimation', 'REA_2018': 'Nombre de lits en service réanimation','VALUEP': kpi}\n",
    "create_map_epid(df_rea_re,france_reg,dfKey,geoKey,col_color,hoverdata,map_center,to_rename,file_html)\n",
    "# bob.makeStaticGettable(output_folder + file_html,\"dev\")\n",
    "# url ='https:/api.dev.cashstory.com/api/v1/notebook/bob_40cashstory_2Ecom/ec820131eb62001106cb3f0a74f2adbacefb68f5d11854be593972e4f55f'"
   ]
  },
  {
   "cell_type": "code",
   "execution_count": null,
   "metadata": {},
   "outputs": [],
   "source": [
    "#html\n",
    "#Par département\n",
    "hosp_dep = [{'URL' : 'https://api.dev.cashstory.com/api/v1/notebook/bob_40cashstory_2Ecom/4622c4cc3822f6c1164cadbd53ed0d1230fb0a562d7c6bc824116cd82a78', 'KPI' : 'Hospitalisations', 'UPPER_FILTER' : 'Par département'}]\n",
    "rea_dep = [{'URL' : 'https://api.dev.cashstory.com/api/v1/notebook/bob_40cashstory_2Ecom/24e8978d3f09f857f81ed59d08c2b01a98e7eb0a95b85d985158b449bf0a', 'KPI' : 'En réanimation', 'UPPER_FILTER' : 'Par département'}]\n",
    "dc_dep = [{'URL' : 'https://api.dev.cashstory.com/api/v1/notebook/bob_40cashstory_2Ecom/09e1f0c28332e7b570cb13fe66def2187a457697a9a54921c96cfb2f76fd', 'KPI' : 'Retours à domicile', 'UPPER_FILTER' : 'Par département'}]\n",
    "rad_dep = [{'URL' :'https://api.dev.cashstory.com/api/v1/notebook/bob_40cashstory_2Ecom/83596ba6c97aa043e1994c93e4fc49354cd31842c2f83d66da0ce9dc314f', 'KPI' : 'Décès à l’hôpital', 'UPPER_FILTER' : 'Par département'}]\n",
    "reat_dep = [{'URL' : 'https://api.dev.cashstory.com/api/v1/notebook/bob_40cashstory_2Ecom/3a0e8e24ed4c4a9631007d76a988bd40660844e2e6ce6a631a528c22774d', 'KPI' : 'Tensions hospitalières', 'UPPER_FILTER' : 'Par département'}]\n",
    "          \n",
    "#Par région\n",
    "hosp_reg = [{'URL' : 'https://api.dev.cashstory.com/api/v1/notebook/bob_40cashstory_2Ecom/113a1888cfa76275418845a0a21fbed1e2f766bf12a0a7b9b72c20de1aa5', 'KPI' : 'Hospitalisations', 'UPPER_FILTER' : 'Par région'}]\n",
    "rea_reg = [{'URL' : 'https://api.dev.cashstory.com/api/v1/notebook/bob_40cashstory_2Ecom/1bf05f448efec2591a9b59b2a8683b24eb99eaf3314f7a6d87937d05f7f4', 'KPI' : 'En réanimation', 'UPPER_FILTER' : 'Par région'}]\n",
    "dc_reg = [{'URL' : 'https://api.dev.cashstory.com/api/v1/notebook/bob_40cashstory_2Ecom/5fd5e5d8525afa27210b5c64420d475a531c3b1eb3d6bbd9fed979f3081d', 'KPI' : 'Retours à domicile', 'UPPER_FILTER' : 'Par région'}]\n",
    "rad_reg = [{'URL' : 'https://api.dev.cashstory.com/api/v1/notebook/bob_40cashstory_2Ecom/a1e16c779ba48901c40ad7daf39dceea2dda8752b6de257b58108a97b9eb', 'KPI' : 'Décès à l’hôpital', 'UPPER_FILTER' : 'Par région'}]\n",
    "reat_reg = [{'URL' : 'https://api.dev.cashstory.com/api/v1/notebook/bob_40cashstory_2Ecom/ec820131eb62001106cb3f0a74f2adbacefb68f5d11854be593972e4f55f', 'KPI' : 'Tensions hospitalières', 'UPPER_FILTER' : 'Par région'}]\n",
    "        \n",
    "list_kpis = hosp_dep + rea_dep + dc_dep + rad_dep + hosp_reg+ rea_reg + dc_reg + rad_reg + reat_dep + reat_reg\n",
    "domain = pd.DataFrame(list_kpis)\n",
    "domain.loc[:,'VALUE'] = \"\"\"<iframe src='\"\"\"+ domain['URL'] +\"\"\"' frameborder='0' style='overflow:hidden;height:85vh;width:100%' height='100%' width='100%'></iframe> <style>.modebar{display: none!important;}</style>\"\"\"\n",
    "if use_mongo:\n",
    "    bob.mongo.save_df(domain,'110',db_app,True)\n",
    "domain"
   ]
  }
 ],
 "metadata": {
  "kernelspec": {
   "display_name": "Python 3",
   "language": "python",
   "name": "python3"
  },
  "language_info": {
   "codemirror_mode": {
    "name": "ipython",
    "version": 3
   },
   "file_extension": ".py",
   "mimetype": "text/x-python",
   "name": "python",
   "nbconvert_exporter": "python",
   "pygments_lexer": "ipython3",
   "version": "3.7.6"
  }
 },
 "nbformat": 4,
 "nbformat_minor": 4
}
