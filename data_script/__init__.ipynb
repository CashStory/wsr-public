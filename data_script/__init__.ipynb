{
 "cells": [
  {
   "cell_type": "code",
   "execution_count": 7,
   "metadata": {},
   "outputs": [],
   "source": [
    "# VARS\n",
    "#-> Repository\n",
    "input_folder = \"../data_input/\"\n",
    "output_folder = \"../data_output/\"\n",
    "param_folder = \"../../_parameters/\"\n",
    "#-> MONGO\n",
    "use_mongo=True\n",
    "use_healthchecks=True\n",
    "credentials = param_folder + 'mongodb.json'\n",
    "db_src = 'covid-19-dev'\n",
    "db_app = 'app-wsr-dev'\n",
    "#-> Other\n",
    "logo_cs = input_folder + \"cashstory_all_white.png\"\n",
    "logo_cs = \"https://bob.cashstory.com/assets/images/cashstory_all_white.png\""
   ]
  },
  {
   "cell_type": "code",
   "execution_count": 8,
   "metadata": {},
   "outputs": [
    {
     "name": "stdout",
     "output_type": "stream",
     "text": [
      "Successfully connected to MongoDB\n"
     ]
    }
   ],
   "source": [
    "import bob\n",
    "import json\n",
    "from datetime import datetime, timedelta, date\n",
    "import time\n",
    "import pandas as pd\n",
    "import openpyxl\n",
    "import numpy as np\n",
    "from pymongo import ASCENDING, DESCENDING\n",
    "import os.path\n",
    "from os import path\n",
    "import plotly.express as px\n",
    "import sys\n",
    "\n",
    "#--- STEP0 --- : Init\n",
    "\n",
    "#-> Date\n",
    "now = datetime.now().strftime('%d/%m/%Y %H:%M:%S')\n",
    "today = date.today()\n",
    "yesterday = (today - timedelta(days = 1))\n",
    "b_yesterday = (today - timedelta(days = 2))\n",
    "\n",
    "dbCon = None\n",
    "MongoDB = None\n",
    "if use_mongo:\n",
    "    with open(credentials) as f:\n",
    "        dbCon = json.load(f)\n",
    "    mongo_host = dbCon[\"host\"]\n",
    "    mongo_port = dbCon[\"port\"]\n",
    "    mongo_username = dbCon[\"username\"]\n",
    "    mongo_password = dbCon[\"password\"]\n",
    "    #-> Bob connect\n",
    "    MongoDB = bob.mongo.connect(mongo_host,mongo_port,mongo_username,mongo_password)"
   ]
  },
  {
   "cell_type": "code",
   "execution_count": null,
   "metadata": {},
   "outputs": [],
   "source": [
    "#--- Format ref France\n",
    "ref_france = pd.read_excel(input_folder + 'REF_WSR.xlsx', sheet_name = 'REF_FRANCE')\n",
    "ref_france['DEP_CODE'] = ref_france['DEP_CODE'].astype(str)\n",
    "ref_france['DEP_NAME'] = ref_france['DEP_NAME'].astype(str)\n",
    "ref_france['DEP_FULL'] = ref_france['DEP_CODE'] + ' - ' + ref_france['DEP_NAME']\n",
    "# ref_france"
   ]
  },
  {
   "cell_type": "code",
   "execution_count": 9,
   "metadata": {},
   "outputs": [],
   "source": [
    "#-- Map chart\n",
    "#US - 500K\n",
    "json_file = input_folder + 'usa_states.json'\n",
    "with open(json_file) as f:\n",
    "    states = json.load(f)\n",
    "    \n",
    "#US - 20m\n",
    "json_file = input_folder + 'usa_states_20m.json'\n",
    "with open(json_file) as f:\n",
    "    states20m = json.load(f)\n",
    "    \n",
    "#US - 5m\n",
    "json_file = input_folder + 'usa_states_5m.json'\n",
    "with open(json_file) as f:\n",
    "    states5m = json.load(f)\n",
    "    \n",
    "#France - Region\n",
    "json_file = input_folder + 'france-region.json'\n",
    "with open(json_file) as f:\n",
    "    france_reg = json.load(f)\n",
    "    \n",
    "#France - Region\n",
    "json_file = input_folder + 'france-departement.json'\n",
    "with open(json_file) as f:\n",
    "    france_dep = json.load(f)\n",
    "    \n",
    "#World map\n",
    "json_file = input_folder + 'world-med.json'\n",
    "with open(json_file) as f:\n",
    "    worldmap = json.load(f)\n",
    "    \n",
    "def analysis(df,variable):\n",
    "    Min = df[variable].min()\n",
    "    Max = df[variable].max()\n",
    "    Avr = round(df[variable].mean(),0)\n",
    "    Med = round(np.median(df[variable]),0)\n",
    "    AvrMax = round((Avr / Max),2)\n",
    "    MedMax = round((Med / Max),2)\n",
    "    to_print = f'{variable} : Min: {Min}, Max: {Max}, Average: {Avr}, AvrMax: {AvrMax}, Med: {Med}, MedMax: {MedMax}'\n",
    "    return print(to_print)\n",
    "    \n",
    "#Fonction to add CSS\n",
    "def updateChartCss(filename, css_filename):\n",
    "    map = None\n",
    "    css = None\n",
    "    with open(filename) as f:\n",
    "        map = f.read()\n",
    "\n",
    "    with open(css_filename) as f:\n",
    "        css = f.read()\n",
    "    if (map.find('id=\"cs_css\"') != -1):\n",
    "        print(\"to do\")\n",
    "    else:\n",
    "        result = map.replace(\"<body>\",f'<body><style id=\"cs_css\">{css}</style>')\n",
    "        with open(filename, \"w\") as f:\n",
    "            f.write(result)\n",
    "            f.close()"
   ]
  },
  {
   "cell_type": "code",
   "execution_count": 10,
   "metadata": {},
   "outputs": [],
   "source": [
    "#-- Datasource : Check if url exists and return df\n",
    "# default seperator = ','\n",
    "def check_url(url,separator=','):\n",
    "    df = pd.DataFrame()\n",
    "    try:\n",
    "        df = pd.read_csv(url, sep=separator)\n",
    "    except Exception as e:\n",
    "        print(f'Error connecting to {url}.')\n",
    "        print(e.__doc__)\n",
    "        print(str(e)) \n",
    "    return df"
   ]
  },
  {
   "cell_type": "code",
   "execution_count": 11,
   "metadata": {},
   "outputs": [],
   "source": [
    "#-- Datasource local : open csv in local if path exists or open DB MONGO\n",
    "def get_datasource(src_name):\n",
    "    src_path = output_folder + src_name + '.csv'\n",
    "    if path.exists(src_path):\n",
    "        df= pd.read_csv(src_path, sep=';',low_memory=False)\n",
    "        if len(df) > 0 and 'Unnamed: 0' in df.columns:\n",
    "            df = df.drop('Unnamed: 0',axis=1)\n",
    "    else:\n",
    "        df= bob.mongo.read_df(src_name,db_src)\n",
    "        if len(df) > 0:\n",
    "            df= df.drop('_id', axis=1)\n",
    "        else:\n",
    "            print(f'Warning ! Source {src_name} does not exist in csv or in DB')\n",
    "    return df"
   ]
  },
  {
   "cell_type": "code",
   "execution_count": 12,
   "metadata": {},
   "outputs": [],
   "source": [
    "#-- Trend : Create date scenario\n",
    "#col scenario default : 'DATE_SCENARIO'\n",
    "def get_lastdays(df,limit,title,col='DATE_SCENARIO'):\n",
    "    df_b = pd.DataFrame()\n",
    "    if 'DATE_ORDER' in df.columns:\n",
    "        all_dates = df['DATE_ORDER'].sort_values(ascending=False).drop_duplicates().values.tolist()[:limit]\n",
    "    for d in all_dates:\n",
    "        tmp_df = df[df['DATE_ORDER'] == d]\n",
    "        df_b = df_b.append(tmp_df)\n",
    "        df_b[col] = title\n",
    "    return df_b"
   ]
  }
 ],
 "metadata": {
  "kernelspec": {
   "display_name": "Python 3",
   "language": "python",
   "name": "python3"
  },
  "language_info": {
   "codemirror_mode": {
    "name": "ipython",
    "version": 3
   },
   "file_extension": ".py",
   "mimetype": "text/x-python",
   "name": "python",
   "nbconvert_exporter": "python",
   "pygments_lexer": "ipython3",
   "version": "3.7.6"
  }
 },
 "nbformat": 4,
 "nbformat_minor": 4
}
