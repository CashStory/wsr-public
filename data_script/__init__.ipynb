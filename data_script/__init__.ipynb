{
 "cells": [
  {
   "cell_type": "code",
   "execution_count": 1,
   "metadata": {},
   "outputs": [
    {
     "name": "stdout",
     "output_type": "stream",
     "text": [
      "Requirement already satisfied: xlsxwriter in /home/ftp/.local/lib/python3.7/site-packages (1.2.9)\n"
     ]
    }
   ],
   "source": [
    "!pip install --user xlsxwriter "
   ]
  },
  {
   "cell_type": "code",
   "execution_count": 2,
   "metadata": {},
   "outputs": [],
   "source": [
    "# Import modules\n",
    "\n",
    "import bob\n",
    "import json\n",
    "from datetime import datetime, timedelta, date\n",
    "import time\n",
    "import pandas as pd\n",
    "import openpyxl\n",
    "import numpy as np\n",
    "from pymongo import ASCENDING, DESCENDING\n",
    "import os.path\n",
    "from os import path\n",
    "import plotly.express as px\n",
    "import sys"
   ]
  },
  {
   "cell_type": "code",
   "execution_count": 3,
   "metadata": {},
   "outputs": [],
   "source": [
    "# Set variables\n",
    "\n",
    "#-> Repository\n",
    "INPUT_FOLDER = os.path.join('..','data_input')\n",
    "OUTPUT_FOLDER = os.path.join('..','data_output')\n",
    "PARAM_FOLDER = os.path.join('..','..','_parameters')\n",
    "\n",
    "if path.exists(INPUT_FOLDER) == False:\n",
    "    os.mkdir(INPUT_FOLDER)\n",
    "    \n",
    "if path.exists(OUTPUT_FOLDER) == False:\n",
    "    os.mkdir(OUTPUT_FOLDER)\n",
    "\n",
    "#-> MongoDB\n",
    "USE_MONGO = True\n",
    "USE_HEALTHCHECKS = True\n",
    "DB_SRC = 'covid-19'\n",
    "DB_APP = 'app-wsr'\n",
    "\n",
    "#-> Date\n",
    "NOW = datetime.now().strftime('%d/%m/%Y %H:%M:%S')\n",
    "TODAY = date.today()\n",
    "YESTERDAY = (TODAY - timedelta(days = 1))\n",
    "B_YESTERDAY = (TODAY - timedelta(days = 2))\n",
    "\n",
    "#-> Other\n",
    "# logo_cs = os.path.join(INPUT_FOLDER,\"cashstory_all_white.png\")\n",
    "LOGO_CS = \"https://bob.cashstory.com/assets/images/cashstory_all_white.png\""
   ]
  },
  {
   "cell_type": "code",
   "execution_count": 4,
   "metadata": {},
   "outputs": [
    {
     "name": "stdout",
     "output_type": "stream",
     "text": [
      "Successfully connected to MongoDB\n"
     ]
    }
   ],
   "source": [
    "# Connect to MongoDB\n",
    "def connect_mongo():\n",
    "    # Init variables\n",
    "    mongo_conf = None\n",
    "    mongo_db = None\n",
    "    \n",
    "    # Load conf\n",
    "    CREDENTIALS = os.path.join(PARAM_FOLDER,'mongodb.json')\n",
    "    with open(CREDENTIALS) as f:\n",
    "        mongo_conf = json.load(f)\n",
    "        \n",
    "    mongo_host = mongo_conf[\"host\"]\n",
    "    mongo_port = mongo_conf[\"port\"]\n",
    "    mongo_username = mongo_conf[\"username\"]\n",
    "    mongo_password = mongo_conf[\"password\"]\n",
    "    \n",
    "    # Bob connect\n",
    "    mongo_db = bob.mongo.connect(mongo_host,mongo_port,mongo_username,mongo_password)\n",
    "    return mongo_db\n",
    "    \n",
    "if USE_MONGO:\n",
    "    MONGO_DB = connect_mongo()"
   ]
  },
  {
   "cell_type": "code",
   "execution_count": 5,
   "metadata": {},
   "outputs": [],
   "source": [
    "# Init REF WSR\n",
    "REF_WSR_NAME = 'REF_WSR'\n",
    "REF_WSR_PATH = os.path.join(INPUT_FOLDER,f'{REF_WSR_NAME}.xlsx')\n",
    "\n",
    "REF_FRANCE_NAME = 'REF_FRANCE'\n",
    "\n",
    "# Load REF_FRANCE\n",
    "def load_ref_france():\n",
    "    df = pd.read_excel(REF_WSR_PATH, sheet_name = REF_FRANCE_NAME)\n",
    "    df['DEP_CODE'] = df['DEP_CODE'].astype(str)\n",
    "    df['DEP_NAME'] = df['DEP_NAME'].astype(str)\n",
    "    df['DEP_FULL'] = df['DEP_CODE'] + ' - ' + df['DEP_NAME']\n",
    "    return df\n",
    "\n",
    "REF_FRANCE = load_ref_france()"
   ]
  },
  {
   "cell_type": "code",
   "execution_count": 6,
   "metadata": {},
   "outputs": [],
   "source": [
    "# Map chart\n",
    "#-> Load Basemap\n",
    "def load_map(file_name):\n",
    "    json_file = os.path.join(INPUT_FOLDER,f'{file_name}.json')\n",
    "    with open(json_file) as f:\n",
    "        cs_map = json.load(f)\n",
    "    return cs_map\n",
    "\n",
    "# US - 500K\n",
    "MAP_STATES = load_map('usa_states')\n",
    "    \n",
    "# US - 20m\n",
    "MAP_STATES_20M = load_map('usa_states_20m')\n",
    "    \n",
    "# US - 5m\n",
    "MAP_STATES_5M = load_map('usa_states_5m')\n",
    "    \n",
    "# France - Region\n",
    "MAP_FRANCE_REG = load_map('france-region')\n",
    "    \n",
    "# France - Region\n",
    "MAP_FRANCE_DEP = load_map('france-departement')\n",
    "    \n",
    "# World map\n",
    "WORLDMAP = load_map('world-med')\n",
    "\n",
    "#-> Function\n",
    "def analysis(df,variable):\n",
    "    Min = df[variable].min()\n",
    "    Max = df[variable].max()\n",
    "    Avr = round(df[variable].mean(),0)\n",
    "    Med = round(np.median(df[variable]),0)\n",
    "    AvrMax = round((Avr / Max),2)\n",
    "    MedMax = round((Med / Max),2)\n",
    "    to_print = f'{variable} : Min: {Min}, Max: {Max}, Average: {Avr}, AvrMax: {AvrMax}, Med: {Med}, MedMax: {MedMax}'\n",
    "    return print(to_print)\n",
    "    \n",
    "#Fonction to add CSS\n",
    "def updateChartCss(filename, css_filename):\n",
    "    map = None\n",
    "    css = None\n",
    "    with open(filename) as f:\n",
    "        map = f.read()\n",
    "\n",
    "    with open(css_filename) as f:\n",
    "        css = f.read()\n",
    "    if (map.find('id=\"cs_css\"') != -1):\n",
    "        print(\"to do\")\n",
    "    else:\n",
    "        result = map.replace(\"<body>\",f'<body><style id=\"cs_css\">{css}</style>')\n",
    "        with open(filename, \"w\") as f:\n",
    "            f.write(result)\n",
    "            f.close()"
   ]
  },
  {
   "cell_type": "code",
   "execution_count": 7,
   "metadata": {},
   "outputs": [],
   "source": [
    "#-- Datasource : Check if url exists and return df\n",
    "# default seperator = ','\n",
    "def check_url(url,separator=','):\n",
    "    df = pd.DataFrame()\n",
    "    try:\n",
    "        df = pd.read_csv(url, sep=separator)\n",
    "    except Exception as e:\n",
    "        print(f'Error connecting to {url}.')\n",
    "        print(e.__doc__)\n",
    "        print(str(e)) \n",
    "    return df"
   ]
  },
  {
   "cell_type": "code",
   "execution_count": 22,
   "metadata": {},
   "outputs": [],
   "source": [
    "#-- Datasource local : open csv in local if path exists or open DB MONGO\n",
    "def get_datasource(src_name):\n",
    "    src_path = os.path.join(OUTPUT_FOLDER,f'{src_name}.csv')\n",
    "    if path.exists(src_path):\n",
    "        df= pd.read_csv(src_path, sep=';',low_memory=False)\n",
    "        if len(df) > 0 and 'Unnamed: 0' in df.columns:\n",
    "            df = df.drop('Unnamed: 0',axis=1)\n",
    "    else:\n",
    "        df= bob.mongo.read_df(src_name,DB_SRC)\n",
    "        if len(df) > 0:\n",
    "            df= df.drop('_id', axis=1)\n",
    "        else:\n",
    "            print(f'Warning ! Source {src_name} does not exist in csv or in DB')\n",
    "    return df"
   ]
  },
  {
   "cell_type": "code",
   "execution_count": 9,
   "metadata": {},
   "outputs": [],
   "source": [
    "#-- Trend : Create date scenario\n",
    "#col scenario default : 'DATE_SCENARIO'\n",
    "def get_lastdays(df,limit,title,col='DATE_SCENARIO'):\n",
    "    df_b = pd.DataFrame()\n",
    "    if 'DATE_ORDER' in df.columns:\n",
    "        all_dates = df['DATE_ORDER'].sort_values(ascending=False).drop_duplicates().values.tolist()[:limit]\n",
    "    for d in all_dates:\n",
    "        tmp_df = df[df['DATE_ORDER'] == d]\n",
    "        df_b = df_b.append(tmp_df)\n",
    "        df_b[col] = title\n",
    "    return df_b"
   ]
  },
  {
   "cell_type": "code",
   "execution_count": 11,
   "metadata": {},
   "outputs": [],
   "source": [
    "def df_save(df,file_name,file_type):\n",
    "    if file_type == 'csv':\n",
    "        file_path = os.path.join(OUTPUT_FOLDER,f'{file_name}.csv')\n",
    "        df.to_csv(file_path, sep=';')\n",
    "        print(f'{file_name} successfully saved in {file_name}')"
   ]
  },
  {
   "cell_type": "code",
   "execution_count": 23,
   "metadata": {},
   "outputs": [],
   "source": [
    "# import xlsxwriter \n",
    "\n",
    "# def add_format_cs(writer,sheetname,df,start_row):\n",
    "#     # Get the xlsxwriter workbook and worksheet objects.\n",
    "#     workbook  = writer.book\n",
    "#     worksheet = writer.sheets[sheetname]\n",
    "    \n",
    "#     # Hide gridlines\n",
    "#     worksheet.hide_gridlines(2)\n",
    "\n",
    "#     # Add a header format.\n",
    "#     header_format = workbook.add_format({\n",
    "#         'bold': True,\n",
    "#         'text_wrap': False,\n",
    "#         'valign': 'center',\n",
    "#         'align': 'center',\n",
    "#         'font_name': 'Arial', \n",
    "#         'font_size': '10',\n",
    "#         'font_color': '#ffffff',\n",
    "#         'fg_color': '#4caf50',\n",
    "#         'border': 1,\n",
    "#         'border_color': '#808080'})\n",
    "\n",
    "#     # Write the column headers with the defined format.\n",
    "#     for col_num, value in enumerate(df.columns.values):\n",
    "#         worksheet.write(start_row, col_num, value, header_format)\n",
    "        \n",
    "#     # Auto-size colums length\n",
    "#     #Iterate through each column and set the width == the max length in that column. A padding length of 2 is also added.\n",
    "#     for i, col in enumerate(df.columns):\n",
    "#         # find length of column i\n",
    "#         column_len = df[col].astype(str).str.len().max()\n",
    "#         # Setting the length if the column header is larger\n",
    "#         # than the max column value length\n",
    "#         column_len = max(column_len, len(col)) + 2\n",
    "#         # set the column length\n",
    "#         worksheet.set_column(i, i, column_len)\n",
    "        \n",
    "#     # Add CS Logo\n",
    "#     worksheet.insert_image('A1', LOGO_CS, {'x_scale': 0.1, 'y_scale': 0.1})"
   ]
  },
  {
   "cell_type": "code",
   "execution_count": null,
   "metadata": {},
   "outputs": [],
   "source": []
  }
 ],
 "metadata": {
  "kernelspec": {
   "display_name": "Python 3",
   "language": "python",
   "name": "python3"
  },
  "language_info": {
   "codemirror_mode": {
    "name": "ipython",
    "version": 3
   },
   "file_extension": ".py",
   "mimetype": "text/x-python",
   "name": "python",
   "nbconvert_exporter": "python",
   "pygments_lexer": "ipython3",
   "version": "3.7.6"
  }
 },
 "nbformat": 4,
 "nbformat_minor": 4
}
