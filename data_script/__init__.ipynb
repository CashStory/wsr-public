{
 "cells": [
  {
   "cell_type": "code",
   "execution_count": null,
   "metadata": {},
   "outputs": [],
   "source": [
    "import json\n",
    "from datetime import datetime, timedelta, date\n",
    "import time\n",
    "import pandas as pd\n",
    "import openpyxl\n",
    "import numpy as np\n",
    "\n",
    "#--- STEP0 --- : Init\n",
    "#-> Repository\n",
    "input_folder = \"../data_input/\"\n",
    "output_folder = \"../data_output/\"\n",
    "param_folder = \"../../_parameters/\"\n",
    "\n",
    "#-> Date\n",
    "now = datetime.now().strftime('%d/%m/%Y %H:%M:%S')\n",
    "today = date.today()\n",
    "yesterday = (today - timedelta(days = 1))\n",
    "b_yesterday = (today - timedelta(days = 2))\n",
    "\n",
    "#-> Get credentials info\n",
    "credentials = param_folder + 'mongodb.json'\n",
    "with open(credentials) as f:\n",
    "    dbCon = json.load(f)\n",
    "\n",
    "mongo_host = dbCon[\"host\"]\n",
    "mongo_port = dbCon[\"port\"]\n",
    "mongo_username = dbCon[\"username\"]\n",
    "mongo_password = dbCon[\"password\"]\n",
    "\n",
    "#-> Bob connect\n",
    "MongoDB = bob.mongo.connect(mongo_host,mongo_port,mongo_username,mongo_password)\n",
    "db_src = 'covid-19-dev'\n",
    "db_app = 'app-wsr-dev'"
   ]
  }
 ],
 "metadata": {
  "kernelspec": {
   "display_name": "Python 3",
   "language": "python",
   "name": "python3"
  },
  "language_info": {
   "codemirror_mode": {
    "name": "ipython",
    "version": 3
   },
   "file_extension": ".py",
   "mimetype": "text/x-python",
   "name": "python",
   "nbconvert_exporter": "python",
   "pygments_lexer": "ipython3",
   "version": "3.7.6"
  }
 },
 "nbformat": 4,
 "nbformat_minor": 4
}
