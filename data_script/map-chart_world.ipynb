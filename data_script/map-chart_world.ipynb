{
 "cells": [
  {
   "cell_type": "code",
   "execution_count": 1,
   "metadata": {},
   "outputs": [],
   "source": [
    "# bob.refresh {\"cron\": \"15 2-12 * * *\", \"timeout\": 40000}\n",
    "# bob.static {\"token\": \"2490a15907a84c6992746a301472670f93d69adfd300d878d6ca779bd1fa\", \"path\": \"/home/ftp/ftp/dev/wsr-public/data_output/WORLD_CONFIRMED.html\", \"filename\": \"../data_output/WORLD_CONFIRMED.html\"}\n",
    "# bob.static {\"token\": \"a43c068d301b1bf55b676a083b4ee8fe8414f1802dfe0a2b70991b04a752\", \"path\": \"/home/ftp/ftp/dev/wsr-public/data_output/WORLD_ACTIVE_CASES.html\", \"filename\": \"../data_output/WORLD_ACTIVE_CASES.html\"}\n",
    "# bob.static {\"token\": \"e69a785963750df22b746d3d35342a166a2832dc336e6e587049b0afe7f6\", \"path\": \"/home/ftp/ftp/dev/wsr-public/data_output/WORLD_DEATHS.html\", \"filename\": \"../data_output/WORLD_DEATHS.html\"}\n",
    "# bob.static {\"token\": \"3bf81240bd15e2bb2560e1efdaeebd11252aead4a95563ab1d3a44d96505\", \"path\": \"/home/ftp/ftp/dev/wsr-public/data_output/WORLD_RECOVERED.html\", \"filename\": \"../data_output/WORLD_RECOVERED.html\"}\n",
    "# bob.static {\"token\": \"e7c1334f53011a89d687c022b9706cbac752c50dda0dd2c8256c515e1ba2\", \"path\": \"/home/ftp/ftp/dev/wsr-public/data_output/WORLD_FATALITY_RATE.html\", \"filename\": \"../data_output/WORLD_FATALITY_RATE.html\"}\n",
    "# bob.static {\"token\": \"8e1fc3f43fd3d171177998b992d81175eff70eb96f4c2d1151ae06823ed3\", \"path\": \"/home/ftp/ftp/dev/wsr-public/data_output/WORLD_RECOVERY_RATE.html\", \"filename\": \"../data_output/WORLD_RECOVERY_RATE.html\"}"
   ]
  },
  {
   "cell_type": "code",
   "execution_count": 2,
   "metadata": {},
   "outputs": [
    {
     "name": "stdout",
     "output_type": "stream",
     "text": [
      "Successfully connected to MongoDB\n"
     ]
    }
   ],
   "source": [
    "%run __init__.ipynb"
   ]
  },
  {
   "cell_type": "code",
   "execution_count": 3,
   "metadata": {},
   "outputs": [],
   "source": [
    "#--- Check if the data are already updated\n",
    "filePath = f'{output_folder}103_WORLD.csv'\n",
    "if path.exists(filePath):\n",
    "    df_check = pd.read_csv(filePath, sep=';',low_memory=False)\n",
    "    date_check = df_check[df_check['SCENARIO'] == yesterday.strftime('%d/%m/%Y')]\n",
    "    if len(date_check) > 0:\n",
    "        print(f'Data already updated ! DateTime : {now}')\n",
    "        %stop"
   ]
  },
  {
   "cell_type": "code",
   "execution_count": 4,
   "metadata": {},
   "outputs": [
    {
     "data": {
      "text/html": [
       "<div>\n",
       "<style scoped>\n",
       "    .dataframe tbody tr th:only-of-type {\n",
       "        vertical-align: middle;\n",
       "    }\n",
       "\n",
       "    .dataframe tbody tr th {\n",
       "        vertical-align: top;\n",
       "    }\n",
       "\n",
       "    .dataframe thead th {\n",
       "        text-align: right;\n",
       "    }\n",
       "</style>\n",
       "<table border=\"1\" class=\"dataframe\">\n",
       "  <thead>\n",
       "    <tr style=\"text-align: right;\">\n",
       "      <th></th>\n",
       "      <th>ENTITY</th>\n",
       "      <th>LABEL</th>\n",
       "      <th>KPI</th>\n",
       "      <th>VALUE</th>\n",
       "      <th>VALUE_D-1</th>\n",
       "      <th>VAR</th>\n",
       "      <th>VARP</th>\n",
       "      <th>SCENARIO</th>\n",
       "      <th>DATE_ORDER</th>\n",
       "      <th>UNIT_VALUE</th>\n",
       "      <th>WORLDMAP</th>\n",
       "      <th>WORLDMAP_CS</th>\n",
       "      <th>CONTINENT_CS</th>\n",
       "    </tr>\n",
       "  </thead>\n",
       "  <tbody>\n",
       "    <tr>\n",
       "      <th>0</th>\n",
       "      <td>Africa</td>\n",
       "      <td>Algeria</td>\n",
       "      <td>Confirmed</td>\n",
       "      <td>4474.0</td>\n",
       "      <td>4295.0</td>\n",
       "      <td>179.0</td>\n",
       "      <td>4.167637</td>\n",
       "      <td>03/05/2020</td>\n",
       "      <td>20200503</td>\n",
       "      <td>cases</td>\n",
       "      <td>Algeria</td>\n",
       "      <td>Algeria</td>\n",
       "      <td>Africa</td>\n",
       "    </tr>\n",
       "    <tr>\n",
       "      <th>1</th>\n",
       "      <td>Africa</td>\n",
       "      <td>Angola</td>\n",
       "      <td>Confirmed</td>\n",
       "      <td>35.0</td>\n",
       "      <td>35.0</td>\n",
       "      <td>0.0</td>\n",
       "      <td>0.000000</td>\n",
       "      <td>03/05/2020</td>\n",
       "      <td>20200503</td>\n",
       "      <td>cases</td>\n",
       "      <td>Angola</td>\n",
       "      <td>Angola</td>\n",
       "      <td>Africa</td>\n",
       "    </tr>\n",
       "    <tr>\n",
       "      <th>2</th>\n",
       "      <td>Africa</td>\n",
       "      <td>Benin</td>\n",
       "      <td>Confirmed</td>\n",
       "      <td>90.0</td>\n",
       "      <td>90.0</td>\n",
       "      <td>0.0</td>\n",
       "      <td>0.000000</td>\n",
       "      <td>03/05/2020</td>\n",
       "      <td>20200503</td>\n",
       "      <td>cases</td>\n",
       "      <td>Benin</td>\n",
       "      <td>Benin</td>\n",
       "      <td>Africa</td>\n",
       "    </tr>\n",
       "    <tr>\n",
       "      <th>3</th>\n",
       "      <td>Africa</td>\n",
       "      <td>Botswana</td>\n",
       "      <td>Confirmed</td>\n",
       "      <td>23.0</td>\n",
       "      <td>23.0</td>\n",
       "      <td>0.0</td>\n",
       "      <td>0.000000</td>\n",
       "      <td>03/05/2020</td>\n",
       "      <td>20200503</td>\n",
       "      <td>cases</td>\n",
       "      <td>Botswana</td>\n",
       "      <td>Botswana</td>\n",
       "      <td>Africa</td>\n",
       "    </tr>\n",
       "    <tr>\n",
       "      <th>4</th>\n",
       "      <td>Africa</td>\n",
       "      <td>Burkina Faso</td>\n",
       "      <td>Confirmed</td>\n",
       "      <td>662.0</td>\n",
       "      <td>652.0</td>\n",
       "      <td>10.0</td>\n",
       "      <td>1.533742</td>\n",
       "      <td>03/05/2020</td>\n",
       "      <td>20200503</td>\n",
       "      <td>cases</td>\n",
       "      <td>Burkina Faso</td>\n",
       "      <td>Burkina Faso</td>\n",
       "      <td>Africa</td>\n",
       "    </tr>\n",
       "  </tbody>\n",
       "</table>\n",
       "</div>"
      ],
      "text/plain": [
       "   ENTITY         LABEL        KPI   VALUE  VALUE_D-1    VAR      VARP  \\\n",
       "0  Africa       Algeria  Confirmed  4474.0     4295.0  179.0  4.167637   \n",
       "1  Africa        Angola  Confirmed    35.0       35.0    0.0  0.000000   \n",
       "2  Africa         Benin  Confirmed    90.0       90.0    0.0  0.000000   \n",
       "3  Africa      Botswana  Confirmed    23.0       23.0    0.0  0.000000   \n",
       "4  Africa  Burkina Faso  Confirmed   662.0      652.0   10.0  1.533742   \n",
       "\n",
       "     SCENARIO  DATE_ORDER UNIT_VALUE      WORLDMAP   WORLDMAP_CS CONTINENT_CS  \n",
       "0  03/05/2020    20200503      cases       Algeria       Algeria       Africa  \n",
       "1  03/05/2020    20200503      cases        Angola        Angola       Africa  \n",
       "2  03/05/2020    20200503      cases         Benin         Benin       Africa  \n",
       "3  03/05/2020    20200503      cases      Botswana      Botswana       Africa  \n",
       "4  03/05/2020    20200503      cases  Burkina Faso  Burkina Faso       Africa  "
      ]
     },
     "execution_count": 4,
     "metadata": {},
     "output_type": "execute_result"
    }
   ],
   "source": [
    "bob_statics = ''\n",
    "df = pd.read_csv(output_folder + '103.csv',sep=\";\").drop('Unnamed: 0',axis=1)\n",
    "filters = ['Europe','Asia','Africa','North America','South America','Oceania','Other','To be affected']\n",
    "df = df[(df['ENTITY'].isin(filters)) & (df['SCENARIO'] == yesterday.strftime('%d/%m/%Y'))].reset_index(drop=True)\n",
    "if len(df) == 0:\n",
    "    print(f'Data not updated ! DateTime : {now}')\n",
    "    %stop\n",
    "else:\n",
    "    df.to_csv(output_folder + '103_WORLD.csv',sep=\";\")\n",
    "df.head(5)"
   ]
  },
  {
   "cell_type": "code",
   "execution_count": 6,
   "metadata": {},
   "outputs": [],
   "source": [
    "#Var France\n",
    "map_center = {\"lat\": 46.7667, \"lon\": 2.45}\n",
    "def create_map(df,geo,dfKey,geoKey,scale,colors,map_center,label,file_html):\n",
    "    fig = px.choropleth_mapbox(df, \n",
    "                               geojson=geo, \n",
    "                               color=\"VALUE\",\n",
    "                               locations=dfKey, \n",
    "                               featureidkey=geoKey,\n",
    "                               range_color=scale,\n",
    "                               color_continuous_scale=colors,\n",
    "                               mapbox_style=\"carto-positron\", \n",
    "                               zoom=1, \n",
    "                               center=map_center,\n",
    "                               hover_data=[\"VALUE\",\"VAR\"],\n",
    "                               labels=label,\n",
    "                              )\n",
    "    fig.update_layout(margin={\"r\":0,\"l\":0,},autosize=True)\n",
    "    fig.write_html(f\"{output_folder}{file_html}\")\n",
    "    updateChartCss(f\"{output_folder}{file_html}\", f\"{input_folder}map.css\")\n",
    "#     return fig"
   ]
  },
  {
   "cell_type": "code",
   "execution_count": 7,
   "metadata": {},
   "outputs": [
    {
     "name": "stdout",
     "output_type": "stream",
     "text": [
      "VALUE : Min: 3.0, Max: 1158040.0, Average: 18753.0, AvrMax: 0.02, Med: 795.0, MedMax: 0.0\n"
     ]
    }
   ],
   "source": [
    "#Confirmed\n",
    "kpi = 'Confirmed'\n",
    "file_html = \"WORLD_CONFIRMED.html\"\n",
    "\n",
    "df_map = df.copy()[(df['KPI'] == kpi)]\n",
    "analysis(df_map,'VALUE')\n",
    "\n",
    "scale = (0,500000)\n",
    "colors = [\n",
    "    [0.00, \"#FFFFFF\"],\n",
    "    [0.01,\"#B3D7D2\"],\n",
    "    [0.05, \"#81B1BD\"],\n",
    "    [0.1, \"#437F9D\"],\n",
    "    [1.0, \"#00354E\"]\n",
    "]\n",
    "dfKey = \"WORLDMAP_CS\"\n",
    "geoKey=\"properties.name\"\n",
    "to_rename = {'WORLDMAP_CS':'Country','VALUE': kpi, 'VAR': 'Var. in cases'}\n",
    "create_map(df_map,worldmap,dfKey,geoKey,scale,colors,map_center,to_rename,file_html)\n",
    "\n",
    "#Make html visible\n",
    "bob_static = bob.makeStaticGettable(output_folder + file_html,\"dev\")\n",
    "token_conf = bob_static[24:84]\n",
    "bob_statics = f\"{bob_statics}{bob_static}\\n\""
   ]
  },
  {
   "cell_type": "code",
   "execution_count": 8,
   "metadata": {},
   "outputs": [
    {
     "name": "stdout",
     "output_type": "stream",
     "text": [
      "VALUE : Min: 0.0, Max: 910206.0, Average: 11412.0, AvrMax: 0.01, Med: 455.0, MedMax: 0.0\n"
     ]
    }
   ],
   "source": [
    "#\"Active cases\"\n",
    "kpi = \"Active cases\"\n",
    "file_html = \"WORLD_ACTIVE_CASES.html\"\n",
    "\n",
    "df_map = df.copy()[(df['KPI'] == kpi)]\n",
    "analysis(df_map,'VALUE')\n",
    "\n",
    "scale = (0,500000)\n",
    "colors = [\n",
    "    [0.00, \"#FFFFFF\"],\n",
    "    [0.01,\"#B3D7D2\"],\n",
    "    [0.05, \"#81B1BD\"],\n",
    "    [0.1, \"#437F9D\"],\n",
    "    [1.0, \"#00354E\"]\n",
    "]\n",
    "dfKey = \"WORLDMAP_CS\"\n",
    "geoKey=\"properties.name\"\n",
    "to_rename = {'WORLDMAP_CS':'Country','VALUE': kpi, 'VAR': 'Var. in cases'}\n",
    "create_map(df_map,worldmap,dfKey,geoKey,scale,colors,map_center,to_rename,file_html)\n",
    "\n",
    "#Make html visible\n",
    "bob_static = bob.makeStaticGettable(output_folder + file_html,\"dev\")\n",
    "token_acti = bob_static[24:84]\n",
    "bob_statics = f\"{bob_statics}{bob_static}\\n\""
   ]
  },
  {
   "cell_type": "code",
   "execution_count": 9,
   "metadata": {},
   "outputs": [
    {
     "name": "stdout",
     "output_type": "stream",
     "text": [
      "VALUE : Min: 0.0, Max: 67682.0, Average: 1323.0, AvrMax: 0.02, Med: 17.0, MedMax: 0.0\n"
     ]
    }
   ],
   "source": [
    "#\"Deaths\"\n",
    "kpi = \"Deaths\"\n",
    "file_html = \"WORLD_DEATHS.html\"\n",
    "\n",
    "df_map = df.copy()[(df['KPI'] == kpi)]\n",
    "analysis(df_map,'VALUE')\n",
    "\n",
    "scale = (0,50000)\n",
    "colors = [\n",
    "    [0.00, \"#FFFFFF\"],\n",
    "    [0.01,\"#B3D7D2\"],\n",
    "    [0.05, \"#81B1BD\"],\n",
    "    [0.1, \"#437F9D\"],\n",
    "    [1.0, \"#00354E\"]\n",
    "]\n",
    "dfKey = \"WORLDMAP_CS\"\n",
    "geoKey=\"properties.name\"\n",
    "to_rename = {'WORLDMAP_CS':'Country','VALUE': kpi, 'VAR': 'Var. in cases'}\n",
    "create_map(df_map,worldmap,dfKey,geoKey,scale,colors,map_center,to_rename,file_html)\n",
    "\n",
    "#Make html visible\n",
    "bob_static = bob.makeStaticGettable(output_folder + file_html,\"dev\")\n",
    "token_deat = bob_static[24:84]\n",
    "bob_statics = f\"{bob_statics}{bob_static}\\n\""
   ]
  },
  {
   "cell_type": "code",
   "execution_count": 10,
   "metadata": {},
   "outputs": [
    {
     "name": "stdout",
     "output_type": "stream",
     "text": [
      "VALUE : Min: 0.0, Max: 180152.0, Average: 6017.0, AvrMax: 0.03, Med: 328.0, MedMax: 0.0\n"
     ]
    }
   ],
   "source": [
    "#\"Recovered\"\n",
    "kpi = \"Recovered\"\n",
    "file_html = \"WORLD_RECOVERED.html\"\n",
    "\n",
    "df_map = df.copy()[(df['KPI'] == kpi)]\n",
    "analysis(df_map,'VALUE')\n",
    "\n",
    "scale = (0,100000)\n",
    "colors = [\n",
    "    [0.00, \"#FFFFFF\"],\n",
    "    [0.01,\"#B3D7D2\"],\n",
    "    [0.05, \"#81B1BD\"],\n",
    "    [0.1, \"#437F9D\"],\n",
    "    [1.0, \"#00354E\"]\n",
    "]\n",
    "dfKey = \"WORLDMAP_CS\"\n",
    "geoKey=\"properties.name\"\n",
    "to_rename = {'WORLDMAP_CS':'Country','VALUE': kpi, 'VAR': 'Var. in cases'}\n",
    "create_map(df_map,worldmap,dfKey,geoKey,scale,colors,map_center,to_rename,file_html)\n",
    "\n",
    "#Make html visible\n",
    "bob_static = bob.makeStaticGettable(output_folder + file_html,\"dev\")\n",
    "token_reco = bob_static[24:84]\n",
    "bob_statics = f\"{bob_statics}{bob_static}\\n\""
   ]
  },
  {
   "cell_type": "code",
   "execution_count": 11,
   "metadata": {},
   "outputs": [
    {
     "name": "stdout",
     "output_type": "stream",
     "text": [
      "VALUE : Min: 0.0, Max: 33.33, Average: 4.0, AvrMax: 0.12, Med: 3.0, MedMax: 0.09\n"
     ]
    }
   ],
   "source": [
    "#\"Fatality Rate\"\n",
    "kpi = \"Fatality Rate\"\n",
    "file_html = \"WORLD_FATALITY_RATE.html\"\n",
    "\n",
    "df_map = df.copy()[(df['KPI'] == kpi)]\n",
    "df_map['VALUE'] = round(df_map['VALUE'],2)\n",
    "df_map['VAR'] = round(df_map['VAR'],2)\n",
    "analysis(df_map,'VALUE')\n",
    "\n",
    "scale = (0,10)\n",
    "colors = [\n",
    "    [0.0, \"#FFFFFF\"],\n",
    "    [0.25,\"#B3D7D2\"],\n",
    "    [0.5, \"#81B1BD\"],\n",
    "    [0.75, \"#437F9D\"],\n",
    "    [1.0, \"#00354E\"]\n",
    "]\n",
    "dfKey = \"WORLDMAP_CS\"\n",
    "geoKey=\"properties.name\"\n",
    "to_rename = {'WORLDMAP_CS':'Country','VALUE': kpi, 'VAR': 'Var. in pts'}\n",
    "create_map(df_map,worldmap,dfKey,geoKey,scale,colors,map_center,to_rename,file_html)\n",
    "\n",
    "#Make html visible\n",
    "bob_static = bob.makeStaticGettable(output_folder + file_html,\"dev\")\n",
    "token_fata_rt = bob_static[24:84]\n",
    "bob_statics = f\"{bob_statics}{bob_static}\\n\""
   ]
  },
  {
   "cell_type": "code",
   "execution_count": 12,
   "metadata": {},
   "outputs": [
    {
     "name": "stdout",
     "output_type": "stream",
     "text": [
      "VALUE : Min: 0.0, Max: 98.36, Average: 42.0, AvrMax: 0.43, Med: 38.0, MedMax: 0.39\n"
     ]
    }
   ],
   "source": [
    "#\"Recovery Rate\"\n",
    "kpi = \"Recovery Rate\"\n",
    "file_html = \"WORLD_RECOVERY_RATE.html\"\n",
    "\n",
    "df_map = df.copy()[(df['KPI'] == kpi)]\n",
    "df_map['VALUE'] = round(df_map['VALUE'],2)\n",
    "df_map['VAR'] = round(df_map['VAR'],2)\n",
    "analysis(df_map,'VALUE')\n",
    "\n",
    "scale = (0,100)\n",
    "colors = [\n",
    "    [0.0, \"#FFFFFF\"],\n",
    "    [0.15,\"#B3D7D2\"],\n",
    "    [0.25, \"#81B1BD\"],\n",
    "    [0.5, \"#437F9D\"],\n",
    "    [1.0, \"#00354E\"]\n",
    "]\n",
    "dfKey = \"WORLDMAP_CS\"\n",
    "geoKey=\"properties.name\"\n",
    "to_rename = {'WORLDMAP_CS':'Country','VALUE': kpi, 'VAR': 'Var. in pts'}\n",
    "create_map(df_map,worldmap,dfKey,geoKey,scale,colors,map_center,to_rename,file_html)\n",
    "\n",
    "#Make html visible\n",
    "bob_static = bob.makeStaticGettable(output_folder + file_html,\"dev\")\n",
    "token_reco_rt = bob_static[24:84]\n",
    "bob_statics = f\"{bob_statics}{bob_static}\\n\""
   ]
  },
  {
   "cell_type": "code",
   "execution_count": 13,
   "metadata": {},
   "outputs": [
    {
     "name": "stdout",
     "output_type": "stream",
     "text": [
      "Dataframe 111 successfully save in database app-wsr-dev in MongoDB. Time: --- 0.021414518356323242 secnds ---\n"
     ]
    },
    {
     "data": {
      "text/html": [
       "<div>\n",
       "<style scoped>\n",
       "    .dataframe tbody tr th:only-of-type {\n",
       "        vertical-align: middle;\n",
       "    }\n",
       "\n",
       "    .dataframe tbody tr th {\n",
       "        vertical-align: top;\n",
       "    }\n",
       "\n",
       "    .dataframe thead th {\n",
       "        text-align: right;\n",
       "    }\n",
       "</style>\n",
       "<table border=\"1\" class=\"dataframe\">\n",
       "  <thead>\n",
       "    <tr style=\"text-align: right;\">\n",
       "      <th></th>\n",
       "      <th>URL</th>\n",
       "      <th>KPI</th>\n",
       "      <th>VALUE</th>\n",
       "    </tr>\n",
       "  </thead>\n",
       "  <tbody>\n",
       "    <tr>\n",
       "      <th>0</th>\n",
       "      <td>https://api.dev.cashstory.com/api/v1/notebook/...</td>\n",
       "      <td>Confirmed</td>\n",
       "      <td>&lt;iframe src='https://api.dev.cashstory.com/api...</td>\n",
       "    </tr>\n",
       "    <tr>\n",
       "      <th>1</th>\n",
       "      <td>https://api.dev.cashstory.com/api/v1/notebook/...</td>\n",
       "      <td>Active cases</td>\n",
       "      <td>&lt;iframe src='https://api.dev.cashstory.com/api...</td>\n",
       "    </tr>\n",
       "    <tr>\n",
       "      <th>2</th>\n",
       "      <td>https://api.dev.cashstory.com/api/v1/notebook/...</td>\n",
       "      <td>Deaths</td>\n",
       "      <td>&lt;iframe src='https://api.dev.cashstory.com/api...</td>\n",
       "    </tr>\n",
       "    <tr>\n",
       "      <th>3</th>\n",
       "      <td>https://api.dev.cashstory.com/api/v1/notebook/...</td>\n",
       "      <td>Recovered</td>\n",
       "      <td>&lt;iframe src='https://api.dev.cashstory.com/api...</td>\n",
       "    </tr>\n",
       "    <tr>\n",
       "      <th>4</th>\n",
       "      <td>https://api.dev.cashstory.com/api/v1/notebook/...</td>\n",
       "      <td>Fatality Rate</td>\n",
       "      <td>&lt;iframe src='https://api.dev.cashstory.com/api...</td>\n",
       "    </tr>\n",
       "    <tr>\n",
       "      <th>5</th>\n",
       "      <td>https://api.dev.cashstory.com/api/v1/notebook/...</td>\n",
       "      <td>Recovery Rate</td>\n",
       "      <td>&lt;iframe src='https://api.dev.cashstory.com/api...</td>\n",
       "    </tr>\n",
       "  </tbody>\n",
       "</table>\n",
       "</div>"
      ],
      "text/plain": [
       "                                                 URL            KPI  \\\n",
       "0  https://api.dev.cashstory.com/api/v1/notebook/...      Confirmed   \n",
       "1  https://api.dev.cashstory.com/api/v1/notebook/...   Active cases   \n",
       "2  https://api.dev.cashstory.com/api/v1/notebook/...         Deaths   \n",
       "3  https://api.dev.cashstory.com/api/v1/notebook/...      Recovered   \n",
       "4  https://api.dev.cashstory.com/api/v1/notebook/...  Fatality Rate   \n",
       "5  https://api.dev.cashstory.com/api/v1/notebook/...  Recovery Rate   \n",
       "\n",
       "                                               VALUE  \n",
       "0  <iframe src='https://api.dev.cashstory.com/api...  \n",
       "1  <iframe src='https://api.dev.cashstory.com/api...  \n",
       "2  <iframe src='https://api.dev.cashstory.com/api...  \n",
       "3  <iframe src='https://api.dev.cashstory.com/api...  \n",
       "4  <iframe src='https://api.dev.cashstory.com/api...  \n",
       "5  <iframe src='https://api.dev.cashstory.com/api...  "
      ]
     },
     "execution_count": 13,
     "metadata": {},
     "output_type": "execute_result"
    }
   ],
   "source": [
    "#html\n",
    "confirmed = [{'URL' : 'https://api.dev.cashstory.com/api/v1/notebook/bob_40cashstory_2Ecom/2490a15907a84c6992746a301472670f93d69adfd300d878d6ca779bd1fa', 'KPI' : \"Confirmed\"}]\n",
    "active_cases = [{'URL' : 'https://api.dev.cashstory.com/api/v1/notebook/bob_40cashstory_2Ecom/a43c068d301b1bf55b676a083b4ee8fe8414f1802dfe0a2b70991b04a752', 'KPI' : \"Active cases\"}]\n",
    "deaths = [{'URL' : 'https://api.dev.cashstory.com/api/v1/notebook/bob_40cashstory_2Ecom/e69a785963750df22b746d3d35342a166a2832dc336e6e587049b0afe7f6', 'KPI' : \"Deaths\"}]\n",
    "recovered = [{'URL' : 'https://api.dev.cashstory.com/api/v1/notebook/bob_40cashstory_2Ecom/3bf81240bd15e2bb2560e1efdaeebd11252aead4a95563ab1d3a44d96505', 'KPI' : \"Recovered\"}]\n",
    "fatality_rate = [{'URL' : 'https://api.dev.cashstory.com/api/v1/notebook/bob_40cashstory_2Ecom/e7c1334f53011a89d687c022b9706cbac752c50dda0dd2c8256c515e1ba2', 'KPI' : \"Fatality Rate\"}]\n",
    "recovery_rate = [{'URL' : 'https://api.dev.cashstory.com/api/v1/notebook/bob_40cashstory_2Ecom/8e1fc3f43fd3d171177998b992d81175eff70eb96f4c2d1151ae06823ed3', 'KPI' : \"Recovery Rate\"}]\n",
    "\n",
    "\n",
    "list_kpis = confirmed + active_cases + deaths + recovered + fatality_rate + recovery_rate\n",
    "domain = pd.DataFrame(list_kpis)\n",
    "domain.loc[:,'VALUE'] = \"\"\"<iframe src='\"\"\"+ domain['URL'] +\"\"\"' frameborder='0' style='overflow:hidden;height:85vh;width:100%' height='100%' width='100%'></iframe> <style>.modebar{display: none!important;}</style>\"\"\"\n",
    "if use_mongo:\n",
    "    bob.mongo.save_df(domain,'111',db_app,True)\n",
    "domain"
   ]
  }
 ],
 "metadata": {
  "kernelspec": {
   "display_name": "Python 3",
   "language": "python",
   "name": "python3"
  },
  "language_info": {
   "codemirror_mode": {
    "name": "ipython",
    "version": 3
   },
   "file_extension": ".py",
   "mimetype": "text/x-python",
   "name": "python",
   "nbconvert_exporter": "python",
   "pygments_lexer": "ipython3",
   "version": "3.7.6"
  }
 },
 "nbformat": 4,
 "nbformat_minor": 4
}
