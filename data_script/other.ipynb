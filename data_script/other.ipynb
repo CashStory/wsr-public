{
 "cells": [
  {
   "cell_type": "code",
   "execution_count": 1,
   "metadata": {},
   "outputs": [],
   "source": [
    "# bob.refresh {\"cron\": \"*/30 * * * *\", \"timeout\": 40000}"
   ]
  },
  {
   "cell_type": "code",
   "execution_count": 2,
   "metadata": {},
   "outputs": [
    {
     "name": "stdout",
     "output_type": "stream",
     "text": [
      "HealthCheck init in prod mode\n",
      "Start ==> send to https://health.cashstory.com/ping/608ba515-2285-45ad-92d4-47491493ac12, 2020-04-23\n"
     ]
    }
   ],
   "source": [
    "import bob\n",
    "hc = bob.HealthCheck()\n",
    "hc_key = \"608ba515-2285-45ad-92d4-47491493ac12\"\n",
    "start = hc.start(hc_key)\n",
    "print(start)"
   ]
  },
  {
   "cell_type": "code",
   "execution_count": 3,
   "metadata": {},
   "outputs": [
    {
     "name": "stdout",
     "output_type": "stream",
     "text": [
      "Collecting google-api-python-client\n",
      "  Downloading google_api_python_client-1.8.2-py3-none-any.whl (58 kB)\n",
      "\u001b[K     |████████████████████████████████| 58 kB 10.3 MB/s eta 0:00:01\n",
      "\u001b[?25hCollecting oauth2client\n",
      "  Downloading oauth2client-4.1.3-py2.py3-none-any.whl (98 kB)\n",
      "\u001b[K     |████████████████████████████████| 98 kB 9.9 MB/s  eta 0:00:01\n",
      "\u001b[?25hRequirement already satisfied, skipping upgrade: google-api-core<2dev,>=1.13.0 in /opt/conda/lib/python3.7/site-packages (from google-api-python-client) (1.17.0)\n",
      "Requirement already satisfied, skipping upgrade: uritemplate<4dev,>=3.0.0 in /opt/conda/lib/python3.7/site-packages (from google-api-python-client) (3.0.1)\n",
      "Requirement already satisfied, skipping upgrade: six<2dev,>=1.6.1 in /opt/conda/lib/python3.7/site-packages (from google-api-python-client) (1.14.0)\n",
      "Requirement already satisfied, skipping upgrade: google-auth>=1.4.1 in /opt/conda/lib/python3.7/site-packages (from google-api-python-client) (1.14.1)\n",
      "Requirement already satisfied, skipping upgrade: httplib2<1dev,>=0.9.2 in /opt/conda/lib/python3.7/site-packages (from google-api-python-client) (0.17.3)\n",
      "Requirement already satisfied, skipping upgrade: google-auth-httplib2>=0.0.3 in /opt/conda/lib/python3.7/site-packages (from google-api-python-client) (0.0.3)\n",
      "Requirement already satisfied, skipping upgrade: pyasn1-modules>=0.0.5 in /opt/conda/lib/python3.7/site-packages (from oauth2client) (0.2.8)\n",
      "Requirement already satisfied, skipping upgrade: rsa>=3.1.4 in /opt/conda/lib/python3.7/site-packages (from oauth2client) (4.0)\n",
      "Requirement already satisfied, skipping upgrade: pyasn1>=0.1.7 in /opt/conda/lib/python3.7/site-packages (from oauth2client) (0.4.8)\n",
      "Requirement already satisfied, skipping upgrade: pytz in /opt/conda/lib/python3.7/site-packages (from google-api-core<2dev,>=1.13.0->google-api-python-client) (2019.3)\n",
      "Requirement already satisfied, skipping upgrade: setuptools>=34.0.0 in /opt/conda/lib/python3.7/site-packages (from google-api-core<2dev,>=1.13.0->google-api-python-client) (46.0.0.post20200311)\n",
      "Requirement already satisfied, skipping upgrade: googleapis-common-protos<2.0dev,>=1.6.0 in /opt/conda/lib/python3.7/site-packages (from google-api-core<2dev,>=1.13.0->google-api-python-client) (1.51.0)\n",
      "Requirement already satisfied, skipping upgrade: requests<3.0.0dev,>=2.18.0 in /opt/conda/lib/python3.7/site-packages (from google-api-core<2dev,>=1.13.0->google-api-python-client) (2.23.0)\n",
      "Requirement already satisfied, skipping upgrade: protobuf>=3.4.0 in /opt/conda/lib/python3.7/site-packages (from google-api-core<2dev,>=1.13.0->google-api-python-client) (3.11.3)\n",
      "Requirement already satisfied, skipping upgrade: cachetools<5.0,>=2.0.0 in /opt/conda/lib/python3.7/site-packages (from google-auth>=1.4.1->google-api-python-client) (4.1.0)\n",
      "Requirement already satisfied, skipping upgrade: urllib3!=1.25.0,!=1.25.1,<1.26,>=1.21.1 in /opt/conda/lib/python3.7/site-packages (from requests<3.0.0dev,>=2.18.0->google-api-core<2dev,>=1.13.0->google-api-python-client) (1.25.8)\n",
      "Requirement already satisfied, skipping upgrade: chardet<4,>=3.0.2 in /opt/conda/lib/python3.7/site-packages (from requests<3.0.0dev,>=2.18.0->google-api-core<2dev,>=1.13.0->google-api-python-client) (3.0.4)\n",
      "Requirement already satisfied, skipping upgrade: idna<3,>=2.5 in /opt/conda/lib/python3.7/site-packages (from requests<3.0.0dev,>=2.18.0->google-api-core<2dev,>=1.13.0->google-api-python-client) (2.9)\n",
      "Requirement already satisfied, skipping upgrade: certifi>=2017.4.17 in /opt/conda/lib/python3.7/site-packages (from requests<3.0.0dev,>=2.18.0->google-api-core<2dev,>=1.13.0->google-api-python-client) (2019.11.28)\n",
      "Installing collected packages: google-api-python-client, oauth2client\n",
      "  Attempting uninstall: google-api-python-client\n",
      "    Found existing installation: google-api-python-client 1.8.0\n",
      "    Uninstalling google-api-python-client-1.8.0:\n",
      "\u001b[31mERROR: Could not install packages due to an EnvironmentError: [Errno 13] Permission denied: '__init__.py'\n",
      "Consider using the `--user` option or check the permissions.\n",
      "\u001b[0m\n"
     ]
    }
   ],
   "source": [
    "!pip install --upgrade google-api-python-client oauth2client"
   ]
  },
  {
   "cell_type": "code",
   "execution_count": 4,
   "metadata": {},
   "outputs": [
    {
     "name": "stdout",
     "output_type": "stream",
     "text": [
      "Successfully connected to MongoDB\n"
     ]
    }
   ],
   "source": [
    "%run __init__.ipynb"
   ]
  },
  {
   "cell_type": "code",
   "execution_count": 5,
   "metadata": {},
   "outputs": [
    {
     "ename": "ModuleNotFoundError",
     "evalue": "No module named 'oauth2client'",
     "output_type": "error",
     "traceback": [
      "\u001b[0;31m---------------------------------------------------------------------------\u001b[0m",
      "\u001b[0;31mModuleNotFoundError\u001b[0m                       Traceback (most recent call last)",
      "\u001b[0;32m<ipython-input-5-29088af2861b>\u001b[0m in \u001b[0;36m<module>\u001b[0;34m\u001b[0m\n\u001b[1;32m      2\u001b[0m \u001b[0;34m\u001b[0m\u001b[0m\n\u001b[1;32m      3\u001b[0m \u001b[0;32mfrom\u001b[0m \u001b[0mgoogleapiclient\u001b[0m\u001b[0;34m.\u001b[0m\u001b[0mdiscovery\u001b[0m \u001b[0;32mimport\u001b[0m \u001b[0mbuild\u001b[0m\u001b[0;34m\u001b[0m\u001b[0;34m\u001b[0m\u001b[0m\n\u001b[0;32m----> 4\u001b[0;31m \u001b[0;32mfrom\u001b[0m \u001b[0moauth2client\u001b[0m\u001b[0;34m.\u001b[0m\u001b[0mservice_account\u001b[0m \u001b[0;32mimport\u001b[0m \u001b[0mServiceAccountCredentials\u001b[0m\u001b[0;34m\u001b[0m\u001b[0;34m\u001b[0m\u001b[0m\n\u001b[0m\u001b[1;32m      5\u001b[0m \u001b[0;34m\u001b[0m\u001b[0m\n\u001b[1;32m      6\u001b[0m \u001b[0mSCOPES\u001b[0m \u001b[0;34m=\u001b[0m \u001b[0;34m[\u001b[0m\u001b[0;34m'https://www.googleapis.com/auth/analytics.readonly'\u001b[0m\u001b[0;34m]\u001b[0m\u001b[0;34m\u001b[0m\u001b[0;34m\u001b[0m\u001b[0m\n",
      "\u001b[0;31mModuleNotFoundError\u001b[0m: No module named 'oauth2client'"
     ]
    }
   ],
   "source": [
    "\"\"\"Hello Analytics Reporting API V4.\"\"\"\n",
    "\n",
    "from googleapiclient.discovery import build\n",
    "from oauth2client.service_account import ServiceAccountCredentials\n",
    "\n",
    "SCOPES = ['https://www.googleapis.com/auth/analytics.readonly']\n",
    "KEY_FILE_LOCATION = param_folder + 'analytics_id_read.json'\n",
    "VIEW_ID = '214312751'\n",
    "METRICS = [{'expression': 'ga:users'}]\n",
    "# metrics = [{'expression': 'ga:sessions'}]\n",
    "DIMENTIONS = [{'name': 'ga:country'}]\n",
    "FIRSTDATA = 30\n",
    "\n",
    "def initialize_analyticsreporting():\n",
    "  \"\"\"Initializes an Analytics Reporting API V4 service object.\n",
    "\n",
    "  Returns:\n",
    "    An authorized Analytics Reporting API V4 service object.\n",
    "  \"\"\"\n",
    "  credentials = ServiceAccountCredentials.from_json_keyfile_name(\n",
    "      KEY_FILE_LOCATION, SCOPES)\n",
    "\n",
    "  # Build the service object.\n",
    "  analytics = build('analyticsreporting', 'v4', credentials=credentials)\n",
    "\n",
    "  return analytics\n",
    "\n",
    "analytics = initialize_analyticsreporting()"
   ]
  },
  {
   "cell_type": "code",
   "execution_count": 7,
   "metadata": {},
   "outputs": [
    {
     "ename": "ModuleNotFoundError",
     "evalue": "No module named 'oauth2client'",
     "output_type": "error",
     "traceback": [
      "\u001b[0;31m---------------------------------------------------------------------------\u001b[0m",
      "\u001b[0;31mModuleNotFoundError\u001b[0m                       Traceback (most recent call last)",
      "\u001b[0;32m<ipython-input-7-830cd505a99c>\u001b[0m in \u001b[0;36m<module>\u001b[0;34m\u001b[0m\n\u001b[1;32m      4\u001b[0m \u001b[0;32mfrom\u001b[0m \u001b[0mtime\u001b[0m \u001b[0;32mimport\u001b[0m \u001b[0msleep\u001b[0m\u001b[0;34m\u001b[0m\u001b[0;34m\u001b[0m\u001b[0m\n\u001b[1;32m      5\u001b[0m \u001b[0;32mfrom\u001b[0m \u001b[0mgoogleapiclient\u001b[0m\u001b[0;34m.\u001b[0m\u001b[0mdiscovery\u001b[0m \u001b[0;32mimport\u001b[0m \u001b[0mbuild\u001b[0m\u001b[0;34m\u001b[0m\u001b[0;34m\u001b[0m\u001b[0m\n\u001b[0;32m----> 6\u001b[0;31m \u001b[0;32mfrom\u001b[0m \u001b[0moauth2client\u001b[0m\u001b[0;34m.\u001b[0m\u001b[0mservice_account\u001b[0m \u001b[0;32mimport\u001b[0m \u001b[0mServiceAccountCredentials\u001b[0m\u001b[0;34m\u001b[0m\u001b[0;34m\u001b[0m\u001b[0m\n\u001b[0m\u001b[1;32m      7\u001b[0m \u001b[0;32mimport\u001b[0m \u001b[0mtime\u001b[0m\u001b[0;34m\u001b[0m\u001b[0;34m\u001b[0m\u001b[0m\n\u001b[1;32m      8\u001b[0m \u001b[0;34m\u001b[0m\u001b[0m\n",
      "\u001b[0;31mModuleNotFoundError\u001b[0m: No module named 'oauth2client'"
     ]
    }
   ],
   "source": [
    "import pandas as pd\n",
    "from datetime import datetime, timedelta, date\n",
    "from dateutil.rrule import rrule, DAILY\n",
    "from time import sleep\n",
    "from googleapiclient.discovery import build\n",
    "from oauth2client.service_account import ServiceAccountCredentials\n",
    "import time\n",
    "\n",
    "now = datetime.now().strftime('%d/%m/%Y %H:%M:%S')\n",
    "\n",
    "def convert_reponse_to_df(response, date=None):\n",
    "      list = []\n",
    "      # parse report data\n",
    "      for report in response.get('reports', []):\n",
    "\n",
    "        columnHeader = report.get('columnHeader', {})\n",
    "        dimensionHeaders = columnHeader.get('dimensions', [])\n",
    "        metricHeaders = columnHeader.get('metricHeader', {}).get('metricHeaderEntries', [])\n",
    "        rows = report.get('data', {}).get('rows', [])\n",
    "\n",
    "        for row in rows:\n",
    "            dict = {}\n",
    "            dimensions = row.get('dimensions', [])\n",
    "            dateRangeValues = row.get('metrics', [])\n",
    "\n",
    "            for header, dimension in zip(dimensionHeaders, dimensions):\n",
    "                dict[header] = dimension\n",
    "\n",
    "            for i, values in enumerate(dateRangeValues):\n",
    "                for metric, value in zip(metricHeaders, values.get('values')):\n",
    "                    if ',' in value or ',' in value:\n",
    "                        dict[metric.get('name')] = float(value)\n",
    "                    else:\n",
    "                        dict[metric.get('name')] = int(value)\n",
    "                    if date is not None:\n",
    "                        dict['date'] = date\n",
    "            list.append(dict)\n",
    "\n",
    "        df = pd.DataFrame(list)\n",
    "        return df\n",
    "\n",
    "\n",
    "def get_report(analytics, start_date, end_date, view_id, metrics, dimensions, dimensionFilterClauses=[], segments=[]):\n",
    "    body = {\n",
    "        'reportRequests': [\n",
    "        {\n",
    "          'viewId': view_id,\n",
    "          'dateRanges': [{'startDate':start_date, 'endDate': end_date}],\n",
    "          'metrics': metrics,\n",
    "          'dimensions': dimensions,\n",
    "          'pageSize': 10000,\n",
    "          'dimensionFilterClauses': dimensionFilterClauses,\n",
    "          'segments': segments,\n",
    "        }]\n",
    "      }\n",
    "#     print('body', body)\n",
    "    return analytics.reports().batchGet(\n",
    "      body=body\n",
    "    ).execute()\n",
    "\n",
    "\n",
    "def return_ga_data(start_date, end_date, view_id, metrics, dimensions, split_dates, group_by=[], dimensionFilterClauses=[], segments=[]):\n",
    "    if split_dates == False:\n",
    "        return convert_reponse_to_df(get_report(analytics, start_date, end_date, view_id, metrics, dimensions, dimensionFilterClauses, segments))\n",
    "    else:\n",
    "        start_date = datetime.strptime(start_date, '%Y-%m-%d').date()\n",
    "        end_date = datetime.strptime(end_date, '%Y-%m-%d').date()\n",
    "\n",
    "        df_total = pd.DataFrame()\n",
    "        for date in rrule(freq=DAILY, dtstart=start_date, until=end_date):\n",
    "            date = str(date.date())\n",
    "            df_total = df_total.append(convert_reponse_to_df(get_report(analytics, date, date, view_id, metrics, dimensions, dimensionFilterClauses, segments), date))\n",
    "\n",
    "        if len(group_by) != 0:\n",
    "            df_total = df_total.groupby(group_by).sum()\n",
    "\n",
    "        return df_total\n",
    "\n",
    "thirtydaysAgo = (datetime.now() - timedelta(FIRSTDATA)).strftime(\"%Y-%m-%d\")\n",
    "today = datetime.now().strftime(\"%Y-%m-%d\")\n",
    "\n",
    "start_time = time.time()\n",
    "df = return_ga_data(thirtydaysAgo, today, VIEW_ID, METRICS, DIMENTIONS, True)\n",
    "print(\"Script execution completed at \" + now + \". Time: --- %s secnds ---\" % (time.time() - start_time))"
   ]
  },
  {
   "cell_type": "code",
   "execution_count": 6,
   "metadata": {},
   "outputs": [
    {
     "ename": "NameError",
     "evalue": "name 'df' is not defined",
     "output_type": "error",
     "traceback": [
      "\u001b[0;31m---------------------------------------------------------------------------\u001b[0m",
      "\u001b[0;31mNameError\u001b[0m                                 Traceback (most recent call last)",
      "\u001b[0;32m<ipython-input-6-5c228e217f3f>\u001b[0m in \u001b[0;36m<module>\u001b[0;34m\u001b[0m\n\u001b[1;32m     18\u001b[0m     \u001b[0;32mreturn\u001b[0m \u001b[0mdomain_final\u001b[0m\u001b[0;34m\u001b[0m\u001b[0;34m\u001b[0m\u001b[0m\n\u001b[1;32m     19\u001b[0m \u001b[0;34m\u001b[0m\u001b[0m\n\u001b[0;32m---> 20\u001b[0;31m \u001b[0mdomain301\u001b[0m \u001b[0;34m=\u001b[0m \u001b[0mdomain_301\u001b[0m\u001b[0;34m(\u001b[0m\u001b[0mdf\u001b[0m\u001b[0;34m)\u001b[0m\u001b[0;34m\u001b[0m\u001b[0;34m\u001b[0m\u001b[0m\n\u001b[0m\u001b[1;32m     21\u001b[0m \u001b[0;32mif\u001b[0m \u001b[0muse_mongo\u001b[0m\u001b[0;34m:\u001b[0m\u001b[0;34m\u001b[0m\u001b[0;34m\u001b[0m\u001b[0m\n\u001b[1;32m     22\u001b[0m     \u001b[0mbob\u001b[0m\u001b[0;34m.\u001b[0m\u001b[0mmongo\u001b[0m\u001b[0;34m.\u001b[0m\u001b[0msave_df\u001b[0m\u001b[0;34m(\u001b[0m\u001b[0mdomain301\u001b[0m\u001b[0;34m,\u001b[0m\u001b[0;34m'301'\u001b[0m\u001b[0;34m,\u001b[0m\u001b[0mdb_app\u001b[0m\u001b[0;34m,\u001b[0m\u001b[0;32mTrue\u001b[0m\u001b[0;34m)\u001b[0m\u001b[0;34m\u001b[0m\u001b[0;34m\u001b[0m\u001b[0m\n",
      "\u001b[0;31mNameError\u001b[0m: name 'df' is not defined"
     ]
    }
   ],
   "source": [
    "def domain_301(df):\n",
    "    cols_to_rename = {\"ga:country\": \"ENTITY\", \"date\": \"DATE\", \"ga:users\": \"VALUE_D\"}\n",
    "    domain = df.copy().rename(index=str, columns=cols_to_rename).fillna(\"Not defined\")\n",
    "    domain['DATE'] = pd.to_datetime(domain['DATE'], format='%Y-%m-%d').dt.strftime('%d/%m/%Y')\n",
    "    \n",
    "    #-- Consolidate data\n",
    "    domain_ww = domain.copy()\n",
    "    domain_ww['ENTITY'] = 'WORLDWIDE'\n",
    "    \n",
    "    # Concat & groupby\n",
    "    domain_final = pd.concat([domain,domain_ww], axis=0)\n",
    "    domain_final = domain_final.groupby(['ENTITY','DATE'], as_index=False).agg({'VALUE_D': 'sum'})\n",
    "    domain_final = domain_final.sort_values([\"DATE\"], ascending=True).reset_index(drop=True)\n",
    "    domain_final['VALUE'] = domain_final.groupby(['ENTITY'], as_index=True).agg({'VALUE_D': 'cumsum'})\n",
    "    \n",
    "    domain_final['DATE_ORDER'] = pd.to_datetime(domain_final['DATE'], format='%Y-%m-%d').dt.strftime('%Y%m%d')\n",
    "    domain_final['LAST_UPDATE'] = datetime.now().strftime('%d/%m/%Y %H:%M:%S')\n",
    "    return domain_final\n",
    "\n",
    "domain301 = domain_301(df)\n",
    "if use_mongo:\n",
    "    bob.mongo.save_df(domain301,'301',db_app,True)\n",
    "domain301"
   ]
  },
  {
   "cell_type": "code",
   "execution_count": 9,
   "metadata": {},
   "outputs": [
    {
     "name": "stdout",
     "output_type": "stream",
     "text": [
      "End ==> send to https://health.cashstory.com/ping/608ba515-2285-45ad-92d4-47491493ac12, 2020-04-07\n"
     ]
    }
   ],
   "source": [
    "done = hc.done(hc_key)\n",
    "print(done)"
   ]
  }
 ],
 "metadata": {
  "kernelspec": {
   "display_name": "Python 3",
   "language": "python",
   "name": "python3"
  },
  "language_info": {
   "codemirror_mode": {
    "name": "ipython",
    "version": 3
   },
   "file_extension": ".py",
   "mimetype": "text/x-python",
   "name": "python",
   "nbconvert_exporter": "python",
   "pygments_lexer": "ipython3",
   "version": "3.7.6"
  }
 },
 "nbformat": 4,
 "nbformat_minor": 4
}
