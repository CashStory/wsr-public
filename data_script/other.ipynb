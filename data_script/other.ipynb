{
 "cells": [
  {
   "cell_type": "code",
   "execution_count": 1,
   "metadata": {},
   "outputs": [],
   "source": [
    "# bob.refresh {\"cron\": \"*/30 * * * *\", \"timeout\": 40000}"
   ]
  },
  {
   "cell_type": "code",
   "execution_count": 2,
   "metadata": {},
   "outputs": [
    {
     "name": "stdout",
     "output_type": "stream",
     "text": [
      "HealthCheck init in prod mode\n",
      "Start ==> send to https://health.cashstory.com/ping/608ba515-2285-45ad-92d4-47491493ac12, 2020-06-08\n"
     ]
    }
   ],
   "source": [
    "import bob\n",
    "hc = bob.HealthCheck()\n",
    "hc_key = \"608ba515-2285-45ad-92d4-47491493ac12\"\n",
    "start = hc.start(hc_key)\n",
    "print(start)"
   ]
  },
  {
   "cell_type": "code",
   "execution_count": 3,
   "metadata": {},
   "outputs": [
    {
     "name": "stdout",
     "output_type": "stream",
     "text": [
      "Collecting google-api-python-client\n",
      "  Downloading google_api_python_client-1.9.1-py3-none-any.whl (59 kB)\n",
      "\u001b[K     |████████████████████████████████| 59 kB 11.8 MB/s eta 0:00:01\n",
      "\u001b[?25hCollecting oauth2client\n",
      "  Downloading oauth2client-4.1.3-py2.py3-none-any.whl (98 kB)\n",
      "\u001b[K     |████████████████████████████████| 98 kB 8.5 MB/s  eta 0:00:01\n",
      "\u001b[?25hRequirement already satisfied, skipping upgrade: uritemplate<4dev,>=3.0.0 in /opt/conda/lib/python3.7/site-packages (from google-api-python-client) (3.0.1)\n",
      "Collecting google-auth>=1.16.0\n",
      "  Downloading google_auth-1.16.1-py2.py3-none-any.whl (90 kB)\n",
      "\u001b[K     |████████████████████████████████| 90 kB 15.8 MB/s eta 0:00:01\n",
      "\u001b[?25hRequirement already satisfied, skipping upgrade: httplib2<1dev,>=0.9.2 in /opt/conda/lib/python3.7/site-packages (from google-api-python-client) (0.17.3)\n",
      "Requirement already satisfied, skipping upgrade: google-api-core<2dev,>=1.17.0 in /opt/conda/lib/python3.7/site-packages (from google-api-python-client) (1.17.0)\n",
      "Requirement already satisfied, skipping upgrade: google-auth-httplib2>=0.0.3 in /opt/conda/lib/python3.7/site-packages (from google-api-python-client) (0.0.3)\n",
      "Requirement already satisfied, skipping upgrade: six<2dev,>=1.6.1 in /opt/conda/lib/python3.7/site-packages (from google-api-python-client) (1.14.0)\n",
      "Requirement already satisfied, skipping upgrade: pyasn1>=0.1.7 in /opt/conda/lib/python3.7/site-packages (from oauth2client) (0.4.8)\n",
      "Requirement already satisfied, skipping upgrade: pyasn1-modules>=0.0.5 in /opt/conda/lib/python3.7/site-packages (from oauth2client) (0.2.8)\n",
      "Requirement already satisfied, skipping upgrade: rsa>=3.1.4 in /opt/conda/lib/python3.7/site-packages (from oauth2client) (4.0)\n",
      "Requirement already satisfied, skipping upgrade: setuptools>=40.3.0 in /opt/conda/lib/python3.7/site-packages (from google-auth>=1.16.0->google-api-python-client) (46.1.3.post20200325)\n",
      "Requirement already satisfied, skipping upgrade: cachetools<5.0,>=2.0.0 in /opt/conda/lib/python3.7/site-packages (from google-auth>=1.16.0->google-api-python-client) (4.1.0)\n",
      "Requirement already satisfied, skipping upgrade: requests<3.0.0dev,>=2.18.0 in /opt/conda/lib/python3.7/site-packages (from google-api-core<2dev,>=1.17.0->google-api-python-client) (2.23.0)\n",
      "Requirement already satisfied, skipping upgrade: pytz in /opt/conda/lib/python3.7/site-packages (from google-api-core<2dev,>=1.17.0->google-api-python-client) (2019.3)\n",
      "Requirement already satisfied, skipping upgrade: protobuf>=3.4.0 in /opt/conda/lib/python3.7/site-packages (from google-api-core<2dev,>=1.17.0->google-api-python-client) (3.11.3)\n",
      "Requirement already satisfied, skipping upgrade: googleapis-common-protos<2.0dev,>=1.6.0 in /opt/conda/lib/python3.7/site-packages (from google-api-core<2dev,>=1.17.0->google-api-python-client) (1.51.0)\n",
      "Requirement already satisfied, skipping upgrade: certifi>=2017.4.17 in /opt/conda/lib/python3.7/site-packages (from requests<3.0.0dev,>=2.18.0->google-api-core<2dev,>=1.17.0->google-api-python-client) (2020.4.5.1)\n",
      "Requirement already satisfied, skipping upgrade: urllib3!=1.25.0,!=1.25.1,<1.26,>=1.21.1 in /opt/conda/lib/python3.7/site-packages (from requests<3.0.0dev,>=2.18.0->google-api-core<2dev,>=1.17.0->google-api-python-client) (1.25.8)\n",
      "Requirement already satisfied, skipping upgrade: idna<3,>=2.5 in /opt/conda/lib/python3.7/site-packages (from requests<3.0.0dev,>=2.18.0->google-api-core<2dev,>=1.17.0->google-api-python-client) (2.9)\n",
      "Requirement already satisfied, skipping upgrade: chardet<4,>=3.0.2 in /opt/conda/lib/python3.7/site-packages (from requests<3.0.0dev,>=2.18.0->google-api-core<2dev,>=1.17.0->google-api-python-client) (3.0.4)\n",
      "Installing collected packages: google-auth, google-api-python-client, oauth2client\n",
      "Successfully installed google-api-python-client-1.9.1 google-auth-1.16.1 oauth2client-4.1.3\n"
     ]
    }
   ],
   "source": [
    "!pip install --upgrade --user google-api-python-client oauth2client"
   ]
  },
  {
   "cell_type": "code",
   "execution_count": 4,
   "metadata": {},
   "outputs": [
    {
     "name": "stdout",
     "output_type": "stream",
     "text": [
      "Requirement already satisfied: xlsxwriter in /home/ftp/.local/lib/python3.7/site-packages (1.2.9)\n",
      "Successfully connected to MongoDB\n"
     ]
    }
   ],
   "source": [
    "%run __init__.ipynb"
   ]
  },
  {
   "cell_type": "code",
   "execution_count": 8,
   "metadata": {},
   "outputs": [],
   "source": [
    "# Import modules\n",
    "from googleapiclient.discovery import build\n",
    "from oauth2client.service_account import ServiceAccountCredentials\n",
    "import pandas as pd\n",
    "from datetime import datetime, timedelta, date\n",
    "from dateutil.rrule import rrule, DAILY\n",
    "from time import sleep\n",
    "from googleapiclient.discovery import build\n",
    "from oauth2client.service_account import ServiceAccountCredentials\n",
    "import time\n",
    "\n",
    "# Set variables\n",
    "SCOPES = ['https://www.googleapis.com/auth/analytics.readonly']\n",
    "KEY_FILE_LOCATION = os.path.join(PARAM_FOLDER,'analytics_id_read.json')\n",
    "VIEW_ID = '214312751'\n",
    "METRICS = [{'expression': 'ga:users'}]\n",
    "# metrics = [{'expression': 'ga:sessions'}]\n",
    "DIMENTIONS = [{'name': 'ga:country'}]\n",
    "FIRSTDATA = 30\n",
    "TODAY = datetime.now().strftime(\"%Y-%m-%d\")"
   ]
  },
  {
   "cell_type": "code",
   "execution_count": 9,
   "metadata": {},
   "outputs": [],
   "source": [
    "def initialize_analyticsreporting():\n",
    "  \"\"\" \n",
    "  Initializes an Analytics Reporting API V4 service object.\n",
    "\n",
    "  Returns:\n",
    "    An authorized Analytics Reporting API V4 service object.\n",
    "  \"\"\"\n",
    "  credentials = ServiceAccountCredentials.from_json_keyfile_name(\n",
    "      KEY_FILE_LOCATION, SCOPES)\n",
    "\n",
    "  # Build the service object.\n",
    "  analytics = build('analyticsreporting', 'v4', credentials=credentials)\n",
    "\n",
    "  return analytics\n",
    "\n",
    "analytics = initialize_analyticsreporting()"
   ]
  },
  {
   "cell_type": "code",
   "execution_count": 11,
   "metadata": {},
   "outputs": [
    {
     "name": "stdout",
     "output_type": "stream",
     "text": [
      "CPU times: user 140 ms, sys: 3.49 ms, total: 143 ms\n",
      "Wall time: 5.4 s\n"
     ]
    }
   ],
   "source": [
    "%%time\n",
    "\n",
    "def convert_reponse_to_df(response, date=None):\n",
    "      list = []\n",
    "      # parse report data\n",
    "      for report in response.get('reports', []):\n",
    "\n",
    "        columnHeader = report.get('columnHeader', {})\n",
    "        dimensionHeaders = columnHeader.get('dimensions', [])\n",
    "        metricHeaders = columnHeader.get('metricHeader', {}).get('metricHeaderEntries', [])\n",
    "        rows = report.get('data', {}).get('rows', [])\n",
    "\n",
    "        for row in rows:\n",
    "            dict = {}\n",
    "            dimensions = row.get('dimensions', [])\n",
    "            dateRangeValues = row.get('metrics', [])\n",
    "\n",
    "            for header, dimension in zip(dimensionHeaders, dimensions):\n",
    "                dict[header] = dimension\n",
    "\n",
    "            for i, values in enumerate(dateRangeValues):\n",
    "                for metric, value in zip(metricHeaders, values.get('values')):\n",
    "                    if ',' in value or ',' in value:\n",
    "                        dict[metric.get('name')] = float(value)\n",
    "                    else:\n",
    "                        dict[metric.get('name')] = int(value)\n",
    "                    if date is not None:\n",
    "                        dict['date'] = date\n",
    "            list.append(dict)\n",
    "\n",
    "        df = pd.DataFrame(list)\n",
    "        return df\n",
    "\n",
    "\n",
    "def get_report(analytics, start_date, end_date, view_id, metrics, dimensions, dimensionFilterClauses=[], segments=[]):\n",
    "    body = {\n",
    "        'reportRequests': [\n",
    "        {\n",
    "          'viewId': view_id,\n",
    "          'dateRanges': [{'startDate':start_date, 'endDate': end_date}],\n",
    "          'metrics': metrics,\n",
    "          'dimensions': dimensions,\n",
    "          'pageSize': 10000,\n",
    "          'dimensionFilterClauses': dimensionFilterClauses,\n",
    "          'segments': segments,\n",
    "        }]\n",
    "      }\n",
    "#     print('body', body)\n",
    "    return analytics.reports().batchGet(\n",
    "      body=body\n",
    "    ).execute()\n",
    "\n",
    "\n",
    "def return_ga_data(view_id, metrics, dimensions, split_dates, group_by=[], dimensionFilterClauses=[], segments=[]):\n",
    "    start_date = (datetime.now() - timedelta(FIRSTDATA)).strftime(\"%Y-%m-%d\")\n",
    "    end_date = TODAY\n",
    "    \n",
    "    if split_dates == False:\n",
    "        return convert_reponse_to_df(get_report(analytics, start_date, end_date, view_id, metrics, dimensions, dimensionFilterClauses, segments))\n",
    "    else:\n",
    "        start_date = datetime.strptime(start_date, '%Y-%m-%d').date()\n",
    "        end_date = datetime.strptime(end_date, '%Y-%m-%d').date()\n",
    "\n",
    "        df_total = pd.DataFrame()\n",
    "        for date in rrule(freq=DAILY, dtstart=start_date, until=end_date):\n",
    "            date = str(date.date())\n",
    "            df_total = df_total.append(convert_reponse_to_df(get_report(analytics, date, date, view_id, metrics, dimensions, dimensionFilterClauses, segments), date))\n",
    "\n",
    "        if len(group_by) != 0:\n",
    "            df_total = df_total.groupby(group_by).sum()\n",
    "\n",
    "        return df_total\n",
    "\n",
    "df_ga = return_ga_data(VIEW_ID, METRICS, DIMENTIONS, True)"
   ]
  },
  {
   "cell_type": "code",
   "execution_count": 12,
   "metadata": {},
   "outputs": [
    {
     "name": "stdout",
     "output_type": "stream",
     "text": [
      "Dataframe 301 successfully save in database app-wsr in MongoDB. Time: --- 0.03121805191040039 secnds ---\n",
      "CPU times: user 40 ms, sys: 4.05 ms, total: 44 ms\n",
      "Wall time: 60.1 ms\n"
     ]
    }
   ],
   "source": [
    "%%time\n",
    "\n",
    "def domain_301(df):\n",
    "    cols_to_rename = {\"ga:country\": \"ENTITY\", \"date\": \"DATE\", \"ga:users\": \"VALUE_D\"}\n",
    "    domain = df.copy().rename(index=str, columns=cols_to_rename).fillna(\"Not defined\")\n",
    "    domain['DATE'] = pd.to_datetime(domain['DATE'], format='%Y-%m-%d').dt.strftime('%d/%m/%Y')\n",
    "    \n",
    "    #-- Consolidate data\n",
    "    domain_ww = domain.copy()\n",
    "    domain_ww['ENTITY'] = 'WORLDWIDE'\n",
    "    \n",
    "    # Concat & groupby\n",
    "    domain_final = pd.concat([domain,domain_ww], axis=0)\n",
    "    domain_final = domain_final.groupby(['ENTITY','DATE'], as_index=False).agg({'VALUE_D': 'sum'})\n",
    "    domain_final = domain_final.sort_values([\"DATE\"], ascending=True).reset_index(drop=True)\n",
    "    domain_final['VALUE'] = domain_final.groupby(['ENTITY'], as_index=True).agg({'VALUE_D': 'cumsum'})\n",
    "    \n",
    "    domain_final['DATE_ORDER'] = pd.to_datetime(domain_final['DATE'], format='%d/%m/%Y').dt.strftime('%Y%m%d')\n",
    "    domain_final['LAST_UPDATE'] = datetime.now().strftime('%d/%m/%Y %H:%M:%S')\n",
    "    return domain_final\n",
    "\n",
    "domain301 = domain_301(df_ga)\n",
    "if USE_MONGO:\n",
    "    bob.mongo.save_df(domain301,'301',DB_APP,True)"
   ]
  },
  {
   "cell_type": "code",
   "execution_count": 13,
   "metadata": {},
   "outputs": [
    {
     "name": "stdout",
     "output_type": "stream",
     "text": [
      "Done ==> send to https://health.cashstory.com/ping/608ba515-2285-45ad-92d4-47491493ac12, 2020-06-08\n"
     ]
    }
   ],
   "source": [
    "done = hc.done(hc_key)\n",
    "print(done)"
   ]
  },
  {
   "cell_type": "code",
   "execution_count": null,
   "metadata": {},
   "outputs": [],
   "source": []
  }
 ],
 "metadata": {
  "kernelspec": {
   "display_name": "Python 3",
   "language": "python",
   "name": "python3"
  },
  "language_info": {
   "codemirror_mode": {
    "name": "ipython",
    "version": 3
   },
   "file_extension": ".py",
   "mimetype": "text/x-python",
   "name": "python",
   "nbconvert_exporter": "python",
   "pygments_lexer": "ipython3",
   "version": "3.7.6"
  }
 },
 "nbformat": 4,
 "nbformat_minor": 4
}
