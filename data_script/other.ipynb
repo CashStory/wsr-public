{
 "cells": [
  {
   "cell_type": "code",
   "execution_count": 9,
   "metadata": {},
   "outputs": [],
   "source": [
    "# bob.refresh {\"cron\": \"5,35 2-23 * * *\", \"timeout\": 40000}"
   ]
  },
  {
   "cell_type": "code",
   "execution_count": 2,
   "metadata": {},
   "outputs": [
    {
     "name": "stdout",
     "output_type": "stream",
     "text": [
      "HealthCheck init in prod mode\n",
      "Start ==> send to https://health.cashstory.com/ping/608ba515-2285-45ad-92d4-47491493ac12, 2020-04-06\n"
     ]
    }
   ],
   "source": [
    "import bob\n",
    "hc = bob.HealthCheck()\n",
    "hc_key = \"608ba515-2285-45ad-92d4-47491493ac12\"\n",
    "start = hc.start(hc_key)\n",
    "print(start)"
   ]
  },
  {
   "cell_type": "code",
   "execution_count": 10,
   "metadata": {},
   "outputs": [
    {
     "name": "stdout",
     "output_type": "stream",
     "text": [
      "Requirement already up-to-date: google-api-python-client in /opt/conda/lib/python3.7/site-packages (1.8.0)\n",
      "Requirement already up-to-date: oauth2client in /opt/conda/lib/python3.7/site-packages (4.1.3)\n",
      "Requirement already satisfied, skipping upgrade: uritemplate<4dev,>=3.0.0 in /opt/conda/lib/python3.7/site-packages (from google-api-python-client) (3.0.1)\n",
      "Requirement already satisfied, skipping upgrade: google-auth>=1.4.1 in /opt/conda/lib/python3.7/site-packages (from google-api-python-client) (1.13.1)\n",
      "Requirement already satisfied, skipping upgrade: google-api-core<2dev,>=1.13.0 in /opt/conda/lib/python3.7/site-packages (from google-api-python-client) (1.16.0)\n",
      "Requirement already satisfied, skipping upgrade: six<2dev,>=1.6.1 in /opt/conda/lib/python3.7/site-packages (from google-api-python-client) (1.14.0)\n",
      "Requirement already satisfied, skipping upgrade: httplib2<1dev,>=0.9.2 in /opt/conda/lib/python3.7/site-packages (from google-api-python-client) (0.17.1)\n",
      "Requirement already satisfied, skipping upgrade: google-auth-httplib2>=0.0.3 in /opt/conda/lib/python3.7/site-packages (from google-api-python-client) (0.0.3)\n",
      "Requirement already satisfied, skipping upgrade: pyasn1-modules>=0.0.5 in /opt/conda/lib/python3.7/site-packages (from oauth2client) (0.2.8)\n",
      "Requirement already satisfied, skipping upgrade: pyasn1>=0.1.7 in /opt/conda/lib/python3.7/site-packages (from oauth2client) (0.4.8)\n",
      "Requirement already satisfied, skipping upgrade: rsa>=3.1.4 in /opt/conda/lib/python3.7/site-packages (from oauth2client) (4.0)\n",
      "Requirement already satisfied, skipping upgrade: cachetools<5.0,>=2.0.0 in /opt/conda/lib/python3.7/site-packages (from google-auth>=1.4.1->google-api-python-client) (4.0.0)\n",
      "Requirement already satisfied, skipping upgrade: setuptools>=40.3.0 in /opt/conda/lib/python3.7/site-packages (from google-auth>=1.4.1->google-api-python-client) (46.0.0.post20200311)\n",
      "Requirement already satisfied, skipping upgrade: protobuf>=3.4.0 in /opt/conda/lib/python3.7/site-packages (from google-api-core<2dev,>=1.13.0->google-api-python-client) (3.11.3)\n",
      "Requirement already satisfied, skipping upgrade: pytz in /opt/conda/lib/python3.7/site-packages (from google-api-core<2dev,>=1.13.0->google-api-python-client) (2019.3)\n",
      "Requirement already satisfied, skipping upgrade: requests<3.0.0dev,>=2.18.0 in /opt/conda/lib/python3.7/site-packages (from google-api-core<2dev,>=1.13.0->google-api-python-client) (2.23.0)\n",
      "Requirement already satisfied, skipping upgrade: googleapis-common-protos<2.0dev,>=1.6.0 in /opt/conda/lib/python3.7/site-packages (from google-api-core<2dev,>=1.13.0->google-api-python-client) (1.51.0)\n",
      "Requirement already satisfied, skipping upgrade: idna<3,>=2.5 in /opt/conda/lib/python3.7/site-packages (from requests<3.0.0dev,>=2.18.0->google-api-core<2dev,>=1.13.0->google-api-python-client) (2.9)\n",
      "Requirement already satisfied, skipping upgrade: certifi>=2017.4.17 in /opt/conda/lib/python3.7/site-packages (from requests<3.0.0dev,>=2.18.0->google-api-core<2dev,>=1.13.0->google-api-python-client) (2019.11.28)\n",
      "Requirement already satisfied, skipping upgrade: urllib3!=1.25.0,!=1.25.1,<1.26,>=1.21.1 in /opt/conda/lib/python3.7/site-packages (from requests<3.0.0dev,>=2.18.0->google-api-core<2dev,>=1.13.0->google-api-python-client) (1.25.8)\n",
      "Requirement already satisfied, skipping upgrade: chardet<4,>=3.0.2 in /opt/conda/lib/python3.7/site-packages (from requests<3.0.0dev,>=2.18.0->google-api-core<2dev,>=1.13.0->google-api-python-client) (3.0.4)\n"
     ]
    }
   ],
   "source": [
    "!pip install --upgrade google-api-python-client oauth2client"
   ]
  },
  {
   "cell_type": "code",
   "execution_count": 11,
   "metadata": {},
   "outputs": [
    {
     "name": "stdout",
     "output_type": "stream",
     "text": [
      "Successfully connected to MongoDB\n"
     ]
    }
   ],
   "source": [
    "import bob\n",
    "import json\n",
    "\n",
    "#-- INIT : Declare local variable\n",
    "#rep\n",
    "input_folder = \"../data_input/\"\n",
    "output_folder = \"../data_output/\"\n",
    "param_folder = \"../../_parameters/\"\n",
    "\n",
    "#-- STEP0 : Connect to mongodb\n",
    "#Get credentials info\n",
    "credentials = param_folder + 'mongodb.json'\n",
    "with open(credentials) as f:\n",
    "    dbCon = json.load(f)\n",
    "\n",
    "mongo_host = dbCon[\"host\"]\n",
    "mongo_port = dbCon[\"port\"]\n",
    "mongo_username = dbCon[\"username\"]\n",
    "mongo_password = dbCon[\"password\"]\n",
    "\n",
    "#Connect to mongo\n",
    "MongoDB = bob.mongo.connect(mongo_host,mongo_port,mongo_username,mongo_password)\n",
    "\n",
    "db= 'app-wsr-v1'"
   ]
  },
  {
   "cell_type": "code",
   "execution_count": 12,
   "metadata": {},
   "outputs": [],
   "source": [
    "\"\"\"Hello Analytics Reporting API V4.\"\"\"\n",
    "\n",
    "from googleapiclient.discovery import build\n",
    "from oauth2client.service_account import ServiceAccountCredentials\n",
    "\n",
    "SCOPES = ['https://www.googleapis.com/auth/analytics.readonly']\n",
    "KEY_FILE_LOCATION = param_folder + 'analytics_id_read.json'\n",
    "VIEW_ID = '214312751'\n",
    "METRICS = [{'expression': 'ga:users'}]\n",
    "# metrics = [{'expression': 'ga:sessions'}]\n",
    "DIMENTIONS = [{'name': 'ga:country'}]\n",
    "FIRSTDATA = 30\n",
    "\n",
    "def initialize_analyticsreporting():\n",
    "  \"\"\"Initializes an Analytics Reporting API V4 service object.\n",
    "\n",
    "  Returns:\n",
    "    An authorized Analytics Reporting API V4 service object.\n",
    "  \"\"\"\n",
    "  credentials = ServiceAccountCredentials.from_json_keyfile_name(\n",
    "      KEY_FILE_LOCATION, SCOPES)\n",
    "\n",
    "  # Build the service object.\n",
    "  analytics = build('analyticsreporting', 'v4', credentials=credentials)\n",
    "\n",
    "  return analytics\n",
    "\n",
    "analytics = initialize_analyticsreporting()"
   ]
  },
  {
   "cell_type": "code",
   "execution_count": 13,
   "metadata": {},
   "outputs": [
    {
     "name": "stdout",
     "output_type": "stream",
     "text": [
      "Script execution completed at 04/04/2020 11:04:57. Time: --- 4.897118806838989 secnds ---\n"
     ]
    }
   ],
   "source": [
    "import pandas as pd\n",
    "from datetime import datetime, timedelta, date\n",
    "from dateutil.rrule import rrule, DAILY\n",
    "from time import sleep\n",
    "from googleapiclient.discovery import build\n",
    "from oauth2client.service_account import ServiceAccountCredentials\n",
    "import time\n",
    "\n",
    "now = datetime.now().strftime('%d/%m/%Y %H:%M:%S')\n",
    "\n",
    "def convert_reponse_to_df(response, date=None):\n",
    "      list = []\n",
    "      # parse report data\n",
    "      for report in response.get('reports', []):\n",
    "\n",
    "        columnHeader = report.get('columnHeader', {})\n",
    "        dimensionHeaders = columnHeader.get('dimensions', [])\n",
    "        metricHeaders = columnHeader.get('metricHeader', {}).get('metricHeaderEntries', [])\n",
    "        rows = report.get('data', {}).get('rows', [])\n",
    "\n",
    "        for row in rows:\n",
    "            dict = {}\n",
    "            dimensions = row.get('dimensions', [])\n",
    "            dateRangeValues = row.get('metrics', [])\n",
    "\n",
    "            for header, dimension in zip(dimensionHeaders, dimensions):\n",
    "                dict[header] = dimension\n",
    "\n",
    "            for i, values in enumerate(dateRangeValues):\n",
    "                for metric, value in zip(metricHeaders, values.get('values')):\n",
    "                    if ',' in value or ',' in value:\n",
    "                        dict[metric.get('name')] = float(value)\n",
    "                    else:\n",
    "                        dict[metric.get('name')] = int(value)\n",
    "                    if date is not None:\n",
    "                        dict['date'] = date\n",
    "            list.append(dict)\n",
    "\n",
    "        df = pd.DataFrame(list)\n",
    "        return df\n",
    "\n",
    "\n",
    "def get_report(analytics, start_date, end_date, view_id, metrics, dimensions, dimensionFilterClauses=[], segments=[]):\n",
    "    body = {\n",
    "        'reportRequests': [\n",
    "        {\n",
    "          'viewId': view_id,\n",
    "          'dateRanges': [{'startDate':start_date, 'endDate': end_date}],\n",
    "          'metrics': metrics,\n",
    "          'dimensions': dimensions,\n",
    "          'pageSize': 10000,\n",
    "          'dimensionFilterClauses': dimensionFilterClauses,\n",
    "          'segments': segments,\n",
    "        }]\n",
    "      }\n",
    "#     print('body', body)\n",
    "    return analytics.reports().batchGet(\n",
    "      body=body\n",
    "    ).execute()\n",
    "\n",
    "\n",
    "def return_ga_data(start_date, end_date, view_id, metrics, dimensions, split_dates, group_by=[], dimensionFilterClauses=[], segments=[]):\n",
    "    if split_dates == False:\n",
    "        return convert_reponse_to_df(get_report(analytics, start_date, end_date, view_id, metrics, dimensions, dimensionFilterClauses, segments))\n",
    "    else:\n",
    "        start_date = datetime.strptime(start_date, '%Y-%m-%d').date()\n",
    "        end_date = datetime.strptime(end_date, '%Y-%m-%d').date()\n",
    "\n",
    "        df_total = pd.DataFrame()\n",
    "        for date in rrule(freq=DAILY, dtstart=start_date, until=end_date):\n",
    "            date = str(date.date())\n",
    "            df_total = df_total.append(convert_reponse_to_df(get_report(analytics, date, date, view_id, metrics, dimensions, dimensionFilterClauses, segments), date))\n",
    "\n",
    "        if len(group_by) != 0:\n",
    "            df_total = df_total.groupby(group_by).sum()\n",
    "\n",
    "        return df_total\n",
    "\n",
    "thirtydaysAgo = (datetime.now() - timedelta(FIRSTDATA)).strftime(\"%Y-%m-%d\")\n",
    "today = datetime.now().strftime(\"%Y-%m-%d\")\n",
    "\n",
    "start_time = time.time()\n",
    "df = return_ga_data(thirtydaysAgo, today, VIEW_ID, METRICS, DIMENTIONS, True)\n",
    "print(\"Script execution completed at \" + now + \". Time: --- %s secnds ---\" % (time.time() - start_time))"
   ]
  },
  {
   "cell_type": "code",
   "execution_count": 14,
   "metadata": {},
   "outputs": [
    {
     "name": "stdout",
     "output_type": "stream",
     "text": [
      "Dataframe DB_TRAFIC successfully save in database app-wsr-v1 in MongoDB. Time: --- 0.015610933303833008 secnds ---\n"
     ]
    }
   ],
   "source": [
    "#Save traffic\n",
    "df['LAST_UPDATE'] = now\n",
    "bob.mongo.save_df(df,'DB_TRAFIC',db,False)"
   ]
  },
  {
   "cell_type": "code",
   "execution_count": 15,
   "metadata": {},
   "outputs": [
    {
     "name": "stdout",
     "output_type": "stream",
     "text": [
      "Dataframe 301 successfully save in database app-wsr-v1 in MongoDB. Time: --- 0.030979156494140625 secnds ---\n"
     ]
    }
   ],
   "source": [
    "def domain_301(df):\n",
    "    cols_to_rename = {\"ga:country\": \"ENTITY\", \"date\": \"DATE\", \"ga:users\": \"VALUE\"}\n",
    "    domain = df.copy().rename(index=str, columns=cols_to_rename)\n",
    "    domain['DATE_ORDER'] = pd.to_datetime(domain['DATE'], format='%Y-%m-%d').dt.strftime('%Y%m%d')\n",
    "    \n",
    "    #-- Consolidate data\n",
    "    domain_ww = domain.copy()\n",
    "    domain_ww['ENTITY'] = 'WORLDWIDE'\n",
    "    \n",
    "    # Concat & groupby\n",
    "    domain = pd.concat([domain,domain_ww], axis=0)\n",
    "    domain = domain.groupby(['ENTITY','DATE','DATE_ORDER'], as_index=False).agg({'VALUE': 'sum',})\n",
    "    \n",
    "    domain['LAST_UPDATE'] = now\n",
    "    \n",
    "    return domain\n",
    "\n",
    "domain301 = domain_301(df)\n",
    "bob.mongo.save_df(domain301,'301',db,True)"
   ]
  },
  {
   "cell_type": "code",
   "execution_count": 16,
   "metadata": {},
   "outputs": [
    {
     "data": {
      "text/html": [
       "<div>\n",
       "<style scoped>\n",
       "    .dataframe tbody tr th:only-of-type {\n",
       "        vertical-align: middle;\n",
       "    }\n",
       "\n",
       "    .dataframe tbody tr th {\n",
       "        vertical-align: top;\n",
       "    }\n",
       "\n",
       "    .dataframe thead th {\n",
       "        text-align: right;\n",
       "    }\n",
       "</style>\n",
       "<table border=\"1\" class=\"dataframe\">\n",
       "  <thead>\n",
       "    <tr style=\"text-align: right;\">\n",
       "      <th></th>\n",
       "      <th>ENTITY</th>\n",
       "      <th>DATE</th>\n",
       "      <th>DATE_ORDER</th>\n",
       "      <th>VALUE</th>\n",
       "      <th>LAST_UPDATE</th>\n",
       "    </tr>\n",
       "  </thead>\n",
       "  <tbody>\n",
       "    <tr>\n",
       "      <th>428</th>\n",
       "      <td>WORLDWIDE</td>\n",
       "      <td>2020-04-04</td>\n",
       "      <td>20200404</td>\n",
       "      <td>135</td>\n",
       "      <td>04/04/2020 11:04:57</td>\n",
       "    </tr>\n",
       "    <tr>\n",
       "      <th>427</th>\n",
       "      <td>WORLDWIDE</td>\n",
       "      <td>2020-04-03</td>\n",
       "      <td>20200403</td>\n",
       "      <td>698</td>\n",
       "      <td>04/04/2020 11:04:57</td>\n",
       "    </tr>\n",
       "    <tr>\n",
       "      <th>426</th>\n",
       "      <td>WORLDWIDE</td>\n",
       "      <td>2020-04-02</td>\n",
       "      <td>20200402</td>\n",
       "      <td>815</td>\n",
       "      <td>04/04/2020 11:04:57</td>\n",
       "    </tr>\n",
       "    <tr>\n",
       "      <th>425</th>\n",
       "      <td>WORLDWIDE</td>\n",
       "      <td>2020-04-01</td>\n",
       "      <td>20200401</td>\n",
       "      <td>1221</td>\n",
       "      <td>04/04/2020 11:04:57</td>\n",
       "    </tr>\n",
       "    <tr>\n",
       "      <th>424</th>\n",
       "      <td>WORLDWIDE</td>\n",
       "      <td>2020-03-31</td>\n",
       "      <td>20200331</td>\n",
       "      <td>1073</td>\n",
       "      <td>04/04/2020 11:04:57</td>\n",
       "    </tr>\n",
       "  </tbody>\n",
       "</table>\n",
       "</div>"
      ],
      "text/plain": [
       "        ENTITY        DATE DATE_ORDER  VALUE          LAST_UPDATE\n",
       "428  WORLDWIDE  2020-04-04   20200404    135  04/04/2020 11:04:57\n",
       "427  WORLDWIDE  2020-04-03   20200403    698  04/04/2020 11:04:57\n",
       "426  WORLDWIDE  2020-04-02   20200402    815  04/04/2020 11:04:57\n",
       "425  WORLDWIDE  2020-04-01   20200401   1221  04/04/2020 11:04:57\n",
       "424  WORLDWIDE  2020-03-31   20200331   1073  04/04/2020 11:04:57"
      ]
     },
     "execution_count": 16,
     "metadata": {},
     "output_type": "execute_result"
    }
   ],
   "source": [
    "domain301 = domain301[domain301['ENTITY'] == 'WORLDWIDE'].sort_values(\"DATE_ORDER\",ascending=False)\n",
    "domain301.head(5)"
   ]
  },
  {
   "cell_type": "code",
   "execution_count": 3,
   "metadata": {},
   "outputs": [
    {
     "name": "stdout",
     "output_type": "stream",
     "text": [
      "End ==> send to https://health.cashstory.com/ping/608ba515-2285-45ad-92d4-47491493ac12, 2020-04-06\n"
     ]
    }
   ],
   "source": [
    "done = hc.done(hc_key)\n",
    "print(done)"
   ]
  },
  {
   "cell_type": "code",
   "execution_count": null,
   "metadata": {},
   "outputs": [],
   "source": []
  }
 ],
 "metadata": {
  "kernelspec": {
   "display_name": "Python 3",
   "language": "python",
   "name": "python3"
  },
  "language_info": {
   "codemirror_mode": {
    "name": "ipython",
    "version": 3
   },
   "file_extension": ".py",
   "mimetype": "text/x-python",
   "name": "python",
   "nbconvert_exporter": "python",
   "pygments_lexer": "ipython3",
   "version": "3.7.6"
  }
 },
 "nbformat": 4,
 "nbformat_minor": 4
}
