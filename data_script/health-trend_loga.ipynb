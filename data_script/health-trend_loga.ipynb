{
 "cells": [
  {
   "cell_type": "code",
   "execution_count": null,
   "metadata": {},
   "outputs": [],
   "source": [
    "%run __init__.ipynb"
   ]
  },
  {
   "cell_type": "code",
   "execution_count": null,
   "metadata": {},
   "outputs": [],
   "source": [
    "# Load data source\n",
    "DB_TREND = get_datasource('WORLD_DB_TREND')\n",
    "# db_trend\n",
    "\n",
    "DB_ALL = get_datasource('WORLD_DB_ALL')\n",
    "DB_ALL"
   ]
  },
  {
   "cell_type": "code",
   "execution_count": null,
   "metadata": {},
   "outputs": [],
   "source": [
    "# # Get top 10 countries\n",
    "# MAX_DATE = DB_TREND['DATE_ORDER'].max()\n",
    "# FILTERS =  ['Europe', 'Asia', 'Africa', 'North America',\n",
    "#             'South America', 'Oceania', 'Other', 'To be affected']\n",
    "# COUNTRIES = (DB_TREND[(DB_TREND['ENTITY_GROUPS'].isin(FILTERS)) &\n",
    "#                       (DB_TREND['DATE_ORDER'] == MAX_DATE) &\n",
    "#                       (DB_TREND['KPI'] == 'Confirmed') &\n",
    "#                       (DB_TREND['DATE_SCENARIO'] == 'Since beginning') &\n",
    "#                       (DB_TREND['METRIC'] == 'VALUE')].\n",
    "#              sort_values(by='VALUE', ascending=False)\n",
    "#              ['ENTITY'].drop_duplicates().values.tolist()[:10])\n",
    "# print(COUNTRIES)"
   ]
  },
  {
   "cell_type": "code",
   "execution_count": null,
   "metadata": {},
   "outputs": [],
   "source": [
    "# Get top 10 countries\n",
    "MAX_DATE = DB_ALL['DATE_ORDER'].max()\n",
    "FILTERS = ['Europe', 'Asia', 'Africa', 'North America',\n",
    "           'South America', 'Oceania', 'Other', 'To be affected']\n",
    "COUNTRIES = (DB_ALL[(DB_ALL['ENTITY_GROUPS'].isin(FILTERS)) &\n",
    "                    (DB_ALL['DATE_ORDER'] == MAX_DATE) &\n",
    "                    (DB_ALL['KPI'] == 'Confirmed')].\n",
    "             sort_values(by='VALUE', ascending=False)\n",
    "             ['ENTITY'].drop_duplicates().values.tolist()[:10])\n",
    "print(COUNTRIES)"
   ]
  },
  {
   "cell_type": "code",
   "execution_count": null,
   "metadata": {},
   "outputs": [],
   "source": [
    "DB_LOGA = DB_ALL.copy()"
   ]
  },
  {
   "cell_type": "code",
   "execution_count": null,
   "metadata": {},
   "outputs": [],
   "source": [
    "FILTERS = ['WORLDWIDE', 'Europe', 'Asia', 'Africa', 'North America',\n",
    "           'South America', 'Oceania', 'Other', 'To be affected']\n",
    "KPIS = ['Confirmed', 'Active cases', 'Deaths', 'Recovered']\n",
    "DOMAIN_LOGA = DB_LOGA.copy()[(DB_LOGA['ENTITY_GROUPS'].isin(FILTERS)) &\n",
    "                             (DB_LOGA['KPI'].isin(KPIS))]\n",
    "DOMAIN_LOGA = DOMAIN_LOGA.drop(['DATE'],\n",
    "                               axis=1).sort_values(by=['ENTITY', 'DATE_ORDER'],\n",
    "                                                   ascending=True)\n",
    "DOMAIN_LOGA"
   ]
  },
  {
   "cell_type": "code",
   "execution_count": null,
   "metadata": {},
   "outputs": [],
   "source": [
    "# Select top 10 countries\n",
    "DOMAIN_LOGA = DOMAIN_LOGA[(DOMAIN_LOGA['ENTITY'].isin(COUNTRIES))]\n",
    "\n",
    "FILTERS = DOMAIN_LOGA[['ENTITY', 'KPI']].drop_duplicates().values.tolist()\n",
    "DOMAIN104 = pd.DataFrame()\n",
    "for fil in FILTERS:\n",
    "    ENTITY = fil[0]\n",
    "    KPI = fil[1]\n",
    "    TMP_DF = DOMAIN_LOGA[(DOMAIN_LOGA['ENTITY'] == ENTITY) &\n",
    "                         (DOMAIN_LOGA['KPI'] == KPI)]\n",
    "    TMP_DF = TMP_DF.sort_values(by='DATE_ORDER',\n",
    "                                ascending=True).reset_index(drop=True)\n",
    "\n",
    "    # Calc if Confirmed\n",
    "    if KPI == 'Confirmed':\n",
    "        CHECK_LIMIT = TMP_DF.loc[TMP_DF['VARV'] > 30, 'VARV'].index\n",
    "    elif KPI == 'Deaths':\n",
    "        CHECK_LIMIT = TMP_DF.loc[TMP_DF['VARV'] > 3, 'VARV'].index\n",
    "    elif KPI == 'Active cases':\n",
    "        CHECK_LIMIT = TMP_DF.loc[TMP_DF['VARV'] > 50, 'VARV'].index\n",
    "    elif KPI == 'Recovered':\n",
    "        CHECK_LIMIT = TMP_DF.loc[TMP_DF['VARV'] > 30, 'VARV'].index\n",
    "\n",
    "    if not CHECK_LIMIT:\n",
    "        next\n",
    "    else:\n",
    "        LIMIT = CHECK_LIMIT[0]\n",
    "        INDEXES = TMP_DF.loc[TMP_DF.index < LIMIT, 'VARV'].index\n",
    "        TMP_DF = TMP_DF.drop(INDEXES, axis=0).reset_index(drop=True)\n",
    "\n",
    "    TMP_DF['INDEX'] = TMP_DF.index\n",
    "    TMP_DF['DATE'] = 'D' + TMP_DF['INDEX'].astype(str)\n",
    "\n",
    "    def calc_ave(row, dataf):\n",
    "        \"\"\"\n",
    "        doc string\n",
    "        \"\"\"\n",
    "        i_min = row['INDEX'] - 6\n",
    "        i_max = row['INDEX'] + 1\n",
    "        list_filters = []\n",
    "        for idx in range(i_min, i_max):\n",
    "            list_filters.append(str(idx))\n",
    "        dataf = dataf[dataf['INDEX'].isin(list_filters)]\n",
    "        average = dataf['VARV'].sum() / 7\n",
    "        return average\n",
    "\n",
    "    TMP_DF['VALUE_LOGA'] = TMP_DF.apply(lambda row: calc_ave(row,\n",
    "                                                             TMP_DF),\n",
    "                                        axis=1).fillna(0)\n",
    "    DOMAIN104 = DOMAIN104.append(TMP_DF)\n",
    "\n",
    "DOMAIN104.to_csv(os.path.join(OUTPUT_FOLDER, '104.csv'), sep=\";\")\n",
    "if USE_MONGO:\n",
    "    bob.mongo.save_df(DOMAIN104, '104', DB_APP, True)\n",
    "DOMAIN104"
   ]
  },
  {
   "cell_type": "code",
   "execution_count": null,
   "metadata": {},
   "outputs": [],
   "source": [
    "import plotly.graph_objects as go\n",
    "\n",
    "FIG = go.Figure()\n",
    "\n",
    "DFD = DOMAIN104[DOMAIN104['KPI'] == 'Confirmed']\n",
    "FIG = px.line(DFD,\n",
    "              x=\"DATE\",\n",
    "              y=\"VALUE_LOGA\",\n",
    "              color='ENTITY',\n",
    "              title='Daily trend covid-19')\n",
    "FIG.update_yaxes(type=\"log\")\n",
    "FIG.show()"
   ]
  }
 ],
 "metadata": {
  "kernelspec": {
   "display_name": "Python 3",
   "language": "python",
   "name": "python3"
  },
  "language_info": {
   "codemirror_mode": {
    "name": "ipython",
    "version": 3
   },
   "file_extension": ".py",
   "mimetype": "text/x-python",
   "name": "python",
   "nbconvert_exporter": "python",
   "pygments_lexer": "ipython3",
   "version": "3.7.3"
  }
 },
 "nbformat": 4,
 "nbformat_minor": 4
}
