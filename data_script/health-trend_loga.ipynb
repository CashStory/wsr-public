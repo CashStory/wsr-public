{
 "cells": [
  {
   "cell_type": "code",
   "execution_count": 76,
   "metadata": {},
   "outputs": [
    {
     "name": "stdout",
     "output_type": "stream",
     "text": [
      "Successfully connected to MongoDB\n"
     ]
    }
   ],
   "source": [
    "%run __init__.ipynb"
   ]
  },
  {
   "cell_type": "code",
   "execution_count": 77,
   "metadata": {},
   "outputs": [
    {
     "data": {
      "text/html": [
       "<div>\n",
       "<style scoped>\n",
       "    .dataframe tbody tr th:only-of-type {\n",
       "        vertical-align: middle;\n",
       "    }\n",
       "\n",
       "    .dataframe tbody tr th {\n",
       "        vertical-align: top;\n",
       "    }\n",
       "\n",
       "    .dataframe thead th {\n",
       "        text-align: right;\n",
       "    }\n",
       "</style>\n",
       "<table border=\"1\" class=\"dataframe\">\n",
       "  <thead>\n",
       "    <tr style=\"text-align: right;\">\n",
       "      <th></th>\n",
       "      <th>ENTITY_GROUPS</th>\n",
       "      <th>ENTITY</th>\n",
       "      <th>SCENARIO</th>\n",
       "      <th>DATE</th>\n",
       "      <th>DATE_ORDER</th>\n",
       "      <th>KPI</th>\n",
       "      <th>METRIC</th>\n",
       "      <th>VALUE</th>\n",
       "      <th>DATE_SCENARIO</th>\n",
       "      <th>KPI_ORDER</th>\n",
       "      <th>UNIT</th>\n",
       "      <th>PRECISION</th>\n",
       "    </tr>\n",
       "  </thead>\n",
       "  <tbody>\n",
       "    <tr>\n",
       "      <th>0</th>\n",
       "      <td>Afghanistan</td>\n",
       "      <td>Afghanistan</td>\n",
       "      <td>22/01/2020</td>\n",
       "      <td>2020-01-22</td>\n",
       "      <td>20200122</td>\n",
       "      <td>Confirmed</td>\n",
       "      <td>VALUE</td>\n",
       "      <td>0.0</td>\n",
       "      <td>Since beginning</td>\n",
       "      <td>1.0</td>\n",
       "      <td>cases</td>\n",
       "      <td>,.0f</td>\n",
       "    </tr>\n",
       "    <tr>\n",
       "      <th>1</th>\n",
       "      <td>Afghanistan</td>\n",
       "      <td>Afghanistan</td>\n",
       "      <td>23/01/2020</td>\n",
       "      <td>2020-01-23</td>\n",
       "      <td>20200123</td>\n",
       "      <td>Confirmed</td>\n",
       "      <td>VALUE</td>\n",
       "      <td>0.0</td>\n",
       "      <td>Since beginning</td>\n",
       "      <td>1.0</td>\n",
       "      <td>cases</td>\n",
       "      <td>,.0f</td>\n",
       "    </tr>\n",
       "    <tr>\n",
       "      <th>2</th>\n",
       "      <td>Afghanistan</td>\n",
       "      <td>Afghanistan</td>\n",
       "      <td>24/01/2020</td>\n",
       "      <td>2020-01-24</td>\n",
       "      <td>20200124</td>\n",
       "      <td>Confirmed</td>\n",
       "      <td>VALUE</td>\n",
       "      <td>0.0</td>\n",
       "      <td>Since beginning</td>\n",
       "      <td>1.0</td>\n",
       "      <td>cases</td>\n",
       "      <td>,.0f</td>\n",
       "    </tr>\n",
       "    <tr>\n",
       "      <th>3</th>\n",
       "      <td>Afghanistan</td>\n",
       "      <td>Afghanistan</td>\n",
       "      <td>25/01/2020</td>\n",
       "      <td>2020-01-25</td>\n",
       "      <td>20200125</td>\n",
       "      <td>Confirmed</td>\n",
       "      <td>VALUE</td>\n",
       "      <td>0.0</td>\n",
       "      <td>Since beginning</td>\n",
       "      <td>1.0</td>\n",
       "      <td>cases</td>\n",
       "      <td>,.0f</td>\n",
       "    </tr>\n",
       "    <tr>\n",
       "      <th>4</th>\n",
       "      <td>Afghanistan</td>\n",
       "      <td>Afghanistan</td>\n",
       "      <td>26/01/2020</td>\n",
       "      <td>2020-01-26</td>\n",
       "      <td>20200126</td>\n",
       "      <td>Confirmed</td>\n",
       "      <td>VALUE</td>\n",
       "      <td>0.0</td>\n",
       "      <td>Since beginning</td>\n",
       "      <td>1.0</td>\n",
       "      <td>cases</td>\n",
       "      <td>,.0f</td>\n",
       "    </tr>\n",
       "    <tr>\n",
       "      <th>...</th>\n",
       "      <td>...</td>\n",
       "      <td>...</td>\n",
       "      <td>...</td>\n",
       "      <td>...</td>\n",
       "      <td>...</td>\n",
       "      <td>...</td>\n",
       "      <td>...</td>\n",
       "      <td>...</td>\n",
       "      <td>...</td>\n",
       "      <td>...</td>\n",
       "      <td>...</td>\n",
       "      <td>...</td>\n",
       "    </tr>\n",
       "    <tr>\n",
       "      <th>1309603</th>\n",
       "      <td>West Bank and Gaza</td>\n",
       "      <td>West Bank and Gaza</td>\n",
       "      <td>29/03/2020</td>\n",
       "      <td>2020-03-29</td>\n",
       "      <td>20200329</td>\n",
       "      <td>Recovery Rate</td>\n",
       "      <td>VARP</td>\n",
       "      <td>NaN</td>\n",
       "      <td>Last 30 days</td>\n",
       "      <td>NaN</td>\n",
       "      <td>NaN</td>\n",
       "      <td>NaN</td>\n",
       "    </tr>\n",
       "    <tr>\n",
       "      <th>1309604</th>\n",
       "      <td>Western Sahara</td>\n",
       "      <td>Western Sahara</td>\n",
       "      <td>29/03/2020</td>\n",
       "      <td>2020-03-29</td>\n",
       "      <td>20200329</td>\n",
       "      <td>Recovery Rate</td>\n",
       "      <td>VARP</td>\n",
       "      <td>NaN</td>\n",
       "      <td>Last 30 days</td>\n",
       "      <td>NaN</td>\n",
       "      <td>NaN</td>\n",
       "      <td>NaN</td>\n",
       "    </tr>\n",
       "    <tr>\n",
       "      <th>1309605</th>\n",
       "      <td>Yemen</td>\n",
       "      <td>Yemen</td>\n",
       "      <td>29/03/2020</td>\n",
       "      <td>2020-03-29</td>\n",
       "      <td>20200329</td>\n",
       "      <td>Recovery Rate</td>\n",
       "      <td>VARP</td>\n",
       "      <td>NaN</td>\n",
       "      <td>Last 30 days</td>\n",
       "      <td>NaN</td>\n",
       "      <td>NaN</td>\n",
       "      <td>NaN</td>\n",
       "    </tr>\n",
       "    <tr>\n",
       "      <th>1309606</th>\n",
       "      <td>Zambia</td>\n",
       "      <td>Zambia</td>\n",
       "      <td>29/03/2020</td>\n",
       "      <td>2020-03-29</td>\n",
       "      <td>20200329</td>\n",
       "      <td>Recovery Rate</td>\n",
       "      <td>VARP</td>\n",
       "      <td>NaN</td>\n",
       "      <td>Last 30 days</td>\n",
       "      <td>NaN</td>\n",
       "      <td>NaN</td>\n",
       "      <td>NaN</td>\n",
       "    </tr>\n",
       "    <tr>\n",
       "      <th>1309607</th>\n",
       "      <td>Zimbabwe</td>\n",
       "      <td>Zimbabwe</td>\n",
       "      <td>29/03/2020</td>\n",
       "      <td>2020-03-29</td>\n",
       "      <td>20200329</td>\n",
       "      <td>Recovery Rate</td>\n",
       "      <td>VARP</td>\n",
       "      <td>NaN</td>\n",
       "      <td>Last 30 days</td>\n",
       "      <td>NaN</td>\n",
       "      <td>NaN</td>\n",
       "      <td>NaN</td>\n",
       "    </tr>\n",
       "  </tbody>\n",
       "</table>\n",
       "<p>1309608 rows × 12 columns</p>\n",
       "</div>"
      ],
      "text/plain": [
       "              ENTITY_GROUPS              ENTITY    SCENARIO        DATE  \\\n",
       "0               Afghanistan         Afghanistan  22/01/2020  2020-01-22   \n",
       "1               Afghanistan         Afghanistan  23/01/2020  2020-01-23   \n",
       "2               Afghanistan         Afghanistan  24/01/2020  2020-01-24   \n",
       "3               Afghanistan         Afghanistan  25/01/2020  2020-01-25   \n",
       "4               Afghanistan         Afghanistan  26/01/2020  2020-01-26   \n",
       "...                     ...                 ...         ...         ...   \n",
       "1309603  West Bank and Gaza  West Bank and Gaza  29/03/2020  2020-03-29   \n",
       "1309604      Western Sahara      Western Sahara  29/03/2020  2020-03-29   \n",
       "1309605               Yemen               Yemen  29/03/2020  2020-03-29   \n",
       "1309606              Zambia              Zambia  29/03/2020  2020-03-29   \n",
       "1309607            Zimbabwe            Zimbabwe  29/03/2020  2020-03-29   \n",
       "\n",
       "         DATE_ORDER            KPI METRIC  VALUE    DATE_SCENARIO  KPI_ORDER  \\\n",
       "0          20200122      Confirmed  VALUE    0.0  Since beginning        1.0   \n",
       "1          20200123      Confirmed  VALUE    0.0  Since beginning        1.0   \n",
       "2          20200124      Confirmed  VALUE    0.0  Since beginning        1.0   \n",
       "3          20200125      Confirmed  VALUE    0.0  Since beginning        1.0   \n",
       "4          20200126      Confirmed  VALUE    0.0  Since beginning        1.0   \n",
       "...             ...            ...    ...    ...              ...        ...   \n",
       "1309603    20200329  Recovery Rate   VARP    NaN     Last 30 days        NaN   \n",
       "1309604    20200329  Recovery Rate   VARP    NaN     Last 30 days        NaN   \n",
       "1309605    20200329  Recovery Rate   VARP    NaN     Last 30 days        NaN   \n",
       "1309606    20200329  Recovery Rate   VARP    NaN     Last 30 days        NaN   \n",
       "1309607    20200329  Recovery Rate   VARP    NaN     Last 30 days        NaN   \n",
       "\n",
       "           UNIT PRECISION  \n",
       "0         cases      ,.0f  \n",
       "1         cases      ,.0f  \n",
       "2         cases      ,.0f  \n",
       "3         cases      ,.0f  \n",
       "4         cases      ,.0f  \n",
       "...         ...       ...  \n",
       "1309603     NaN       NaN  \n",
       "1309604     NaN       NaN  \n",
       "1309605     NaN       NaN  \n",
       "1309606     NaN       NaN  \n",
       "1309607     NaN       NaN  \n",
       "\n",
       "[1309608 rows x 12 columns]"
      ]
     },
     "execution_count": 77,
     "metadata": {},
     "output_type": "execute_result"
    }
   ],
   "source": [
    "db_trend = get_datasource('WORLD_DB_TREND')\n",
    "db_trend"
   ]
  },
  {
   "cell_type": "code",
   "execution_count": 78,
   "metadata": {},
   "outputs": [
    {
     "name": "stdout",
     "output_type": "stream",
     "text": [
      "['US', 'Spain', 'Italy', 'France', 'Germany', 'United Kingdom', 'Turkey', 'Iran', 'Russia', 'China']\n"
     ]
    }
   ],
   "source": [
    "#Get top 10 countries\n",
    "max_date = domain104['DATE_ORDER'].max()\n",
    "filters =  ['Europe','Asia','Africa','North America','South America','Oceania','Other','To be affected']\n",
    "countries = db_trend[(db_trend['ENTITY_GROUPS'].isin(filters)) & (db_trend['DATE_ORDER'] == max_date) & (db_trend['KPI'] == 'Confirmed') & (db_trend['DATE_SCENARIO'] == 'Since beginning') & (db_trend['METRIC'] == 'VALUE')].sort_values(by= 'VALUE', ascending=False)['ENTITY'].drop_duplicates().values.tolist()[:10]\n",
    "print(countries)"
   ]
  },
  {
   "cell_type": "code",
   "execution_count": 79,
   "metadata": {},
   "outputs": [
    {
     "data": {
      "text/html": [
       "<div>\n",
       "<style scoped>\n",
       "    .dataframe tbody tr th:only-of-type {\n",
       "        vertical-align: middle;\n",
       "    }\n",
       "\n",
       "    .dataframe tbody tr th {\n",
       "        vertical-align: top;\n",
       "    }\n",
       "\n",
       "    .dataframe thead th {\n",
       "        text-align: right;\n",
       "    }\n",
       "</style>\n",
       "<table border=\"1\" class=\"dataframe\">\n",
       "  <thead>\n",
       "    <tr style=\"text-align: right;\">\n",
       "      <th></th>\n",
       "      <th>ENTITY_GROUPS</th>\n",
       "      <th>ENTITY</th>\n",
       "      <th>SCENARIO</th>\n",
       "      <th>DATE_ORDER</th>\n",
       "      <th>KPI</th>\n",
       "      <th>VALUE</th>\n",
       "      <th>KPI_ORDER</th>\n",
       "      <th>UNIT</th>\n",
       "      <th>PRECISION</th>\n",
       "    </tr>\n",
       "  </thead>\n",
       "  <tbody>\n",
       "    <tr>\n",
       "      <th>306275</th>\n",
       "      <td>Asia</td>\n",
       "      <td>Afghanistan</td>\n",
       "      <td>08/03/2020</td>\n",
       "      <td>20200308</td>\n",
       "      <td>Confirmed</td>\n",
       "      <td>3.000000</td>\n",
       "      <td>1.0</td>\n",
       "      <td>cases</td>\n",
       "      <td>+,.0f</td>\n",
       "    </tr>\n",
       "    <tr>\n",
       "      <th>456431</th>\n",
       "      <td>Asia</td>\n",
       "      <td>Afghanistan</td>\n",
       "      <td>08/03/2020</td>\n",
       "      <td>20200308</td>\n",
       "      <td>Active cases</td>\n",
       "      <td>3.000000</td>\n",
       "      <td>2.0</td>\n",
       "      <td>cases</td>\n",
       "      <td>+,.0f</td>\n",
       "    </tr>\n",
       "    <tr>\n",
       "      <th>306281</th>\n",
       "      <td>Asia</td>\n",
       "      <td>Afghanistan</td>\n",
       "      <td>14/03/2020</td>\n",
       "      <td>20200314</td>\n",
       "      <td>Confirmed</td>\n",
       "      <td>4.000000</td>\n",
       "      <td>1.0</td>\n",
       "      <td>cases</td>\n",
       "      <td>+,.0f</td>\n",
       "    </tr>\n",
       "    <tr>\n",
       "      <th>456437</th>\n",
       "      <td>Asia</td>\n",
       "      <td>Afghanistan</td>\n",
       "      <td>14/03/2020</td>\n",
       "      <td>20200314</td>\n",
       "      <td>Active cases</td>\n",
       "      <td>4.000000</td>\n",
       "      <td>2.0</td>\n",
       "      <td>cases</td>\n",
       "      <td>+,.0f</td>\n",
       "    </tr>\n",
       "    <tr>\n",
       "      <th>306282</th>\n",
       "      <td>Asia</td>\n",
       "      <td>Afghanistan</td>\n",
       "      <td>15/03/2020</td>\n",
       "      <td>20200315</td>\n",
       "      <td>Confirmed</td>\n",
       "      <td>5.000000</td>\n",
       "      <td>1.0</td>\n",
       "      <td>cases</td>\n",
       "      <td>+,.0f</td>\n",
       "    </tr>\n",
       "    <tr>\n",
       "      <th>...</th>\n",
       "      <td>...</td>\n",
       "      <td>...</td>\n",
       "      <td>...</td>\n",
       "      <td>...</td>\n",
       "      <td>...</td>\n",
       "      <td>...</td>\n",
       "      <td>...</td>\n",
       "      <td>...</td>\n",
       "      <td>...</td>\n",
       "    </tr>\n",
       "    <tr>\n",
       "      <th>305543</th>\n",
       "      <td>Africa</td>\n",
       "      <td>Zimbabwe</td>\n",
       "      <td>21/04/2020</td>\n",
       "      <td>20200421</td>\n",
       "      <td>Confirmed</td>\n",
       "      <td>3.000000</td>\n",
       "      <td>1.0</td>\n",
       "      <td>cases</td>\n",
       "      <td>+,.0f</td>\n",
       "    </tr>\n",
       "    <tr>\n",
       "      <th>455699</th>\n",
       "      <td>Africa</td>\n",
       "      <td>Zimbabwe</td>\n",
       "      <td>21/04/2020</td>\n",
       "      <td>20200421</td>\n",
       "      <td>Active cases</td>\n",
       "      <td>3.000000</td>\n",
       "      <td>2.0</td>\n",
       "      <td>cases</td>\n",
       "      <td>+,.0f</td>\n",
       "    </tr>\n",
       "    <tr>\n",
       "      <th>505752</th>\n",
       "      <td>Africa</td>\n",
       "      <td>Zimbabwe</td>\n",
       "      <td>22/04/2020</td>\n",
       "      <td>20200422</td>\n",
       "      <td>Fatality Rate</td>\n",
       "      <td>3.571429</td>\n",
       "      <td>NaN</td>\n",
       "      <td>NaN</td>\n",
       "      <td>NaN</td>\n",
       "    </tr>\n",
       "    <tr>\n",
       "      <th>405653</th>\n",
       "      <td>Africa</td>\n",
       "      <td>Zimbabwe</td>\n",
       "      <td>27/04/2020</td>\n",
       "      <td>20200427</td>\n",
       "      <td>Recovered</td>\n",
       "      <td>3.000000</td>\n",
       "      <td>3.0</td>\n",
       "      <td>cases</td>\n",
       "      <td>+,.0f</td>\n",
       "    </tr>\n",
       "    <tr>\n",
       "      <th>555809</th>\n",
       "      <td>Africa</td>\n",
       "      <td>Zimbabwe</td>\n",
       "      <td>27/04/2020</td>\n",
       "      <td>20200427</td>\n",
       "      <td>Recovery Rate</td>\n",
       "      <td>9.173387</td>\n",
       "      <td>NaN</td>\n",
       "      <td>NaN</td>\n",
       "      <td>NaN</td>\n",
       "    </tr>\n",
       "  </tbody>\n",
       "</table>\n",
       "<p>18924 rows × 9 columns</p>\n",
       "</div>"
      ],
      "text/plain": [
       "       ENTITY_GROUPS       ENTITY    SCENARIO  DATE_ORDER            KPI  \\\n",
       "306275          Asia  Afghanistan  08/03/2020    20200308      Confirmed   \n",
       "456431          Asia  Afghanistan  08/03/2020    20200308   Active cases   \n",
       "306281          Asia  Afghanistan  14/03/2020    20200314      Confirmed   \n",
       "456437          Asia  Afghanistan  14/03/2020    20200314   Active cases   \n",
       "306282          Asia  Afghanistan  15/03/2020    20200315      Confirmed   \n",
       "...              ...          ...         ...         ...            ...   \n",
       "305543        Africa     Zimbabwe  21/04/2020    20200421      Confirmed   \n",
       "455699        Africa     Zimbabwe  21/04/2020    20200421   Active cases   \n",
       "505752        Africa     Zimbabwe  22/04/2020    20200422  Fatality Rate   \n",
       "405653        Africa     Zimbabwe  27/04/2020    20200427      Recovered   \n",
       "555809        Africa     Zimbabwe  27/04/2020    20200427  Recovery Rate   \n",
       "\n",
       "           VALUE  KPI_ORDER    UNIT PRECISION  \n",
       "306275  3.000000        1.0   cases     +,.0f  \n",
       "456431  3.000000        2.0   cases     +,.0f  \n",
       "306281  4.000000        1.0   cases     +,.0f  \n",
       "456437  4.000000        2.0   cases     +,.0f  \n",
       "306282  5.000000        1.0   cases     +,.0f  \n",
       "...          ...        ...     ...       ...  \n",
       "305543  3.000000        1.0   cases     +,.0f  \n",
       "455699  3.000000        2.0   cases     +,.0f  \n",
       "505752  3.571429        NaN     NaN       NaN  \n",
       "405653  3.000000        3.0   cases     +,.0f  \n",
       "555809  9.173387        NaN     NaN       NaN  \n",
       "\n",
       "[18924 rows x 9 columns]"
      ]
     },
     "execution_count": 79,
     "metadata": {},
     "output_type": "execute_result"
    }
   ],
   "source": [
    "filters = ['WORLDWIDE','Europe','Asia','Africa','North America','South America','Oceania','Other','To be affected']\n",
    "domain_loga = db_trend.copy()[(db_trend['DATE_SCENARIO'] == 'Since beginning') & (db_trend['METRIC'] == 'VARV') & (db_trend['VALUE'] >= 3) & (db_trend['ENTITY_GROUPS'].isin(filters))]\n",
    "domain_loga = domain_loga.drop(['DATE_SCENARIO','METRIC','DATE'],axis=1).sort_values(by=['ENTITY','DATE_ORDER'],ascending=True)\n",
    "domain_loga"
   ]
  },
  {
   "cell_type": "code",
   "execution_count": 80,
   "metadata": {},
   "outputs": [
    {
     "name": "stdout",
     "output_type": "stream",
     "text": [
      "<class 'pandas.core.frame.DataFrame'>\n",
      "Int64Index: 2160 entries, 0 to 42\n",
      "Data columns (total 12 columns):\n",
      " #   Column         Non-Null Count  Dtype  \n",
      "---  ------         --------------  -----  \n",
      " 0   ENTITY_GROUPS  2160 non-null   object \n",
      " 1   ENTITY         2160 non-null   object \n",
      " 2   SCENARIO       2160 non-null   object \n",
      " 3   DATE_ORDER     2160 non-null   int64  \n",
      " 4   KPI            2160 non-null   object \n",
      " 5   VALUE          2160 non-null   float64\n",
      " 6   KPI_ORDER      2100 non-null   float64\n",
      " 7   UNIT           2100 non-null   object \n",
      " 8   PRECISION      2100 non-null   object \n",
      " 9   INDEX          2160 non-null   int64  \n",
      " 10  DATE           2160 non-null   object \n",
      " 11  VALUE_LOGA     2160 non-null   float64\n",
      "dtypes: float64(3), int64(2), object(7)\n",
      "memory usage: 219.4+ KB\n"
     ]
    },
    {
     "data": {
      "text/html": [
       "<div>\n",
       "<style scoped>\n",
       "    .dataframe tbody tr th:only-of-type {\n",
       "        vertical-align: middle;\n",
       "    }\n",
       "\n",
       "    .dataframe tbody tr th {\n",
       "        vertical-align: top;\n",
       "    }\n",
       "\n",
       "    .dataframe thead th {\n",
       "        text-align: right;\n",
       "    }\n",
       "</style>\n",
       "<table border=\"1\" class=\"dataframe\">\n",
       "  <thead>\n",
       "    <tr style=\"text-align: right;\">\n",
       "      <th></th>\n",
       "      <th>ENTITY_GROUPS</th>\n",
       "      <th>ENTITY</th>\n",
       "      <th>SCENARIO</th>\n",
       "      <th>DATE_ORDER</th>\n",
       "      <th>KPI</th>\n",
       "      <th>VALUE</th>\n",
       "      <th>KPI_ORDER</th>\n",
       "      <th>UNIT</th>\n",
       "      <th>PRECISION</th>\n",
       "      <th>INDEX</th>\n",
       "      <th>DATE</th>\n",
       "      <th>VALUE_LOGA</th>\n",
       "    </tr>\n",
       "  </thead>\n",
       "  <tbody>\n",
       "    <tr>\n",
       "      <th>0</th>\n",
       "      <td>Asia</td>\n",
       "      <td>China</td>\n",
       "      <td>22/01/2020</td>\n",
       "      <td>20200122</td>\n",
       "      <td>Confirmed</td>\n",
       "      <td>548.0</td>\n",
       "      <td>1.0</td>\n",
       "      <td>cases</td>\n",
       "      <td>+,.0f</td>\n",
       "      <td>0</td>\n",
       "      <td>D0</td>\n",
       "      <td>0.000000</td>\n",
       "    </tr>\n",
       "    <tr>\n",
       "      <th>1</th>\n",
       "      <td>Asia</td>\n",
       "      <td>China</td>\n",
       "      <td>23/01/2020</td>\n",
       "      <td>20200123</td>\n",
       "      <td>Confirmed</td>\n",
       "      <td>95.0</td>\n",
       "      <td>1.0</td>\n",
       "      <td>cases</td>\n",
       "      <td>+,.0f</td>\n",
       "      <td>1</td>\n",
       "      <td>D1</td>\n",
       "      <td>548.000000</td>\n",
       "    </tr>\n",
       "    <tr>\n",
       "      <th>2</th>\n",
       "      <td>Asia</td>\n",
       "      <td>China</td>\n",
       "      <td>24/01/2020</td>\n",
       "      <td>20200124</td>\n",
       "      <td>Confirmed</td>\n",
       "      <td>277.0</td>\n",
       "      <td>1.0</td>\n",
       "      <td>cases</td>\n",
       "      <td>+,.0f</td>\n",
       "      <td>2</td>\n",
       "      <td>D2</td>\n",
       "      <td>321.500000</td>\n",
       "    </tr>\n",
       "    <tr>\n",
       "      <th>3</th>\n",
       "      <td>Asia</td>\n",
       "      <td>China</td>\n",
       "      <td>25/01/2020</td>\n",
       "      <td>20200125</td>\n",
       "      <td>Confirmed</td>\n",
       "      <td>486.0</td>\n",
       "      <td>1.0</td>\n",
       "      <td>cases</td>\n",
       "      <td>+,.0f</td>\n",
       "      <td>3</td>\n",
       "      <td>D3</td>\n",
       "      <td>306.666667</td>\n",
       "    </tr>\n",
       "    <tr>\n",
       "      <th>4</th>\n",
       "      <td>Asia</td>\n",
       "      <td>China</td>\n",
       "      <td>26/01/2020</td>\n",
       "      <td>20200126</td>\n",
       "      <td>Confirmed</td>\n",
       "      <td>669.0</td>\n",
       "      <td>1.0</td>\n",
       "      <td>cases</td>\n",
       "      <td>+,.0f</td>\n",
       "      <td>4</td>\n",
       "      <td>D4</td>\n",
       "      <td>351.500000</td>\n",
       "    </tr>\n",
       "    <tr>\n",
       "      <th>...</th>\n",
       "      <td>...</td>\n",
       "      <td>...</td>\n",
       "      <td>...</td>\n",
       "      <td>...</td>\n",
       "      <td>...</td>\n",
       "      <td>...</td>\n",
       "      <td>...</td>\n",
       "      <td>...</td>\n",
       "      <td>...</td>\n",
       "      <td>...</td>\n",
       "      <td>...</td>\n",
       "      <td>...</td>\n",
       "    </tr>\n",
       "    <tr>\n",
       "      <th>38</th>\n",
       "      <td>Europe</td>\n",
       "      <td>United Kingdom</td>\n",
       "      <td>23/04/2020</td>\n",
       "      <td>20200423</td>\n",
       "      <td>Deaths</td>\n",
       "      <td>640.0</td>\n",
       "      <td>4.0</td>\n",
       "      <td>cases</td>\n",
       "      <td>+,.0f</td>\n",
       "      <td>38</td>\n",
       "      <td>D38</td>\n",
       "      <td>751.000000</td>\n",
       "    </tr>\n",
       "    <tr>\n",
       "      <th>39</th>\n",
       "      <td>Europe</td>\n",
       "      <td>United Kingdom</td>\n",
       "      <td>24/04/2020</td>\n",
       "      <td>20200424</td>\n",
       "      <td>Deaths</td>\n",
       "      <td>776.0</td>\n",
       "      <td>4.0</td>\n",
       "      <td>cases</td>\n",
       "      <td>+,.0f</td>\n",
       "      <td>39</td>\n",
       "      <td>D39</td>\n",
       "      <td>718.857143</td>\n",
       "    </tr>\n",
       "    <tr>\n",
       "      <th>40</th>\n",
       "      <td>Europe</td>\n",
       "      <td>United Kingdom</td>\n",
       "      <td>25/04/2020</td>\n",
       "      <td>20200425</td>\n",
       "      <td>Deaths</td>\n",
       "      <td>814.0</td>\n",
       "      <td>4.0</td>\n",
       "      <td>cases</td>\n",
       "      <td>+,.0f</td>\n",
       "      <td>40</td>\n",
       "      <td>D40</td>\n",
       "      <td>708.571429</td>\n",
       "    </tr>\n",
       "    <tr>\n",
       "      <th>41</th>\n",
       "      <td>Europe</td>\n",
       "      <td>United Kingdom</td>\n",
       "      <td>26/04/2020</td>\n",
       "      <td>20200426</td>\n",
       "      <td>Deaths</td>\n",
       "      <td>413.0</td>\n",
       "      <td>4.0</td>\n",
       "      <td>cases</td>\n",
       "      <td>+,.0f</td>\n",
       "      <td>41</td>\n",
       "      <td>D41</td>\n",
       "      <td>697.571429</td>\n",
       "    </tr>\n",
       "    <tr>\n",
       "      <th>42</th>\n",
       "      <td>Europe</td>\n",
       "      <td>United Kingdom</td>\n",
       "      <td>27/04/2020</td>\n",
       "      <td>20200427</td>\n",
       "      <td>Deaths</td>\n",
       "      <td>363.0</td>\n",
       "      <td>4.0</td>\n",
       "      <td>cases</td>\n",
       "      <td>+,.0f</td>\n",
       "      <td>42</td>\n",
       "      <td>D42</td>\n",
       "      <td>671.285714</td>\n",
       "    </tr>\n",
       "  </tbody>\n",
       "</table>\n",
       "<p>2160 rows × 12 columns</p>\n",
       "</div>"
      ],
      "text/plain": [
       "   ENTITY_GROUPS          ENTITY    SCENARIO  DATE_ORDER        KPI  VALUE  \\\n",
       "0           Asia           China  22/01/2020    20200122  Confirmed  548.0   \n",
       "1           Asia           China  23/01/2020    20200123  Confirmed   95.0   \n",
       "2           Asia           China  24/01/2020    20200124  Confirmed  277.0   \n",
       "3           Asia           China  25/01/2020    20200125  Confirmed  486.0   \n",
       "4           Asia           China  26/01/2020    20200126  Confirmed  669.0   \n",
       "..           ...             ...         ...         ...        ...    ...   \n",
       "38        Europe  United Kingdom  23/04/2020    20200423     Deaths  640.0   \n",
       "39        Europe  United Kingdom  24/04/2020    20200424     Deaths  776.0   \n",
       "40        Europe  United Kingdom  25/04/2020    20200425     Deaths  814.0   \n",
       "41        Europe  United Kingdom  26/04/2020    20200426     Deaths  413.0   \n",
       "42        Europe  United Kingdom  27/04/2020    20200427     Deaths  363.0   \n",
       "\n",
       "    KPI_ORDER    UNIT PRECISION  INDEX DATE  VALUE_LOGA  \n",
       "0         1.0   cases     +,.0f      0   D0    0.000000  \n",
       "1         1.0   cases     +,.0f      1   D1  548.000000  \n",
       "2         1.0   cases     +,.0f      2   D2  321.500000  \n",
       "3         1.0   cases     +,.0f      3   D3  306.666667  \n",
       "4         1.0   cases     +,.0f      4   D4  351.500000  \n",
       "..        ...     ...       ...    ...  ...         ...  \n",
       "38        4.0   cases     +,.0f     38  D38  751.000000  \n",
       "39        4.0   cases     +,.0f     39  D39  718.857143  \n",
       "40        4.0   cases     +,.0f     40  D40  708.571429  \n",
       "41        4.0   cases     +,.0f     41  D41  697.571429  \n",
       "42        4.0   cases     +,.0f     42  D42  671.285714  \n",
       "\n",
       "[2160 rows x 12 columns]"
      ]
     },
     "execution_count": 80,
     "metadata": {},
     "output_type": "execute_result"
    }
   ],
   "source": [
    "filters = domain_loga[['ENTITY','KPI']].drop_duplicates().values.tolist()\n",
    "domain104 = pd.DataFrame()\n",
    "for f in filters:\n",
    "    entity = f[0]\n",
    "    kpi = f[1]\n",
    "    tmp_df = domain_loga[(domain_loga['ENTITY'] == entity) & (domain_loga['KPI'] == kpi)]\n",
    "    tmp_df = tmp_df.sort_values(by='DATE_ORDER',ascending=True).reset_index(drop=True)\n",
    "    tmp_df['INDEX'] = tmp_df.index\n",
    "    tmp_df['DATE'] = 'D' + tmp_df['INDEX'].astype(str)\n",
    "\n",
    "    def calc_ave(row,df):\n",
    "        i_min = row['INDEX'] - 7\n",
    "        i_max = row['INDEX']\n",
    "        list_filters = []\n",
    "        for i in range(i_min,i_max):\n",
    "            list_filters.append(str(i))\n",
    "        df = df[df['INDEX'].isin(list_filters)]\n",
    "        average = df['VALUE'].mean()\n",
    "        return average\n",
    "\n",
    "    tmp_df['VALUE_LOGA'] = tmp_df.apply(lambda row: calc_ave(row,tmp_df), axis=1).fillna(0)\n",
    "    domain104 = domain104.append(tmp_df)\n",
    "    \n",
    "domain104 = domain104[(domain104['ENTITY'].isin(countries))]\n",
    "\n",
    "domain104.info()\n",
    "domain104"
   ]
  },
  {
   "cell_type": "code",
   "execution_count": 81,
   "metadata": {},
   "outputs": [
    {
     "name": "stdout",
     "output_type": "stream",
     "text": [
      "Dataframe 104 successfully save in database app-wsr-dev in MongoDB. Time: --- 0.10832858085632324 secnds ---\n"
     ]
    }
   ],
   "source": [
    "domain104.to_csv(output_folder + '104.csv',sep=\";\")\n",
    "if use_mongo:\n",
    "    bob.mongo.save_df(domain104,'104',db_app,True)"
   ]
  },
  {
   "cell_type": "code",
   "execution_count": 100,
   "metadata": {},
   "outputs": [
    {
     "data": {
      "application/vnd.plotly.v1+json": {
       "config": {
        "plotlyServerURL": "https://plot.ly"
       },
       "data": [
        {
         "hovertemplate": "ENTITY=China<br>DATE=%{x}<br>VALUE_LOGA=%{y}<extra></extra>",
         "legendgroup": "China",
         "line": {
          "color": "#636efa",
          "dash": "solid"
         },
         "mode": "lines",
         "name": "China",
         "showlegend": true,
         "type": "scatter",
         "x": [
          "D0",
          "D1",
          "D2",
          "D3",
          "D4",
          "D5",
          "D6",
          "D7",
          "D8",
          "D9",
          "D10",
          "D11",
          "D12",
          "D13",
          "D14",
          "D15",
          "D16",
          "D17",
          "D18",
          "D19",
          "D20",
          "D21",
          "D22",
          "D23",
          "D24",
          "D25",
          "D26",
          "D27",
          "D28",
          "D29",
          "D30",
          "D31",
          "D32",
          "D33",
          "D34",
          "D35",
          "D36",
          "D37",
          "D38",
          "D39",
          "D40",
          "D41",
          "D42",
          "D43",
          "D44",
          "D45",
          "D46",
          "D47",
          "D48",
          "D49",
          "D50",
          "D51",
          "D52",
          "D53",
          "D54",
          "D55",
          "D56",
          "D57",
          "D58",
          "D59",
          "D60",
          "D61",
          "D62",
          "D63",
          "D64",
          "D65",
          "D66",
          "D67",
          "D68",
          "D69",
          "D70"
         ],
         "xaxis": "x",
         "y": [
          0,
          17,
          12.5,
          13.666666666666666,
          13.75,
          16.2,
          21.666666666666668,
          24,
          27.571428571428573,
          33,
          45.285714285714285,
          52.42857142857143,
          58.142857142857146,
          61.42857142857143,
          66,
          72.14285714285714,
          78,
          77.71428571428571,
          83.85714285714286,
          88.71428571428571,
          79.14285714285714,
          105.14285714285714,
          114.71428571428571,
          122.57142857142857,
          123,
          121.71428571428571,
          127.28571428571429,
          142.71428571428572,
          124.14285714285714,
          131.71428571428572,
          132.85714285714286,
          128.14285714285714,
          121.57142857142857,
          105.85714285714286,
          96,
          85.28571428571429,
          61,
          45.57142857142857,
          40.285714285714285,
          38,
          38.42857142857143,
          36.285714285714285,
          33.57142857142857,
          32.57142857142857,
          29.857142857142858,
          27.428571428571427,
          25.428571428571427,
          22.428571428571427,
          19.428571428571427,
          17.285714285714285,
          14.714285714285714,
          13.428571428571429,
          13,
          11.428571428571429,
          11,
          10.428571428571429,
          9.428571428571429,
          10.142857142857142,
          9.142857142857142,
          7.857142857142857,
          7.142857142857143,
          6.714285714285714,
          6.571428571428571,
          6.428571428571429,
          4.857142857142857,
          4.857142857142857,
          5.142857142857143,
          4.857142857142857,
          4.714285714285714,
          4.714285714285714,
          4.428571428571429
         ],
         "yaxis": "y"
        },
        {
         "hovertemplate": "ENTITY=France<br>DATE=%{x}<br>VALUE_LOGA=%{y}<extra></extra>",
         "legendgroup": "France",
         "line": {
          "color": "#EF553B",
          "dash": "solid"
         },
         "mode": "lines",
         "name": "France",
         "showlegend": true,
         "type": "scatter",
         "x": [
          "D0",
          "D1",
          "D2",
          "D3",
          "D4",
          "D5",
          "D6",
          "D7",
          "D8",
          "D9",
          "D10",
          "D11",
          "D12",
          "D13",
          "D14",
          "D15",
          "D16",
          "D17",
          "D18",
          "D19",
          "D20",
          "D21",
          "D22",
          "D23",
          "D24",
          "D25",
          "D26",
          "D27",
          "D28",
          "D29",
          "D30",
          "D31",
          "D32",
          "D33",
          "D34",
          "D35",
          "D36",
          "D37",
          "D38",
          "D39",
          "D40",
          "D41",
          "D42",
          "D43",
          "D44",
          "D45",
          "D46"
         ],
         "xaxis": "x",
         "y": [
          0,
          3,
          5.5,
          8.333333333333334,
          10,
          14.2,
          13.833333333333334,
          20.142857142857142,
          33.285714285714285,
          61.714285714285715,
          75.71428571428571,
          89.71428571428571,
          111.85714285714286,
          144.42857142857142,
          169.14285714285714,
          207.71428571428572,
          220.85714285714286,
          250.57142857142858,
          276.42857142857144,
          309.7142857142857,
          347.14285714285717,
          440.14285714285717,
          528.5714285714286,
          646.1428571428571,
          751,
          783.1428571428571,
          842.2857142857143,
          973,
          924.7142857142857,
          975.7142857142857,
          956.4285714285714,
          896.7142857142857,
          902.7142857142857,
          865.7142857142857,
          772.1428571428571,
          900.1428571428571,
          816.1428571428571,
          784,
          784.8571428571429,
          761.7142857142857,
          758,
          725.8571428571429,
          597.8571428571429,
          564,
          510.85714285714283,
          471.85714285714283,
          449.42857142857144
         ],
         "yaxis": "y"
        },
        {
         "hovertemplate": "ENTITY=Germany<br>DATE=%{x}<br>VALUE_LOGA=%{y}<extra></extra>",
         "legendgroup": "Germany",
         "line": {
          "color": "#00cc96",
          "dash": "solid"
         },
         "mode": "lines",
         "name": "Germany",
         "showlegend": true,
         "type": "scatter",
         "x": [
          "D0",
          "D1",
          "D2",
          "D3",
          "D4",
          "D5",
          "D6",
          "D7",
          "D8",
          "D9",
          "D10",
          "D11",
          "D12",
          "D13",
          "D14",
          "D15",
          "D16",
          "D17",
          "D18",
          "D19",
          "D20",
          "D21",
          "D22",
          "D23",
          "D24",
          "D25",
          "D26",
          "D27",
          "D28",
          "D29",
          "D30",
          "D31",
          "D32",
          "D33",
          "D34",
          "D35",
          "D36",
          "D37",
          "D38",
          "D39",
          "D40",
          "D41",
          "D42"
         ],
         "xaxis": "x",
         "y": [
          0,
          4,
          5,
          5.666666666666667,
          5.25,
          7.4,
          10,
          11,
          11.857142857142858,
          15.142857142857142,
          19,
          25.428571428571427,
          31.857142857142858,
          39.285714285714285,
          49.857142857142854,
          62.714285714285715,
          74.57142857142857,
          88.28571428571429,
          102,
          120,
          133.28571428571428,
          144.42857142857142,
          150.14285714285714,
          166.42857142857142,
          177.28571428571428,
          204.14285714285714,
          214.28571428571428,
          213.14285714285714,
          229.85714285714286,
          234.42857142857142,
          216.42857142857142,
          259.85714285714283,
          247.71428571428572,
          253.71428571428572,
          246.14285714285714,
          223.42857142857142,
          238.28571428571428,
          248.42857142857142,
          210.71428571428572,
          217.57142857142858,
          201.14285714285714,
          202.57142857142858,
          198.57142857142858
         ],
         "yaxis": "y"
        },
        {
         "hovertemplate": "ENTITY=Iran<br>DATE=%{x}<br>VALUE_LOGA=%{y}<extra></extra>",
         "legendgroup": "Iran",
         "line": {
          "color": "#ab63fa",
          "dash": "solid"
         },
         "mode": "lines",
         "name": "Iran",
         "showlegend": true,
         "type": "scatter",
         "x": [
          "D0",
          "D1",
          "D2",
          "D3",
          "D4",
          "D5",
          "D6",
          "D7",
          "D8",
          "D9",
          "D10",
          "D11",
          "D12",
          "D13",
          "D14",
          "D15",
          "D16",
          "D17",
          "D18",
          "D19",
          "D20",
          "D21",
          "D22",
          "D23",
          "D24",
          "D25",
          "D26",
          "D27",
          "D28",
          "D29",
          "D30",
          "D31",
          "D32",
          "D33",
          "D34",
          "D35",
          "D36",
          "D37",
          "D38",
          "D39",
          "D40",
          "D41",
          "D42",
          "D43",
          "D44",
          "D45",
          "D46",
          "D47",
          "D48",
          "D49",
          "D50",
          "D51",
          "D52",
          "D53",
          "D54",
          "D55",
          "D56",
          "D57",
          "D58",
          "D59",
          "D60",
          "D61",
          "D62",
          "D63",
          "D64"
         ],
         "xaxis": "x",
         "y": [
          0,
          3,
          3.5,
          3.6666666666666665,
          3.5,
          4.2,
          4.833333333333333,
          5.428571428571429,
          6.571428571428571,
          7.714285714285714,
          8.714285714285714,
          10.428571428571429,
          11.571428571428571,
          12.857142857142858,
          14.571428571428571,
          20,
          24.428571428571427,
          30.571428571428573,
          37.42857142857143,
          46,
          55.714285714285715,
          66.57142857142857,
          75.71428571428571,
          88,
          99.57142857142857,
          111.57142857142857,
          122.14285714285714,
          131.28571428571428,
          135,
          137.28571428571428,
          137,
          135.14285714285714,
          134.57142857142858,
          135.71428571428572,
          135,
          137.28571428571428,
          136.42857142857142,
          135,
          137.71428571428572,
          137,
          132.28571428571428,
          130.85714285714286,
          133.57142857142858,
          137.57142857142858,
          140.28571428571428,
          139.14285714285714,
          136.71428571428572,
          135.71428571428572,
          134,
          129.28571428571428,
          124.42857142857143,
          120.85714285714286,
          115.85714285714286,
          112,
          108.42857142857143,
          103.71428571428571,
          96.28571428571429,
          92,
          89.14285714285714,
          87.71428571428571,
          87.71428571428571,
          87.42857142857143,
          88,
          88.42857142857143,
          84.57142857142857
         ],
         "yaxis": "y"
        },
        {
         "hovertemplate": "ENTITY=Italy<br>DATE=%{x}<br>VALUE_LOGA=%{y}<extra></extra>",
         "legendgroup": "Italy",
         "line": {
          "color": "#FFA15A",
          "dash": "solid"
         },
         "mode": "lines",
         "name": "Italy",
         "showlegend": true,
         "type": "scatter",
         "x": [
          "D0",
          "D1",
          "D2",
          "D3",
          "D4",
          "D5",
          "D6",
          "D7",
          "D8",
          "D9",
          "D10",
          "D11",
          "D12",
          "D13",
          "D14",
          "D15",
          "D16",
          "D17",
          "D18",
          "D19",
          "D20",
          "D21",
          "D22",
          "D23",
          "D24",
          "D25",
          "D26",
          "D27",
          "D28",
          "D29",
          "D30",
          "D31",
          "D32",
          "D33",
          "D34",
          "D35",
          "D36",
          "D37",
          "D38",
          "D39",
          "D40",
          "D41",
          "D42",
          "D43",
          "D44",
          "D45",
          "D46",
          "D47",
          "D48",
          "D49",
          "D50",
          "D51",
          "D52",
          "D53",
          "D54",
          "D55",
          "D56",
          "D57",
          "D58",
          "D59",
          "D60",
          "D61",
          "D62"
         ],
         "xaxis": "x",
         "y": [
          0,
          4,
          3.5,
          4,
          4,
          4.8,
          4.833333333333333,
          6.714285714285714,
          10,
          13.571428571428571,
          18.714285714285715,
          25.142857142857142,
          29.142857142857142,
          47.42857142857143,
          58.714285714285715,
          78.85714285714286,
          102.85714285714286,
          125,
          152.71428571428572,
          172.57142857142858,
          206.14285714285714,
          242.14285714285714,
          267.42857142857144,
          307.2857142857143,
          340.2857142857143,
          395.14285714285717,
          483.42857142857144,
          523.8571428571429,
          559.8571428571429,
          616.7142857142857,
          646.4285714285714,
          687.1428571428571,
          728.8571428571429,
          742.5714285714286,
          757.5714285714286,
          787.7142857142857,
          801.1428571428571,
          807.4285714285714,
          814.2857142857143,
          792.4285714285714,
          762.7142857142857,
          729.7142857142857,
          704.5714285714286,
          671.2857142857143,
          644.8571428571429,
          623.4285714285714,
          595.4285714285714,
          586.5714285714286,
          573.1428571428571,
          563.1428571428571,
          562.8571428571429,
          568,
          555.8571428571429,
          556.5714285714286,
          537,
          537.2857142857143,
          521.2857142857143,
          511.57142857142856,
          491.42857142857144,
          482.7142857142857,
          460.57142857142856,
          451,
          426.2857142857143
         ],
         "yaxis": "y"
        },
        {
         "hovertemplate": "ENTITY=Russia<br>DATE=%{x}<br>VALUE_LOGA=%{y}<extra></extra>",
         "legendgroup": "Russia",
         "line": {
          "color": "#19d3f3",
          "dash": "solid"
         },
         "mode": "lines",
         "name": "Russia",
         "showlegend": true,
         "type": "scatter",
         "x": [
          "D0",
          "D1",
          "D2",
          "D3",
          "D4",
          "D5",
          "D6",
          "D7",
          "D8",
          "D9",
          "D10",
          "D11",
          "D12",
          "D13",
          "D14",
          "D15",
          "D16",
          "D17",
          "D18",
          "D19",
          "D20",
          "D21",
          "D22",
          "D23",
          "D24",
          "D25",
          "D26"
         ],
         "xaxis": "x",
         "y": [
          0,
          4,
          6,
          6.333333333333333,
          6.25,
          5.8,
          6.333333333333333,
          7,
          7.142857142857143,
          7.857142857142857,
          9.428571428571429,
          10.285714285714286,
          13.142857142857142,
          14.428571428571429,
          16,
          19.285714285714285,
          22.285714285714285,
          25.571428571428573,
          29.571428571428573,
          33,
          36.714285714285715,
          40.857142857142854,
          45,
          46.142857142857146,
          48.857142857142854,
          52.57142857142857,
          55.142857142857146
         ],
         "yaxis": "y"
        },
        {
         "hovertemplate": "ENTITY=Spain<br>DATE=%{x}<br>VALUE_LOGA=%{y}<extra></extra>",
         "legendgroup": "Spain",
         "line": {
          "color": "#FF6692",
          "dash": "solid"
         },
         "mode": "lines",
         "name": "Spain",
         "showlegend": true,
         "type": "scatter",
         "x": [
          "D0",
          "D1",
          "D2",
          "D3",
          "D4",
          "D5",
          "D6",
          "D7",
          "D8",
          "D9",
          "D10",
          "D11",
          "D12",
          "D13",
          "D14",
          "D15",
          "D16",
          "D17",
          "D18",
          "D19",
          "D20",
          "D21",
          "D22",
          "D23",
          "D24",
          "D25",
          "D26",
          "D27",
          "D28",
          "D29",
          "D30",
          "D31",
          "D32",
          "D33",
          "D34",
          "D35",
          "D36",
          "D37",
          "D38",
          "D39",
          "D40",
          "D41",
          "D42",
          "D43",
          "D44",
          "D45",
          "D46",
          "D47",
          "D48",
          "D49",
          "D50"
         ],
         "xaxis": "x",
         "y": [
          0,
          5,
          6,
          7.666666666666667,
          7.5,
          9.8,
          21.166666666666668,
          27,
          39.714285714285715,
          46.285714285714285,
          72,
          83.85714285714286,
          110.71428571428571,
          130,
          168.57142857142858,
          211.85714285714286,
          281.2857142857143,
          325,
          432,
          505,
          585,
          658.1428571428571,
          718.7142857142857,
          772.1428571428571,
          808,
          820,
          854.7142857142857,
          865.7142857142857,
          852.1428571428571,
          834,
          803.5714285714286,
          797.2857142857143,
          772.1428571428571,
          728.4285714285714,
          697.5714285714286,
          665.5714285714286,
          652.5714285714286,
          630.7142857142857,
          573,
          559.4285714285714,
          552.5714285714286,
          560.1428571428571,
          491,
          463.42857142857144,
          442.2857142857143,
          460.85714285714283,
          429.85714285714283,
          406,
          360.2857142857143,
          408.42857142857144,
          391
         ],
         "yaxis": "y"
        },
        {
         "hovertemplate": "ENTITY=Turkey<br>DATE=%{x}<br>VALUE_LOGA=%{y}<extra></extra>",
         "legendgroup": "Turkey",
         "line": {
          "color": "#B6E880",
          "dash": "solid"
         },
         "mode": "lines",
         "name": "Turkey",
         "showlegend": true,
         "type": "scatter",
         "x": [
          "D0",
          "D1",
          "D2",
          "D3",
          "D4",
          "D5",
          "D6",
          "D7",
          "D8",
          "D9",
          "D10",
          "D11",
          "D12",
          "D13",
          "D14",
          "D15",
          "D16",
          "D17",
          "D18",
          "D19",
          "D20",
          "D21",
          "D22",
          "D23",
          "D24",
          "D25",
          "D26",
          "D27",
          "D28",
          "D29",
          "D30",
          "D31",
          "D32",
          "D33",
          "D34",
          "D35",
          "D36",
          "D37"
         ],
         "xaxis": "x",
         "y": [
          0,
          5,
          13,
          11,
          10,
          11,
          11.833333333333334,
          12.571428571428571,
          14.142857142857142,
          14.428571428571429,
          18.714285714285715,
          24.285714285714285,
          31.142857142857142,
          40.142857142857146,
          47.57142857142857,
          56.142857142857146,
          63.285714285714285,
          68.71428571428571,
          73,
          76.42857142857143,
          78.85714285714286,
          83,
          85.71428571428571,
          89.14285714285714,
          92.42857142857143,
          96.85714285714286,
          100.85714285714286,
          105,
          109,
          112.71428571428571,
          117,
          120.57142857142857,
          122.28571428571429,
          122.57142857142857,
          121.14285714285714,
          118.71428571428571,
          116.57142857142857,
          112.57142857142857
         ],
         "yaxis": "y"
        },
        {
         "hovertemplate": "ENTITY=US<br>DATE=%{x}<br>VALUE_LOGA=%{y}<extra></extra>",
         "legendgroup": "US",
         "line": {
          "color": "#FF97FF",
          "dash": "solid"
         },
         "mode": "lines",
         "name": "US",
         "showlegend": true,
         "type": "scatter",
         "x": [
          "D0",
          "D1",
          "D2",
          "D3",
          "D4",
          "D5",
          "D6",
          "D7",
          "D8",
          "D9",
          "D10",
          "D11",
          "D12",
          "D13",
          "D14",
          "D15",
          "D16",
          "D17",
          "D18",
          "D19",
          "D20",
          "D21",
          "D22",
          "D23",
          "D24",
          "D25",
          "D26",
          "D27",
          "D28",
          "D29",
          "D30",
          "D31",
          "D32",
          "D33",
          "D34",
          "D35",
          "D36",
          "D37",
          "D38",
          "D39",
          "D40",
          "D41",
          "D42",
          "D43",
          "D44",
          "D45",
          "D46",
          "D47",
          "D48",
          "D49",
          "D50",
          "D51",
          "D52"
         ],
         "xaxis": "x",
         "y": [
          0,
          5,
          4.5,
          4,
          4,
          4.4,
          4.333333333333333,
          5,
          5.571428571428571,
          5.857142857142857,
          7.428571428571429,
          10.857142857142858,
          14.857142857142858,
          22.428571428571427,
          32.285714285714285,
          44.714285714285715,
          56.714285714285715,
          75.14285714285714,
          97.57142857142857,
          125.14285714285714,
          161,
          208.42857142857142,
          271.7142857142857,
          347.57142857142856,
          417.42857142857144,
          505,
          646.1428571428571,
          774.2857142857143,
          937.1428571428571,
          1044,
          1135.4285714285713,
          1246.7142857142858,
          1368.2857142857142,
          1522.857142857143,
          1647.7142857142858,
          1711.142857142857,
          1822.857142857143,
          1929.7142857142858,
          1977.2857142857142,
          1996.5714285714287,
          2010.142857142857,
          2066.285714285714,
          2080.4285714285716,
          2154,
          2201.5714285714284,
          2122.714285714286,
          2112.714285714286,
          2117.714285714286,
          2096.8571428571427,
          2128.1428571428573,
          2011.7142857142858,
          2000.2857142857142,
          1990.857142857143
         ],
         "yaxis": "y"
        },
        {
         "hovertemplate": "ENTITY=United Kingdom<br>DATE=%{x}<br>VALUE_LOGA=%{y}<extra></extra>",
         "legendgroup": "United Kingdom",
         "line": {
          "color": "#FECB52",
          "dash": "solid"
         },
         "mode": "lines",
         "name": "United Kingdom",
         "showlegend": true,
         "type": "scatter",
         "x": [
          "D0",
          "D1",
          "D2",
          "D3",
          "D4",
          "D5",
          "D6",
          "D7",
          "D8",
          "D9",
          "D10",
          "D11",
          "D12",
          "D13",
          "D14",
          "D15",
          "D16",
          "D17",
          "D18",
          "D19",
          "D20",
          "D21",
          "D22",
          "D23",
          "D24",
          "D25",
          "D26",
          "D27",
          "D28",
          "D29",
          "D30",
          "D31",
          "D32",
          "D33",
          "D34",
          "D35",
          "D36",
          "D37",
          "D38",
          "D39",
          "D40",
          "D41",
          "D42"
         ],
         "xaxis": "x",
         "y": [
          0,
          13,
          24,
          21.333333333333332,
          32.5,
          34,
          37.666666666666664,
          39.142857142857146,
          45,
          52.42857142857143,
          56.285714285714285,
          63.142857142857146,
          83.28571428571429,
          112.42857142857143,
          135.57142857142858,
          153.57142857142858,
          195.71428571428572,
          270.14285714285717,
          335.14285714285717,
          407.14285714285717,
          471.2857142857143,
          530.2857142857143,
          567.7142857142857,
          625.4285714285714,
          679.1428571428571,
          723.8571428571429,
          766.1428571428571,
          796,
          812.2857142857143,
          851.7142857142857,
          851.1428571428571,
          826.1428571428571,
          823.7142857142857,
          804.7142857142857,
          800.8571428571429,
          780.8571428571429,
          743.2857142857143,
          749.8571428571429,
          751,
          718.8571428571429,
          708.5714285714286,
          697.5714285714286,
          671.2857142857143
         ],
         "yaxis": "y"
        }
       ],
       "layout": {
        "autosize": true,
        "legend": {
         "title": {
          "text": "ENTITY"
         },
         "tracegroupgap": 0
        },
        "template": {
         "data": {
          "bar": [
           {
            "error_x": {
             "color": "#2a3f5f"
            },
            "error_y": {
             "color": "#2a3f5f"
            },
            "marker": {
             "line": {
              "color": "#E5ECF6",
              "width": 0.5
             }
            },
            "type": "bar"
           }
          ],
          "barpolar": [
           {
            "marker": {
             "line": {
              "color": "#E5ECF6",
              "width": 0.5
             }
            },
            "type": "barpolar"
           }
          ],
          "carpet": [
           {
            "aaxis": {
             "endlinecolor": "#2a3f5f",
             "gridcolor": "white",
             "linecolor": "white",
             "minorgridcolor": "white",
             "startlinecolor": "#2a3f5f"
            },
            "baxis": {
             "endlinecolor": "#2a3f5f",
             "gridcolor": "white",
             "linecolor": "white",
             "minorgridcolor": "white",
             "startlinecolor": "#2a3f5f"
            },
            "type": "carpet"
           }
          ],
          "choropleth": [
           {
            "colorbar": {
             "outlinewidth": 0,
             "ticks": ""
            },
            "type": "choropleth"
           }
          ],
          "contour": [
           {
            "colorbar": {
             "outlinewidth": 0,
             "ticks": ""
            },
            "colorscale": [
             [
              0,
              "#0d0887"
             ],
             [
              0.1111111111111111,
              "#46039f"
             ],
             [
              0.2222222222222222,
              "#7201a8"
             ],
             [
              0.3333333333333333,
              "#9c179e"
             ],
             [
              0.4444444444444444,
              "#bd3786"
             ],
             [
              0.5555555555555556,
              "#d8576b"
             ],
             [
              0.6666666666666666,
              "#ed7953"
             ],
             [
              0.7777777777777778,
              "#fb9f3a"
             ],
             [
              0.8888888888888888,
              "#fdca26"
             ],
             [
              1,
              "#f0f921"
             ]
            ],
            "type": "contour"
           }
          ],
          "contourcarpet": [
           {
            "colorbar": {
             "outlinewidth": 0,
             "ticks": ""
            },
            "type": "contourcarpet"
           }
          ],
          "heatmap": [
           {
            "colorbar": {
             "outlinewidth": 0,
             "ticks": ""
            },
            "colorscale": [
             [
              0,
              "#0d0887"
             ],
             [
              0.1111111111111111,
              "#46039f"
             ],
             [
              0.2222222222222222,
              "#7201a8"
             ],
             [
              0.3333333333333333,
              "#9c179e"
             ],
             [
              0.4444444444444444,
              "#bd3786"
             ],
             [
              0.5555555555555556,
              "#d8576b"
             ],
             [
              0.6666666666666666,
              "#ed7953"
             ],
             [
              0.7777777777777778,
              "#fb9f3a"
             ],
             [
              0.8888888888888888,
              "#fdca26"
             ],
             [
              1,
              "#f0f921"
             ]
            ],
            "type": "heatmap"
           }
          ],
          "heatmapgl": [
           {
            "colorbar": {
             "outlinewidth": 0,
             "ticks": ""
            },
            "colorscale": [
             [
              0,
              "#0d0887"
             ],
             [
              0.1111111111111111,
              "#46039f"
             ],
             [
              0.2222222222222222,
              "#7201a8"
             ],
             [
              0.3333333333333333,
              "#9c179e"
             ],
             [
              0.4444444444444444,
              "#bd3786"
             ],
             [
              0.5555555555555556,
              "#d8576b"
             ],
             [
              0.6666666666666666,
              "#ed7953"
             ],
             [
              0.7777777777777778,
              "#fb9f3a"
             ],
             [
              0.8888888888888888,
              "#fdca26"
             ],
             [
              1,
              "#f0f921"
             ]
            ],
            "type": "heatmapgl"
           }
          ],
          "histogram": [
           {
            "marker": {
             "colorbar": {
              "outlinewidth": 0,
              "ticks": ""
             }
            },
            "type": "histogram"
           }
          ],
          "histogram2d": [
           {
            "colorbar": {
             "outlinewidth": 0,
             "ticks": ""
            },
            "colorscale": [
             [
              0,
              "#0d0887"
             ],
             [
              0.1111111111111111,
              "#46039f"
             ],
             [
              0.2222222222222222,
              "#7201a8"
             ],
             [
              0.3333333333333333,
              "#9c179e"
             ],
             [
              0.4444444444444444,
              "#bd3786"
             ],
             [
              0.5555555555555556,
              "#d8576b"
             ],
             [
              0.6666666666666666,
              "#ed7953"
             ],
             [
              0.7777777777777778,
              "#fb9f3a"
             ],
             [
              0.8888888888888888,
              "#fdca26"
             ],
             [
              1,
              "#f0f921"
             ]
            ],
            "type": "histogram2d"
           }
          ],
          "histogram2dcontour": [
           {
            "colorbar": {
             "outlinewidth": 0,
             "ticks": ""
            },
            "colorscale": [
             [
              0,
              "#0d0887"
             ],
             [
              0.1111111111111111,
              "#46039f"
             ],
             [
              0.2222222222222222,
              "#7201a8"
             ],
             [
              0.3333333333333333,
              "#9c179e"
             ],
             [
              0.4444444444444444,
              "#bd3786"
             ],
             [
              0.5555555555555556,
              "#d8576b"
             ],
             [
              0.6666666666666666,
              "#ed7953"
             ],
             [
              0.7777777777777778,
              "#fb9f3a"
             ],
             [
              0.8888888888888888,
              "#fdca26"
             ],
             [
              1,
              "#f0f921"
             ]
            ],
            "type": "histogram2dcontour"
           }
          ],
          "mesh3d": [
           {
            "colorbar": {
             "outlinewidth": 0,
             "ticks": ""
            },
            "type": "mesh3d"
           }
          ],
          "parcoords": [
           {
            "line": {
             "colorbar": {
              "outlinewidth": 0,
              "ticks": ""
             }
            },
            "type": "parcoords"
           }
          ],
          "pie": [
           {
            "automargin": true,
            "type": "pie"
           }
          ],
          "scatter": [
           {
            "marker": {
             "colorbar": {
              "outlinewidth": 0,
              "ticks": ""
             }
            },
            "type": "scatter"
           }
          ],
          "scatter3d": [
           {
            "line": {
             "colorbar": {
              "outlinewidth": 0,
              "ticks": ""
             }
            },
            "marker": {
             "colorbar": {
              "outlinewidth": 0,
              "ticks": ""
             }
            },
            "type": "scatter3d"
           }
          ],
          "scattercarpet": [
           {
            "marker": {
             "colorbar": {
              "outlinewidth": 0,
              "ticks": ""
             }
            },
            "type": "scattercarpet"
           }
          ],
          "scattergeo": [
           {
            "marker": {
             "colorbar": {
              "outlinewidth": 0,
              "ticks": ""
             }
            },
            "type": "scattergeo"
           }
          ],
          "scattergl": [
           {
            "marker": {
             "colorbar": {
              "outlinewidth": 0,
              "ticks": ""
             }
            },
            "type": "scattergl"
           }
          ],
          "scattermapbox": [
           {
            "marker": {
             "colorbar": {
              "outlinewidth": 0,
              "ticks": ""
             }
            },
            "type": "scattermapbox"
           }
          ],
          "scatterpolar": [
           {
            "marker": {
             "colorbar": {
              "outlinewidth": 0,
              "ticks": ""
             }
            },
            "type": "scatterpolar"
           }
          ],
          "scatterpolargl": [
           {
            "marker": {
             "colorbar": {
              "outlinewidth": 0,
              "ticks": ""
             }
            },
            "type": "scatterpolargl"
           }
          ],
          "scatterternary": [
           {
            "marker": {
             "colorbar": {
              "outlinewidth": 0,
              "ticks": ""
             }
            },
            "type": "scatterternary"
           }
          ],
          "surface": [
           {
            "colorbar": {
             "outlinewidth": 0,
             "ticks": ""
            },
            "colorscale": [
             [
              0,
              "#0d0887"
             ],
             [
              0.1111111111111111,
              "#46039f"
             ],
             [
              0.2222222222222222,
              "#7201a8"
             ],
             [
              0.3333333333333333,
              "#9c179e"
             ],
             [
              0.4444444444444444,
              "#bd3786"
             ],
             [
              0.5555555555555556,
              "#d8576b"
             ],
             [
              0.6666666666666666,
              "#ed7953"
             ],
             [
              0.7777777777777778,
              "#fb9f3a"
             ],
             [
              0.8888888888888888,
              "#fdca26"
             ],
             [
              1,
              "#f0f921"
             ]
            ],
            "type": "surface"
           }
          ],
          "table": [
           {
            "cells": {
             "fill": {
              "color": "#EBF0F8"
             },
             "line": {
              "color": "white"
             }
            },
            "header": {
             "fill": {
              "color": "#C8D4E3"
             },
             "line": {
              "color": "white"
             }
            },
            "type": "table"
           }
          ]
         },
         "layout": {
          "annotationdefaults": {
           "arrowcolor": "#2a3f5f",
           "arrowhead": 0,
           "arrowwidth": 1
          },
          "coloraxis": {
           "colorbar": {
            "outlinewidth": 0,
            "ticks": ""
           }
          },
          "colorscale": {
           "diverging": [
            [
             0,
             "#8e0152"
            ],
            [
             0.1,
             "#c51b7d"
            ],
            [
             0.2,
             "#de77ae"
            ],
            [
             0.3,
             "#f1b6da"
            ],
            [
             0.4,
             "#fde0ef"
            ],
            [
             0.5,
             "#f7f7f7"
            ],
            [
             0.6,
             "#e6f5d0"
            ],
            [
             0.7,
             "#b8e186"
            ],
            [
             0.8,
             "#7fbc41"
            ],
            [
             0.9,
             "#4d9221"
            ],
            [
             1,
             "#276419"
            ]
           ],
           "sequential": [
            [
             0,
             "#0d0887"
            ],
            [
             0.1111111111111111,
             "#46039f"
            ],
            [
             0.2222222222222222,
             "#7201a8"
            ],
            [
             0.3333333333333333,
             "#9c179e"
            ],
            [
             0.4444444444444444,
             "#bd3786"
            ],
            [
             0.5555555555555556,
             "#d8576b"
            ],
            [
             0.6666666666666666,
             "#ed7953"
            ],
            [
             0.7777777777777778,
             "#fb9f3a"
            ],
            [
             0.8888888888888888,
             "#fdca26"
            ],
            [
             1,
             "#f0f921"
            ]
           ],
           "sequentialminus": [
            [
             0,
             "#0d0887"
            ],
            [
             0.1111111111111111,
             "#46039f"
            ],
            [
             0.2222222222222222,
             "#7201a8"
            ],
            [
             0.3333333333333333,
             "#9c179e"
            ],
            [
             0.4444444444444444,
             "#bd3786"
            ],
            [
             0.5555555555555556,
             "#d8576b"
            ],
            [
             0.6666666666666666,
             "#ed7953"
            ],
            [
             0.7777777777777778,
             "#fb9f3a"
            ],
            [
             0.8888888888888888,
             "#fdca26"
            ],
            [
             1,
             "#f0f921"
            ]
           ]
          },
          "colorway": [
           "#636efa",
           "#EF553B",
           "#00cc96",
           "#ab63fa",
           "#FFA15A",
           "#19d3f3",
           "#FF6692",
           "#B6E880",
           "#FF97FF",
           "#FECB52"
          ],
          "font": {
           "color": "#2a3f5f"
          },
          "geo": {
           "bgcolor": "white",
           "lakecolor": "white",
           "landcolor": "#E5ECF6",
           "showlakes": true,
           "showland": true,
           "subunitcolor": "white"
          },
          "hoverlabel": {
           "align": "left"
          },
          "hovermode": "closest",
          "mapbox": {
           "style": "light"
          },
          "paper_bgcolor": "white",
          "plot_bgcolor": "#E5ECF6",
          "polar": {
           "angularaxis": {
            "gridcolor": "white",
            "linecolor": "white",
            "ticks": ""
           },
           "bgcolor": "#E5ECF6",
           "radialaxis": {
            "gridcolor": "white",
            "linecolor": "white",
            "ticks": ""
           }
          },
          "scene": {
           "xaxis": {
            "backgroundcolor": "#E5ECF6",
            "gridcolor": "white",
            "gridwidth": 2,
            "linecolor": "white",
            "showbackground": true,
            "ticks": "",
            "zerolinecolor": "white"
           },
           "yaxis": {
            "backgroundcolor": "#E5ECF6",
            "gridcolor": "white",
            "gridwidth": 2,
            "linecolor": "white",
            "showbackground": true,
            "ticks": "",
            "zerolinecolor": "white"
           },
           "zaxis": {
            "backgroundcolor": "#E5ECF6",
            "gridcolor": "white",
            "gridwidth": 2,
            "linecolor": "white",
            "showbackground": true,
            "ticks": "",
            "zerolinecolor": "white"
           }
          },
          "shapedefaults": {
           "line": {
            "color": "#2a3f5f"
           }
          },
          "ternary": {
           "aaxis": {
            "gridcolor": "white",
            "linecolor": "white",
            "ticks": ""
           },
           "baxis": {
            "gridcolor": "white",
            "linecolor": "white",
            "ticks": ""
           },
           "bgcolor": "#E5ECF6",
           "caxis": {
            "gridcolor": "white",
            "linecolor": "white",
            "ticks": ""
           }
          },
          "title": {
           "x": 0.05
          },
          "xaxis": {
           "automargin": true,
           "gridcolor": "white",
           "linecolor": "white",
           "ticks": "",
           "title": {
            "standoff": 15
           },
           "zerolinecolor": "white",
           "zerolinewidth": 2
          },
          "yaxis": {
           "automargin": true,
           "gridcolor": "white",
           "linecolor": "white",
           "ticks": "",
           "title": {
            "standoff": 15
           },
           "zerolinecolor": "white",
           "zerolinewidth": 2
          }
         }
        },
        "title": {
         "text": "Daily trend covid-19"
        },
        "xaxis": {
         "anchor": "y",
         "autorange": true,
         "domain": [
          0,
          1
         ],
         "range": [
          -1,
          6
         ],
         "title": {
          "text": "DATE"
         },
         "type": "log"
        },
        "yaxis": {
         "anchor": "x",
         "autorange": true,
         "domain": [
          0,
          1
         ],
         "range": [
          0.31792061440243563,
          3.501933420746969
         ],
         "title": {
          "text": "VALUE_LOGA"
         },
         "type": "log"
        }
       }
      },
      "image/png": "[encoded data removed]",
      "text/html": [
       "<div>\n",
       "        \n",
       "        \n",
       "            <div id=\"b48906c4-4a2e-4d3d-b276-c520b47c25ef\" class=\"plotly-graph-div\" style=\"height:525px; width:100%;\"></div>\n",
       "            <script type=\"text/javascript\">\n",
       "                require([\"plotly\"], function(Plotly) {\n",
       "                    window.PLOTLYENV=window.PLOTLYENV || {};\n",
       "                    \n",
       "                if (document.getElementById(\"b48906c4-4a2e-4d3d-b276-c520b47c25ef\")) {\n",
       "                    Plotly.newPlot(\n",
       "                        'b48906c4-4a2e-4d3d-b276-c520b47c25ef',\n",
       "                        [{\"hovertemplate\": \"ENTITY=China<br>DATE=%{x}<br>VALUE_LOGA=%{y}<extra></extra>\", \"legendgroup\": \"China\", \"line\": {\"color\": \"#636efa\", \"dash\": \"solid\"}, \"mode\": \"lines\", \"name\": \"China\", \"showlegend\": true, \"type\": \"scatter\", \"x\": [\"D0\", \"D1\", \"D2\", \"D3\", \"D4\", \"D5\", \"D6\", \"D7\", \"D8\", \"D9\", \"D10\", \"D11\", \"D12\", \"D13\", \"D14\", \"D15\", \"D16\", \"D17\", \"D18\", \"D19\", \"D20\", \"D21\", \"D22\", \"D23\", \"D24\", \"D25\", \"D26\", \"D27\", \"D28\", \"D29\", \"D30\", \"D31\", \"D32\", \"D33\", \"D34\", \"D35\", \"D36\", \"D37\", \"D38\", \"D39\", \"D40\", \"D41\", \"D42\", \"D43\", \"D44\", \"D45\", \"D46\", \"D47\", \"D48\", \"D49\", \"D50\", \"D51\", \"D52\", \"D53\", \"D54\", \"D55\", \"D56\", \"D57\", \"D58\", \"D59\", \"D60\", \"D61\", \"D62\", \"D63\", \"D64\", \"D65\", \"D66\", \"D67\", \"D68\", \"D69\", \"D70\"], \"xaxis\": \"x\", \"y\": [0.0, 17.0, 12.5, 13.666666666666666, 13.75, 16.2, 21.666666666666668, 24.0, 27.571428571428573, 33.0, 45.285714285714285, 52.42857142857143, 58.142857142857146, 61.42857142857143, 66.0, 72.14285714285714, 78.0, 77.71428571428571, 83.85714285714286, 88.71428571428571, 79.14285714285714, 105.14285714285714, 114.71428571428571, 122.57142857142857, 123.0, 121.71428571428571, 127.28571428571429, 142.71428571428572, 124.14285714285714, 131.71428571428572, 132.85714285714286, 128.14285714285714, 121.57142857142857, 105.85714285714286, 96.0, 85.28571428571429, 61.0, 45.57142857142857, 40.285714285714285, 38.0, 38.42857142857143, 36.285714285714285, 33.57142857142857, 32.57142857142857, 29.857142857142858, 27.428571428571427, 25.428571428571427, 22.428571428571427, 19.428571428571427, 17.285714285714285, 14.714285714285714, 13.428571428571429, 13.0, 11.428571428571429, 11.0, 10.428571428571429, 9.428571428571429, 10.142857142857142, 9.142857142857142, 7.857142857142857, 7.142857142857143, 6.714285714285714, 6.571428571428571, 6.428571428571429, 4.857142857142857, 4.857142857142857, 5.142857142857143, 4.857142857142857, 4.714285714285714, 4.714285714285714, 4.428571428571429], \"yaxis\": \"y\"}, {\"hovertemplate\": \"ENTITY=France<br>DATE=%{x}<br>VALUE_LOGA=%{y}<extra></extra>\", \"legendgroup\": \"France\", \"line\": {\"color\": \"#EF553B\", \"dash\": \"solid\"}, \"mode\": \"lines\", \"name\": \"France\", \"showlegend\": true, \"type\": \"scatter\", \"x\": [\"D0\", \"D1\", \"D2\", \"D3\", \"D4\", \"D5\", \"D6\", \"D7\", \"D8\", \"D9\", \"D10\", \"D11\", \"D12\", \"D13\", \"D14\", \"D15\", \"D16\", \"D17\", \"D18\", \"D19\", \"D20\", \"D21\", \"D22\", \"D23\", \"D24\", \"D25\", \"D26\", \"D27\", \"D28\", \"D29\", \"D30\", \"D31\", \"D32\", \"D33\", \"D34\", \"D35\", \"D36\", \"D37\", \"D38\", \"D39\", \"D40\", \"D41\", \"D42\", \"D43\", \"D44\", \"D45\", \"D46\"], \"xaxis\": \"x\", \"y\": [0.0, 3.0, 5.5, 8.333333333333334, 10.0, 14.2, 13.833333333333334, 20.142857142857142, 33.285714285714285, 61.714285714285715, 75.71428571428571, 89.71428571428571, 111.85714285714286, 144.42857142857142, 169.14285714285714, 207.71428571428572, 220.85714285714286, 250.57142857142858, 276.42857142857144, 309.7142857142857, 347.14285714285717, 440.14285714285717, 528.5714285714286, 646.1428571428571, 751.0, 783.1428571428571, 842.2857142857143, 973.0, 924.7142857142857, 975.7142857142857, 956.4285714285714, 896.7142857142857, 902.7142857142857, 865.7142857142857, 772.1428571428571, 900.1428571428571, 816.1428571428571, 784.0, 784.8571428571429, 761.7142857142857, 758.0, 725.8571428571429, 597.8571428571429, 564.0, 510.85714285714283, 471.85714285714283, 449.42857142857144], \"yaxis\": \"y\"}, {\"hovertemplate\": \"ENTITY=Germany<br>DATE=%{x}<br>VALUE_LOGA=%{y}<extra></extra>\", \"legendgroup\": \"Germany\", \"line\": {\"color\": \"#00cc96\", \"dash\": \"solid\"}, \"mode\": \"lines\", \"name\": \"Germany\", \"showlegend\": true, \"type\": \"scatter\", \"x\": [\"D0\", \"D1\", \"D2\", \"D3\", \"D4\", \"D5\", \"D6\", \"D7\", \"D8\", \"D9\", \"D10\", \"D11\", \"D12\", \"D13\", \"D14\", \"D15\", \"D16\", \"D17\", \"D18\", \"D19\", \"D20\", \"D21\", \"D22\", \"D23\", \"D24\", \"D25\", \"D26\", \"D27\", \"D28\", \"D29\", \"D30\", \"D31\", \"D32\", \"D33\", \"D34\", \"D35\", \"D36\", \"D37\", \"D38\", \"D39\", \"D40\", \"D41\", \"D42\"], \"xaxis\": \"x\", \"y\": [0.0, 4.0, 5.0, 5.666666666666667, 5.25, 7.4, 10.0, 11.0, 11.857142857142858, 15.142857142857142, 19.0, 25.428571428571427, 31.857142857142858, 39.285714285714285, 49.857142857142854, 62.714285714285715, 74.57142857142857, 88.28571428571429, 102.0, 120.0, 133.28571428571428, 144.42857142857142, 150.14285714285714, 166.42857142857142, 177.28571428571428, 204.14285714285714, 214.28571428571428, 213.14285714285714, 229.85714285714286, 234.42857142857142, 216.42857142857142, 259.85714285714283, 247.71428571428572, 253.71428571428572, 246.14285714285714, 223.42857142857142, 238.28571428571428, 248.42857142857142, 210.71428571428572, 217.57142857142858, 201.14285714285714, 202.57142857142858, 198.57142857142858], \"yaxis\": \"y\"}, {\"hovertemplate\": \"ENTITY=Iran<br>DATE=%{x}<br>VALUE_LOGA=%{y}<extra></extra>\", \"legendgroup\": \"Iran\", \"line\": {\"color\": \"#ab63fa\", \"dash\": \"solid\"}, \"mode\": \"lines\", \"name\": \"Iran\", \"showlegend\": true, \"type\": \"scatter\", \"x\": [\"D0\", \"D1\", \"D2\", \"D3\", \"D4\", \"D5\", \"D6\", \"D7\", \"D8\", \"D9\", \"D10\", \"D11\", \"D12\", \"D13\", \"D14\", \"D15\", \"D16\", \"D17\", \"D18\", \"D19\", \"D20\", \"D21\", \"D22\", \"D23\", \"D24\", \"D25\", \"D26\", \"D27\", \"D28\", \"D29\", \"D30\", \"D31\", \"D32\", \"D33\", \"D34\", \"D35\", \"D36\", \"D37\", \"D38\", \"D39\", \"D40\", \"D41\", \"D42\", \"D43\", \"D44\", \"D45\", \"D46\", \"D47\", \"D48\", \"D49\", \"D50\", \"D51\", \"D52\", \"D53\", \"D54\", \"D55\", \"D56\", \"D57\", \"D58\", \"D59\", \"D60\", \"D61\", \"D62\", \"D63\", \"D64\"], \"xaxis\": \"x\", \"y\": [0.0, 3.0, 3.5, 3.6666666666666665, 3.5, 4.2, 4.833333333333333, 5.428571428571429, 6.571428571428571, 7.714285714285714, 8.714285714285714, 10.428571428571429, 11.571428571428571, 12.857142857142858, 14.571428571428571, 20.0, 24.428571428571427, 30.571428571428573, 37.42857142857143, 46.0, 55.714285714285715, 66.57142857142857, 75.71428571428571, 88.0, 99.57142857142857, 111.57142857142857, 122.14285714285714, 131.28571428571428, 135.0, 137.28571428571428, 137.0, 135.14285714285714, 134.57142857142858, 135.71428571428572, 135.0, 137.28571428571428, 136.42857142857142, 135.0, 137.71428571428572, 137.0, 132.28571428571428, 130.85714285714286, 133.57142857142858, 137.57142857142858, 140.28571428571428, 139.14285714285714, 136.71428571428572, 135.71428571428572, 134.0, 129.28571428571428, 124.42857142857143, 120.85714285714286, 115.85714285714286, 112.0, 108.42857142857143, 103.71428571428571, 96.28571428571429, 92.0, 89.14285714285714, 87.71428571428571, 87.71428571428571, 87.42857142857143, 88.0, 88.42857142857143, 84.57142857142857], \"yaxis\": \"y\"}, {\"hovertemplate\": \"ENTITY=Italy<br>DATE=%{x}<br>VALUE_LOGA=%{y}<extra></extra>\", \"legendgroup\": \"Italy\", \"line\": {\"color\": \"#FFA15A\", \"dash\": \"solid\"}, \"mode\": \"lines\", \"name\": \"Italy\", \"showlegend\": true, \"type\": \"scatter\", \"x\": [\"D0\", \"D1\", \"D2\", \"D3\", \"D4\", \"D5\", \"D6\", \"D7\", \"D8\", \"D9\", \"D10\", \"D11\", \"D12\", \"D13\", \"D14\", \"D15\", \"D16\", \"D17\", \"D18\", \"D19\", \"D20\", \"D21\", \"D22\", \"D23\", \"D24\", \"D25\", \"D26\", \"D27\", \"D28\", \"D29\", \"D30\", \"D31\", \"D32\", \"D33\", \"D34\", \"D35\", \"D36\", \"D37\", \"D38\", \"D39\", \"D40\", \"D41\", \"D42\", \"D43\", \"D44\", \"D45\", \"D46\", \"D47\", \"D48\", \"D49\", \"D50\", \"D51\", \"D52\", \"D53\", \"D54\", \"D55\", \"D56\", \"D57\", \"D58\", \"D59\", \"D60\", \"D61\", \"D62\"], \"xaxis\": \"x\", \"y\": [0.0, 4.0, 3.5, 4.0, 4.0, 4.8, 4.833333333333333, 6.714285714285714, 10.0, 13.571428571428571, 18.714285714285715, 25.142857142857142, 29.142857142857142, 47.42857142857143, 58.714285714285715, 78.85714285714286, 102.85714285714286, 125.0, 152.71428571428572, 172.57142857142858, 206.14285714285714, 242.14285714285714, 267.42857142857144, 307.2857142857143, 340.2857142857143, 395.14285714285717, 483.42857142857144, 523.8571428571429, 559.8571428571429, 616.7142857142857, 646.4285714285714, 687.1428571428571, 728.8571428571429, 742.5714285714286, 757.5714285714286, 787.7142857142857, 801.1428571428571, 807.4285714285714, 814.2857142857143, 792.4285714285714, 762.7142857142857, 729.7142857142857, 704.5714285714286, 671.2857142857143, 644.8571428571429, 623.4285714285714, 595.4285714285714, 586.5714285714286, 573.1428571428571, 563.1428571428571, 562.8571428571429, 568.0, 555.8571428571429, 556.5714285714286, 537.0, 537.2857142857143, 521.2857142857143, 511.57142857142856, 491.42857142857144, 482.7142857142857, 460.57142857142856, 451.0, 426.2857142857143], \"yaxis\": \"y\"}, {\"hovertemplate\": \"ENTITY=Russia<br>DATE=%{x}<br>VALUE_LOGA=%{y}<extra></extra>\", \"legendgroup\": \"Russia\", \"line\": {\"color\": \"#19d3f3\", \"dash\": \"solid\"}, \"mode\": \"lines\", \"name\": \"Russia\", \"showlegend\": true, \"type\": \"scatter\", \"x\": [\"D0\", \"D1\", \"D2\", \"D3\", \"D4\", \"D5\", \"D6\", \"D7\", \"D8\", \"D9\", \"D10\", \"D11\", \"D12\", \"D13\", \"D14\", \"D15\", \"D16\", \"D17\", \"D18\", \"D19\", \"D20\", \"D21\", \"D22\", \"D23\", \"D24\", \"D25\", \"D26\"], \"xaxis\": \"x\", \"y\": [0.0, 4.0, 6.0, 6.333333333333333, 6.25, 5.8, 6.333333333333333, 7.0, 7.142857142857143, 7.857142857142857, 9.428571428571429, 10.285714285714286, 13.142857142857142, 14.428571428571429, 16.0, 19.285714285714285, 22.285714285714285, 25.571428571428573, 29.571428571428573, 33.0, 36.714285714285715, 40.857142857142854, 45.0, 46.142857142857146, 48.857142857142854, 52.57142857142857, 55.142857142857146], \"yaxis\": \"y\"}, {\"hovertemplate\": \"ENTITY=Spain<br>DATE=%{x}<br>VALUE_LOGA=%{y}<extra></extra>\", \"legendgroup\": \"Spain\", \"line\": {\"color\": \"#FF6692\", \"dash\": \"solid\"}, \"mode\": \"lines\", \"name\": \"Spain\", \"showlegend\": true, \"type\": \"scatter\", \"x\": [\"D0\", \"D1\", \"D2\", \"D3\", \"D4\", \"D5\", \"D6\", \"D7\", \"D8\", \"D9\", \"D10\", \"D11\", \"D12\", \"D13\", \"D14\", \"D15\", \"D16\", \"D17\", \"D18\", \"D19\", \"D20\", \"D21\", \"D22\", \"D23\", \"D24\", \"D25\", \"D26\", \"D27\", \"D28\", \"D29\", \"D30\", \"D31\", \"D32\", \"D33\", \"D34\", \"D35\", \"D36\", \"D37\", \"D38\", \"D39\", \"D40\", \"D41\", \"D42\", \"D43\", \"D44\", \"D45\", \"D46\", \"D47\", \"D48\", \"D49\", \"D50\"], \"xaxis\": \"x\", \"y\": [0.0, 5.0, 6.0, 7.666666666666667, 7.5, 9.8, 21.166666666666668, 27.0, 39.714285714285715, 46.285714285714285, 72.0, 83.85714285714286, 110.71428571428571, 130.0, 168.57142857142858, 211.85714285714286, 281.2857142857143, 325.0, 432.0, 505.0, 585.0, 658.1428571428571, 718.7142857142857, 772.1428571428571, 808.0, 820.0, 854.7142857142857, 865.7142857142857, 852.1428571428571, 834.0, 803.5714285714286, 797.2857142857143, 772.1428571428571, 728.4285714285714, 697.5714285714286, 665.5714285714286, 652.5714285714286, 630.7142857142857, 573.0, 559.4285714285714, 552.5714285714286, 560.1428571428571, 491.0, 463.42857142857144, 442.2857142857143, 460.85714285714283, 429.85714285714283, 406.0, 360.2857142857143, 408.42857142857144, 391.0], \"yaxis\": \"y\"}, {\"hovertemplate\": \"ENTITY=Turkey<br>DATE=%{x}<br>VALUE_LOGA=%{y}<extra></extra>\", \"legendgroup\": \"Turkey\", \"line\": {\"color\": \"#B6E880\", \"dash\": \"solid\"}, \"mode\": \"lines\", \"name\": \"Turkey\", \"showlegend\": true, \"type\": \"scatter\", \"x\": [\"D0\", \"D1\", \"D2\", \"D3\", \"D4\", \"D5\", \"D6\", \"D7\", \"D8\", \"D9\", \"D10\", \"D11\", \"D12\", \"D13\", \"D14\", \"D15\", \"D16\", \"D17\", \"D18\", \"D19\", \"D20\", \"D21\", \"D22\", \"D23\", \"D24\", \"D25\", \"D26\", \"D27\", \"D28\", \"D29\", \"D30\", \"D31\", \"D32\", \"D33\", \"D34\", \"D35\", \"D36\", \"D37\"], \"xaxis\": \"x\", \"y\": [0.0, 5.0, 13.0, 11.0, 10.0, 11.0, 11.833333333333334, 12.571428571428571, 14.142857142857142, 14.428571428571429, 18.714285714285715, 24.285714285714285, 31.142857142857142, 40.142857142857146, 47.57142857142857, 56.142857142857146, 63.285714285714285, 68.71428571428571, 73.0, 76.42857142857143, 78.85714285714286, 83.0, 85.71428571428571, 89.14285714285714, 92.42857142857143, 96.85714285714286, 100.85714285714286, 105.0, 109.0, 112.71428571428571, 117.0, 120.57142857142857, 122.28571428571429, 122.57142857142857, 121.14285714285714, 118.71428571428571, 116.57142857142857, 112.57142857142857], \"yaxis\": \"y\"}, {\"hovertemplate\": \"ENTITY=US<br>DATE=%{x}<br>VALUE_LOGA=%{y}<extra></extra>\", \"legendgroup\": \"US\", \"line\": {\"color\": \"#FF97FF\", \"dash\": \"solid\"}, \"mode\": \"lines\", \"name\": \"US\", \"showlegend\": true, \"type\": \"scatter\", \"x\": [\"D0\", \"D1\", \"D2\", \"D3\", \"D4\", \"D5\", \"D6\", \"D7\", \"D8\", \"D9\", \"D10\", \"D11\", \"D12\", \"D13\", \"D14\", \"D15\", \"D16\", \"D17\", \"D18\", \"D19\", \"D20\", \"D21\", \"D22\", \"D23\", \"D24\", \"D25\", \"D26\", \"D27\", \"D28\", \"D29\", \"D30\", \"D31\", \"D32\", \"D33\", \"D34\", \"D35\", \"D36\", \"D37\", \"D38\", \"D39\", \"D40\", \"D41\", \"D42\", \"D43\", \"D44\", \"D45\", \"D46\", \"D47\", \"D48\", \"D49\", \"D50\", \"D51\", \"D52\"], \"xaxis\": \"x\", \"y\": [0.0, 5.0, 4.5, 4.0, 4.0, 4.4, 4.333333333333333, 5.0, 5.571428571428571, 5.857142857142857, 7.428571428571429, 10.857142857142858, 14.857142857142858, 22.428571428571427, 32.285714285714285, 44.714285714285715, 56.714285714285715, 75.14285714285714, 97.57142857142857, 125.14285714285714, 161.0, 208.42857142857142, 271.7142857142857, 347.57142857142856, 417.42857142857144, 505.0, 646.1428571428571, 774.2857142857143, 937.1428571428571, 1044.0, 1135.4285714285713, 1246.7142857142858, 1368.2857142857142, 1522.857142857143, 1647.7142857142858, 1711.142857142857, 1822.857142857143, 1929.7142857142858, 1977.2857142857142, 1996.5714285714287, 2010.142857142857, 2066.285714285714, 2080.4285714285716, 2154.0, 2201.5714285714284, 2122.714285714286, 2112.714285714286, 2117.714285714286, 2096.8571428571427, 2128.1428571428573, 2011.7142857142858, 2000.2857142857142, 1990.857142857143], \"yaxis\": \"y\"}, {\"hovertemplate\": \"ENTITY=United Kingdom<br>DATE=%{x}<br>VALUE_LOGA=%{y}<extra></extra>\", \"legendgroup\": \"United Kingdom\", \"line\": {\"color\": \"#FECB52\", \"dash\": \"solid\"}, \"mode\": \"lines\", \"name\": \"United Kingdom\", \"showlegend\": true, \"type\": \"scatter\", \"x\": [\"D0\", \"D1\", \"D2\", \"D3\", \"D4\", \"D5\", \"D6\", \"D7\", \"D8\", \"D9\", \"D10\", \"D11\", \"D12\", \"D13\", \"D14\", \"D15\", \"D16\", \"D17\", \"D18\", \"D19\", \"D20\", \"D21\", \"D22\", \"D23\", \"D24\", \"D25\", \"D26\", \"D27\", \"D28\", \"D29\", \"D30\", \"D31\", \"D32\", \"D33\", \"D34\", \"D35\", \"D36\", \"D37\", \"D38\", \"D39\", \"D40\", \"D41\", \"D42\"], \"xaxis\": \"x\", \"y\": [0.0, 13.0, 24.0, 21.333333333333332, 32.5, 34.0, 37.666666666666664, 39.142857142857146, 45.0, 52.42857142857143, 56.285714285714285, 63.142857142857146, 83.28571428571429, 112.42857142857143, 135.57142857142858, 153.57142857142858, 195.71428571428572, 270.14285714285717, 335.14285714285717, 407.14285714285717, 471.2857142857143, 530.2857142857143, 567.7142857142857, 625.4285714285714, 679.1428571428571, 723.8571428571429, 766.1428571428571, 796.0, 812.2857142857143, 851.7142857142857, 851.1428571428571, 826.1428571428571, 823.7142857142857, 804.7142857142857, 800.8571428571429, 780.8571428571429, 743.2857142857143, 749.8571428571429, 751.0, 718.8571428571429, 708.5714285714286, 697.5714285714286, 671.2857142857143], \"yaxis\": \"y\"}],\n",
       "                        {\"legend\": {\"title\": {\"text\": \"ENTITY\"}, \"tracegroupgap\": 0}, \"template\": {\"data\": {\"bar\": [{\"error_x\": {\"color\": \"#2a3f5f\"}, \"error_y\": {\"color\": \"#2a3f5f\"}, \"marker\": {\"line\": {\"color\": \"#E5ECF6\", \"width\": 0.5}}, \"type\": \"bar\"}], \"barpolar\": [{\"marker\": {\"line\": {\"color\": \"#E5ECF6\", \"width\": 0.5}}, \"type\": \"barpolar\"}], \"carpet\": [{\"aaxis\": {\"endlinecolor\": \"#2a3f5f\", \"gridcolor\": \"white\", \"linecolor\": \"white\", \"minorgridcolor\": \"white\", \"startlinecolor\": \"#2a3f5f\"}, \"baxis\": {\"endlinecolor\": \"#2a3f5f\", \"gridcolor\": \"white\", \"linecolor\": \"white\", \"minorgridcolor\": \"white\", \"startlinecolor\": \"#2a3f5f\"}, \"type\": \"carpet\"}], \"choropleth\": [{\"colorbar\": {\"outlinewidth\": 0, \"ticks\": \"\"}, \"type\": \"choropleth\"}], \"contour\": [{\"colorbar\": {\"outlinewidth\": 0, \"ticks\": \"\"}, \"colorscale\": [[0.0, \"#0d0887\"], [0.1111111111111111, \"#46039f\"], [0.2222222222222222, \"#7201a8\"], [0.3333333333333333, \"#9c179e\"], [0.4444444444444444, \"#bd3786\"], [0.5555555555555556, \"#d8576b\"], [0.6666666666666666, \"#ed7953\"], [0.7777777777777778, \"#fb9f3a\"], [0.8888888888888888, \"#fdca26\"], [1.0, \"#f0f921\"]], \"type\": \"contour\"}], \"contourcarpet\": [{\"colorbar\": {\"outlinewidth\": 0, \"ticks\": \"\"}, \"type\": \"contourcarpet\"}], \"heatmap\": [{\"colorbar\": {\"outlinewidth\": 0, \"ticks\": \"\"}, \"colorscale\": [[0.0, \"#0d0887\"], [0.1111111111111111, \"#46039f\"], [0.2222222222222222, \"#7201a8\"], [0.3333333333333333, \"#9c179e\"], [0.4444444444444444, \"#bd3786\"], [0.5555555555555556, \"#d8576b\"], [0.6666666666666666, \"#ed7953\"], [0.7777777777777778, \"#fb9f3a\"], [0.8888888888888888, \"#fdca26\"], [1.0, \"#f0f921\"]], \"type\": \"heatmap\"}], \"heatmapgl\": [{\"colorbar\": {\"outlinewidth\": 0, \"ticks\": \"\"}, \"colorscale\": [[0.0, \"#0d0887\"], [0.1111111111111111, \"#46039f\"], [0.2222222222222222, \"#7201a8\"], [0.3333333333333333, \"#9c179e\"], [0.4444444444444444, \"#bd3786\"], [0.5555555555555556, \"#d8576b\"], [0.6666666666666666, \"#ed7953\"], [0.7777777777777778, \"#fb9f3a\"], [0.8888888888888888, \"#fdca26\"], [1.0, \"#f0f921\"]], \"type\": \"heatmapgl\"}], \"histogram\": [{\"marker\": {\"colorbar\": {\"outlinewidth\": 0, \"ticks\": \"\"}}, \"type\": \"histogram\"}], \"histogram2d\": [{\"colorbar\": {\"outlinewidth\": 0, \"ticks\": \"\"}, \"colorscale\": [[0.0, \"#0d0887\"], [0.1111111111111111, \"#46039f\"], [0.2222222222222222, \"#7201a8\"], [0.3333333333333333, \"#9c179e\"], [0.4444444444444444, \"#bd3786\"], [0.5555555555555556, \"#d8576b\"], [0.6666666666666666, \"#ed7953\"], [0.7777777777777778, \"#fb9f3a\"], [0.8888888888888888, \"#fdca26\"], [1.0, \"#f0f921\"]], \"type\": \"histogram2d\"}], \"histogram2dcontour\": [{\"colorbar\": {\"outlinewidth\": 0, \"ticks\": \"\"}, \"colorscale\": [[0.0, \"#0d0887\"], [0.1111111111111111, \"#46039f\"], [0.2222222222222222, \"#7201a8\"], [0.3333333333333333, \"#9c179e\"], [0.4444444444444444, \"#bd3786\"], [0.5555555555555556, \"#d8576b\"], [0.6666666666666666, \"#ed7953\"], [0.7777777777777778, \"#fb9f3a\"], [0.8888888888888888, \"#fdca26\"], [1.0, \"#f0f921\"]], \"type\": \"histogram2dcontour\"}], \"mesh3d\": [{\"colorbar\": {\"outlinewidth\": 0, \"ticks\": \"\"}, \"type\": \"mesh3d\"}], \"parcoords\": [{\"line\": {\"colorbar\": {\"outlinewidth\": 0, \"ticks\": \"\"}}, \"type\": \"parcoords\"}], \"pie\": [{\"automargin\": true, \"type\": \"pie\"}], \"scatter\": [{\"marker\": {\"colorbar\": {\"outlinewidth\": 0, \"ticks\": \"\"}}, \"type\": \"scatter\"}], \"scatter3d\": [{\"line\": {\"colorbar\": {\"outlinewidth\": 0, \"ticks\": \"\"}}, \"marker\": {\"colorbar\": {\"outlinewidth\": 0, \"ticks\": \"\"}}, \"type\": \"scatter3d\"}], \"scattercarpet\": [{\"marker\": {\"colorbar\": {\"outlinewidth\": 0, \"ticks\": \"\"}}, \"type\": \"scattercarpet\"}], \"scattergeo\": [{\"marker\": {\"colorbar\": {\"outlinewidth\": 0, \"ticks\": \"\"}}, \"type\": \"scattergeo\"}], \"scattergl\": [{\"marker\": {\"colorbar\": {\"outlinewidth\": 0, \"ticks\": \"\"}}, \"type\": \"scattergl\"}], \"scattermapbox\": [{\"marker\": {\"colorbar\": {\"outlinewidth\": 0, \"ticks\": \"\"}}, \"type\": \"scattermapbox\"}], \"scatterpolar\": [{\"marker\": {\"colorbar\": {\"outlinewidth\": 0, \"ticks\": \"\"}}, \"type\": \"scatterpolar\"}], \"scatterpolargl\": [{\"marker\": {\"colorbar\": {\"outlinewidth\": 0, \"ticks\": \"\"}}, \"type\": \"scatterpolargl\"}], \"scatterternary\": [{\"marker\": {\"colorbar\": {\"outlinewidth\": 0, \"ticks\": \"\"}}, \"type\": \"scatterternary\"}], \"surface\": [{\"colorbar\": {\"outlinewidth\": 0, \"ticks\": \"\"}, \"colorscale\": [[0.0, \"#0d0887\"], [0.1111111111111111, \"#46039f\"], [0.2222222222222222, \"#7201a8\"], [0.3333333333333333, \"#9c179e\"], [0.4444444444444444, \"#bd3786\"], [0.5555555555555556, \"#d8576b\"], [0.6666666666666666, \"#ed7953\"], [0.7777777777777778, \"#fb9f3a\"], [0.8888888888888888, \"#fdca26\"], [1.0, \"#f0f921\"]], \"type\": \"surface\"}], \"table\": [{\"cells\": {\"fill\": {\"color\": \"#EBF0F8\"}, \"line\": {\"color\": \"white\"}}, \"header\": {\"fill\": {\"color\": \"#C8D4E3\"}, \"line\": {\"color\": \"white\"}}, \"type\": \"table\"}]}, \"layout\": {\"annotationdefaults\": {\"arrowcolor\": \"#2a3f5f\", \"arrowhead\": 0, \"arrowwidth\": 1}, \"coloraxis\": {\"colorbar\": {\"outlinewidth\": 0, \"ticks\": \"\"}}, \"colorscale\": {\"diverging\": [[0, \"#8e0152\"], [0.1, \"#c51b7d\"], [0.2, \"#de77ae\"], [0.3, \"#f1b6da\"], [0.4, \"#fde0ef\"], [0.5, \"#f7f7f7\"], [0.6, \"#e6f5d0\"], [0.7, \"#b8e186\"], [0.8, \"#7fbc41\"], [0.9, \"#4d9221\"], [1, \"#276419\"]], \"sequential\": [[0.0, \"#0d0887\"], [0.1111111111111111, \"#46039f\"], [0.2222222222222222, \"#7201a8\"], [0.3333333333333333, \"#9c179e\"], [0.4444444444444444, \"#bd3786\"], [0.5555555555555556, \"#d8576b\"], [0.6666666666666666, \"#ed7953\"], [0.7777777777777778, \"#fb9f3a\"], [0.8888888888888888, \"#fdca26\"], [1.0, \"#f0f921\"]], \"sequentialminus\": [[0.0, \"#0d0887\"], [0.1111111111111111, \"#46039f\"], [0.2222222222222222, \"#7201a8\"], [0.3333333333333333, \"#9c179e\"], [0.4444444444444444, \"#bd3786\"], [0.5555555555555556, \"#d8576b\"], [0.6666666666666666, \"#ed7953\"], [0.7777777777777778, \"#fb9f3a\"], [0.8888888888888888, \"#fdca26\"], [1.0, \"#f0f921\"]]}, \"colorway\": [\"#636efa\", \"#EF553B\", \"#00cc96\", \"#ab63fa\", \"#FFA15A\", \"#19d3f3\", \"#FF6692\", \"#B6E880\", \"#FF97FF\", \"#FECB52\"], \"font\": {\"color\": \"#2a3f5f\"}, \"geo\": {\"bgcolor\": \"white\", \"lakecolor\": \"white\", \"landcolor\": \"#E5ECF6\", \"showlakes\": true, \"showland\": true, \"subunitcolor\": \"white\"}, \"hoverlabel\": {\"align\": \"left\"}, \"hovermode\": \"closest\", \"mapbox\": {\"style\": \"light\"}, \"paper_bgcolor\": \"white\", \"plot_bgcolor\": \"#E5ECF6\", \"polar\": {\"angularaxis\": {\"gridcolor\": \"white\", \"linecolor\": \"white\", \"ticks\": \"\"}, \"bgcolor\": \"#E5ECF6\", \"radialaxis\": {\"gridcolor\": \"white\", \"linecolor\": \"white\", \"ticks\": \"\"}}, \"scene\": {\"xaxis\": {\"backgroundcolor\": \"#E5ECF6\", \"gridcolor\": \"white\", \"gridwidth\": 2, \"linecolor\": \"white\", \"showbackground\": true, \"ticks\": \"\", \"zerolinecolor\": \"white\"}, \"yaxis\": {\"backgroundcolor\": \"#E5ECF6\", \"gridcolor\": \"white\", \"gridwidth\": 2, \"linecolor\": \"white\", \"showbackground\": true, \"ticks\": \"\", \"zerolinecolor\": \"white\"}, \"zaxis\": {\"backgroundcolor\": \"#E5ECF6\", \"gridcolor\": \"white\", \"gridwidth\": 2, \"linecolor\": \"white\", \"showbackground\": true, \"ticks\": \"\", \"zerolinecolor\": \"white\"}}, \"shapedefaults\": {\"line\": {\"color\": \"#2a3f5f\"}}, \"ternary\": {\"aaxis\": {\"gridcolor\": \"white\", \"linecolor\": \"white\", \"ticks\": \"\"}, \"baxis\": {\"gridcolor\": \"white\", \"linecolor\": \"white\", \"ticks\": \"\"}, \"bgcolor\": \"#E5ECF6\", \"caxis\": {\"gridcolor\": \"white\", \"linecolor\": \"white\", \"ticks\": \"\"}}, \"title\": {\"x\": 0.05}, \"xaxis\": {\"automargin\": true, \"gridcolor\": \"white\", \"linecolor\": \"white\", \"ticks\": \"\", \"title\": {\"standoff\": 15}, \"zerolinecolor\": \"white\", \"zerolinewidth\": 2}, \"yaxis\": {\"automargin\": true, \"gridcolor\": \"white\", \"linecolor\": \"white\", \"ticks\": \"\", \"title\": {\"standoff\": 15}, \"zerolinecolor\": \"white\", \"zerolinewidth\": 2}}}, \"title\": {\"text\": \"Daily trend covid-19\"}, \"xaxis\": {\"anchor\": \"y\", \"domain\": [0.0, 1.0], \"title\": {\"text\": \"DATE\"}, \"type\": \"log\"}, \"yaxis\": {\"anchor\": \"x\", \"domain\": [0.0, 1.0], \"title\": {\"text\": \"VALUE_LOGA\"}, \"type\": \"log\"}},\n",
       "                        {\"responsive\": true}\n",
       "                    ).then(function(){\n",
       "                            \n",
       "var gd = document.getElementById('b48906c4-4a2e-4d3d-b276-c520b47c25ef');\n",
       "var x = new MutationObserver(function (mutations, observer) {{\n",
       "        var display = window.getComputedStyle(gd).display;\n",
       "        if (!display || display === 'none') {{\n",
       "            console.log([gd, 'removed!']);\n",
       "            Plotly.purge(gd);\n",
       "            observer.disconnect();\n",
       "        }}\n",
       "}});\n",
       "\n",
       "// Listen for the removal of the full notebook cells\n",
       "var notebookContainer = gd.closest('#notebook-container');\n",
       "if (notebookContainer) {{\n",
       "    x.observe(notebookContainer, {childList: true});\n",
       "}}\n",
       "\n",
       "// Listen for the clearing of the current output cell\n",
       "var outputEl = gd.closest('.output');\n",
       "if (outputEl) {{\n",
       "    x.observe(outputEl, {childList: true});\n",
       "}}\n",
       "\n",
       "                        })\n",
       "                };\n",
       "                });\n",
       "            </script>\n",
       "        </div>"
      ]
     },
     "metadata": {},
     "output_type": "display_data"
    }
   ],
   "source": [
    "import plotly.graph_objects as go\n",
    "\n",
    "fig = go.Figure()\n",
    "\n",
    "dfD = domain104[domain104['KPI'] == 'Deaths']\n",
    "fig = px.line(dfD, x=\"DATE\", y=\"VALUE_LOGA\", color='ENTITY', title='Daily trend covid-19')\n",
    "\n",
    "# fig.add_trace(go.Scatter(\n",
    "#     y=[1, 2, 5, 10, 20, 50, 100, 200, 500, 1000, 2000]\n",
    "# ))\n",
    "\n",
    "# fig.update_layout(xaxis_type=\"log\", yaxis_type=\"log\")\n",
    "# fig.update_xaxes(type=\"log\")\n",
    "# fig.update_yaxes(type=\"log\")\n",
    "fig.show()"
   ]
  },
  {
   "cell_type": "code",
   "execution_count": null,
   "metadata": {},
   "outputs": [],
   "source": []
  }
 ],
 "metadata": {
  "kernelspec": {
   "display_name": "Python 3",
   "language": "python",
   "name": "python3"
  },
  "language_info": {
   "codemirror_mode": {
    "name": "ipython",
    "version": 3
   },
   "file_extension": ".py",
   "mimetype": "text/x-python",
   "name": "python",
   "nbconvert_exporter": "python",
   "pygments_lexer": "ipython3",
   "version": "3.7.6"
  }
 },
 "nbformat": 4,
 "nbformat_minor": 4
}
