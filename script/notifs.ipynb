{
 "cells": [
  {
   "cell_type": "code",
   "execution_count": 3,
   "metadata": {},
   "outputs": [
    {
     "name": "stdout",
     "output_type": "stream",
     "text": [
      "Successfully connected to MongoDB\n"
     ]
    }
   ],
   "source": [
    "%run __init__.ipynb"
   ]
  },
  {
   "cell_type": "code",
   "execution_count": null,
   "metadata": {},
   "outputs": [],
   "source": [
    "# Variables\n",
    "DATE_FILTER = yesterday.strftime('%Y%m%d')"
   ]
  },
  {
   "cell_type": "code",
   "execution_count": 5,
   "metadata": {},
   "outputs": [],
   "source": [
    "# Load Data Source\n",
    "if use_mongo:\n",
    "    db_economy = naas_drivers.mongo.get('DB_ALL','yahoo').drop('_id',axis=1)\n",
    "    db_health = naas_drivers.mongo.get('WORLD_DB_ALL','covid-19').drop('_id',axis=1)"
   ]
  },
  {
   "cell_type": "code",
   "execution_count": 8,
   "metadata": {},
   "outputs": [
    {
     "data": {
      "text/html": [
       "<div>\n",
       "<style scoped>\n",
       "    .dataframe tbody tr th:only-of-type {\n",
       "        vertical-align: middle;\n",
       "    }\n",
       "\n",
       "    .dataframe tbody tr th {\n",
       "        vertical-align: top;\n",
       "    }\n",
       "\n",
       "    .dataframe thead th {\n",
       "        text-align: right;\n",
       "    }\n",
       "</style>\n",
       "<table border=\"1\" class=\"dataframe\">\n",
       "  <thead>\n",
       "    <tr style=\"text-align: right;\">\n",
       "      <th></th>\n",
       "      <th>DATE_ORDER</th>\n",
       "      <th>TYPE</th>\n",
       "      <th>LABEL</th>\n",
       "      <th>CLOSE</th>\n",
       "      <th>VARV</th>\n",
       "      <th>VARP</th>\n",
       "      <th>TOP</th>\n",
       "    </tr>\n",
       "  </thead>\n",
       "  <tbody>\n",
       "    <tr>\n",
       "      <th>0</th>\n",
       "      <td>20200607</td>\n",
       "      <td>CURRENCIES</td>\n",
       "      <td>USD/IDR</td>\n",
       "      <td>14096.0000</td>\n",
       "      <td>10.599609</td>\n",
       "      <td>0.075252</td>\n",
       "      <td>NaN</td>\n",
       "    </tr>\n",
       "    <tr>\n",
       "      <th>1</th>\n",
       "      <td>20200607</td>\n",
       "      <td>COMMODITIES</td>\n",
       "      <td>Silver</td>\n",
       "      <td>17.5700</td>\n",
       "      <td>0.000000</td>\n",
       "      <td>0.000000</td>\n",
       "      <td>NaN</td>\n",
       "    </tr>\n",
       "    <tr>\n",
       "      <th>2</th>\n",
       "      <td>20200607</td>\n",
       "      <td>COMMODITIES</td>\n",
       "      <td>Platinum</td>\n",
       "      <td>834.5000</td>\n",
       "      <td>0.000000</td>\n",
       "      <td>0.000000</td>\n",
       "      <td>NaN</td>\n",
       "    </tr>\n",
       "    <tr>\n",
       "      <th>3</th>\n",
       "      <td>20200607</td>\n",
       "      <td>COMMODITIES</td>\n",
       "      <td>Natural Gas (HH)</td>\n",
       "      <td>1.7800</td>\n",
       "      <td>-0.020000</td>\n",
       "      <td>-1.111111</td>\n",
       "      <td>NaN</td>\n",
       "    </tr>\n",
       "    <tr>\n",
       "      <th>4</th>\n",
       "      <td>20200607</td>\n",
       "      <td>COMMODITIES</td>\n",
       "      <td>Copper</td>\n",
       "      <td>2.5505</td>\n",
       "      <td>0.008000</td>\n",
       "      <td>0.314651</td>\n",
       "      <td>NaN</td>\n",
       "    </tr>\n",
       "  </tbody>\n",
       "</table>\n",
       "</div>"
      ],
      "text/plain": [
       "  DATE_ORDER         TYPE             LABEL       CLOSE       VARV      VARP  \\\n",
       "0   20200607   CURRENCIES           USD/IDR  14096.0000  10.599609  0.075252   \n",
       "1   20200607  COMMODITIES            Silver     17.5700   0.000000  0.000000   \n",
       "2   20200607  COMMODITIES          Platinum    834.5000   0.000000  0.000000   \n",
       "3   20200607  COMMODITIES  Natural Gas (HH)      1.7800  -0.020000 -1.111111   \n",
       "4   20200607  COMMODITIES            Copper      2.5505   0.008000  0.314651   \n",
       "\n",
       "   TOP  \n",
       "0  NaN  \n",
       "1  NaN  \n",
       "2  NaN  \n",
       "3  NaN  \n",
       "4  NaN  "
      ]
     },
     "execution_count": 8,
     "metadata": {},
     "output_type": "execute_result"
    }
   ],
   "source": [
    "def economy_notif(df):\n",
    "    # Scope\n",
    "    cols_to_select = ['DATE_ORDER','TYPE','LABEL','CLOSE','VARV','VARP']\n",
    "    df = df[cols_to_select]\n",
    "    df = df[df['DATE_ORDER'] == DATE_FILTER]\n",
    "    df = df.sort_values(by='DATE_ORDER',ascending=False)\n",
    "    \n",
    "    # Get list of top 10 & flop 10 from EQUITIES\n",
    "    df_equities = df.copy()[(df['TYPE'] == 'EQUITIES')]\n",
    "    list_mw = df_equities.nlargest(10,'VARP', keep='all')['LABEL'].tolist()\n",
    "    list_ml = df_equities.nsmallest(10,'VARP', keep='all')['LABEL'].tolist()\n",
    "    \n",
    "    # Apply list to main df\n",
    "    df.loc[:,'TOP'] = np.NaN\n",
    "    df.loc[df['LABEL'].isin(list_mw),'TOP'] = 'Market winners'\n",
    "    df.loc[df['LABEL'].isin(list_ml),'TOP'] = 'Market losers'\n",
    "\n",
    "    return df.reset_index(drop=True)\n",
    "\n",
    "df_economy = economy_notif(db_economy)\n",
    "df_economy.head(5)"
   ]
  },
  {
   "cell_type": "code",
   "execution_count": 4,
   "metadata": {},
   "outputs": [],
   "source": [
    "def create_excel_file(file_name,df_eco):\n",
    "    # Create a Pandas Excel writer using XlsxWriter as the engine.\n",
    "    excel_path = os.path.join(my_repo,excel_name)\n",
    "    excel_writer = pd.ExcelWriter(excel_path, engine='xlsxwriter')\n",
    "    \n",
    "    # Save df to excel\n",
    "    start_row = 4\n",
    "    df.to_excel(excel_writer,sheet_name =f'ECONOMY', startrow=start_row, index=False)\n",
    "    add_format_cs(excel_writer,f'{domain_name}',df,start_row)\n",
    "    \n",
    "        excel_name = 'WSR_Notifs_' + YESTERDAY.strftime('%Y%m%d')\n",
    "        excel_path = os.path.join(OUTPUT_FOLDER, excel_name + '.xlsx')\n",
    "        with pd.ExcelWriter(excel_path) as writer: \n",
    "            health.to_excel(writer,sheet_name =\"COVID-19\")\n",
    "            economy.to_excel(writer,sheet_name =\"ECONOMY\")\n",
    "            \n",
    "    # Save excel file        \n",
    "    excel_writer.save()\n",
    "    \n",
    "excel_name = f'WSR_Notifs_{DATE_FILTER}'\n",
    "create_excel_file(excel_name,df_economy)       "
   ]
  },
  {
   "cell_type": "code",
   "execution_count": null,
   "metadata": {},
   "outputs": [],
   "source": [
    "def get_population():\n",
    "    \"\"\"\n",
    "    Get population by countries from GITHUB\n",
    "    \"\"\"\n",
    "    #Boucle pour récupérer la liste des années présentes en colonne dans le fichier\n",
    "    years = list(map(lambda a : str(a), range(1950, 2020, 1)))\n",
    "    \n",
    "    #Colonne à selectionner (*years = selection de toutes les années de la liste years)\n",
    "    usecols = [\"Region, subregion, country or area *\", \"Country code\", \"Type\", *years]\n",
    "\n",
    "    # On récupère nos données depuis un fichier Excel\n",
    "    # usecols nous permet de selectionner uniquement les colonnes dont nous avons besoin\n",
    "    df = pd.read_excel('https://population.un.org/wpp/Download/Files/1_Indicators%20(Standard)/EXCEL_FILES/1_Population/WPP2019_POP_F01_1_TOTAL_POPULATION_BOTH_SEXES.xlsx',\n",
    "                        header=16,\n",
    "                        encoding=\"utf-8\",\n",
    "                        usecols=usecols)\n",
    "\n",
    "    # On récupère seulement les valeurs du type \"Country/Area\"\n",
    "    df = df[df['Type'] == \"Country/Area\"]\n",
    "    \n",
    "    # récupération des données\n",
    "    year = str(max(years))\n",
    "    cols_to_select = ['Region, subregion, country or area *','Country code', year]\n",
    "    df = df[cols_to_select]\n",
    "    df = df.rename(index=str,columns = {year:'POPULATION','Region, subregion, country or area *':'COUNTRY'})\n",
    "    return df.reset_index(drop=True)\n",
    "\n",
    "df_population = get_population()"
   ]
  },
  {
   "cell_type": "code",
   "execution_count": null,
   "metadata": {},
   "outputs": [],
   "source": [
    "if health_init.empty:\n",
    "    health_init = pd.read_csv(os.path.join(OUTPUT_FOLDER,'WORLD_DB_ALL.csv'), sep=';',low_memory=False)\n",
    "    filters = ['WORLDWIDE', 'Europe', 'Asia', 'Africa', 'North America','South America', 'Oceania', 'Other', 'To be affected']\n",
    "    health_init = health_init[(health_init['DATE_ORDER'] == int(YESTERDAY.strftime('%Y%m%d'))) & (health_init['ENTITY_GROUPS'].isin(filters))]\n",
    "    health_init = health_init.drop(['Unnamed: 0','VARV','VARP','UNIT_VALUE','UNIT_VAR','UNIT_VARP','PRECISION_VALUE','PRECISION_VAR','PRECISION_VARP','DATE_ORDER','DATE'],axis=1)\n",
    "    health_init = health_init.reset_index(drop=True)\n",
    "\n",
    "#Merge REF countries + xls_global\n",
    "health = health_init.copy()\n",
    "health = health.merge(REF_COUNTRIES,on='ENTITY',how='left')\n",
    "health = health.merge(xls_global.drop(['Country code','Region'],axis=1),on='ENTITY_UN',how='left').drop(['ENTITY_UN'],axis=1)\n",
    "\n",
    "#Population by region\n",
    "health_region = health.copy()\n",
    "health_region['ENTITY'] = health_region['ENTITY_GROUPS']\n",
    "cols_to_keep = ['SCENARIO','ENTITY_GROUPS','ENTITY','KPI']\n",
    "health_region = health_region.groupby(cols_to_keep).agg({'VALUE':'sum','VALUE_D-1':'sum','POPULATION':'sum'}).reset_index(drop=False)\n",
    "\n",
    "health = pd.concat([health,health_region],axis=0)\n",
    "# health = ['SCENARIO','ENTITY_GROUPS','ENTITY','KPI','VALUE','VALUE_D-1','POPULATION']\n",
    "\n",
    "#Calc \n",
    "health['VARV'] = health['VALUE'] - health['VALUE_D-1']\n",
    "health['VARP'] = health['VARV'] / abs(health['VALUE_D-1']) * 100\n",
    "health['PVALUE'] = health['VALUE'] / health['POPULATION'] * 100\n",
    "health['PVALUE_D-1'] = health['VALUE_D-1'] / health['POPULATION'] * 100\n",
    "health['PVARV'] = health['PVALUE'] - health['PVALUE_D-1']\n",
    "\n",
    "health.head(5)"
   ]
  },
  {
   "cell_type": "code",
   "execution_count": 5,
   "metadata": {},
   "outputs": [
    {
     "name": "stdout",
     "output_type": "stream",
     "text": [
      "Email send\n"
     ]
    }
   ],
   "source": [
    "# Send email\n",
    "emails = [\n",
    "    ('jeremy.ravenel@cashstory.com', 'Jeremy'),\n",
    "    ('valentin.piquard@cashstory.com', 'Valentin')\n",
    "]\n",
    "subject=f\"WSR - Daily report {YESTERDAY.strftime('%d/%m/%Y')}\"\n",
    "content=f\"<img src=\\\"{LOGO_CS}\\\" alt=\\\"Logo CashStory\\\" style=\\\"width: 5%; display: block; margin-right: auto;\\\" /> \\n Hello it's Bob, \\n Here is your daily report of your WSR app \\n Send from Jupyter with <3\"\n",
    "files=[excel_path]\n",
    "naas.notifications.send(email_to=emails, subject=subject, html=content, files=files)"
   ]
  }
 ],
 "metadata": {
  "kernelspec": {
   "display_name": "Python 3",
   "language": "python",
   "name": "python3"
  },
  "language_info": {
   "codemirror_mode": {
    "name": "ipython",
    "version": 3
   },
   "file_extension": ".py",
   "mimetype": "text/x-python",
   "name": "python",
   "nbconvert_exporter": "python",
   "pygments_lexer": "ipython3",
   "version": "3.8.6"
  }
 },
 "nbformat": 4,
 "nbformat_minor": 4
}
