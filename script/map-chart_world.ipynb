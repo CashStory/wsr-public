{
 "cells": [
  {
   "cell_type": "code",
   "execution_count": 1,
   "metadata": {
    "execution": {
     "iopub.execute_input": "2020-11-14T10:01:01.650140Z",
     "iopub.status.busy": "2020-11-14T10:01:01.649801Z",
     "iopub.status.idle": "2020-11-14T10:01:06.754995Z",
     "shell.execute_reply": "2020-11-14T10:01:06.754256Z",
     "shell.execute_reply.started": "2020-11-14T10:01:01.650081Z"
    }
   },
   "outputs": [
    {
     "name": "stdout",
     "output_type": "stream",
     "text": [
      "Successfully connected to MongoDB\n"
     ]
    }
   ],
   "source": [
    "%run __init__.ipynb"
   ]
  },
  {
   "cell_type": "code",
   "execution_count": 2,
   "metadata": {
    "execution": {
     "iopub.execute_input": "2020-11-14T10:01:06.763367Z",
     "iopub.status.busy": "2020-11-14T10:01:06.763140Z",
     "iopub.status.idle": "2020-11-14T10:01:06.766603Z",
     "shell.execute_reply": "2020-11-14T10:01:06.766002Z",
     "shell.execute_reply.started": "2020-11-14T10:01:06.763340Z"
    }
   },
   "outputs": [
    {
     "name": "stdout",
     "output_type": "stream",
     "text": [
      "2020-11-13\n"
     ]
    }
   ],
   "source": [
    "print(YESTERDAY)"
   ]
  },
  {
   "cell_type": "code",
   "execution_count": 3,
   "metadata": {
    "execution": {
     "iopub.execute_input": "2020-11-14T10:01:06.768135Z",
     "iopub.status.busy": "2020-11-14T10:01:06.767785Z",
     "iopub.status.idle": "2020-11-14T10:01:09.969311Z",
     "shell.execute_reply": "2020-11-14T10:01:09.968643Z",
     "shell.execute_reply.started": "2020-11-14T10:01:06.768106Z"
    }
   },
   "outputs": [
    {
     "name": "stdout",
     "output_type": "stream",
     "text": [
      "              ENTITY            LABEL            KPI     VALUE  VALUE_D-1  \\\n",
      "0        Afghanistan      Afghanistan      Confirmed   0.00000    0.00000   \n",
      "1        Afghanistan      Afghanistan      Confirmed   0.00000    0.00000   \n",
      "2        Afghanistan      Afghanistan      Confirmed   0.00000    0.00000   \n",
      "3        Afghanistan      Afghanistan      Confirmed   0.00000    0.00000   \n",
      "4        Afghanistan      Afghanistan      Confirmed   0.00000    0.00000   \n",
      "...              ...              ...            ...       ...        ...   \n",
      "1254427    WORLDWIDE  Solomon Islands  Recovery Rate  30.76923   30.76923   \n",
      "1254428    WORLDWIDE  Solomon Islands  Recovery Rate  30.76923   30.76923   \n",
      "1254429    WORLDWIDE  Solomon Islands  Recovery Rate  30.76923   30.76923   \n",
      "1254430    WORLDWIDE  Solomon Islands  Recovery Rate  30.76923   30.76923   \n",
      "1254431    WORLDWIDE  Solomon Islands  Recovery Rate  30.76923   30.76923   \n",
      "\n",
      "         VAR  VARP    SCENARIO  DATE_ORDER UNIT_VALUE     WORLDMAP  \\\n",
      "0        0.0   NaN  22/01/2020    20200122      cases  Afghanistan   \n",
      "1        0.0   NaN  23/01/2020    20200123      cases  Afghanistan   \n",
      "2        0.0   NaN  24/01/2020    20200124      cases  Afghanistan   \n",
      "3        0.0   NaN  25/01/2020    20200125      cases  Afghanistan   \n",
      "4        0.0   NaN  26/01/2020    20200126      cases  Afghanistan   \n",
      "...      ...   ...         ...         ...        ...          ...   \n",
      "1254427  0.0   NaN  04/11/2020    20201104          %          NaN   \n",
      "1254428  0.0   NaN  05/11/2020    20201105          %          NaN   \n",
      "1254429  0.0   NaN  06/11/2020    20201106          %          NaN   \n",
      "1254430  0.0   NaN  07/11/2020    20201107          %          NaN   \n",
      "1254431  0.0   NaN  08/11/2020    20201108          %          NaN   \n",
      "\n",
      "         WORLDMAP_CS CONTINENT_CS  \n",
      "0        Afghanistan         Asia  \n",
      "1        Afghanistan         Asia  \n",
      "2        Afghanistan         Asia  \n",
      "3        Afghanistan         Asia  \n",
      "4        Afghanistan         Asia  \n",
      "...              ...          ...  \n",
      "1254427          NaN          NaN  \n",
      "1254428          NaN          NaN  \n",
      "1254429          NaN          NaN  \n",
      "1254430          NaN          NaN  \n",
      "1254431          NaN          NaN  \n",
      "\n",
      "[1254432 rows x 13 columns]\n",
      "Data not updated !\n"
     ]
    },
    {
     "data": {
      "text/html": [
       "<div>\n",
       "<style scoped>\n",
       "    .dataframe tbody tr th:only-of-type {\n",
       "        vertical-align: middle;\n",
       "    }\n",
       "\n",
       "    .dataframe tbody tr th {\n",
       "        vertical-align: top;\n",
       "    }\n",
       "\n",
       "    .dataframe thead th {\n",
       "        text-align: right;\n",
       "    }\n",
       "</style>\n",
       "<table border=\"1\" class=\"dataframe\">\n",
       "  <thead>\n",
       "    <tr style=\"text-align: right;\">\n",
       "      <th></th>\n",
       "      <th>ENTITY</th>\n",
       "      <th>LABEL</th>\n",
       "      <th>KPI</th>\n",
       "      <th>VALUE</th>\n",
       "      <th>VALUE_D-1</th>\n",
       "      <th>VAR</th>\n",
       "      <th>VARP</th>\n",
       "      <th>SCENARIO</th>\n",
       "      <th>DATE_ORDER</th>\n",
       "      <th>UNIT_VALUE</th>\n",
       "      <th>WORLDMAP</th>\n",
       "      <th>WORLDMAP_CS</th>\n",
       "      <th>CONTINENT_CS</th>\n",
       "    </tr>\n",
       "  </thead>\n",
       "  <tbody>\n",
       "  </tbody>\n",
       "</table>\n",
       "</div>"
      ],
      "text/plain": [
       "Empty DataFrame\n",
       "Columns: [ENTITY, LABEL, KPI, VALUE, VALUE_D-1, VAR, VARP, SCENARIO, DATE_ORDER, UNIT_VALUE, WORLDMAP, WORLDMAP_CS, CONTINENT_CS]\n",
       "Index: []"
      ]
     },
     "execution_count": 3,
     "metadata": {},
     "output_type": "execute_result"
    }
   ],
   "source": [
    "#--- Check if the data are already updated\n",
    "continue_script = True\n",
    "# Load Data Source\n",
    "def check_data():\n",
    "    # Data check\n",
    "    file_path_check = os.path.join(OUTPUT_FOLDER,'103_WORLD.csv')\n",
    "    df_check = pd.DataFrame()\n",
    "    if path.exists(file_path_check):\n",
    "        df_check = pd.read_csv(file_path_check, sep=\";\",low_memory=False)\n",
    "        df_check = df_check[(df_check['SCENARIO'] == YESTERDAY.strftime('%d/%m/%y'))]\n",
    "        if not df_check.empty:\n",
    "            print(f'Data already updated !')\n",
    "            %stop \n",
    "    return df_check\n",
    "\n",
    "def load_data():\n",
    "    # Data check\n",
    "    file_path = os.path.join(OUTPUT_FOLDER,'103.csv')\n",
    "    df = pd.DataFrame()\n",
    "    \n",
    "    df = pd.read_csv(file_path, sep=\";\").drop('Unnamed: 0',axis=1)\n",
    "    print(df)\n",
    "    \n",
    "    filters = ['Europe','Asia','Africa','North America','South America','Oceania','Other','To be affected']\n",
    "    df = df[(df['ENTITY'].isin(filters)) & \n",
    "            (df['SCENARIO'] == YESTERDAY.strftime('%d/%m/%Y'))].reset_index(drop=True)\n",
    "    if df.empty:\n",
    "        print(f'Data not updated !')\n",
    "        continue_script = False\n",
    "    else:\n",
    "        df.to_csv(os.path.join(OUTPUT_FOLDER,'103_WORLD.csv'),sep=\";\")\n",
    "    return df\n",
    "\n",
    "check_data()\n",
    "df = load_data()\n",
    "\n",
    "df"
   ]
  },
  {
   "cell_type": "code",
   "execution_count": 4,
   "metadata": {
    "execution": {
     "iopub.execute_input": "2020-11-14T10:01:09.970686Z",
     "iopub.status.busy": "2020-11-14T10:01:09.970441Z",
     "iopub.status.idle": "2020-11-14T10:01:09.978205Z",
     "shell.execute_reply": "2020-11-14T10:01:09.977597Z",
     "shell.execute_reply.started": "2020-11-14T10:01:09.970656Z"
    }
   },
   "outputs": [],
   "source": [
    "#Var France\n",
    "map_center = {\"lat\": 46.7667, \"lon\": 2.45}\n",
    "def create_map(df,geo,dfKey,geoKey,scale,colors,map_center,label,file_html):\n",
    "    file_path = os.path.join(OUTPUT_FOLDER, file_html)\n",
    "    fig = px.choropleth_mapbox(df, \n",
    "                               geojson=geo, \n",
    "                               color=\"VALUE\",\n",
    "                               locations=dfKey, \n",
    "                               featureidkey=geoKey,\n",
    "                               range_color=scale,\n",
    "                               color_continuous_scale=colors,\n",
    "                               mapbox_style=\"carto-positron\", \n",
    "                               zoom=1, \n",
    "                               center=map_center,\n",
    "                               hover_data=[\"VALUE\",\"VAR\"],\n",
    "                               labels=label,\n",
    "                              )\n",
    "    fig.update_layout(margin={\"r\":0,\"l\":0,},autosize=True)\n",
    "    fig.write_html(file_path)\n",
    "    updateChartCss(file_path, os.path.join(INPUT_FOLDER,'map.css'))"
   ]
  },
  {
   "cell_type": "code",
   "execution_count": 5,
   "metadata": {
    "execution": {
     "iopub.execute_input": "2020-11-14T10:01:09.979339Z",
     "iopub.status.busy": "2020-11-14T10:01:09.979124Z",
     "iopub.status.idle": "2020-11-14T10:01:18.130258Z",
     "shell.execute_reply": "2020-11-14T10:01:18.129616Z",
     "shell.execute_reply.started": "2020-11-14T10:01:09.979312Z"
    }
   },
   "outputs": [
    {
     "name": "stderr",
     "output_type": "stream",
     "text": [
      "/opt/conda/lib/python3.8/site-packages/numpy/core/fromnumeric.py:3334: RuntimeWarning: Mean of empty slice.\n",
      "  return _methods._mean(a, axis=axis, dtype=dtype,\n",
      "/opt/conda/lib/python3.8/site-packages/numpy/core/_methods.py:161: RuntimeWarning: invalid value encountered in double_scalars\n",
      "  ret = ret.dtype.type(ret / rcount)\n"
     ]
    },
    {
     "name": "stdout",
     "output_type": "stream",
     "text": [
      "VALUE : Min: nan, Max: nan,Average: nan, AvrMax: nan,Med: nan, MedMax: nan\n",
      "👌 Well done! Your Assets has been sent to production.\n",
      "\n"
     ]
    },
    {
     "data": {
      "application/vnd.jupyter.widget-view+json": {
       "model_id": "37f996d2fcc34fea82dab4afdf8ff09f",
       "version_major": 2,
       "version_minor": 0
      },
      "text/plain": [
       "Button(button_style='primary', description='Copy URL', style=ButtonStyle())"
      ]
     },
     "metadata": {},
     "output_type": "display_data"
    },
    {
     "data": {
      "application/vnd.jupyter.widget-view+json": {
       "model_id": "08c6e368359e431c8c21df9d16ddf2d1",
       "version_major": 2,
       "version_minor": 0
      },
      "text/plain": [
       "Output()"
      ]
     },
     "metadata": {},
     "output_type": "display_data"
    },
    {
     "name": "stdout",
     "output_type": "stream",
     "text": [
      "PS: to remove the \"Assets\" feature, just replace .add by .delete\n"
     ]
    }
   ],
   "source": [
    "#Confirmed\n",
    "if continue_script:\n",
    "    kpi = 'Confirmed'\n",
    "    file_html = \"WORLD_CONFIRMED.html\"\n",
    "\n",
    "    df_map = df.copy()[(df['KPI'] == kpi)]\n",
    "    analysis(df_map,'VALUE')\n",
    "\n",
    "    scale = (0,1000000)\n",
    "    colors = [\n",
    "        [0.00, \"#FFFFFF\"],\n",
    "        [0.01,\"#B3D7D2\"],\n",
    "        [0.05, \"#81B1BD\"],\n",
    "        [0.1, \"#437F9D\"],\n",
    "        [1.0, \"#00354E\"]\n",
    "    ]\n",
    "    dfKey = \"WORLDMAP_CS\"\n",
    "    geoKey=\"properties.name\"\n",
    "\n",
    "    to_rename = {'WORLDMAP_CS':'Country',\n",
    "                 'VALUE': kpi,\n",
    "                 'VAR': 'Var. in cases'}\n",
    "\n",
    "    create_map(df_map, WORLDMAP, dfKey, geoKey, \n",
    "               scale, colors, map_center,\n",
    "               to_rename, file_html)\n",
    "\n",
    "    #Make html visible\n",
    "    html = os.path.abspath(os.path.join(OUTPUT_FOLDER, file_html))\n",
    "    url_conf = naas.assets.add(html, params={\"inline\":True})"
   ]
  },
  {
   "cell_type": "code",
   "execution_count": 6,
   "metadata": {
    "execution": {
     "iopub.execute_input": "2020-11-14T10:01:18.131559Z",
     "iopub.status.busy": "2020-11-14T10:01:18.131315Z",
     "iopub.status.idle": "2020-11-14T10:01:18.678463Z",
     "shell.execute_reply": "2020-11-14T10:01:18.677737Z",
     "shell.execute_reply.started": "2020-11-14T10:01:18.131529Z"
    }
   },
   "outputs": [
    {
     "name": "stdout",
     "output_type": "stream",
     "text": [
      "VALUE : Min: nan, Max: nan,Average: nan, AvrMax: nan,Med: nan, MedMax: nan\n"
     ]
    },
    {
     "name": "stderr",
     "output_type": "stream",
     "text": [
      "/opt/conda/lib/python3.8/site-packages/numpy/core/fromnumeric.py:3334: RuntimeWarning:\n",
      "\n",
      "Mean of empty slice.\n",
      "\n",
      "/opt/conda/lib/python3.8/site-packages/numpy/core/_methods.py:161: RuntimeWarning:\n",
      "\n",
      "invalid value encountered in double_scalars\n",
      "\n"
     ]
    },
    {
     "name": "stdout",
     "output_type": "stream",
     "text": [
      "👌 Well done! Your Assets has been sent to production.\n",
      "\n"
     ]
    },
    {
     "data": {
      "application/vnd.jupyter.widget-view+json": {
       "model_id": "2dbeb186284c48edb37f119449757819",
       "version_major": 2,
       "version_minor": 0
      },
      "text/plain": [
       "Button(button_style='primary', description='Copy URL', style=ButtonStyle())"
      ]
     },
     "metadata": {},
     "output_type": "display_data"
    },
    {
     "data": {
      "application/vnd.jupyter.widget-view+json": {
       "model_id": "0c8a9c41194149efa375134cce0d9ad8",
       "version_major": 2,
       "version_minor": 0
      },
      "text/plain": [
       "Output()"
      ]
     },
     "metadata": {},
     "output_type": "display_data"
    },
    {
     "name": "stdout",
     "output_type": "stream",
     "text": [
      "PS: to remove the \"Assets\" feature, just replace .add by .delete\n"
     ]
    }
   ],
   "source": [
    "#\"Active cases\"\n",
    "if continue_script:\n",
    "    kpi = \"Active cases\"\n",
    "    file_html = \"WORLD_ACTIVE_CASES.html\"\n",
    "\n",
    "    df_map = df.copy()[(df['KPI'] == kpi)]\n",
    "    analysis(df_map,'VALUE')\n",
    "\n",
    "    scale = (0,1000000)\n",
    "    colors = [\n",
    "        [0.00, \"#FFFFFF\"],\n",
    "        [0.01,\"#B3D7D2\"],\n",
    "        [0.05, \"#81B1BD\"],\n",
    "        [0.1, \"#437F9D\"],\n",
    "        [1.0, \"#00354E\"]\n",
    "    ]\n",
    "    dfKey = \"WORLDMAP_CS\"\n",
    "    geoKey=\"properties.name\"\n",
    "\n",
    "    to_rename = {'WORLDMAP_CS':'Country',\n",
    "                 'VALUE': kpi,\n",
    "                 'VAR': 'Var. in cases'}\n",
    "\n",
    "    create_map(df_map, WORLDMAP, dfKey, geoKey, \n",
    "               scale, colors, map_center,\n",
    "               to_rename, file_html)\n",
    "\n",
    "    #Make html visible\n",
    "    html = os.path.abspath(os.path.join(OUTPUT_FOLDER, file_html))\n",
    "    url_acti = naas.assets.add(html, params={\"inline\":True})"
   ]
  },
  {
   "cell_type": "code",
   "execution_count": 7,
   "metadata": {
    "execution": {
     "iopub.execute_input": "2020-11-14T10:01:18.679774Z",
     "iopub.status.busy": "2020-11-14T10:01:18.679534Z",
     "iopub.status.idle": "2020-11-14T10:01:19.213311Z",
     "shell.execute_reply": "2020-11-14T10:01:19.212619Z",
     "shell.execute_reply.started": "2020-11-14T10:01:18.679744Z"
    }
   },
   "outputs": [
    {
     "name": "stdout",
     "output_type": "stream",
     "text": [
      "VALUE : Min: nan, Max: nan,Average: nan, AvrMax: nan,Med: nan, MedMax: nan\n",
      "👌 Well done! Your Assets has been sent to production.\n",
      "\n"
     ]
    },
    {
     "data": {
      "application/vnd.jupyter.widget-view+json": {
       "model_id": "ba0bc42454b247bea230c4cbeee53b35",
       "version_major": 2,
       "version_minor": 0
      },
      "text/plain": [
       "Button(button_style='primary', description='Copy URL', style=ButtonStyle())"
      ]
     },
     "metadata": {},
     "output_type": "display_data"
    },
    {
     "data": {
      "application/vnd.jupyter.widget-view+json": {
       "model_id": "5a7e4593bd37468b955cbac0cbdfb509",
       "version_major": 2,
       "version_minor": 0
      },
      "text/plain": [
       "Output()"
      ]
     },
     "metadata": {},
     "output_type": "display_data"
    },
    {
     "name": "stdout",
     "output_type": "stream",
     "text": [
      "PS: to remove the \"Assets\" feature, just replace .add by .delete\n"
     ]
    }
   ],
   "source": [
    "#\"Deaths\"\n",
    "if continue_script:\n",
    "    kpi = \"Deaths\"\n",
    "    file_html = \"WORLD_DEATHS.html\"\n",
    "\n",
    "    df_map = df.copy()[(df['KPI'] == kpi)]\n",
    "    analysis(df_map,'VALUE')\n",
    "\n",
    "    scale = (0,100000)\n",
    "    colors = [\n",
    "        [0.00, \"#FFFFFF\"],\n",
    "        [0.01,\"#B3D7D2\"],\n",
    "        [0.05, \"#81B1BD\"],\n",
    "        [0.1, \"#437F9D\"],\n",
    "        [1.0, \"#00354E\"]\n",
    "    ]\n",
    "    dfKey = \"WORLDMAP_CS\"\n",
    "    geoKey=\"properties.name\"\n",
    "\n",
    "    to_rename = {'WORLDMAP_CS':'Country',\n",
    "                 'VALUE': kpi,\n",
    "                 'VAR': 'Var. in cases'}\n",
    "\n",
    "    create_map(df_map, WORLDMAP, dfKey, geoKey, \n",
    "               scale, colors, map_center,\n",
    "               to_rename, file_html)\n",
    "\n",
    "    #Make html visible\n",
    "    html = os.path.abspath(os.path.join(OUTPUT_FOLDER, file_html))\n",
    "    url_deat = naas.assets.add(html, params={\"inline\":True})"
   ]
  },
  {
   "cell_type": "code",
   "execution_count": 8,
   "metadata": {
    "execution": {
     "iopub.execute_input": "2020-11-14T10:01:19.215570Z",
     "iopub.status.busy": "2020-11-14T10:01:19.215329Z",
     "iopub.status.idle": "2020-11-14T10:01:19.773153Z",
     "shell.execute_reply": "2020-11-14T10:01:19.772475Z",
     "shell.execute_reply.started": "2020-11-14T10:01:19.215540Z"
    }
   },
   "outputs": [
    {
     "name": "stdout",
     "output_type": "stream",
     "text": [
      "VALUE : Min: nan, Max: nan,Average: nan, AvrMax: nan,Med: nan, MedMax: nan\n",
      "👌 Well done! Your Assets has been sent to production.\n",
      "\n"
     ]
    },
    {
     "data": {
      "application/vnd.jupyter.widget-view+json": {
       "model_id": "0841add9949748e1be939571709d3714",
       "version_major": 2,
       "version_minor": 0
      },
      "text/plain": [
       "Button(button_style='primary', description='Copy URL', style=ButtonStyle())"
      ]
     },
     "metadata": {},
     "output_type": "display_data"
    },
    {
     "data": {
      "application/vnd.jupyter.widget-view+json": {
       "model_id": "78dc304bfb924928b6a35bb64d3de4da",
       "version_major": 2,
       "version_minor": 0
      },
      "text/plain": [
       "Output()"
      ]
     },
     "metadata": {},
     "output_type": "display_data"
    },
    {
     "name": "stdout",
     "output_type": "stream",
     "text": [
      "PS: to remove the \"Assets\" feature, just replace .add by .delete\n"
     ]
    }
   ],
   "source": [
    "#\"Recovered\"\n",
    "if continue_script:\n",
    "    kpi = \"Recovered\"\n",
    "    file_html = \"WORLD_RECOVERED.html\"\n",
    "\n",
    "    df_map = df.copy()[(df['KPI'] == kpi)]\n",
    "    analysis(df_map,'VALUE')\n",
    "\n",
    "    scale = (0,200000)\n",
    "    colors = [\n",
    "        [0.00, \"#FFFFFF\"],\n",
    "        [0.01,\"#B3D7D2\"],\n",
    "        [0.05, \"#81B1BD\"],\n",
    "        [0.1, \"#437F9D\"],\n",
    "        [1.0, \"#00354E\"]\n",
    "    ]\n",
    "    dfKey = \"WORLDMAP_CS\"\n",
    "    geoKey=\"properties.name\"\n",
    "\n",
    "    to_rename = {'WORLDMAP_CS':'Country',\n",
    "                 'VALUE': kpi,\n",
    "                 'VAR': 'Var. in cases'}\n",
    "\n",
    "    create_map(df_map, WORLDMAP, dfKey, geoKey, \n",
    "               scale, colors, map_center,\n",
    "               to_rename, file_html)\n",
    "\n",
    "    #Make html visible\n",
    "    html = os.path.abspath(os.path.join(OUTPUT_FOLDER, file_html))\n",
    "    url_reco = naas.assets.add(html, params={\"inline\":True})"
   ]
  },
  {
   "cell_type": "code",
   "execution_count": 9,
   "metadata": {
    "execution": {
     "iopub.execute_input": "2020-11-14T10:01:19.774792Z",
     "iopub.status.busy": "2020-11-14T10:01:19.774379Z",
     "iopub.status.idle": "2020-11-14T10:01:20.332235Z",
     "shell.execute_reply": "2020-11-14T10:01:20.331619Z",
     "shell.execute_reply.started": "2020-11-14T10:01:19.774758Z"
    }
   },
   "outputs": [
    {
     "name": "stdout",
     "output_type": "stream",
     "text": [
      "VALUE : Min: nan, Max: nan,Average: nan, AvrMax: nan,Med: nan, MedMax: nan\n",
      "👌 Well done! Your Assets has been sent to production.\n",
      "\n"
     ]
    },
    {
     "data": {
      "application/vnd.jupyter.widget-view+json": {
       "model_id": "b225a08d20714f35a70fbb3da686c8c0",
       "version_major": 2,
       "version_minor": 0
      },
      "text/plain": [
       "Button(button_style='primary', description='Copy URL', style=ButtonStyle())"
      ]
     },
     "metadata": {},
     "output_type": "display_data"
    },
    {
     "data": {
      "application/vnd.jupyter.widget-view+json": {
       "model_id": "d277879866714dfcb3e6812864e6c91d",
       "version_major": 2,
       "version_minor": 0
      },
      "text/plain": [
       "Output()"
      ]
     },
     "metadata": {},
     "output_type": "display_data"
    },
    {
     "name": "stdout",
     "output_type": "stream",
     "text": [
      "PS: to remove the \"Assets\" feature, just replace .add by .delete\n"
     ]
    }
   ],
   "source": [
    "#\"Fatality Rate\"\n",
    "if continue_script:\n",
    "    kpi = \"Fatality Rate\"\n",
    "    file_html = \"WORLD_FATALITY_RATE.html\"\n",
    "\n",
    "    df_map = df.copy()[(df['KPI'] == kpi)]\n",
    "    df_map['VALUE'] = round(df_map['VALUE'],2)\n",
    "    df_map['VAR'] = round(df_map['VAR'],2)\n",
    "    analysis(df_map,'VALUE')\n",
    "\n",
    "    scale = (0,10)\n",
    "    colors = [\n",
    "        [0.0, \"#FFFFFF\"],\n",
    "        [0.25,\"#B3D7D2\"],\n",
    "        [0.5, \"#81B1BD\"],\n",
    "        [0.75, \"#437F9D\"],\n",
    "        [1.0, \"#00354E\"]\n",
    "    ]\n",
    "    dfKey = \"WORLDMAP_CS\"\n",
    "    geoKey=\"properties.name\"\n",
    "\n",
    "    to_rename = {'WORLDMAP_CS':'Country',\n",
    "                 'VALUE': kpi,\n",
    "                 'VAR': 'Var. in pts'}\n",
    "\n",
    "    create_map(df_map, WORLDMAP, dfKey, geoKey, \n",
    "               scale, colors, map_center,\n",
    "               to_rename, file_html)\n",
    "\n",
    "    #Make html visible\n",
    "    html = os.path.abspath(os.path.join(OUTPUT_FOLDER, file_html))\n",
    "    url_fata_rt = naas.assets.add(html, params={\"inline\":True})"
   ]
  },
  {
   "cell_type": "code",
   "execution_count": 10,
   "metadata": {
    "execution": {
     "iopub.execute_input": "2020-11-14T10:01:20.333744Z",
     "iopub.status.busy": "2020-11-14T10:01:20.333506Z",
     "iopub.status.idle": "2020-11-14T10:01:20.870699Z",
     "shell.execute_reply": "2020-11-14T10:01:20.870077Z",
     "shell.execute_reply.started": "2020-11-14T10:01:20.333714Z"
    }
   },
   "outputs": [
    {
     "name": "stdout",
     "output_type": "stream",
     "text": [
      "VALUE : Min: nan, Max: nan,Average: nan, AvrMax: nan,Med: nan, MedMax: nan\n",
      "👌 Well done! Your Assets has been sent to production.\n",
      "\n"
     ]
    },
    {
     "data": {
      "application/vnd.jupyter.widget-view+json": {
       "model_id": "e4eff7fb3da149b29aab4187e4426837",
       "version_major": 2,
       "version_minor": 0
      },
      "text/plain": [
       "Button(button_style='primary', description='Copy URL', style=ButtonStyle())"
      ]
     },
     "metadata": {},
     "output_type": "display_data"
    },
    {
     "data": {
      "application/vnd.jupyter.widget-view+json": {
       "model_id": "142e7cb994324adda5e7a7d6d4c263f9",
       "version_major": 2,
       "version_minor": 0
      },
      "text/plain": [
       "Output()"
      ]
     },
     "metadata": {},
     "output_type": "display_data"
    },
    {
     "name": "stdout",
     "output_type": "stream",
     "text": [
      "PS: to remove the \"Assets\" feature, just replace .add by .delete\n"
     ]
    }
   ],
   "source": [
    "#\"Recovery Rate\"\n",
    "if continue_script:\n",
    "    kpi = \"Recovery Rate\"\n",
    "    file_html = \"WORLD_RECOVERY_RATE.html\"\n",
    "\n",
    "    df_map = df.copy()[(df['KPI'] == kpi)]\n",
    "    df_map['VALUE'] = round(df_map['VALUE'],2)\n",
    "    df_map['VAR'] = round(df_map['VAR'],2)\n",
    "    analysis(df_map,'VALUE')\n",
    "\n",
    "    scale = (0,100)\n",
    "    colors = [\n",
    "        [0.0, \"#FFFFFF\"],\n",
    "        [0.15,\"#B3D7D2\"],\n",
    "        [0.25, \"#81B1BD\"],\n",
    "        [0.5, \"#437F9D\"],\n",
    "        [1.0, \"#00354E\"]\n",
    "    ]\n",
    "    dfKey = \"WORLDMAP_CS\"\n",
    "    geoKey=\"properties.name\"\n",
    "\n",
    "    to_rename = {'WORLDMAP_CS':'Country',\n",
    "                 'VALUE': kpi,\n",
    "                 'VAR': 'Var. in pts'}\n",
    "\n",
    "    create_map(df_map, WORLDMAP, dfKey, geoKey, \n",
    "               scale, colors, map_center,\n",
    "               to_rename, file_html)\n",
    "\n",
    "    #Make html visible\n",
    "    html = os.path.abspath(os.path.join(OUTPUT_FOLDER, file_html))\n",
    "    url_reco_rt = naas.assets.add(html, params={\"inline\":True})"
   ]
  },
  {
   "cell_type": "code",
   "execution_count": 11,
   "metadata": {
    "execution": {
     "iopub.execute_input": "2020-11-14T10:01:20.879596Z",
     "iopub.status.busy": "2020-11-14T10:01:20.879360Z",
     "iopub.status.idle": "2020-11-14T10:01:20.913441Z",
     "shell.execute_reply": "2020-11-14T10:01:20.912753Z",
     "shell.execute_reply.started": "2020-11-14T10:01:20.879570Z"
    }
   },
   "outputs": [
    {
     "name": "stdout",
     "output_type": "stream",
     "text": [
      "Dataframe 111 successfully save in database app-wsr in MongoDB. Time: --- 0.022086620330810547 secnds ---\n"
     ]
    }
   ],
   "source": [
    "# Html\n",
    "if continue_script:\n",
    "    CONFIRMED = [{'URL': url_conf,\n",
    "                 'KPI': 'Confirmed',\n",
    "                 'UPPER_FILTER': 'All population'}]\n",
    "\n",
    "    ACTIVE_CASES = [{'URL': url_acti,\n",
    "                   'KPI': 'Active cases',\n",
    "                   'UPPER_FILTER': 'All population'}]\n",
    "\n",
    "    DEATHS = [{'URL': url_deat,\n",
    "               'KPI': 'Deaths',\n",
    "               'UPPER_FILTER': 'All population'}]\n",
    "\n",
    "    RECOVERED = [{'URL': url_reco,\n",
    "                 'KPI': 'Recovered',\n",
    "                 'UPPER_FILTER': 'All population'}]\n",
    "\n",
    "    FATALITY_RATE = [{'URL': url_fata_rt,\n",
    "                     'KPI': 'Fatality Rate',\n",
    "                     'UPPER_FILTER': 'All population'}]\n",
    "\n",
    "    RECOVERY_RATE = [{'URL': url_reco_rt,\n",
    "                     'KPI': 'Recovery Rate',\n",
    "                     'UPPER_FILTER': 'All population'}]\n",
    "\n",
    "    LIST_KPIS = CONFIRMED + ACTIVE_CASES + DEATHS + RECOVERED + FATALITY_RATE + RECOVERY_RATE\n",
    "\n",
    "    #Create Dataframe\n",
    "    DOMAIN = pd.DataFrame(LIST_KPIS)\n",
    "    DOMAIN.loc[:, 'VALUE'] = \"<iframe src=\\\"\" + DOMAIN['URL'] + '\" frameborder=\"0\" style=\"overflow:hidden;height:85vh;width:100%\" height=\"100%\" width=\"100%\"></iframe> <style>.modebar {display: none!important;}</style>'\n",
    "    if USE_MONGO:\n",
    "        naas_drivers.mongo.send(DOMAIN, '111', DB_APP, True)\n",
    "    DOMAIN"
   ]
  },
  {
   "cell_type": "code",
   "execution_count": null,
   "metadata": {},
   "outputs": [],
   "source": []
  }
 ],
 "metadata": {
  "kernelspec": {
   "display_name": "Python 3",
   "language": "python",
   "name": "python3"
  },
  "language_info": {
   "codemirror_mode": {
    "name": "ipython",
    "version": 3
   },
   "file_extension": ".py",
   "mimetype": "text/x-python",
   "name": "python",
   "nbconvert_exporter": "python",
   "pygments_lexer": "ipython3",
   "version": "3.8.6"
  }
 },
 "nbformat": 4,
 "nbformat_minor": 4
}
