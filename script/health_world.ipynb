{
 "cells": [
  {
   "cell_type": "code",
   "execution_count": 1,
   "metadata": {},
   "outputs": [
    {
     "name": "stdout",
     "output_type": "stream",
     "text": [
      "Successfully connected to MongoDB\n"
     ]
    }
   ],
   "source": [
    "%run __init__.ipynb"
   ]
  },
  {
   "cell_type": "code",
   "execution_count": 2,
   "metadata": {},
   "outputs": [
    {
     "ename": "Exception",
     "evalue": "Script already updated !",
     "output_type": "error",
     "traceback": [
      "\u001b[0;31m---------------------------------------------------------------------------\u001b[0m",
      "\u001b[0;31mException\u001b[0m                                 Traceback (most recent call last)",
      "\u001b[0;32m<timed exec>\u001b[0m in \u001b[0;36m<module>\u001b[0;34m\u001b[0m\n",
      "\u001b[0;32m<timed exec>\u001b[0m in \u001b[0;36minit_script\u001b[0;34m()\u001b[0m\n",
      "\u001b[0;31mException\u001b[0m: Script already updated !"
     ]
    }
   ],
   "source": [
    "%%time\n",
    "\n",
    "#--- Check if the data are already updated\n",
    "def init_script():\n",
    "    stop = False\n",
    "    file_path = os.path.join(OUTPUT_FOLDER,'WORLD_DB_TREND.csv')\n",
    "    if path.exists(file_path):\n",
    "        df_check = pd.read_csv(file_path,\n",
    "                               sep=';',\n",
    "                               low_memory=False)\n",
    "        \n",
    "        date_check = df_check[df_check['SCENARIO'] == YESTERDAY.strftime('%d/%m/%Y')]\n",
    "        if len(date_check) == 0:\n",
    "            %run \"covid-19_world.ipynb\"\n",
    "        else:\n",
    "            raise Exception(\"Script already updated !\")\n",
    "    else:\n",
    "        %run \"covid-19_world.ipynb\"\n",
    "    \n",
    "init_script()"
   ]
  },
  {
   "cell_type": "code",
   "execution_count": 3,
   "metadata": {},
   "outputs": [
    {
     "name": "stdout",
     "output_type": "stream",
     "text": [
      "CPU times: user 5.89 s, sys: 1.18 s, total: 7.06 s\n",
      "Wall time: 7.38 s\n"
     ]
    }
   ],
   "source": [
    "%%time\n",
    "\n",
    "#--- Load data source\n",
    "db_conso = get_datasource('WORLD_DB_CONSO')\n",
    "db_all = get_datasource('WORLD_DB_ALL')\n",
    "db_trend = get_datasource('WORLD_DB_TREND')"
   ]
  },
  {
   "cell_type": "code",
   "execution_count": 4,
   "metadata": {},
   "outputs": [],
   "source": [
    "def df_to_csv_mongo(df,df_name):\n",
    "    if not df.empty:\n",
    "        # Save in CSV\n",
    "        df_save(df, df_name,'csv')\n",
    "        \n",
    "        # Save in MongoDB\n",
    "        if USE_MONGO:\n",
    "            naas_drivers.mongo.send(df, df_name, DB_APP, True)\n",
    "    else:\n",
    "        print(f'DataFrame {df_name} is empty !')"
   ]
  },
  {
   "cell_type": "code",
   "execution_count": 5,
   "metadata": {},
   "outputs": [
    {
     "name": "stdout",
     "output_type": "stream",
     "text": [
      "CPU times: user 3 µs, sys: 0 ns, total: 3 µs\n",
      "Wall time: 6.44 µs\n"
     ]
    }
   ],
   "source": [
    "%%time\n",
    "\n",
    "#Dashboard value dynamic template\n",
    "def dashboard_value(df, kpi, domain_num):\n",
    "    filters = ['WORLDWIDE','Europe','Asia','Africa','North America','South America','Oceania','Other','To be affected']\n",
    "    domain = df[(df['ENTITY_GROUPS'].isin(filters)) & (df['KPI'].isin([kpi]))]\n",
    "    domain = pd.DataFrame({\n",
    "        'ENTITY': domain['ENTITY'],\n",
    "        'ENTITY_GROUPS': domain['ENTITY_GROUPS'],\n",
    "        'SCENARIO': domain['SCENARIO'],\n",
    "        'DATE_ORDER': domain['DATE_ORDER'],\n",
    "        'LABEL': domain['KPI'],\n",
    "        'VALUE': domain['VALUE'],\n",
    "        'VALUE_D-1': domain['VALUE_D-1'],\n",
    "        'VAR': domain['VARV'],\n",
    "        'VARP': domain['VARP'],\n",
    "        'UNIT_VALUE': domain['UNIT_VALUE'],\n",
    "        'UNIT_VAR': domain['UNIT_VAR'],\n",
    "        'UNIT_VARP': domain['UNIT_VARP'],\n",
    "        'PRECISION_VALUE': domain['PRECISION_VALUE'],\n",
    "        'PRECISION_VAR': domain['PRECISION_VAR'],\n",
    "        'PRECISION_VARP': domain['PRECISION_VARP'],\n",
    "        'LAST_UPDATE': datetime.now().strftime('%d/%m/%Y %H:%M:%S'),\n",
    "    })\n",
    "    domain = domain.sort_values(by=['ENTITY','SCENARIO'],ascending=False)\n",
    "    domain = optimize(domain, ['LAST_UPDATE'])\n",
    "    df_to_csv_mongo(domain,domain_num)\n",
    "    print(DB_APP, domain_num)\n",
    "    df_collection = MONGO_DB[DB_APP][domain_num]\n",
    "    df_collection.create_index([(\"ENTITY\", DESCENDING),(\"SCENARIO\", DESCENDING)])\n",
    "    return domain"
   ]
  },
  {
   "cell_type": "code",
   "execution_count": 6,
   "metadata": {},
   "outputs": [],
   "source": [
    "#Duplicate to rank countries WORLDWIDE\n",
    "def get_ww(df): \n",
    "    filters = ['Europe','Asia','Africa','North America','South America','Oceania','Other','To be affected']\n",
    "    df_ww = df.copy()[(df['ENTITY'].isin(filters))] \n",
    "    df_ww['ENTITY'] = \"WORLDWIDE\"           \n",
    "    df = df.append(df_ww)\n",
    "    return df"
   ]
  },
  {
   "cell_type": "code",
   "execution_count": 7,
   "metadata": {},
   "outputs": [],
   "source": [
    "#Dashboard leaderboard template\n",
    "def dashboard_leaderboard(df,kpi,domain_num):\n",
    "    domain = df[(df['KPI'].isin([kpi]))]\n",
    "    domain = pd.DataFrame({\n",
    "        'ENTITY': domain['ENTITY_GROUPS'],\n",
    "        'SCENARIO': domain['SCENARIO'],\n",
    "        'DATE_ORDER': domain['DATE_ORDER'],\n",
    "        'LABEL': domain['ENTITY'],\n",
    "        'VALUE': domain['VALUE'],\n",
    "        'VALUE_D-1': domain['VALUE_D-1'],\n",
    "        'VAR': domain['VARV'],\n",
    "        'VARP': domain['VARP'],\n",
    "        'UNIT_VALUE': domain['UNIT_VALUE'],\n",
    "        'UNIT_VAR': domain['UNIT_VAR'],\n",
    "        'UNIT_VARP': domain['UNIT_VARP'],\n",
    "        'PRECISION_VALUE': domain['PRECISION_VALUE'],\n",
    "        'PRECISION_VAR': domain['PRECISION_VAR'],\n",
    "        'PRECISION_VARP': domain['PRECISION_VARP'],\n",
    "        'LAST_UPDATE': datetime.now().strftime('%d/%m/%Y %H:%M:%S'),\n",
    "    })\n",
    "    domain = domain.sort_values(by=['ENTITY','SCENARIO'],ascending=False)\n",
    "    if domain_num == '010' or domain_num == '011' or domain_num == '012':\n",
    "        domain = get_ww(domain)\n",
    "    df_to_csv_mongo(domain,domain_num)\n",
    "    df_collection = MONGO_DB[DB_APP][domain_num]\n",
    "    df_collection.create_index([(\"ENTITY\", DESCENDING),(\"SCENARIO\", DESCENDING)])\n",
    "    return domain"
   ]
  },
  {
   "cell_type": "code",
   "execution_count": 8,
   "metadata": {},
   "outputs": [
    {
     "name": "stdout",
     "output_type": "stream",
     "text": [
      "ENTITIES successfully saved in ENTITIES\n",
      "Dataframe ENTITIES successfully save in database app-wsr in MongoDB. Time: --- 0.04246807098388672 secnds ---\n",
      "CPU times: user 67.6 ms, sys: 0 ns, total: 67.6 ms\n",
      "Wall time: 143 ms\n"
     ]
    }
   ],
   "source": [
    "%%time\n",
    "\n",
    "#-- Date selector : ENTITIES\n",
    "def get_entities(df):\n",
    "    cols_to_rename = {\"ENTITY\": \"ENTITIES\", \"ENTITY_GROUPS\": \"GROUPS\"}\n",
    "    filters = ['WORLDWIDE','Europe','Asia','Africa','North America','South America','Oceania','Other','To be affected']\n",
    "    df = df[df['ENTITY_GROUPS'].isin(filters)].rename(index=str, columns=cols_to_rename)[['ENTITIES','GROUPS']].drop_duplicates().sort_values(by=\"ENTITIES\", ascending=True).reset_index(drop=True)\n",
    "    df['ORDER'] = df.index + 8\n",
    "    df.loc[df['ENTITIES'] == 'WORLDWIDE', 'ORDER'] = 0\n",
    "    df.loc[df['ENTITIES'] == 'Europe', 'ORDER'] = 1\n",
    "    df.loc[df['ENTITIES'] == 'Asia', 'ORDER'] = 2\n",
    "    df.loc[df['ENTITIES'] == 'Africa', 'ORDER'] = 3\n",
    "    df.loc[df['ENTITIES'] == 'North America', 'ORDER'] = 4\n",
    "    df.loc[df['ENTITIES'] == 'South America', 'ORDER'] = 5\n",
    "    df.loc[df['ENTITIES'] == 'Oceania', 'ORDER'] = 6\n",
    "    df.loc[df['ENTITIES'] == 'Other', 'ORDER'] = 7\n",
    "    df.loc[df['ENTITIES'] == 'To be affected', 'ORDER'] = 8\n",
    "    \n",
    "    df.loc[df['ENTITIES'] == 'WORLDWIDE', 'ORDER_GROUPS'] = 0\n",
    "    df.loc[df['ENTITIES'] == 'Europe', 'ORDER_GROUPS'] = 1\n",
    "    df.loc[df['ENTITIES'] == 'Asia', 'ORDER_GROUPS'] = 2\n",
    "    df.loc[df['ENTITIES'] == 'Africa', 'ORDER_GROUPS'] = 3\n",
    "    df.loc[df['ENTITIES'] == 'North America', 'ORDER_GROUPS'] = 4\n",
    "    df.loc[df['ENTITIES'] == 'South America', 'ORDER_GROUPS'] = 5\n",
    "    df.loc[df['ENTITIES'] == 'Oceania', 'ORDER_GROUPS'] = 6\n",
    "    df.loc[df['ENTITIES'] == 'Other', 'ORDER_GROUPS'] = 7\n",
    "    df.loc[df['ENTITIES'] == 'To be affected', 'ORDER_GROUPS'] = 8\n",
    "\n",
    "    df.loc[df['GROUPS'] == 'Europe', 'ORDER_GROUPS'] = 1\n",
    "    df.loc[df['GROUPS'] == 'Asia', 'ORDER_GROUPS'] = 2\n",
    "    df.loc[df['GROUPS'] == 'Africa', 'ORDER_GROUPS'] = 3\n",
    "    df.loc[df['GROUPS'] == 'North America', 'ORDER_GROUPS'] = 4\n",
    "    df.loc[df['GROUPS'] == 'South America', 'ORDER_GROUPS'] = 5\n",
    "    df.loc[df['GROUPS'] == 'Oceania', 'ORDER_GROUPS'] = 6\n",
    "    df.loc[df['GROUPS'] == 'Other', 'ORDER_GROUPS'] = 7\n",
    "    df.loc[df['GROUPS'] == 'To be affected', 'ORDER_GROUPS'] = 8\n",
    "    \n",
    "    df.loc[df['GROUPS'] == 'WORLDWIDE','ENTITY_DISPLAY'] = df['ENTITIES']\n",
    "    df.loc[df['GROUPS'] != 'WORLDWIDE','ENTITY_DISPLAY'] = '--- ' + df['ENTITIES']\n",
    "    return df.sort_values(by=['ORDER_GROUPS','ORDER'], ascending=True)\n",
    "\n",
    "entities = get_entities(db_conso)\n",
    "df_to_csv_mongo(entities,'ENTITIES')\n",
    "# entities"
   ]
  },
  {
   "cell_type": "code",
   "execution_count": 9,
   "metadata": {},
   "outputs": [
    {
     "name": "stdout",
     "output_type": "stream",
     "text": [
      "SCENARIOS successfully saved in SCENARIOS\n",
      "Dataframe SCENARIOS successfully save in database app-wsr in MongoDB. Time: --- 0.06773948669433594 secnds ---\n",
      "CPU times: user 110 ms, sys: 18.8 ms, total: 129 ms\n",
      "Wall time: 233 ms\n"
     ]
    }
   ],
   "source": [
    "%%time\n",
    "\n",
    "#-- Date selector : SCENARIOS\n",
    "def get_scenarios(df):\n",
    "    df = df[['SCENARIO','DATE_ORDER']].drop_duplicates()\n",
    "    df['SCENARIO_DIPLAY'] = pd.to_datetime(df['SCENARIO'], format='%d/%m/%Y').dt.strftime('%d %b %Y')\n",
    "    df['SCENARIO_TODAY'] = (pd.to_datetime(df['SCENARIO'], format='%d/%m/%Y') + timedelta(days = 1)).dt.strftime('%d/%m/%Y')\n",
    "    df['SCENARIO_TODAY_DIPLAY'] = pd.to_datetime(df['SCENARIO_TODAY'], format='%d/%m/%Y').dt.strftime('%d %b %Y')\n",
    "    return df.sort_values(by='DATE_ORDER', ascending=False)\n",
    "\n",
    "scenarios = get_scenarios(db_all)\n",
    "df_to_csv_mongo(scenarios,'SCENARIOS')\n",
    "# scenarios"
   ]
  },
  {
   "cell_type": "code",
   "execution_count": 10,
   "metadata": {},
   "outputs": [
    {
     "name": "stdout",
     "output_type": "stream",
     "text": [
      "001 successfully saved in 001\n",
      "Dataframe 001 successfully save in database app-wsr in MongoDB. Time: --- 2.7387585639953613 secnds ---\n",
      "app-wsr 001\n",
      "002 successfully saved in 002\n",
      "Dataframe 002 successfully save in database app-wsr in MongoDB. Time: --- 2.751988172531128 secnds ---\n",
      "app-wsr 002\n",
      "003 successfully saved in 003\n",
      "Dataframe 003 successfully save in database app-wsr in MongoDB. Time: --- 2.7404401302337646 secnds ---\n",
      "app-wsr 003\n",
      "004 successfully saved in 004\n",
      "Dataframe 004 successfully save in database app-wsr in MongoDB. Time: --- 2.633456230163574 secnds ---\n",
      "app-wsr 004\n",
      "005 successfully saved in 005\n",
      "Dataframe 005 successfully save in database app-wsr in MongoDB. Time: --- 2.846132516860962 secnds ---\n",
      "app-wsr 005\n",
      "006 successfully saved in 006\n",
      "Dataframe 006 successfully save in database app-wsr in MongoDB. Time: --- 2.6973443031311035 secnds ---\n",
      "app-wsr 006\n",
      "CPU times: user 14.4 s, sys: 268 ms, total: 14.7 s\n",
      "Wall time: 22.9 s\n"
     ]
    }
   ],
   "source": [
    "%%time\n",
    "\n",
    "#--- DASHBOARD ---\n",
    "#-- VALUE DYNAMIC KPIS\n",
    "domain001 = dashboard_value(db_all,'Confirmed','001')\n",
    "domain002 = dashboard_value(db_all,'Deaths','002')\n",
    "domain003 = dashboard_value(db_all,'Recovered','003')\n",
    "domain004 = dashboard_value(db_all,'Active cases','004')\n",
    "domain005 = dashboard_value(db_all,\"Fatality Rate\",'005')\n",
    "domain006 = dashboard_value(db_all,\"Recovery Rate\",'006')"
   ]
  },
  {
   "cell_type": "code",
   "execution_count": 11,
   "metadata": {},
   "outputs": [
    {
     "name": "stdout",
     "output_type": "stream",
     "text": [
      "010 successfully saved in 010\n",
      "Dataframe 010 successfully save in database app-wsr in MongoDB. Time: --- 43.1256742477417 secnds ---\n",
      "011 successfully saved in 011\n",
      "Dataframe 011 successfully save in database app-wsr in MongoDB. Time: --- 42.9902560710907 secnds ---\n",
      "012 successfully saved in 012\n",
      "Dataframe 012 successfully save in database app-wsr in MongoDB. Time: --- 43.507179260253906 secnds ---\n",
      "CPU times: user 42.5 s, sys: 2.16 s, total: 44.6 s\n",
      "Wall time: 2min 18s\n"
     ]
    }
   ],
   "source": [
    "%%time\n",
    "\n",
    "#-- LEADERBOARD BY COUNTRIES\n",
    "db_c = db_all[(db_all['ENTITY_GROUPS'] != 'WORLDWIDE')]\n",
    "domain010 = dashboard_leaderboard(db_c,'Confirmed','010')\n",
    "domain011 = dashboard_leaderboard(db_c,'Deaths','011')\n",
    "domain012 = dashboard_leaderboard(db_c,'Recovered','012')"
   ]
  },
  {
   "cell_type": "code",
   "execution_count": 12,
   "metadata": {},
   "outputs": [
    {
     "name": "stdout",
     "output_type": "stream",
     "text": [
      "101 successfully saved in 101\n",
      "Dataframe 101 successfully save in database app-wsr in MongoDB. Time: --- 123.76988315582275 secnds ---\n",
      "CPU times: user 1min 8s, sys: 2.87 s, total: 1min 11s\n",
      "Wall time: 2min 32s\n"
     ]
    }
   ],
   "source": [
    "%%time\n",
    "\n",
    "#-- Covid-19 - TRENDS\n",
    "def domain_101(df,domain_num):\n",
    "#     filters = ['Confirmed','Deaths','Recovered','Active cases','Deaths ratio','Recovered ratio']\n",
    "    filters = ['Confirmed','Deaths','Recovered','Active cases']\n",
    "    domain = df[df['KPI'].isin(filters)]\n",
    "    domain = pd.DataFrame({\n",
    "        'ENTITY': domain['ENTITY'],\n",
    "        'ENTITY_GROUPS': domain['ENTITY_GROUPS'],\n",
    "        'SCENARIO': domain['SCENARIO'],\n",
    "        'DATE_ORDER': domain['DATE_ORDER'],\n",
    "        'GROUPS': domain['KPI'],\n",
    "        'BOTTOM_FILTER': domain['DATE_SCENARIO'],\n",
    "        'UPPER_FILTER_M': domain['METRIC'],\n",
    "        'VALUE': domain['VALUE'],\n",
    "        'UNIT_VALUE': domain['UNIT'],\n",
    "        'PRECISION': domain['PRECISION'],\n",
    "        'LAST_UPDATE': datetime.now().strftime('%d/%m/%Y %H:%M:%S'),\n",
    "    })\n",
    "\n",
    "    #Deconfinement France\n",
    "    groups_name = 'Deconfinement'\n",
    "    df_france = domain.copy()[(domain['ENTITY'] == 'France') & (domain['GROUPS'] == 'Confirmed') & (domain['UPPER_FILTER_M'] == 'VARV')]\n",
    "    df_france.loc[:,'GROUPS'] = groups_name\n",
    "    df_france.loc[:,'VALUE'] = 3000\n",
    "    domain = pd.concat([domain,df_france],axis=0)\n",
    "    \n",
    "    #Rename upper filter\n",
    "    domain.loc[domain['UPPER_FILTER_M'] == 'VALUE','UPPER_FILTER_M'] = 'EVOLUTION'\n",
    "    domain.loc[(domain['UPPER_FILTER_M'] == 'VARV') & (domain['GROUPS'].isin(['Confirmed','Deaths','Recovered','Active cases',groups_name])),'UPPER_FILTER_M'] = 'DAILY VARIATION (CASES)'\n",
    "#     domain.loc[(domain['UPPER_FILTER_M'] == 'VARV') & (domain['GROUPS'].isin(['Deaths ratio','Recovered ratio'])),'UPPER_FILTER_M'] = 'DAILY VARIATION (PTS)'\n",
    "    domain.loc[(domain['UPPER_FILTER_M'] == 'VARP') & (domain['GROUPS'].isin(['Confirmed','Deaths','Recovered','Active cases',groups_name])),'UPPER_FILTER_M'] = 'DAILY VARIATION (%)'\n",
    "#     domain.loc[(domain['UPPER_FILTER_M'] == 'VARP') & (domain['GROUPS'].isin(['Deaths ratio','Recovered ratio'])),'UPPER_FILTER_M'] = ''\n",
    "    \n",
    "    df_to_csv_mongo(domain,domain_num)\n",
    "    df_collection = MONGO_DB[DB_APP][domain_num]\n",
    "    df_collection.create_index([(\"ENTITY\", DESCENDING), (\"UPPER_FILTER_M\", DESCENDING), (\"BOTTOM_FILTER\", DESCENDING)])\n",
    "    domain = optimize(domain, ['LAST_UPDATE'])\n",
    "    return domain\n",
    "\n",
    "domain101 = domain_101(db_trend,'101')\n",
    "# domain101"
   ]
  },
  {
   "cell_type": "code",
   "execution_count": 16,
   "metadata": {},
   "outputs": [
    {
     "name": "stdout",
     "output_type": "stream",
     "text": [
      "<class 'pandas.core.frame.DataFrame'>\n",
      "RangeIndex: 3145824 entries, 0 to 3145823\n",
      "Data columns (total 12 columns):\n",
      " #   Column         Dtype  \n",
      "---  ------         -----  \n",
      " 0   ENTITY_GROUPS  object \n",
      " 1   ENTITY         object \n",
      " 2   SCENARIO       object \n",
      " 3   DATE           object \n",
      " 4   DATE_ORDER     int64  \n",
      " 5   KPI            object \n",
      " 6   METRIC         object \n",
      " 7   VALUE          float64\n",
      " 8   DATE_SCENARIO  object \n",
      " 9   KPI_ORDER      float64\n",
      " 10  UNIT           object \n",
      " 11  PRECISION      object \n",
      "dtypes: float64(2), int64(1), object(9)\n",
      "memory usage: 288.0+ MB\n",
      "<class 'pandas.core.frame.DataFrame'>\n",
      "Int64Index: 2097878 entries, 0 to 3139751\n",
      "Data columns (total 11 columns):\n",
      " #   Column          Dtype         \n",
      "---  ------          -----         \n",
      " 0   ENTITY          category      \n",
      " 1   ENTITY_GROUPS   category      \n",
      " 2   SCENARIO        category      \n",
      " 3   DATE_ORDER      int32         \n",
      " 4   GROUPS          category      \n",
      " 5   BOTTOM_FILTER   category      \n",
      " 6   UPPER_FILTER_M  category      \n",
      " 7   VALUE           float32       \n",
      " 8   UNIT_VALUE      category      \n",
      " 9   PRECISION       category      \n",
      " 10  LAST_UPDATE     datetime64[ns]\n",
      "dtypes: category(8), datetime64[ns](1), float32(1), int32(1)\n",
      "memory usage: 70.1 MB\n"
     ]
    }
   ],
   "source": [
    "db_trend.info()\n",
    "domain101.info()"
   ]
  },
  {
   "cell_type": "code",
   "execution_count": 17,
   "metadata": {},
   "outputs": [
    {
     "data": {
      "text/html": [
       "<div>\n",
       "<style scoped>\n",
       "    .dataframe tbody tr th:only-of-type {\n",
       "        vertical-align: middle;\n",
       "    }\n",
       "\n",
       "    .dataframe tbody tr th {\n",
       "        vertical-align: top;\n",
       "    }\n",
       "\n",
       "    .dataframe thead th {\n",
       "        text-align: right;\n",
       "    }\n",
       "</style>\n",
       "<table border=\"1\" class=\"dataframe\">\n",
       "  <thead>\n",
       "    <tr style=\"text-align: right;\">\n",
       "      <th></th>\n",
       "      <th>ENTITY</th>\n",
       "      <th>ENTITY_GROUPS</th>\n",
       "      <th>SCENARIO</th>\n",
       "      <th>DATE_ORDER</th>\n",
       "      <th>GROUPS</th>\n",
       "      <th>BOTTOM_FILTER</th>\n",
       "      <th>UPPER_FILTER_M</th>\n",
       "      <th>VALUE</th>\n",
       "      <th>UNIT_VALUE</th>\n",
       "      <th>PRECISION</th>\n",
       "      <th>LAST_UPDATE</th>\n",
       "    </tr>\n",
       "  </thead>\n",
       "  <tbody>\n",
       "    <tr>\n",
       "      <th>0</th>\n",
       "      <td>0</td>\n",
       "      <td>0</td>\n",
       "      <td>22/01/2020</td>\n",
       "      <td>20200122</td>\n",
       "      <td>Confirmed</td>\n",
       "      <td>Since beginning</td>\n",
       "      <td>EVOLUTION</td>\n",
       "      <td>0.0</td>\n",
       "      <td>cases</td>\n",
       "      <td>,.0f</td>\n",
       "      <td>2020-04-11 11:56:16</td>\n",
       "    </tr>\n",
       "    <tr>\n",
       "      <th>1</th>\n",
       "      <td>0</td>\n",
       "      <td>0</td>\n",
       "      <td>23/01/2020</td>\n",
       "      <td>20200123</td>\n",
       "      <td>Confirmed</td>\n",
       "      <td>Since beginning</td>\n",
       "      <td>EVOLUTION</td>\n",
       "      <td>0.0</td>\n",
       "      <td>cases</td>\n",
       "      <td>,.0f</td>\n",
       "      <td>2020-04-11 11:56:16</td>\n",
       "    </tr>\n",
       "    <tr>\n",
       "      <th>2</th>\n",
       "      <td>0</td>\n",
       "      <td>0</td>\n",
       "      <td>24/01/2020</td>\n",
       "      <td>20200124</td>\n",
       "      <td>Confirmed</td>\n",
       "      <td>Since beginning</td>\n",
       "      <td>EVOLUTION</td>\n",
       "      <td>0.0</td>\n",
       "      <td>cases</td>\n",
       "      <td>,.0f</td>\n",
       "      <td>2020-04-11 11:56:16</td>\n",
       "    </tr>\n",
       "    <tr>\n",
       "      <th>3</th>\n",
       "      <td>0</td>\n",
       "      <td>0</td>\n",
       "      <td>25/01/2020</td>\n",
       "      <td>20200125</td>\n",
       "      <td>Confirmed</td>\n",
       "      <td>Since beginning</td>\n",
       "      <td>EVOLUTION</td>\n",
       "      <td>0.0</td>\n",
       "      <td>cases</td>\n",
       "      <td>,.0f</td>\n",
       "      <td>2020-04-11 11:56:16</td>\n",
       "    </tr>\n",
       "    <tr>\n",
       "      <th>4</th>\n",
       "      <td>0</td>\n",
       "      <td>0</td>\n",
       "      <td>26/01/2020</td>\n",
       "      <td>20200126</td>\n",
       "      <td>Confirmed</td>\n",
       "      <td>Since beginning</td>\n",
       "      <td>EVOLUTION</td>\n",
       "      <td>0.0</td>\n",
       "      <td>cases</td>\n",
       "      <td>,.0f</td>\n",
       "      <td>2020-04-11 11:56:16</td>\n",
       "    </tr>\n",
       "    <tr>\n",
       "      <th>...</th>\n",
       "      <td>...</td>\n",
       "      <td>...</td>\n",
       "      <td>...</td>\n",
       "      <td>...</td>\n",
       "      <td>...</td>\n",
       "      <td>...</td>\n",
       "      <td>...</td>\n",
       "      <td>...</td>\n",
       "      <td>...</td>\n",
       "      <td>...</td>\n",
       "      <td>...</td>\n",
       "    </tr>\n",
       "    <tr>\n",
       "      <th>3120743</th>\n",
       "      <td>France</td>\n",
       "      <td>France</td>\n",
       "      <td>07/10/2020</td>\n",
       "      <td>20201007</td>\n",
       "      <td>Deconfinement</td>\n",
       "      <td>Last 30 days</td>\n",
       "      <td>DAILY VARIATION (CASES)</td>\n",
       "      <td>3000.0</td>\n",
       "      <td>cases</td>\n",
       "      <td>+,.0f</td>\n",
       "      <td>2020-04-11 11:56:16</td>\n",
       "    </tr>\n",
       "    <tr>\n",
       "      <th>3130209</th>\n",
       "      <td>France</td>\n",
       "      <td>Europe</td>\n",
       "      <td>06/10/2020</td>\n",
       "      <td>20201006</td>\n",
       "      <td>Deconfinement</td>\n",
       "      <td>Last 30 days</td>\n",
       "      <td>DAILY VARIATION (CASES)</td>\n",
       "      <td>3000.0</td>\n",
       "      <td>cases</td>\n",
       "      <td>+,.0f</td>\n",
       "      <td>2020-04-11 11:56:16</td>\n",
       "    </tr>\n",
       "    <tr>\n",
       "      <th>3130247</th>\n",
       "      <td>France</td>\n",
       "      <td>France</td>\n",
       "      <td>06/10/2020</td>\n",
       "      <td>20201006</td>\n",
       "      <td>Deconfinement</td>\n",
       "      <td>Last 30 days</td>\n",
       "      <td>DAILY VARIATION (CASES)</td>\n",
       "      <td>3000.0</td>\n",
       "      <td>cases</td>\n",
       "      <td>+,.0f</td>\n",
       "      <td>2020-04-11 11:56:16</td>\n",
       "    </tr>\n",
       "    <tr>\n",
       "      <th>3139713</th>\n",
       "      <td>France</td>\n",
       "      <td>Europe</td>\n",
       "      <td>05/10/2020</td>\n",
       "      <td>20201005</td>\n",
       "      <td>Deconfinement</td>\n",
       "      <td>Last 30 days</td>\n",
       "      <td>DAILY VARIATION (CASES)</td>\n",
       "      <td>3000.0</td>\n",
       "      <td>cases</td>\n",
       "      <td>+,.0f</td>\n",
       "      <td>2020-04-11 11:56:16</td>\n",
       "    </tr>\n",
       "    <tr>\n",
       "      <th>3139751</th>\n",
       "      <td>France</td>\n",
       "      <td>France</td>\n",
       "      <td>05/10/2020</td>\n",
       "      <td>20201005</td>\n",
       "      <td>Deconfinement</td>\n",
       "      <td>Last 30 days</td>\n",
       "      <td>DAILY VARIATION (CASES)</td>\n",
       "      <td>3000.0</td>\n",
       "      <td>cases</td>\n",
       "      <td>+,.0f</td>\n",
       "      <td>2020-04-11 11:56:16</td>\n",
       "    </tr>\n",
       "  </tbody>\n",
       "</table>\n",
       "<p>2097878 rows × 11 columns</p>\n",
       "</div>"
      ],
      "text/plain": [
       "         ENTITY ENTITY_GROUPS    SCENARIO  DATE_ORDER         GROUPS  \\\n",
       "0             0             0  22/01/2020    20200122      Confirmed   \n",
       "1             0             0  23/01/2020    20200123      Confirmed   \n",
       "2             0             0  24/01/2020    20200124      Confirmed   \n",
       "3             0             0  25/01/2020    20200125      Confirmed   \n",
       "4             0             0  26/01/2020    20200126      Confirmed   \n",
       "...         ...           ...         ...         ...            ...   \n",
       "3120743  France        France  07/10/2020    20201007  Deconfinement   \n",
       "3130209  France        Europe  06/10/2020    20201006  Deconfinement   \n",
       "3130247  France        France  06/10/2020    20201006  Deconfinement   \n",
       "3139713  France        Europe  05/10/2020    20201005  Deconfinement   \n",
       "3139751  France        France  05/10/2020    20201005  Deconfinement   \n",
       "\n",
       "           BOTTOM_FILTER           UPPER_FILTER_M   VALUE UNIT_VALUE  \\\n",
       "0        Since beginning                EVOLUTION     0.0      cases   \n",
       "1        Since beginning                EVOLUTION     0.0      cases   \n",
       "2        Since beginning                EVOLUTION     0.0      cases   \n",
       "3        Since beginning                EVOLUTION     0.0      cases   \n",
       "4        Since beginning                EVOLUTION     0.0      cases   \n",
       "...                  ...                      ...     ...        ...   \n",
       "3120743     Last 30 days  DAILY VARIATION (CASES)  3000.0      cases   \n",
       "3130209     Last 30 days  DAILY VARIATION (CASES)  3000.0      cases   \n",
       "3130247     Last 30 days  DAILY VARIATION (CASES)  3000.0      cases   \n",
       "3139713     Last 30 days  DAILY VARIATION (CASES)  3000.0      cases   \n",
       "3139751     Last 30 days  DAILY VARIATION (CASES)  3000.0      cases   \n",
       "\n",
       "        PRECISION         LAST_UPDATE  \n",
       "0            ,.0f 2020-04-11 11:56:16  \n",
       "1            ,.0f 2020-04-11 11:56:16  \n",
       "2            ,.0f 2020-04-11 11:56:16  \n",
       "3            ,.0f 2020-04-11 11:56:16  \n",
       "4            ,.0f 2020-04-11 11:56:16  \n",
       "...           ...                 ...  \n",
       "3120743     +,.0f 2020-04-11 11:56:16  \n",
       "3130209     +,.0f 2020-04-11 11:56:16  \n",
       "3130247     +,.0f 2020-04-11 11:56:16  \n",
       "3139713     +,.0f 2020-04-11 11:56:16  \n",
       "3139751     +,.0f 2020-04-11 11:56:16  \n",
       "\n",
       "[2097878 rows x 11 columns]"
      ]
     },
     "execution_count": 17,
     "metadata": {},
     "output_type": "execute_result"
    }
   ],
   "source": [
    "domain101"
   ]
  },
  {
   "cell_type": "code",
   "execution_count": 19,
   "metadata": {},
   "outputs": [
    {
     "name": "stdout",
     "output_type": "stream",
     "text": [
      "102 successfully saved in 102\n",
      "Dataframe 102 successfully save in database app-wsr in MongoDB. Time: --- 3.488053798675537 secnds ---\n",
      "CPU times: user 2.42 s, sys: 32.2 ms, total: 2.46 s\n",
      "Wall time: 5.89 s\n"
     ]
    },
    {
     "data": {
      "text/html": [
       "<div>\n",
       "<style scoped>\n",
       "    .dataframe tbody tr th:only-of-type {\n",
       "        vertical-align: middle;\n",
       "    }\n",
       "\n",
       "    .dataframe tbody tr th {\n",
       "        vertical-align: top;\n",
       "    }\n",
       "\n",
       "    .dataframe thead th {\n",
       "        text-align: right;\n",
       "    }\n",
       "</style>\n",
       "<table border=\"1\" class=\"dataframe\">\n",
       "  <thead>\n",
       "    <tr style=\"text-align: right;\">\n",
       "      <th></th>\n",
       "      <th>ENTITY</th>\n",
       "      <th>ENTITY_GROUPS</th>\n",
       "      <th>SCENARIO</th>\n",
       "      <th>DATE_ORDER</th>\n",
       "      <th>GROUPS</th>\n",
       "      <th>BOTTOM_FILTER</th>\n",
       "      <th>UPPER_FILTER_M</th>\n",
       "      <th>VALUE</th>\n",
       "      <th>UNIT_VALUE</th>\n",
       "      <th>PRECISION</th>\n",
       "      <th>LAST_UPDATE</th>\n",
       "      <th>ENTITY_ORDER</th>\n",
       "    </tr>\n",
       "  </thead>\n",
       "  <tbody>\n",
       "    <tr>\n",
       "      <th>0</th>\n",
       "      <td>Argentina</td>\n",
       "      <td>Argentina</td>\n",
       "      <td>22/01/2020</td>\n",
       "      <td>20200122</td>\n",
       "      <td>Confirmed</td>\n",
       "      <td>Since beginning</td>\n",
       "      <td>EVOLUTION</td>\n",
       "      <td>0.0</td>\n",
       "      <td>cases</td>\n",
       "      <td>,.0f</td>\n",
       "      <td>2020-04-11 11:56:16</td>\n",
       "      <td>6</td>\n",
       "    </tr>\n",
       "    <tr>\n",
       "      <th>1</th>\n",
       "      <td>Argentina</td>\n",
       "      <td>Argentina</td>\n",
       "      <td>23/01/2020</td>\n",
       "      <td>20200123</td>\n",
       "      <td>Confirmed</td>\n",
       "      <td>Since beginning</td>\n",
       "      <td>EVOLUTION</td>\n",
       "      <td>0.0</td>\n",
       "      <td>cases</td>\n",
       "      <td>,.0f</td>\n",
       "      <td>2020-04-11 11:56:16</td>\n",
       "      <td>6</td>\n",
       "    </tr>\n",
       "    <tr>\n",
       "      <th>2</th>\n",
       "      <td>Argentina</td>\n",
       "      <td>Argentina</td>\n",
       "      <td>24/01/2020</td>\n",
       "      <td>20200124</td>\n",
       "      <td>Confirmed</td>\n",
       "      <td>Since beginning</td>\n",
       "      <td>EVOLUTION</td>\n",
       "      <td>0.0</td>\n",
       "      <td>cases</td>\n",
       "      <td>,.0f</td>\n",
       "      <td>2020-04-11 11:56:16</td>\n",
       "      <td>6</td>\n",
       "    </tr>\n",
       "    <tr>\n",
       "      <th>3</th>\n",
       "      <td>Argentina</td>\n",
       "      <td>Argentina</td>\n",
       "      <td>25/01/2020</td>\n",
       "      <td>20200125</td>\n",
       "      <td>Confirmed</td>\n",
       "      <td>Since beginning</td>\n",
       "      <td>EVOLUTION</td>\n",
       "      <td>0.0</td>\n",
       "      <td>cases</td>\n",
       "      <td>,.0f</td>\n",
       "      <td>2020-04-11 11:56:16</td>\n",
       "      <td>6</td>\n",
       "    </tr>\n",
       "    <tr>\n",
       "      <th>4</th>\n",
       "      <td>Argentina</td>\n",
       "      <td>Argentina</td>\n",
       "      <td>26/01/2020</td>\n",
       "      <td>20200126</td>\n",
       "      <td>Confirmed</td>\n",
       "      <td>Since beginning</td>\n",
       "      <td>EVOLUTION</td>\n",
       "      <td>0.0</td>\n",
       "      <td>cases</td>\n",
       "      <td>,.0f</td>\n",
       "      <td>2020-04-11 11:56:16</td>\n",
       "      <td>6</td>\n",
       "    </tr>\n",
       "    <tr>\n",
       "      <th>...</th>\n",
       "      <td>...</td>\n",
       "      <td>...</td>\n",
       "      <td>...</td>\n",
       "      <td>...</td>\n",
       "      <td>...</td>\n",
       "      <td>...</td>\n",
       "      <td>...</td>\n",
       "      <td>...</td>\n",
       "      <td>...</td>\n",
       "      <td>...</td>\n",
       "      <td>...</td>\n",
       "      <td>...</td>\n",
       "    </tr>\n",
       "    <tr>\n",
       "      <th>80097</th>\n",
       "      <td>France</td>\n",
       "      <td>France</td>\n",
       "      <td>07/10/2020</td>\n",
       "      <td>20201007</td>\n",
       "      <td>Deconfinement</td>\n",
       "      <td>Last 30 days</td>\n",
       "      <td>DAILY VARIATION (CASES)</td>\n",
       "      <td>3000.0</td>\n",
       "      <td>cases</td>\n",
       "      <td>+,.0f</td>\n",
       "      <td>2020-04-11 11:56:16</td>\n",
       "      <td>4</td>\n",
       "    </tr>\n",
       "    <tr>\n",
       "      <th>80098</th>\n",
       "      <td>France</td>\n",
       "      <td>Europe</td>\n",
       "      <td>06/10/2020</td>\n",
       "      <td>20201006</td>\n",
       "      <td>Deconfinement</td>\n",
       "      <td>Last 30 days</td>\n",
       "      <td>DAILY VARIATION (CASES)</td>\n",
       "      <td>3000.0</td>\n",
       "      <td>cases</td>\n",
       "      <td>+,.0f</td>\n",
       "      <td>2020-04-11 11:56:16</td>\n",
       "      <td>4</td>\n",
       "    </tr>\n",
       "    <tr>\n",
       "      <th>80099</th>\n",
       "      <td>France</td>\n",
       "      <td>France</td>\n",
       "      <td>06/10/2020</td>\n",
       "      <td>20201006</td>\n",
       "      <td>Deconfinement</td>\n",
       "      <td>Last 30 days</td>\n",
       "      <td>DAILY VARIATION (CASES)</td>\n",
       "      <td>3000.0</td>\n",
       "      <td>cases</td>\n",
       "      <td>+,.0f</td>\n",
       "      <td>2020-04-11 11:56:16</td>\n",
       "      <td>4</td>\n",
       "    </tr>\n",
       "    <tr>\n",
       "      <th>80100</th>\n",
       "      <td>France</td>\n",
       "      <td>Europe</td>\n",
       "      <td>05/10/2020</td>\n",
       "      <td>20201005</td>\n",
       "      <td>Deconfinement</td>\n",
       "      <td>Last 30 days</td>\n",
       "      <td>DAILY VARIATION (CASES)</td>\n",
       "      <td>3000.0</td>\n",
       "      <td>cases</td>\n",
       "      <td>+,.0f</td>\n",
       "      <td>2020-04-11 11:56:16</td>\n",
       "      <td>4</td>\n",
       "    </tr>\n",
       "    <tr>\n",
       "      <th>80101</th>\n",
       "      <td>France</td>\n",
       "      <td>France</td>\n",
       "      <td>05/10/2020</td>\n",
       "      <td>20201005</td>\n",
       "      <td>Deconfinement</td>\n",
       "      <td>Last 30 days</td>\n",
       "      <td>DAILY VARIATION (CASES)</td>\n",
       "      <td>3000.0</td>\n",
       "      <td>cases</td>\n",
       "      <td>+,.0f</td>\n",
       "      <td>2020-04-11 11:56:16</td>\n",
       "      <td>4</td>\n",
       "    </tr>\n",
       "  </tbody>\n",
       "</table>\n",
       "<p>80102 rows × 12 columns</p>\n",
       "</div>"
      ],
      "text/plain": [
       "          ENTITY ENTITY_GROUPS    SCENARIO  DATE_ORDER         GROUPS  \\\n",
       "0      Argentina     Argentina  22/01/2020    20200122      Confirmed   \n",
       "1      Argentina     Argentina  23/01/2020    20200123      Confirmed   \n",
       "2      Argentina     Argentina  24/01/2020    20200124      Confirmed   \n",
       "3      Argentina     Argentina  25/01/2020    20200125      Confirmed   \n",
       "4      Argentina     Argentina  26/01/2020    20200126      Confirmed   \n",
       "...          ...           ...         ...         ...            ...   \n",
       "80097     France        France  07/10/2020    20201007  Deconfinement   \n",
       "80098     France        Europe  06/10/2020    20201006  Deconfinement   \n",
       "80099     France        France  06/10/2020    20201006  Deconfinement   \n",
       "80100     France        Europe  05/10/2020    20201005  Deconfinement   \n",
       "80101     France        France  05/10/2020    20201005  Deconfinement   \n",
       "\n",
       "         BOTTOM_FILTER           UPPER_FILTER_M   VALUE UNIT_VALUE PRECISION  \\\n",
       "0      Since beginning                EVOLUTION     0.0      cases      ,.0f   \n",
       "1      Since beginning                EVOLUTION     0.0      cases      ,.0f   \n",
       "2      Since beginning                EVOLUTION     0.0      cases      ,.0f   \n",
       "3      Since beginning                EVOLUTION     0.0      cases      ,.0f   \n",
       "4      Since beginning                EVOLUTION     0.0      cases      ,.0f   \n",
       "...                ...                      ...     ...        ...       ...   \n",
       "80097     Last 30 days  DAILY VARIATION (CASES)  3000.0      cases     +,.0f   \n",
       "80098     Last 30 days  DAILY VARIATION (CASES)  3000.0      cases     +,.0f   \n",
       "80099     Last 30 days  DAILY VARIATION (CASES)  3000.0      cases     +,.0f   \n",
       "80100     Last 30 days  DAILY VARIATION (CASES)  3000.0      cases     +,.0f   \n",
       "80101     Last 30 days  DAILY VARIATION (CASES)  3000.0      cases     +,.0f   \n",
       "\n",
       "              LAST_UPDATE  ENTITY_ORDER  \n",
       "0     2020-04-11 11:56:16             6  \n",
       "1     2020-04-11 11:56:16             6  \n",
       "2     2020-04-11 11:56:16             6  \n",
       "3     2020-04-11 11:56:16             6  \n",
       "4     2020-04-11 11:56:16             6  \n",
       "...                   ...           ...  \n",
       "80097 2020-04-11 11:56:16             4  \n",
       "80098 2020-04-11 11:56:16             4  \n",
       "80099 2020-04-11 11:56:16             4  \n",
       "80100 2020-04-11 11:56:16             4  \n",
       "80101 2020-04-11 11:56:16             4  \n",
       "\n",
       "[80102 rows x 12 columns]"
      ]
     },
     "execution_count": 19,
     "metadata": {},
     "output_type": "execute_result"
    }
   ],
   "source": [
    "%%time\n",
    "\n",
    "#-- Covid-19 - TRENDS BY COUNTRIES\n",
    "def domain_102(df,domain_num):\n",
    "    domain = df.copy()\n",
    "    max_date = domain['DATE_ORDER'].max()\n",
    "    \n",
    "    filters =  ['Europe','Asia','Africa','North America','South America','Oceania','Other','To be affected']\n",
    "    countries_df = domain[(domain['ENTITY_GROUPS'].isin(filters)) & (domain['DATE_ORDER'] == max_date) & (domain['GROUPS'] == 'Confirmed') & (domain['BOTTOM_FILTER'] == 'Since beginning')].sort_values(by= 'VALUE', ascending=False).drop_duplicates().reset_index(drop=True)[:10]#['ENTITY'].drop_duplicates().values.tolist()[:10]\n",
    "    countries_df['ENTITY_ORDER'] = countries_df.index\n",
    "    countries_df = countries_df[['ENTITY','ENTITY_ORDER']]\n",
    "    \n",
    "    countries = countries_df['ENTITY'].values.tolist()\n",
    "    \n",
    "    domain = domain[(domain['ENTITY_GROUPS'] != \"WORLDWIDE\") & (domain['ENTITY'].isin(countries))]\n",
    "    domain = pd.merge(domain,countries_df, on=['ENTITY'], how='left')\n",
    "\n",
    "    df_to_csv_mongo(domain,domain_num)\n",
    "    df_collection = MONGO_DB[DB_APP][domain_num]\n",
    "    df_collection.create_index([(\"GROUPS\", ASCENDING), (\"UPPER_FILTER_M\", DESCENDING), (\"BOTTOM_FILTER\", DESCENDING)])\n",
    "    domain = optimize(domain, ['LAST_UPDATE'])\n",
    "    return domain\n",
    "    \n",
    "domain_102(domain101,'102')\n",
    "# domain102 = domain_102(domain101,'102')\n",
    "# domain102"
   ]
  },
  {
   "cell_type": "code",
   "execution_count": 20,
   "metadata": {},
   "outputs": [
    {
     "name": "stdout",
     "output_type": "stream",
     "text": [
      "103 successfully saved in 103\n",
      "Dataframe 103 successfully save in database app-wsr in MongoDB. Time: --- 105.39439129829407 secnds ---\n",
      "CPU times: user 50.9 s, sys: 1.84 s, total: 52.7 s\n",
      "Wall time: 2min 8s\n"
     ]
    },
    {
     "data": {
      "text/html": [
       "<div>\n",
       "<style scoped>\n",
       "    .dataframe tbody tr th:only-of-type {\n",
       "        vertical-align: middle;\n",
       "    }\n",
       "\n",
       "    .dataframe tbody tr th {\n",
       "        vertical-align: top;\n",
       "    }\n",
       "\n",
       "    .dataframe thead th {\n",
       "        text-align: right;\n",
       "    }\n",
       "</style>\n",
       "<table border=\"1\" class=\"dataframe\">\n",
       "  <thead>\n",
       "    <tr style=\"text-align: right;\">\n",
       "      <th></th>\n",
       "      <th>ENTITY</th>\n",
       "      <th>LABEL</th>\n",
       "      <th>KPI</th>\n",
       "      <th>VALUE</th>\n",
       "      <th>VALUE_D-1</th>\n",
       "      <th>VAR</th>\n",
       "      <th>VARP</th>\n",
       "      <th>SCENARIO</th>\n",
       "      <th>DATE_ORDER</th>\n",
       "      <th>UNIT_VALUE</th>\n",
       "      <th>WORLDMAP</th>\n",
       "      <th>WORLDMAP_CS</th>\n",
       "      <th>CONTINENT_CS</th>\n",
       "    </tr>\n",
       "  </thead>\n",
       "  <tbody>\n",
       "    <tr>\n",
       "      <th>0</th>\n",
       "      <td>0</td>\n",
       "      <td>0</td>\n",
       "      <td>Confirmed</td>\n",
       "      <td>0.000000</td>\n",
       "      <td>0.000000</td>\n",
       "      <td>0.000000</td>\n",
       "      <td>NaN</td>\n",
       "      <td>22/01/2020</td>\n",
       "      <td>20200122</td>\n",
       "      <td>cases</td>\n",
       "      <td>NaN</td>\n",
       "      <td>NaN</td>\n",
       "      <td>NaN</td>\n",
       "    </tr>\n",
       "    <tr>\n",
       "      <th>1</th>\n",
       "      <td>0</td>\n",
       "      <td>0</td>\n",
       "      <td>Confirmed</td>\n",
       "      <td>0.000000</td>\n",
       "      <td>0.000000</td>\n",
       "      <td>0.000000</td>\n",
       "      <td>NaN</td>\n",
       "      <td>23/01/2020</td>\n",
       "      <td>20200123</td>\n",
       "      <td>cases</td>\n",
       "      <td>NaN</td>\n",
       "      <td>NaN</td>\n",
       "      <td>NaN</td>\n",
       "    </tr>\n",
       "    <tr>\n",
       "      <th>2</th>\n",
       "      <td>0</td>\n",
       "      <td>0</td>\n",
       "      <td>Confirmed</td>\n",
       "      <td>0.000000</td>\n",
       "      <td>0.000000</td>\n",
       "      <td>0.000000</td>\n",
       "      <td>NaN</td>\n",
       "      <td>24/01/2020</td>\n",
       "      <td>20200124</td>\n",
       "      <td>cases</td>\n",
       "      <td>NaN</td>\n",
       "      <td>NaN</td>\n",
       "      <td>NaN</td>\n",
       "    </tr>\n",
       "    <tr>\n",
       "      <th>3</th>\n",
       "      <td>0</td>\n",
       "      <td>0</td>\n",
       "      <td>Confirmed</td>\n",
       "      <td>0.000000</td>\n",
       "      <td>0.000000</td>\n",
       "      <td>0.000000</td>\n",
       "      <td>NaN</td>\n",
       "      <td>25/01/2020</td>\n",
       "      <td>20200125</td>\n",
       "      <td>cases</td>\n",
       "      <td>NaN</td>\n",
       "      <td>NaN</td>\n",
       "      <td>NaN</td>\n",
       "    </tr>\n",
       "    <tr>\n",
       "      <th>4</th>\n",
       "      <td>0</td>\n",
       "      <td>0</td>\n",
       "      <td>Confirmed</td>\n",
       "      <td>0.000000</td>\n",
       "      <td>0.000000</td>\n",
       "      <td>0.000000</td>\n",
       "      <td>NaN</td>\n",
       "      <td>26/01/2020</td>\n",
       "      <td>20200126</td>\n",
       "      <td>cases</td>\n",
       "      <td>NaN</td>\n",
       "      <td>NaN</td>\n",
       "      <td>NaN</td>\n",
       "    </tr>\n",
       "    <tr>\n",
       "      <th>...</th>\n",
       "      <td>...</td>\n",
       "      <td>...</td>\n",
       "      <td>...</td>\n",
       "      <td>...</td>\n",
       "      <td>...</td>\n",
       "      <td>...</td>\n",
       "      <td>...</td>\n",
       "      <td>...</td>\n",
       "      <td>...</td>\n",
       "      <td>...</td>\n",
       "      <td>...</td>\n",
       "      <td>...</td>\n",
       "      <td>...</td>\n",
       "    </tr>\n",
       "    <tr>\n",
       "      <th>1238113</th>\n",
       "      <td>WORLDWIDE</td>\n",
       "      <td>Solomon Islands</td>\n",
       "      <td>Recovery Rate</td>\n",
       "      <td>50.000000</td>\n",
       "      <td>50.000000</td>\n",
       "      <td>0.000000</td>\n",
       "      <td>NaN</td>\n",
       "      <td>30/10/2020</td>\n",
       "      <td>20201030</td>\n",
       "      <td>%</td>\n",
       "      <td>NaN</td>\n",
       "      <td>NaN</td>\n",
       "      <td>NaN</td>\n",
       "    </tr>\n",
       "    <tr>\n",
       "      <th>1238114</th>\n",
       "      <td>WORLDWIDE</td>\n",
       "      <td>Solomon Islands</td>\n",
       "      <td>Recovery Rate</td>\n",
       "      <td>50.000000</td>\n",
       "      <td>50.000000</td>\n",
       "      <td>0.000000</td>\n",
       "      <td>NaN</td>\n",
       "      <td>31/10/2020</td>\n",
       "      <td>20201031</td>\n",
       "      <td>%</td>\n",
       "      <td>NaN</td>\n",
       "      <td>NaN</td>\n",
       "      <td>NaN</td>\n",
       "    </tr>\n",
       "    <tr>\n",
       "      <th>1238115</th>\n",
       "      <td>WORLDWIDE</td>\n",
       "      <td>Solomon Islands</td>\n",
       "      <td>Recovery Rate</td>\n",
       "      <td>50.000000</td>\n",
       "      <td>50.000000</td>\n",
       "      <td>0.000000</td>\n",
       "      <td>NaN</td>\n",
       "      <td>01/11/2020</td>\n",
       "      <td>20201101</td>\n",
       "      <td>%</td>\n",
       "      <td>NaN</td>\n",
       "      <td>NaN</td>\n",
       "      <td>NaN</td>\n",
       "    </tr>\n",
       "    <tr>\n",
       "      <th>1238116</th>\n",
       "      <td>WORLDWIDE</td>\n",
       "      <td>Solomon Islands</td>\n",
       "      <td>Recovery Rate</td>\n",
       "      <td>30.769231</td>\n",
       "      <td>50.000000</td>\n",
       "      <td>-19.230769</td>\n",
       "      <td>NaN</td>\n",
       "      <td>02/11/2020</td>\n",
       "      <td>20201102</td>\n",
       "      <td>%</td>\n",
       "      <td>NaN</td>\n",
       "      <td>NaN</td>\n",
       "      <td>NaN</td>\n",
       "    </tr>\n",
       "    <tr>\n",
       "      <th>1238117</th>\n",
       "      <td>WORLDWIDE</td>\n",
       "      <td>Solomon Islands</td>\n",
       "      <td>Recovery Rate</td>\n",
       "      <td>30.769231</td>\n",
       "      <td>30.769231</td>\n",
       "      <td>0.000000</td>\n",
       "      <td>NaN</td>\n",
       "      <td>03/11/2020</td>\n",
       "      <td>20201103</td>\n",
       "      <td>%</td>\n",
       "      <td>NaN</td>\n",
       "      <td>NaN</td>\n",
       "      <td>NaN</td>\n",
       "    </tr>\n",
       "  </tbody>\n",
       "</table>\n",
       "<p>1238118 rows × 13 columns</p>\n",
       "</div>"
      ],
      "text/plain": [
       "            ENTITY            LABEL            KPI      VALUE  VALUE_D-1  \\\n",
       "0                0                0      Confirmed   0.000000   0.000000   \n",
       "1                0                0      Confirmed   0.000000   0.000000   \n",
       "2                0                0      Confirmed   0.000000   0.000000   \n",
       "3                0                0      Confirmed   0.000000   0.000000   \n",
       "4                0                0      Confirmed   0.000000   0.000000   \n",
       "...            ...              ...            ...        ...        ...   \n",
       "1238113  WORLDWIDE  Solomon Islands  Recovery Rate  50.000000  50.000000   \n",
       "1238114  WORLDWIDE  Solomon Islands  Recovery Rate  50.000000  50.000000   \n",
       "1238115  WORLDWIDE  Solomon Islands  Recovery Rate  50.000000  50.000000   \n",
       "1238116  WORLDWIDE  Solomon Islands  Recovery Rate  30.769231  50.000000   \n",
       "1238117  WORLDWIDE  Solomon Islands  Recovery Rate  30.769231  30.769231   \n",
       "\n",
       "               VAR  VARP    SCENARIO  DATE_ORDER UNIT_VALUE WORLDMAP  \\\n",
       "0         0.000000   NaN  22/01/2020    20200122      cases      NaN   \n",
       "1         0.000000   NaN  23/01/2020    20200123      cases      NaN   \n",
       "2         0.000000   NaN  24/01/2020    20200124      cases      NaN   \n",
       "3         0.000000   NaN  25/01/2020    20200125      cases      NaN   \n",
       "4         0.000000   NaN  26/01/2020    20200126      cases      NaN   \n",
       "...            ...   ...         ...         ...        ...      ...   \n",
       "1238113   0.000000   NaN  30/10/2020    20201030          %      NaN   \n",
       "1238114   0.000000   NaN  31/10/2020    20201031          %      NaN   \n",
       "1238115   0.000000   NaN  01/11/2020    20201101          %      NaN   \n",
       "1238116 -19.230769   NaN  02/11/2020    20201102          %      NaN   \n",
       "1238117   0.000000   NaN  03/11/2020    20201103          %      NaN   \n",
       "\n",
       "        WORLDMAP_CS CONTINENT_CS  \n",
       "0               NaN          NaN  \n",
       "1               NaN          NaN  \n",
       "2               NaN          NaN  \n",
       "3               NaN          NaN  \n",
       "4               NaN          NaN  \n",
       "...             ...          ...  \n",
       "1238113         NaN          NaN  \n",
       "1238114         NaN          NaN  \n",
       "1238115         NaN          NaN  \n",
       "1238116         NaN          NaN  \n",
       "1238117         NaN          NaN  \n",
       "\n",
       "[1238118 rows x 13 columns]"
      ]
     },
     "execution_count": 20,
     "metadata": {},
     "output_type": "execute_result"
    }
   ],
   "source": [
    "%%time\n",
    "\n",
    "#-- Covid-19 - RANKING BY COUNTRIES\n",
    "#-> Referentials\n",
    "ref_continent = pd.read_excel(REF_WSR_PATH, sheet_name='REF_CONTINENT')\n",
    "def domain_103(df,ref,domain_num):\n",
    "    domain = df.copy()\n",
    "    cols_to_rename = {\"LABEL\": \"KPI\",\"ENTITY\": \"LABEL\", \"ENTITY_GROUPS\":\"ENTITY\", \"VARV\":\"VAR\"}\n",
    "    domain = get_ww(domain.drop(['DATE','UNIT_VAR','UNIT_VARP','PRECISION_VALUE','PRECISION_VAR','PRECISION_VARP'],axis=1).rename(index=str, columns=cols_to_rename).reset_index(drop=True))\n",
    "    domain = pd.merge(domain, ref, left_on=['LABEL'], right_on=['COUNTRY_REGION'], how='left').drop(['CONTINENT','COUNTRY_REGION'],axis=1).reset_index(drop=True)\n",
    "\n",
    "    df_to_csv_mongo(domain,domain_num)\n",
    "    df_collection = MONGO_DB[DB_APP][domain_num]\n",
    "    df_collection.create_index([(\"ENTITY\", DESCENDING), (\"SCENARIO\", DESCENDING), (\"LABEL\", DESCENDING), (\"KPI\", ASCENDING), (\"VALUE\", DESCENDING)])\n",
    "    domain = optimize(domain, ['LAST_UPDATE'])\n",
    "    return domain\n",
    "\n",
    "domain_103(db_all,ref_continent,'103')\n",
    "# domain103 = domain_103(db_all,ref_continent,'103')\n",
    "# domain103"
   ]
  },
  {
   "cell_type": "code",
   "execution_count": 21,
   "metadata": {},
   "outputs": [
    {
     "name": "stderr",
     "output_type": "stream",
     "text": [
      "<timed exec>:12: FutureWarning: This dataframe has a column name that matches the 'value_name' column name of the resultiing Dataframe. In the future this will raise an error, please set the 'value_name' parameter of DataFrame.melt to a unique name.\n"
     ]
    },
    {
     "name": "stdout",
     "output_type": "stream",
     "text": [
      "106 successfully saved in 106\n",
      "Dataframe 106 successfully save in database app-wsr in MongoDB. Time: --- 70.77073812484741 secnds ---\n",
      "CPU times: user 1min 22s, sys: 1.27 s, total: 1min 23s\n",
      "Wall time: 2min 24s\n"
     ]
    },
    {
     "data": {
      "text/html": [
       "<div>\n",
       "<style scoped>\n",
       "    .dataframe tbody tr th:only-of-type {\n",
       "        vertical-align: middle;\n",
       "    }\n",
       "\n",
       "    .dataframe tbody tr th {\n",
       "        vertical-align: top;\n",
       "    }\n",
       "\n",
       "    .dataframe thead th {\n",
       "        text-align: right;\n",
       "    }\n",
       "</style>\n",
       "<table border=\"1\" class=\"dataframe\">\n",
       "  <thead>\n",
       "    <tr style=\"text-align: right;\">\n",
       "      <th></th>\n",
       "      <th>ENTITY</th>\n",
       "      <th>SCENARIO</th>\n",
       "      <th>UPPER_FILTER_R</th>\n",
       "      <th>LABEL</th>\n",
       "      <th>VALUE</th>\n",
       "      <th>LABEL_ORDER</th>\n",
       "      <th>PRECISION</th>\n",
       "      <th>VAR</th>\n",
       "      <th>GROUPS</th>\n",
       "    </tr>\n",
       "  </thead>\n",
       "  <tbody>\n",
       "    <tr>\n",
       "      <th>0</th>\n",
       "      <td>Algeria</td>\n",
       "      <td>20/10/2020</td>\n",
       "      <td>Confirmed</td>\n",
       "      <td>20/10/2020</td>\n",
       "      <td>54829.0</td>\n",
       "      <td>99999999.0</td>\n",
       "      <td>,.0f</td>\n",
       "      <td>NaN</td>\n",
       "      <td>NaN</td>\n",
       "    </tr>\n",
       "    <tr>\n",
       "      <th>1</th>\n",
       "      <td>Algeria</td>\n",
       "      <td>21/10/2020</td>\n",
       "      <td>Confirmed</td>\n",
       "      <td>21/10/2020</td>\n",
       "      <td>55081.0</td>\n",
       "      <td>99999999.0</td>\n",
       "      <td>,.0f</td>\n",
       "      <td>NaN</td>\n",
       "      <td>NaN</td>\n",
       "    </tr>\n",
       "    <tr>\n",
       "      <th>2</th>\n",
       "      <td>Algeria</td>\n",
       "      <td>22/10/2020</td>\n",
       "      <td>Confirmed</td>\n",
       "      <td>22/10/2020</td>\n",
       "      <td>55357.0</td>\n",
       "      <td>99999999.0</td>\n",
       "      <td>,.0f</td>\n",
       "      <td>NaN</td>\n",
       "      <td>NaN</td>\n",
       "    </tr>\n",
       "    <tr>\n",
       "      <th>3</th>\n",
       "      <td>Algeria</td>\n",
       "      <td>23/10/2020</td>\n",
       "      <td>Confirmed</td>\n",
       "      <td>23/10/2020</td>\n",
       "      <td>55630.0</td>\n",
       "      <td>99999999.0</td>\n",
       "      <td>,.0f</td>\n",
       "      <td>NaN</td>\n",
       "      <td>NaN</td>\n",
       "    </tr>\n",
       "    <tr>\n",
       "      <th>4</th>\n",
       "      <td>Algeria</td>\n",
       "      <td>24/10/2020</td>\n",
       "      <td>Confirmed</td>\n",
       "      <td>24/10/2020</td>\n",
       "      <td>55880.0</td>\n",
       "      <td>99999999.0</td>\n",
       "      <td>,.0f</td>\n",
       "      <td>NaN</td>\n",
       "      <td>NaN</td>\n",
       "    </tr>\n",
       "    <tr>\n",
       "      <th>...</th>\n",
       "      <td>...</td>\n",
       "      <td>...</td>\n",
       "      <td>...</td>\n",
       "      <td>...</td>\n",
       "      <td>...</td>\n",
       "      <td>...</td>\n",
       "      <td>...</td>\n",
       "      <td>...</td>\n",
       "      <td>...</td>\n",
       "    </tr>\n",
       "    <tr>\n",
       "      <th>0</th>\n",
       "      <td>WORLDWIDE</td>\n",
       "      <td>27/10/2020</td>\n",
       "      <td>Active cases</td>\n",
       "      <td>To be affected</td>\n",
       "      <td>4.0</td>\n",
       "      <td>1.0</td>\n",
       "      <td>+,.0f</td>\n",
       "      <td>NaN</td>\n",
       "      <td>Solomon Islands</td>\n",
       "    </tr>\n",
       "    <tr>\n",
       "      <th>1</th>\n",
       "      <td>WORLDWIDE</td>\n",
       "      <td>27/10/2020</td>\n",
       "      <td>Active cases</td>\n",
       "      <td>To be affected</td>\n",
       "      <td>4.0</td>\n",
       "      <td>2.0</td>\n",
       "      <td>+,.0f</td>\n",
       "      <td>0.432432</td>\n",
       "      <td>Lesotho</td>\n",
       "    </tr>\n",
       "    <tr>\n",
       "      <th>0</th>\n",
       "      <td>WORLDWIDE</td>\n",
       "      <td>02/11/2020</td>\n",
       "      <td>Active cases</td>\n",
       "      <td>To be affected</td>\n",
       "      <td>5.0</td>\n",
       "      <td>1.0</td>\n",
       "      <td>+,.0f</td>\n",
       "      <td>125.000000</td>\n",
       "      <td>Solomon Islands</td>\n",
       "    </tr>\n",
       "    <tr>\n",
       "      <th>1</th>\n",
       "      <td>WORLDWIDE</td>\n",
       "      <td>02/11/2020</td>\n",
       "      <td>Active cases</td>\n",
       "      <td>To be affected</td>\n",
       "      <td>-5.0</td>\n",
       "      <td>2.0</td>\n",
       "      <td>+,.0f</td>\n",
       "      <td>-0.535332</td>\n",
       "      <td>Lesotho</td>\n",
       "    </tr>\n",
       "    <tr>\n",
       "      <th>0</th>\n",
       "      <td>WORLDWIDE</td>\n",
       "      <td>28/10/2020</td>\n",
       "      <td>Active cases</td>\n",
       "      <td>To be affected</td>\n",
       "      <td>2.0</td>\n",
       "      <td>1.0</td>\n",
       "      <td>+,.0f</td>\n",
       "      <td>NaN</td>\n",
       "      <td>Marshall Islands</td>\n",
       "    </tr>\n",
       "  </tbody>\n",
       "</table>\n",
       "<p>40334 rows × 9 columns</p>\n",
       "</div>"
      ],
      "text/plain": [
       "       ENTITY    SCENARIO UPPER_FILTER_R           LABEL    VALUE  \\\n",
       "0     Algeria  20/10/2020      Confirmed      20/10/2020  54829.0   \n",
       "1     Algeria  21/10/2020      Confirmed      21/10/2020  55081.0   \n",
       "2     Algeria  22/10/2020      Confirmed      22/10/2020  55357.0   \n",
       "3     Algeria  23/10/2020      Confirmed      23/10/2020  55630.0   \n",
       "4     Algeria  24/10/2020      Confirmed      24/10/2020  55880.0   \n",
       "..        ...         ...            ...             ...      ...   \n",
       "0   WORLDWIDE  27/10/2020   Active cases  To be affected      4.0   \n",
       "1   WORLDWIDE  27/10/2020   Active cases  To be affected      4.0   \n",
       "0   WORLDWIDE  02/11/2020   Active cases  To be affected      5.0   \n",
       "1   WORLDWIDE  02/11/2020   Active cases  To be affected     -5.0   \n",
       "0   WORLDWIDE  28/10/2020   Active cases  To be affected      2.0   \n",
       "\n",
       "    LABEL_ORDER PRECISION         VAR            GROUPS  \n",
       "0    99999999.0      ,.0f         NaN               NaN  \n",
       "1    99999999.0      ,.0f         NaN               NaN  \n",
       "2    99999999.0      ,.0f         NaN               NaN  \n",
       "3    99999999.0      ,.0f         NaN               NaN  \n",
       "4    99999999.0      ,.0f         NaN               NaN  \n",
       "..          ...       ...         ...               ...  \n",
       "0           1.0     +,.0f         NaN   Solomon Islands  \n",
       "1           2.0     +,.0f    0.432432           Lesotho  \n",
       "0           1.0     +,.0f  125.000000   Solomon Islands  \n",
       "1           2.0     +,.0f   -0.535332           Lesotho  \n",
       "0           1.0     +,.0f         NaN  Marshall Islands  \n",
       "\n",
       "[40334 rows x 9 columns]"
      ]
     },
     "execution_count": 21,
     "metadata": {},
     "output_type": "execute_result"
    }
   ],
   "source": [
    "%%time\n",
    "\n",
    "#-- Covid-19 - DAILY TREND\n",
    "def domain_106(df,domain_num):\n",
    "    #-- Exclude Rates & Date\n",
    "    date_list = df['DATE_ORDER'].drop_duplicates().sort_values(ascending=False).values.tolist()[:15]\n",
    "    df = df[(~df['KPI'].isin(['Fatality Rate',\"Recovery Rate\"])) &\n",
    "            (df['DATE_ORDER'].isin(date_list))]\n",
    "    \n",
    "    #-- Calculate Value\n",
    "    filters = ['WORLDWIDE','Europe','Asia','Africa','North America','South America','Oceania','Other','To be affected']\n",
    "    domain_val = df.copy()[['ENTITY_GROUPS','ENTITY','SCENARIO','KPI','VALUE','VALUE_D-1']][df['ENTITY_GROUPS'].isin(filters)]#[df['ENTITY_GROUPS'] == 'WORLDWIDE']\n",
    "    cols_to_keep = ['ENTITY_GROUPS','ENTITY','SCENARIO','KPI']\n",
    "    domain_val = domain_val.melt(id_vars=cols_to_keep, value_name='VALUE',var_name='METRIC')\n",
    "    domain_val['ENTITY_GROUPS'] = domain_val['ENTITY']\n",
    "    domain_val.loc[domain_val['METRIC'] == 'VALUE', 'LABEL_ORDER'] = 99999999\n",
    "    domain_val.loc[domain_val['METRIC'] == 'VALUE_D-1', 'LABEL_ORDER'] = 0\n",
    "    domain_val.loc[domain_val['METRIC'] == 'VALUE', 'METRIC'] = domain_val['SCENARIO']\n",
    "    domain_val.loc[domain_val['METRIC'] == 'VALUE_D-1', 'METRIC'] = (pd.to_datetime(domain_val['SCENARIO'], format='%d/%m/%Y') + timedelta(days=-1)).dt.strftime('%d/%m/%Y')\n",
    "    \n",
    "    cols_to_rename = {'METRIC':'LABEL', 'ENTITY_GROUPS': 'ENTITY','KPI':'UPPER_FILTER_R'}\n",
    "    domain_val = domain_val.drop('ENTITY',axis=1).rename(index=str, columns=cols_to_rename)\n",
    "    domain_val['PRECISION'] = ',.0f'\n",
    "\n",
    "    #--Variation\n",
    "    #filters = ['Europe','Asia','Africa','North America','South America','Oceania','Other','To be affected']\n",
    "    domain_var = df.copy()[['ENTITY_GROUPS','ENTITY','SCENARIO','KPI','VARV','VARP']][df['ENTITY_GROUPS']!='WORLDWIDE']#[df['ENTITY_GROUPS'].isin(filters)]\n",
    "    cols_to_rename = {'VARV':'VALUE', 'VARP': 'VAR'}\n",
    "    domain_var = domain_var.rename(index=str, columns=cols_to_rename).reset_index(drop=True)\n",
    "    domain_var = domain_var[domain_var['VALUE'] !=0 ]\n",
    "    \n",
    "    #-- Get the first 10\n",
    "    filters = domain_var[['ENTITY_GROUPS','SCENARIO','KPI']].drop_duplicates().values.tolist()\n",
    "    domain_w = pd.DataFrame()\n",
    "    for f in filters:\n",
    "        tmp_df = domain_var[(domain_var['ENTITY_GROUPS'] == f[0]) & (domain_var['SCENARIO'] == f[1]) & (domain_var['KPI'] == f[2])].sort_values(by=[\"VALUE\",\"ENTITY\"],ascending=False).reset_index(drop=True)\n",
    "        tmp_df['LABEL_ORDER'] = tmp_df.index.astype(int) + 1\n",
    "        if len(tmp_df) > 9:\n",
    "            tmp_df.loc[tmp_df.index > 9, 'ENTITY'] = 'Others'\n",
    "            tmp_df.loc[tmp_df.index > 9, 'LABEL_ORDER'] = 11\n",
    "            cols_to_group = ['ENTITY_GROUPS','ENTITY','SCENARIO','KPI','LABEL_ORDER']\n",
    "            tmp_df = tmp_df.groupby(cols_to_group, as_index=False).agg({'VALUE':'sum'}).reset_index(drop=True)\n",
    "        tmp_df['PRECISION'] = '+,.0f'\n",
    "        domain_w = domain_w.append(tmp_df)\n",
    "        \n",
    "    cols_to_rename = {'ENTITY':'LABEL', 'ENTITY_GROUPS': 'ENTITY','KPI':'UPPER_FILTER_R'}\n",
    "    domain_w = domain_w.rename(index=str, columns=cols_to_rename)\n",
    "    domain_w['GROUPS'] = domain_w['LABEL']\n",
    "    \n",
    "    filters = ['Europe','Asia','Africa','North America','South America','Oceania','Other','To be affected']\n",
    "    cols_to_rename = {'LABEL':'GROUPS', 'ENTITY':'LABEL'}\n",
    "    domain_w2 = domain_w.copy()[domain_w['ENTITY'].isin(filters)].drop('GROUPS',axis=1).rename(index=str, columns=cols_to_rename)\n",
    "    domain_w2['ENTITY'] = 'WORLDWIDE'\n",
    "    \n",
    "    domain = pd.concat([domain_val,domain_w,domain_w2],axis=0)\n",
    "\n",
    "    #-- Save df\n",
    "    df_to_csv_mongo(domain,domain_num)\n",
    "    df_collection = MONGO_DB[DB_APP][domain_num]\n",
    "    df_collection.create_index([(\"ENTITY\", DESCENDING), (\"SCENARIO\", DESCENDING), (\"UPPER_FILTER_R\", ASCENDING)])\n",
    "    domain = optimize(domain, ['LAST_UPDATE'])\n",
    "    return domain\n",
    "\n",
    "domain_106(db_all, '106')\n",
    "# domain106 = domain_106(db_all, '106')\n",
    "# domain106"
   ]
  },
  {
   "cell_type": "code",
   "execution_count": 22,
   "metadata": {},
   "outputs": [
    {
     "name": "stdout",
     "output_type": "stream",
     "text": [
      "Successfully connected to MongoDB\n",
      "Dataframe 108 successfully save in database app-wsr in MongoDB. Time: --- 0.10523819923400879 secnds ---\n",
      "US_MAP successfully saved in US_MAP\n",
      "CPU times: user 1.07 s, sys: 11.3 ms, total: 1.08 s\n",
      "Wall time: 1.33 s\n",
      "Confirmed : Min: 96, Max: 950302,Average: 170590.0, AvrMax: 0.18,Med: 114709.0, MedMax: 0.12\n",
      "👌 Well done! Your Assets has been sent to production.\n",
      "\n"
     ]
    },
    {
     "data": {
      "application/vnd.jupyter.widget-view+json": {
       "model_id": "91262cde86e94857918336803e39ec56",
       "version_major": 2,
       "version_minor": 0
      },
      "text/plain": [
       "Button(description='Copy URL', style=ButtonStyle())"
      ]
     },
     "metadata": {},
     "output_type": "display_data"
    },
    {
     "data": {
      "application/vnd.jupyter.widget-view+json": {
       "model_id": "25773758f2154fb6a0f29ae98624bec2",
       "version_major": 2,
       "version_minor": 0
      },
      "text/plain": [
       "Output()"
      ]
     },
     "metadata": {},
     "output_type": "display_data"
    },
    {
     "name": "stdout",
     "output_type": "stream",
     "text": [
      "PS: to remove the \"Assets\" feature, just replace .add by .delete\n",
      "Confirmed Rate : Min: 174.0, Max: 6192.0,Average: 2757.0, AvrMax: 0.45,Med: 2734.0, MedMax: 0.44\n",
      "👌 Well done! Your Assets has been sent to production.\n",
      "\n"
     ]
    },
    {
     "data": {
      "application/vnd.jupyter.widget-view+json": {
       "model_id": "08edcd16c08743b88490e591aad05eaa",
       "version_major": 2,
       "version_minor": 0
      },
      "text/plain": [
       "Button(description='Copy URL', style=ButtonStyle())"
      ]
     },
     "metadata": {},
     "output_type": "display_data"
    },
    {
     "data": {
      "application/vnd.jupyter.widget-view+json": {
       "model_id": "c6ffb30044574e6286ffd08ae7cc67e0",
       "version_major": 2,
       "version_minor": 0
      },
      "text/plain": [
       "Output()"
      ]
     },
     "metadata": {},
     "output_type": "display_data"
    },
    {
     "name": "stdout",
     "output_type": "stream",
     "text": [
      "PS: to remove the \"Assets\" feature, just replace .add by .delete\n",
      "Deaths : Min: 2, Max: 33543,Average: 4229.0, AvrMax: 0.13,Med: 2003.0, MedMax: 0.06\n",
      "👌 Well done! Your Assets has been sent to production.\n",
      "\n"
     ]
    },
    {
     "data": {
      "application/vnd.jupyter.widget-view+json": {
       "model_id": "6cb854f2b6a6438187cce37b308253e9",
       "version_major": 2,
       "version_minor": 0
      },
      "text/plain": [
       "Button(description='Copy URL', style=ButtonStyle())"
      ]
     },
     "metadata": {},
     "output_type": "display_data"
    },
    {
     "data": {
      "application/vnd.jupyter.widget-view+json": {
       "model_id": "a7e0ad5a1a544abea0891134e473939f",
       "version_major": 2,
       "version_minor": 0
      },
      "text/plain": [
       "Output()"
      ]
     },
     "metadata": {},
     "output_type": "display_data"
    },
    {
     "name": "stdout",
     "output_type": "stream",
     "text": [
      "PS: to remove the \"Assets\" feature, just replace .add by .delete\n",
      "Deaths Rate : Min: 4.0, Max: 184.0,Average: 58.0, AvrMax: 0.32,Med: 49.0, MedMax: 0.27\n",
      "👌 Well done! Your Assets has been sent to production.\n",
      "\n"
     ]
    },
    {
     "data": {
      "application/vnd.jupyter.widget-view+json": {
       "model_id": "affc9abe65f544d284bec769182bd7b7",
       "version_major": 2,
       "version_minor": 0
      },
      "text/plain": [
       "Button(description='Copy URL', style=ButtonStyle())"
      ]
     },
     "metadata": {},
     "output_type": "display_data"
    },
    {
     "data": {
      "application/vnd.jupyter.widget-view+json": {
       "model_id": "89f300cc63c245a692002eefeaea8511",
       "version_major": 2,
       "version_minor": 0
      },
      "text/plain": [
       "Output()"
      ]
     },
     "metadata": {},
     "output_type": "display_data"
    },
    {
     "name": "stdout",
     "output_type": "stream",
     "text": [
      "PS: to remove the \"Assets\" feature, just replace .add by .delete\n",
      "Fatality Rate : Min: 0.48, Max: 6.74,Average: 2.0, AvrMax: 0.3,Med: 2.0, MedMax: 0.3\n",
      "👌 Well done! Your Assets has been sent to production.\n",
      "\n"
     ]
    },
    {
     "data": {
      "application/vnd.jupyter.widget-view+json": {
       "model_id": "c714c100783c49f488b199020b625a65",
       "version_major": 2,
       "version_minor": 0
      },
      "text/plain": [
       "Button(description='Copy URL', style=ButtonStyle())"
      ]
     },
     "metadata": {},
     "output_type": "display_data"
    },
    {
     "data": {
      "application/vnd.jupyter.widget-view+json": {
       "model_id": "93c77a4f66074af3b2f5b34f7a9aa2f2",
       "version_major": 2,
       "version_minor": 0
      },
      "text/plain": [
       "Output()"
      ]
     },
     "metadata": {},
     "output_type": "display_data"
    },
    {
     "name": "stdout",
     "output_type": "stream",
     "text": [
      "PS: to remove the \"Assets\" feature, just replace .add by .delete\n",
      "Dataframe 109 successfully save in database app-wsr in MongoDB. Time: --- 0.0246121883392334 secnds ---\n"
     ]
    }
   ],
   "source": [
    "%run \"map-chart_us.ipynb\""
   ]
  },
  {
   "cell_type": "code",
   "execution_count": 23,
   "metadata": {},
   "outputs": [
    {
     "name": "stdout",
     "output_type": "stream",
     "text": [
      "Successfully connected to MongoDB\n",
      "2020-11-03\n",
      "            ENTITY            LABEL            KPI      VALUE  VALUE_D-1  \\\n",
      "0                0                0      Confirmed   0.000000   0.000000   \n",
      "1                0                0      Confirmed   0.000000   0.000000   \n",
      "2                0                0      Confirmed   0.000000   0.000000   \n",
      "3                0                0      Confirmed   0.000000   0.000000   \n",
      "4                0                0      Confirmed   0.000000   0.000000   \n",
      "...            ...              ...            ...        ...        ...   \n",
      "1238113  WORLDWIDE  Solomon Islands  Recovery Rate  50.000000  50.000000   \n",
      "1238114  WORLDWIDE  Solomon Islands  Recovery Rate  50.000000  50.000000   \n",
      "1238115  WORLDWIDE  Solomon Islands  Recovery Rate  50.000000  50.000000   \n",
      "1238116  WORLDWIDE  Solomon Islands  Recovery Rate  30.769231  50.000000   \n",
      "1238117  WORLDWIDE  Solomon Islands  Recovery Rate  30.769231  30.769231   \n",
      "\n",
      "               VAR  VARP    SCENARIO  DATE_ORDER UNIT_VALUE WORLDMAP  \\\n",
      "0         0.000000   NaN  22/01/2020    20200122      cases      NaN   \n",
      "1         0.000000   NaN  23/01/2020    20200123      cases      NaN   \n",
      "2         0.000000   NaN  24/01/2020    20200124      cases      NaN   \n",
      "3         0.000000   NaN  25/01/2020    20200125      cases      NaN   \n",
      "4         0.000000   NaN  26/01/2020    20200126      cases      NaN   \n",
      "...            ...   ...         ...         ...        ...      ...   \n",
      "1238113   0.000000   NaN  30/10/2020    20201030          %      NaN   \n",
      "1238114   0.000000   NaN  31/10/2020    20201031          %      NaN   \n",
      "1238115   0.000000   NaN  01/11/2020    20201101          %      NaN   \n",
      "1238116 -19.230769   NaN  02/11/2020    20201102          %      NaN   \n",
      "1238117   0.000000   NaN  03/11/2020    20201103          %      NaN   \n",
      "\n",
      "        WORLDMAP_CS CONTINENT_CS  \n",
      "0               NaN          NaN  \n",
      "1               NaN          NaN  \n",
      "2               NaN          NaN  \n",
      "3               NaN          NaN  \n",
      "4               NaN          NaN  \n",
      "...             ...          ...  \n",
      "1238113         NaN          NaN  \n",
      "1238114         NaN          NaN  \n",
      "1238115         NaN          NaN  \n",
      "1238116         NaN          NaN  \n",
      "1238117         NaN          NaN  \n",
      "\n",
      "[1238118 rows x 13 columns]\n",
      "VALUE : Min: 0.0, Max: 9382617.0,Average: 248196.0, AvrMax: 0.03,Med: 19977.0, MedMax: 0.0\n",
      "👌 Well done! Your Assets has been sent to production.\n",
      "\n"
     ]
    },
    {
     "data": {
      "application/vnd.jupyter.widget-view+json": {
       "model_id": "42c54177554747968941632b13e08fe8",
       "version_major": 2,
       "version_minor": 0
      },
      "text/plain": [
       "Button(description='Copy URL', style=ButtonStyle())"
      ]
     },
     "metadata": {},
     "output_type": "display_data"
    },
    {
     "data": {
      "application/vnd.jupyter.widget-view+json": {
       "model_id": "c9a0f9d2630f49b383c4e4eccfe7218c",
       "version_major": 2,
       "version_minor": 0
      },
      "text/plain": [
       "Output()"
      ]
     },
     "metadata": {},
     "output_type": "display_data"
    },
    {
     "name": "stdout",
     "output_type": "stream",
     "text": [
      "PS: to remove the \"Assets\" feature, just replace .add by .delete\n",
      "VALUE : Min: 0.0, Max: 5444867.0,Average: 76348.0, AvrMax: 0.01,Med: 2709.0, MedMax: 0.0\n",
      "👌 Well done! Your Assets has been sent to production.\n",
      "\n"
     ]
    },
    {
     "data": {
      "application/vnd.jupyter.widget-view+json": {
       "model_id": "bb46f9a963ed4079919b37d374d9d70e",
       "version_major": 2,
       "version_minor": 0
      },
      "text/plain": [
       "Button(description='Copy URL', style=ButtonStyle())"
      ]
     },
     "metadata": {},
     "output_type": "display_data"
    },
    {
     "data": {
      "application/vnd.jupyter.widget-view+json": {
       "model_id": "73949368db634824acca46e52bc6719d",
       "version_major": 2,
       "version_minor": 0
      },
      "text/plain": [
       "Output()"
      ]
     },
     "metadata": {},
     "output_type": "display_data"
    },
    {
     "name": "stdout",
     "output_type": "stream",
     "text": [
      "PS: to remove the \"Assets\" feature, just replace .add by .delete\n",
      "VALUE : Min: 0.0, Max: 232620.0,Average: 6355.0, AvrMax: 0.03,Med: 315.0, MedMax: 0.0\n",
      "👌 Well done! Your Assets has been sent to production.\n",
      "\n"
     ]
    },
    {
     "data": {
      "application/vnd.jupyter.widget-view+json": {
       "model_id": "bf81110c76b84db1bf5fe261f80dc7d4",
       "version_major": 2,
       "version_minor": 0
      },
      "text/plain": [
       "Button(description='Copy URL', style=ButtonStyle())"
      ]
     },
     "metadata": {},
     "output_type": "display_data"
    },
    {
     "data": {
      "application/vnd.jupyter.widget-view+json": {
       "model_id": "d5ce4d1e624b48b0891111ab18eb3fba",
       "version_major": 2,
       "version_minor": 0
      },
      "text/plain": [
       "Output()"
      ]
     },
     "metadata": {},
     "output_type": "display_data"
    },
    {
     "name": "stdout",
     "output_type": "stream",
     "text": [
      "PS: to remove the \"Assets\" feature, just replace .add by .delete\n",
      "VALUE : Min: 0.0, Max: 7656478.0,Average: 165493.0, AvrMax: 0.02,Med: 10962.0, MedMax: 0.0\n",
      "👌 Well done! Your Assets has been sent to production.\n",
      "\n"
     ]
    },
    {
     "data": {
      "application/vnd.jupyter.widget-view+json": {
       "model_id": "a875fc2c0a70456aad181bafe7a4980b",
       "version_major": 2,
       "version_minor": 0
      },
      "text/plain": [
       "Button(description='Copy URL', style=ButtonStyle())"
      ]
     },
     "metadata": {},
     "output_type": "display_data"
    },
    {
     "data": {
      "application/vnd.jupyter.widget-view+json": {
       "model_id": "dc2cde74bfcd44c1be761bb9fecf47ee",
       "version_major": 2,
       "version_minor": 0
      },
      "text/plain": [
       "Output()"
      ]
     },
     "metadata": {},
     "output_type": "display_data"
    },
    {
     "name": "stdout",
     "output_type": "stream",
     "text": [
      "PS: to remove the \"Assets\" feature, just replace .add by .delete\n",
      "VALUE : Min: 0.0, Max: 29.13,Average: 2.0, AvrMax: 0.07,Med: 2.0, MedMax: 0.07\n",
      "👌 Well done! Your Assets has been sent to production.\n",
      "\n"
     ]
    },
    {
     "data": {
      "application/vnd.jupyter.widget-view+json": {
       "model_id": "debdf9b4148546a5a35feffcd17c55c7",
       "version_major": 2,
       "version_minor": 0
      },
      "text/plain": [
       "Button(description='Copy URL', style=ButtonStyle())"
      ]
     },
     "metadata": {},
     "output_type": "display_data"
    },
    {
     "data": {
      "application/vnd.jupyter.widget-view+json": {
       "model_id": "115a9dfe08f94cc09cb84b16218a4b0e",
       "version_major": 2,
       "version_minor": 0
      },
      "text/plain": [
       "Output()"
      ]
     },
     "metadata": {},
     "output_type": "display_data"
    },
    {
     "name": "stdout",
     "output_type": "stream",
     "text": [
      "PS: to remove the \"Assets\" feature, just replace .add by .delete\n",
      "VALUE : Min: 0.0, Max: 100.0,Average: 72.0, AvrMax: 0.72,Med: 82.0, MedMax: 0.82\n",
      "👌 Well done! Your Assets has been sent to production.\n",
      "\n"
     ]
    },
    {
     "data": {
      "application/vnd.jupyter.widget-view+json": {
       "model_id": "8dfdd39b009f441fb67e9f8325b46e63",
       "version_major": 2,
       "version_minor": 0
      },
      "text/plain": [
       "Button(description='Copy URL', style=ButtonStyle())"
      ]
     },
     "metadata": {},
     "output_type": "display_data"
    },
    {
     "data": {
      "application/vnd.jupyter.widget-view+json": {
       "model_id": "812878398f994cb0aa27852e93d5c0fc",
       "version_major": 2,
       "version_minor": 0
      },
      "text/plain": [
       "Output()"
      ]
     },
     "metadata": {},
     "output_type": "display_data"
    },
    {
     "name": "stdout",
     "output_type": "stream",
     "text": [
      "PS: to remove the \"Assets\" feature, just replace .add by .delete\n",
      "Dataframe 111 successfully save in database app-wsr in MongoDB. Time: --- 0.0236055850982666 secnds ---\n"
     ]
    }
   ],
   "source": [
    "%run \"map-chart_world.ipynb\""
   ]
  },
  {
   "cell_type": "code",
   "execution_count": null,
   "metadata": {},
   "outputs": [],
   "source": []
  }
 ],
 "metadata": {
  "kernelspec": {
   "display_name": "Python 3",
   "language": "python",
   "name": "python3"
  },
  "language_info": {
   "codemirror_mode": {
    "name": "ipython",
    "version": 3
   },
   "file_extension": ".py",
   "mimetype": "text/x-python",
   "name": "python",
   "nbconvert_exporter": "python",
   "pygments_lexer": "ipython3",
   "version": "3.8.6"
  }
 },
 "nbformat": 4,
 "nbformat_minor": 4
}
