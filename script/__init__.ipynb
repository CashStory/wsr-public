{
 "cells": [
  {
   "cell_type": "code",
   "execution_count": 1,
   "metadata": {
    "execution": {
     "iopub.execute_input": "2020-11-10T01:58:09.939718Z",
     "iopub.status.busy": "2020-11-10T01:58:09.939466Z",
     "iopub.status.idle": "2020-11-10T01:58:09.944802Z",
     "shell.execute_reply": "2020-11-10T01:58:09.944194Z",
     "shell.execute_reply.started": "2020-11-10T01:58:09.939677Z"
    }
   },
   "outputs": [],
   "source": [
    "# %load_ext pycodestyle_magic"
   ]
  },
  {
   "cell_type": "code",
   "execution_count": 2,
   "metadata": {
    "execution": {
     "iopub.execute_input": "2020-11-10T01:58:09.951377Z",
     "iopub.status.busy": "2020-11-10T01:58:09.951204Z",
     "iopub.status.idle": "2020-11-10T01:58:10.075870Z",
     "shell.execute_reply": "2020-11-10T01:58:10.075144Z",
     "shell.execute_reply.started": "2020-11-10T01:58:09.951359Z"
    }
   },
   "outputs": [],
   "source": [
    "# %pycodestyle_on"
   ]
  },
  {
   "cell_type": "code",
   "execution_count": 3,
   "metadata": {
    "execution": {
     "iopub.execute_input": "2020-11-10T01:58:10.078590Z",
     "iopub.status.busy": "2020-11-10T01:58:10.078404Z",
     "iopub.status.idle": "2020-11-10T01:58:15.500649Z",
     "shell.execute_reply": "2020-11-10T01:58:15.498406Z",
     "shell.execute_reply.started": "2020-11-10T01:58:10.078571Z"
    }
   },
   "outputs": [],
   "source": [
    "# Import modules\n",
    "\n",
    "import naas\n",
    "import naas_drivers\n",
    "import json\n",
    "from datetime import datetime, timedelta, date\n",
    "import time\n",
    "import pandas as pd\n",
    "import openpyxl\n",
    "import numpy as np\n",
    "from pymongo import ASCENDING, DESCENDING\n",
    "import os.path\n",
    "from os import path\n",
    "import plotly.express as px\n",
    "import sys"
   ]
  },
  {
   "cell_type": "code",
   "execution_count": 4,
   "metadata": {
    "execution": {
     "iopub.execute_input": "2020-11-10T01:58:15.507962Z",
     "iopub.status.busy": "2020-11-10T01:58:15.504914Z",
     "iopub.status.idle": "2020-11-10T01:58:15.519083Z",
     "shell.execute_reply": "2020-11-10T01:58:15.518498Z",
     "shell.execute_reply.started": "2020-11-10T01:58:15.507925Z"
    }
   },
   "outputs": [],
   "source": [
    "# Set variables\n",
    "\n",
    "# -> Repository\n",
    "INPUT_FOLDER = os.path.join('..', 'input')\n",
    "OUTPUT_FOLDER = os.path.join('..', 'output')\n",
    "\n",
    "if not path.exists(INPUT_FOLDER):\n",
    "    os.mkdir(INPUT_FOLDER)\n",
    "\n",
    "if not path.exists(OUTPUT_FOLDER):\n",
    "    os.mkdir(OUTPUT_FOLDER)\n",
    "\n",
    "# -> MongoDB\n",
    "MONGO_DB = None\n",
    "USE_MONGO = True\n",
    "USE_HEALTHCHECKS = True\n",
    "DB_SRC = 'covid-19'\n",
    "DB_APP = 'app-wsr'\n",
    "\n",
    "# -> Date\n",
    "NOW = datetime.now().strftime('%d/%m/%Y %H:%M:%S')\n",
    "TODAY = date.today()\n",
    "YESTERDAY = (TODAY - timedelta(days=1))\n",
    "B_YESTERDAY = (TODAY - timedelta(days=2))\n",
    "\n",
    "# -> Other\n",
    "LOGO_CS = \"https://bob.cashstory.com/assets/images/cashstory_all_white.png\""
   ]
  },
  {
   "cell_type": "code",
   "execution_count": 5,
   "metadata": {
    "execution": {
     "iopub.execute_input": "2020-11-10T01:58:15.520649Z",
     "iopub.status.busy": "2020-11-10T01:58:15.520252Z",
     "iopub.status.idle": "2020-11-10T01:58:15.666404Z",
     "shell.execute_reply": "2020-11-10T01:58:15.665824Z",
     "shell.execute_reply.started": "2020-11-10T01:58:15.520620Z"
    }
   },
   "outputs": [
    {
     "name": "stdout",
     "output_type": "stream",
     "text": [
      "Successfully connected to MongoDB\n"
     ]
    }
   ],
   "source": [
    "# Connect to MongoDB\n",
    "\n",
    "def connect_mongo():\n",
    "    # Init variables\n",
    "    mongo_conf = None\n",
    "    mongo_db = None\n",
    "\n",
    "    # Load conf\n",
    "    mongo_credentials = naas.secret.get(\"mongo_secret\")\n",
    "\n",
    "    # Bob connect\n",
    "    naas_drivers.mongo.connect(mongo_credentials)\n",
    "    mongo_db = naas_drivers.mongo.get_client()\n",
    "    return mongo_db\n",
    "\n",
    "\n",
    "if USE_MONGO:\n",
    "    MONGO_DB = connect_mongo()"
   ]
  },
  {
   "cell_type": "code",
   "execution_count": 6,
   "metadata": {
    "execution": {
     "iopub.execute_input": "2020-11-10T01:58:15.669251Z",
     "iopub.status.busy": "2020-11-10T01:58:15.669078Z",
     "iopub.status.idle": "2020-11-10T01:58:16.051497Z",
     "shell.execute_reply": "2020-11-10T01:58:16.050764Z",
     "shell.execute_reply.started": "2020-11-10T01:58:15.669231Z"
    }
   },
   "outputs": [],
   "source": [
    "# Init REF WSR\n",
    "REF_WSR_NAME = 'REF_WSR'\n",
    "REF_WSR_PATH = os.path.join(INPUT_FOLDER, f'{REF_WSR_NAME}.xlsx')\n",
    "REF_FRANCE_NAME = 'REF_FRANCE'\n",
    "\n",
    "\n",
    "# Load REF_FRANCE\n",
    "def load_ref_france():\n",
    "    df = pd.read_excel(REF_WSR_PATH, sheet_name=REF_FRANCE_NAME)\n",
    "    df['DEP_CODE'] = df['DEP_CODE'].astype(str)\n",
    "    df['DEP_NAME'] = df['DEP_NAME'].astype(str)\n",
    "    df['DEP_FULL'] = df['DEP_CODE'] + ' - ' + df['DEP_NAME']\n",
    "    return df\n",
    "\n",
    "\n",
    "REF_FRANCE = load_ref_france()"
   ]
  },
  {
   "cell_type": "code",
   "execution_count": 7,
   "metadata": {
    "execution": {
     "iopub.execute_input": "2020-11-10T01:58:16.052853Z",
     "iopub.status.busy": "2020-11-10T01:58:16.052497Z",
     "iopub.status.idle": "2020-11-10T01:58:17.079088Z",
     "shell.execute_reply": "2020-11-10T01:58:17.078490Z",
     "shell.execute_reply.started": "2020-11-10T01:58:16.052824Z"
    }
   },
   "outputs": [],
   "source": [
    "# Map chart\n",
    "# -> Load Basemap\n",
    "def load_map(file_name):\n",
    "    json_file = os.path.join(INPUT_FOLDER, f'{file_name}.json')\n",
    "    with open(json_file) as f:\n",
    "        cs_map = json.load(f)\n",
    "    return cs_map\n",
    "\n",
    "\n",
    "# US - 500K\n",
    "MAP_STATES = load_map('usa_states')\n",
    "\n",
    "# US - 20m\n",
    "MAP_STATES_20M = load_map('usa_states_20m')\n",
    "\n",
    "# US - 5m\n",
    "MAP_STATES_5M = load_map('usa_states_5m')\n",
    "\n",
    "# France - Region\n",
    "MAP_FRANCE_REG = load_map('france-region')\n",
    "\n",
    "# France - Region\n",
    "MAP_FRANCE_DEP = load_map('france-departement')\n",
    "\n",
    "# World map\n",
    "WORLDMAP = load_map('world-med')\n",
    "\n",
    "\n",
    "# -> Function\n",
    "def analysis(df, variable):\n",
    "    Min = df[variable].min()\n",
    "    Max = df[variable].max()\n",
    "    Avr = round(df[variable].mean(), 0)\n",
    "    Med = round(np.median(df[variable]), 0)\n",
    "    AvrMax = round((Avr / Max), 2)\n",
    "    MedMax = round((Med / Max), 2)\n",
    "    to_print = (f'{variable} : Min: {Min}, Max: {Max},'\n",
    "                f'Average: {Avr}, AvrMax: {AvrMax},'\n",
    "                f'Med: {Med}, MedMax: {MedMax}')\n",
    "    return print(to_print)\n",
    "\n",
    "\n",
    "# Fonction to add CSS\n",
    "def updateChartCss(filename, css_filename):\n",
    "    map = None\n",
    "    css = None\n",
    "    with open(filename) as f:\n",
    "        map = f.read()\n",
    "\n",
    "    with open(css_filename) as f:\n",
    "        css = f.read()\n",
    "    if (map.find('id=\"cs_css\"') != -1):\n",
    "        print(\"to do\")\n",
    "    else:\n",
    "        result = map.replace(\"<body>\",\n",
    "                             f'<body><style id=\"cs_css\">{css}</style>')\n",
    "        with open(filename, \"w\") as f:\n",
    "            f.write(result)\n",
    "            f.close()"
   ]
  },
  {
   "cell_type": "code",
   "execution_count": 8,
   "metadata": {
    "execution": {
     "iopub.execute_input": "2020-11-10T01:58:17.082789Z",
     "iopub.status.busy": "2020-11-10T01:58:17.082617Z",
     "iopub.status.idle": "2020-11-10T01:58:17.088188Z",
     "shell.execute_reply": "2020-11-10T01:58:17.087593Z",
     "shell.execute_reply.started": "2020-11-10T01:58:17.082769Z"
    }
   },
   "outputs": [],
   "source": [
    "# -- Datasource : Check if url exists and return df\n",
    "# default seperator = ','\n",
    "def check_url(url, separator=','):\n",
    "    df = pd.DataFrame()\n",
    "    try:\n",
    "        df = pd.read_csv(url, sep=separator)\n",
    "    except Exception as e:\n",
    "        print(f'Error connecting to {url}.')\n",
    "        print(e.__doc__)\n",
    "        print(str(e))\n",
    "    return df"
   ]
  },
  {
   "cell_type": "code",
   "execution_count": 9,
   "metadata": {
    "execution": {
     "iopub.execute_input": "2020-11-10T01:58:17.116127Z",
     "iopub.status.busy": "2020-11-10T01:58:17.115950Z",
     "iopub.status.idle": "2020-11-10T01:58:17.209122Z",
     "shell.execute_reply": "2020-11-10T01:58:17.208513Z",
     "shell.execute_reply.started": "2020-11-10T01:58:17.116101Z"
    }
   },
   "outputs": [],
   "source": [
    "from typing import List\n",
    "\n",
    "\n",
    "def optimize_floats(df: pd.DataFrame) -> pd.DataFrame:\n",
    "    floats = df.select_dtypes(include=['float64']).columns.tolist()\n",
    "    df[floats] = df[floats].apply(pd.to_numeric, downcast='float')\n",
    "    return df\n",
    "\n",
    "\n",
    "def optimize_ints(df: pd.DataFrame) -> pd.DataFrame:\n",
    "    ints = df.select_dtypes(include=['int64']).columns.tolist()\n",
    "    df[ints] = df[ints].apply(pd.to_numeric, downcast='integer')\n",
    "    return df\n",
    "\n",
    "\n",
    "def optimize_objects(df: pd.DataFrame, datetime_features: List[str]= []) -> pd.DataFrame:\n",
    "    for col in df.select_dtypes(include=['object']):\n",
    "        if col not in datetime_features:\n",
    "            num_unique_values = len(df[col].unique())\n",
    "            num_total_values = len(df[col])\n",
    "            if float(num_unique_values) / num_total_values < 0.5:\n",
    "                df[col] = df[col].astype('category')\n",
    "        else:\n",
    "            df[col] = pd.to_datetime(df[col])\n",
    "    return df\n",
    "\n",
    "\n",
    "# Function to optimise DF size\n",
    "def optimize(df: pd.DataFrame, datetime_features: List[str] = []):\n",
    "    return optimize_floats(optimize_ints(optimize_objects(df, datetime_features)))"
   ]
  },
  {
   "cell_type": "code",
   "execution_count": 10,
   "metadata": {
    "execution": {
     "iopub.execute_input": "2020-11-10T01:58:17.213752Z",
     "iopub.status.busy": "2020-11-10T01:58:17.211478Z",
     "iopub.status.idle": "2020-11-10T01:58:17.312232Z",
     "shell.execute_reply": "2020-11-10T01:58:17.311692Z",
     "shell.execute_reply.started": "2020-11-10T01:58:17.213719Z"
    }
   },
   "outputs": [],
   "source": [
    "# -- Datasource local : open csv in local if path exists or open DB MONGO\n",
    "def get_datasource(src_name):\n",
    "    src_path = os.path.join(OUTPUT_FOLDER, f'{src_name}.csv')\n",
    "    if path.exists(src_path):\n",
    "        df = pd.read_csv(src_path, sep=';', low_memory=False)\n",
    "        if len(df) > 0 and 'Unnamed: 0' in df.columns:\n",
    "            df = df.drop('Unnamed: 0', axis=1)\n",
    "    else:\n",
    "        df = bob.mongo.read_df(src_name, DB_SRC)\n",
    "        if len(df) > 0:\n",
    "            df = df.drop('_id', axis=1)\n",
    "        else:\n",
    "            print(f'Source {src_name} does not exist !')\n",
    "    df = optimize(df)\n",
    "    return df"
   ]
  },
  {
   "cell_type": "code",
   "execution_count": 11,
   "metadata": {
    "execution": {
     "iopub.execute_input": "2020-11-10T01:58:17.315154Z",
     "iopub.status.busy": "2020-11-10T01:58:17.314978Z",
     "iopub.status.idle": "2020-11-10T01:58:17.414141Z",
     "shell.execute_reply": "2020-11-10T01:58:17.413493Z",
     "shell.execute_reply.started": "2020-11-10T01:58:17.315134Z"
    }
   },
   "outputs": [],
   "source": [
    "# -- Trend : Create date scenario\n",
    "# col scenario default : 'DATE_SCENARIO'\n",
    "def get_lastdays(df, limit, title, col='DATE_SCENARIO'):\n",
    "    df_b = pd.DataFrame()\n",
    "    if 'DATE_ORDER' in df.columns:\n",
    "        all_dates = df['DATE_ORDER'].sort_values(ascending=False)\n",
    "        all_dates = all_dates.drop_duplicates().values.tolist()[:limit]\n",
    "    for d in all_dates:\n",
    "        tmp_df = df[df['DATE_ORDER'] == d]\n",
    "        df_b = df_b.append(tmp_df)\n",
    "        df_b[col] = title\n",
    "    return df_b"
   ]
  },
  {
   "cell_type": "code",
   "execution_count": 12,
   "metadata": {
    "execution": {
     "iopub.execute_input": "2020-11-10T01:58:17.415510Z",
     "iopub.status.busy": "2020-11-10T01:58:17.415273Z",
     "iopub.status.idle": "2020-11-10T01:58:17.516808Z",
     "shell.execute_reply": "2020-11-10T01:58:17.516161Z",
     "shell.execute_reply.started": "2020-11-10T01:58:17.415483Z"
    }
   },
   "outputs": [],
   "source": [
    "def df_save(df, file_name, file_type):\n",
    "    if file_type == 'csv':\n",
    "        file_path = os.path.join(OUTPUT_FOLDER, f'{file_name}.csv')\n",
    "        df.to_csv(file_path, sep=';')\n",
    "        print(f'{file_name} successfully saved in {file_name}')"
   ]
  },
  {
   "cell_type": "code",
   "execution_count": 13,
   "metadata": {
    "execution": {
     "iopub.execute_input": "2020-11-10T01:58:17.518126Z",
     "iopub.status.busy": "2020-11-10T01:58:17.517891Z",
     "iopub.status.idle": "2020-11-10T01:58:17.617157Z",
     "shell.execute_reply": "2020-11-10T01:58:17.616420Z",
     "shell.execute_reply.started": "2020-11-10T01:58:17.518089Z"
    }
   },
   "outputs": [],
   "source": [
    "# import xlsxwriter \n",
    "\n",
    "# def add_format_cs(writer,sheetname,df,start_row):\n",
    "#     # Get the xlsxwriter workbook and worksheet objects.\n",
    "#     workbook  = writer.book\n",
    "#     worksheet = writer.sheets[sheetname]\n",
    "    \n",
    "#     # Hide gridlines\n",
    "#     worksheet.hide_gridlines(2)\n",
    "\n",
    "#     # Add a header format.\n",
    "#     header_format = workbook.add_format({\n",
    "#         'bold': True,\n",
    "#         'text_wrap': False,\n",
    "#         'valign': 'center',\n",
    "#         'align': 'center',\n",
    "#         'font_name': 'Arial', \n",
    "#         'font_size': '10',\n",
    "#         'font_color': '#ffffff',\n",
    "#         'fg_color': '#4caf50',\n",
    "#         'border': 1,\n",
    "#         'border_color': '#808080'})\n",
    "\n",
    "#     # Write the column headers with the defined format.\n",
    "#     for col_num, value in enumerate(df.columns.values):\n",
    "#         worksheet.write(start_row, col_num, value, header_format)\n",
    "        \n",
    "#     # Auto-size colums length\n",
    "#     #Iterate through each column and set the width == the max length in that column. A padding length of 2 is also added.\n",
    "#     for i, col in enumerate(df.columns):\n",
    "#         # find length of column i\n",
    "#         column_len = df[col].astype(str).str.len().max()\n",
    "#         # Setting the length if the column header is larger\n",
    "#         # than the max column value length\n",
    "#         column_len = max(column_len, len(col)) + 2\n",
    "#         # set the column length\n",
    "#         worksheet.set_column(i, i, column_len)\n",
    "        \n",
    "#     # Add CS Logo\n",
    "#     worksheet.insert_image('A1', LOGO_CS, {'x_scale': 0.1, 'y_scale': 0.1})"
   ]
  }
 ],
 "metadata": {
  "kernelspec": {
   "display_name": "Python 3",
   "language": "python",
   "name": "python3"
  },
  "language_info": {
   "codemirror_mode": {
    "name": "ipython",
    "version": 3
   },
   "file_extension": ".py",
   "mimetype": "text/x-python",
   "name": "python",
   "nbconvert_exporter": "python",
   "pygments_lexer": "ipython3",
   "version": "3.8.6"
  }
 },
 "nbformat": 4,
 "nbformat_minor": 4
}
