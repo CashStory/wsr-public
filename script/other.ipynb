{
 "cells": [
  {
   "cell_type": "code",
   "execution_count": 1,
   "metadata": {
    "execution": {
     "iopub.execute_input": "2020-11-10T00:50:42.518931Z",
     "iopub.status.busy": "2020-11-10T00:50:42.518525Z",
     "iopub.status.idle": "2020-11-10T00:50:47.339369Z",
     "shell.execute_reply": "2020-11-10T00:50:47.338611Z",
     "shell.execute_reply.started": "2020-11-10T00:50:42.518862Z"
    }
   },
   "outputs": [
    {
     "name": "stdout",
     "output_type": "stream",
     "text": [
      "Successfully connected to MongoDB\n"
     ]
    }
   ],
   "source": [
    "%run __init__.ipynb"
   ]
  },
  {
   "cell_type": "code",
   "execution_count": 2,
   "metadata": {
    "execution": {
     "iopub.execute_input": "2020-11-10T00:50:47.341500Z",
     "iopub.status.busy": "2020-11-10T00:50:47.341059Z",
     "iopub.status.idle": "2020-11-10T00:50:47.403595Z",
     "shell.execute_reply": "2020-11-10T00:50:47.402994Z",
     "shell.execute_reply.started": "2020-11-10T00:50:47.341469Z"
    }
   },
   "outputs": [],
   "source": [
    "# Import modules\n",
    "from googleapiclient.discovery import build\n",
    "from oauth2client.service_account import ServiceAccountCredentials\n",
    "import pandas as pd\n",
    "from datetime import datetime, timedelta, date\n",
    "from dateutil.rrule import rrule, DAILY\n",
    "from time import sleep\n",
    "from googleapiclient.discovery import build\n",
    "from oauth2client.service_account import ServiceAccountCredentials\n",
    "import time\n",
    "import json\n",
    "\n",
    "# Set variables\n",
    "SCOPES = ['https://www.googleapis.com/auth/analytics.readonly']\n",
    "KEY_FILE_GOOGLE = json.loads(naas.secret.get('KEY_FILE_GOOGLE'))\n",
    "VIEW_ID = '214312751'\n",
    "METRICS = [{'expression': 'ga:users'}]\n",
    "# metrics = [{'expression': 'ga:sessions'}]\n",
    "DIMENTIONS = [{'name': 'ga:country'}]\n",
    "FIRSTDATA = 30\n",
    "TODAY = datetime.now().strftime(\"%Y-%m-%d\")\n"
   ]
  },
  {
   "cell_type": "code",
   "execution_count": 3,
   "metadata": {
    "execution": {
     "iopub.execute_input": "2020-11-10T00:50:47.404987Z",
     "iopub.status.busy": "2020-11-10T00:50:47.404754Z",
     "iopub.status.idle": "2020-11-10T00:50:47.650470Z",
     "shell.execute_reply": "2020-11-10T00:50:47.649815Z",
     "shell.execute_reply.started": "2020-11-10T00:50:47.404958Z"
    }
   },
   "outputs": [],
   "source": [
    "def initialize_analyticsreporting():\n",
    "    \"\"\" \n",
    "    Initializes an Analytics Reporting API V4 service object.\n",
    "\n",
    "    Returns:\n",
    "    An authorized Analytics Reporting API V4 service object.\n",
    "    \"\"\"\n",
    "    credentials = ServiceAccountCredentials.from_json_keyfile_dict(\n",
    "      KEY_FILE_GOOGLE, SCOPES)\n",
    "\n",
    "    # Build the service object.\n",
    "    analytics = build('analyticsreporting', 'v4', credentials=credentials)\n",
    "    return analytics\n",
    "\n",
    "analytics = initialize_analyticsreporting()"
   ]
  },
  {
   "cell_type": "code",
   "execution_count": 4,
   "metadata": {
    "execution": {
     "iopub.execute_input": "2020-11-10T00:50:47.653107Z",
     "iopub.status.busy": "2020-11-10T00:50:47.652846Z",
     "iopub.status.idle": "2020-11-10T00:50:57.315281Z",
     "shell.execute_reply": "2020-11-10T00:50:57.314491Z",
     "shell.execute_reply.started": "2020-11-10T00:50:47.653075Z"
    }
   },
   "outputs": [
    {
     "name": "stdout",
     "output_type": "stream",
     "text": [
      "CPU times: user 123 ms, sys: 2.41 ms, total: 125 ms\n",
      "Wall time: 9.65 s\n"
     ]
    }
   ],
   "source": [
    "%%time\n",
    "\n",
    "def convert_reponse_to_df(response, date=None):\n",
    "      list = []\n",
    "      # parse report data\n",
    "      for report in response.get('reports', []):\n",
    "\n",
    "        columnHeader = report.get('columnHeader', {})\n",
    "        dimensionHeaders = columnHeader.get('dimensions', [])\n",
    "        metricHeaders = columnHeader.get('metricHeader', {}).get('metricHeaderEntries', [])\n",
    "        rows = report.get('data', {}).get('rows', [])\n",
    "\n",
    "        for row in rows:\n",
    "            dict = {}\n",
    "            dimensions = row.get('dimensions', [])\n",
    "            dateRangeValues = row.get('metrics', [])\n",
    "\n",
    "            for header, dimension in zip(dimensionHeaders, dimensions):\n",
    "                dict[header] = dimension\n",
    "\n",
    "            for i, values in enumerate(dateRangeValues):\n",
    "                for metric, value in zip(metricHeaders, values.get('values')):\n",
    "                    if ',' in value or ',' in value:\n",
    "                        dict[metric.get('name')] = float(value)\n",
    "                    else:\n",
    "                        dict[metric.get('name')] = int(value)\n",
    "                    if date is not None:\n",
    "                        dict['date'] = date\n",
    "            list.append(dict)\n",
    "\n",
    "        df = pd.DataFrame(list)\n",
    "        return df\n",
    "\n",
    "\n",
    "def get_report(analytics, start_date, end_date, view_id, metrics, dimensions, dimensionFilterClauses=[], segments=[]):\n",
    "    body = {\n",
    "        'reportRequests': [\n",
    "        {\n",
    "          'viewId': view_id,\n",
    "          'dateRanges': [{'startDate':start_date, 'endDate': end_date}],\n",
    "          'metrics': metrics,\n",
    "          'dimensions': dimensions,\n",
    "          'pageSize': 10000,\n",
    "          'dimensionFilterClauses': dimensionFilterClauses,\n",
    "          'segments': segments,\n",
    "        }]\n",
    "      }\n",
    "#     print('body', body)\n",
    "    return analytics.reports().batchGet(\n",
    "      body=body\n",
    "    ).execute()\n",
    "\n",
    "\n",
    "def return_ga_data(view_id, metrics, dimensions, split_dates, group_by=[], dimensionFilterClauses=[], segments=[]):\n",
    "    start_date = (datetime.now() - timedelta(FIRSTDATA)).strftime(\"%Y-%m-%d\")\n",
    "    end_date = TODAY\n",
    "    \n",
    "    if split_dates == False:\n",
    "        return convert_reponse_to_df(get_report(analytics, start_date, end_date, view_id, metrics, dimensions, dimensionFilterClauses, segments))\n",
    "    else:\n",
    "        start_date = datetime.strptime(start_date, '%Y-%m-%d').date()\n",
    "        end_date = datetime.strptime(end_date, '%Y-%m-%d').date()\n",
    "\n",
    "        df_total = pd.DataFrame()\n",
    "        for date in rrule(freq=DAILY, dtstart=start_date, until=end_date):\n",
    "            date = str(date.date())\n",
    "            df_total = df_total.append(convert_reponse_to_df(get_report(analytics, date, date, view_id, metrics, dimensions, dimensionFilterClauses, segments), date))\n",
    "\n",
    "        if len(group_by) != 0:\n",
    "            df_total = df_total.groupby(group_by).sum()\n",
    "\n",
    "        return df_total\n",
    "\n",
    "df_ga = return_ga_data(VIEW_ID, METRICS, DIMENTIONS, True)"
   ]
  },
  {
   "cell_type": "code",
   "execution_count": 5,
   "metadata": {
    "execution": {
     "iopub.execute_input": "2020-11-10T00:50:57.316402Z",
     "iopub.status.busy": "2020-11-10T00:50:57.316176Z",
     "iopub.status.idle": "2020-11-10T00:50:57.381082Z",
     "shell.execute_reply": "2020-11-10T00:50:57.380385Z",
     "shell.execute_reply.started": "2020-11-10T00:50:57.316372Z"
    }
   },
   "outputs": [
    {
     "name": "stdout",
     "output_type": "stream",
     "text": [
      "Dataframe 301 successfully save in database app-wsr in MongoDB. Time: --- 0.041902780532836914 secnds ---\n",
      "CPU times: user 16.3 ms, sys: 8.09 ms, total: 24.4 ms\n",
      "Wall time: 59.4 ms\n"
     ]
    }
   ],
   "source": [
    "%%time\n",
    "\n",
    "def domain_301(df):\n",
    "    cols_to_rename = {\"ga:country\": \"ENTITY\", \"date\": \"DATE\", \"ga:users\": \"VALUE_D\"}\n",
    "    domain = df.copy().rename(index=str, columns=cols_to_rename).fillna(\"Not defined\")\n",
    "    domain['DATE'] = pd.to_datetime(domain['DATE'], format='%Y-%m-%d').dt.strftime('%d/%m/%Y')\n",
    "    \n",
    "    #-- Consolidate data\n",
    "    domain_ww = domain.copy()\n",
    "    domain_ww['ENTITY'] = 'WORLDWIDE'\n",
    "    \n",
    "    # Concat & groupby\n",
    "    domain_final = pd.concat([domain,domain_ww], axis=0)\n",
    "    domain_final = domain_final.groupby(['ENTITY','DATE'], as_index=False).agg({'VALUE_D': 'sum'})\n",
    "    domain_final = domain_final.sort_values([\"DATE\"], ascending=True).reset_index(drop=True)\n",
    "    domain_final['VALUE'] = domain_final.groupby(['ENTITY'], as_index=True).agg({'VALUE_D': 'cumsum'})\n",
    "    \n",
    "    domain_final['DATE_ORDER'] = pd.to_datetime(domain_final['DATE'], format='%d/%m/%Y').dt.strftime('%Y%m%d')\n",
    "    domain_final['LAST_UPDATE'] = datetime.now().strftime('%d/%m/%Y %H:%M:%S')\n",
    "    return domain_final\n",
    "\n",
    "domain301 = domain_301(df_ga)\n",
    "if USE_MONGO:\n",
    "    naas_drivers.mongo.send(domain301,'301',DB_APP,True)"
   ]
  },
  {
   "cell_type": "code",
   "execution_count": null,
   "metadata": {},
   "outputs": [],
   "source": []
  }
 ],
 "metadata": {
  "kernelspec": {
   "display_name": "Python 3",
   "language": "python",
   "name": "python3"
  },
  "language_info": {
   "codemirror_mode": {
    "name": "ipython",
    "version": 3
   },
   "file_extension": ".py",
   "mimetype": "text/x-python",
   "name": "python",
   "nbconvert_exporter": "python",
   "pygments_lexer": "ipython3",
   "version": "3.8.6"
  }
 },
 "nbformat": 4,
 "nbformat_minor": 4
}
