{
 "cells": [
  {
   "cell_type": "markdown",
   "metadata": {},
   "source": [
    "<b> Source COVID France updated everyday at 7:00 PM : </b> <br>\n",
    "https://www.data.gouv.fr/fr/datasets/donnees-hospitalieres-relatives-a-lepidemie-de-covid-19/ <br>"
   ]
  },
  {
   "cell_type": "code",
   "execution_count": null,
   "metadata": {},
   "outputs": [],
   "source": [
    "%run __init__.ipynb"
   ]
  },
  {
   "cell_type": "code",
   "execution_count": null,
   "metadata": {},
   "outputs": [],
   "source": [
    "%%time\n",
    "\n",
    "#--- STEP1 ---: Get data source & cleaning\n",
    "def step1(url):\n",
    "    df = check_url(url, ';')\n",
    "    return df\n",
    "\n",
    "url = 'https://www.data.gouv.fr/fr/datasets/r/63352e38-d353-4b54-bfd1-f1b3ee1cabd7'\n",
    "dataFrance=step1(url)\n",
    "df_save(dataFrance,'FRANCE_INIT', 'csv')\n",
    "if USE_MONGO:\n",
    "    naas_drivers.mongo.send(dataFrance,'FRANCE_INIT', DB_SRC, True)\n",
    "dataFrance"
   ]
  },
  {
   "cell_type": "code",
   "execution_count": null,
   "metadata": {},
   "outputs": [],
   "source": [
    "%%time\n",
    "\n",
    "#--- STEP2 ---: Create DB with data source (output = DB_CONCAT)\n",
    "def step2(df):\n",
    "    df= df[(df['sexe'] == 0)].drop(['sexe'], axis=1)\n",
    "    df.columns= df.columns.str.upper()\n",
    "    cols_to_keep= ['DEP','JOUR']\n",
    "    df= df.melt(id_vars=cols_to_keep ,value_name='VALUE',var_name='STATUS').fillna(0)\n",
    "    return df\n",
    "\n",
    "db_concat = step2(dataFrance)\n",
    "df_save(db_concat,'FRANCE_DB_CONCAT','csv')\n",
    "if USE_MONGO:\n",
    "    naas_drivers.mongo.send(db_concat,'FRANCE_DB_CONCAT',DB_SRC,True)\n",
    "# db_concat"
   ]
  },
  {
   "cell_type": "code",
   "execution_count": null,
   "metadata": {},
   "outputs": [],
   "source": [
    "%%time\n",
    "\n",
    "#--- STEP3 ---: Consolidate and enrich data (output = DB_CONSO)\n",
    "def step3(df,ref):\n",
    "    #-- Merge France\n",
    "    df['DEP'] = df['DEP'].astype(str)\n",
    "    ref['DEP_CODE'] = ref['DEP_CODE'].astype(str)\n",
    "    ref['DEP_FULL'] = ref['DEP_CODE'] + ' - ' + ref['DEP_NAME']\n",
    "    cols_to_rename = {\"REG_NAME\": \"LABEL_GROUPS\",'DEP_FULL':'LABEL','JOUR':'DATE'}\n",
    "    df= pd.merge(df,ref, left_on='DEP', right_on='DEP_CODE',how='left').drop(['DEP','DEP_CODE','DEP_NAME'], axis=1).rename(index=str, columns=cols_to_rename)\n",
    "    \n",
    "    #-- Conso Region\n",
    "    df_re = df.copy()\n",
    "    df_re['LABEL'] = df_re['LABEL_GROUPS']\n",
    "    df_re['LABEL_GROUPS'] = 'France'\n",
    "    \n",
    "    #-- Conso France\n",
    "    df_fr = df_re.copy()\n",
    "    df_fr['LABEL'] = df_re['LABEL_GROUPS']\n",
    "    df_fr['LABEL_GROUPS'] = 'France'\n",
    "    \n",
    "    df = pd.concat([df,df_re,df_fr],axis=0)\n",
    "    df['DATE'] = pd.to_datetime(df['DATE'], format='%Y-%m-%d', infer_datetime_format=True)\n",
    "    \n",
    "    cols_to_group = ['DATE','STATUS','LABEL','LABEL_GROUPS']\n",
    "    df = df.groupby(cols_to_group, as_index=False).agg({'VALUE':'sum'})\n",
    "    return df.reset_index(drop=True)\n",
    "\n",
    "db_conso = step3(db_concat,REF_FRANCE)\n",
    "df_save(db_conso,'FRANCE_DB_CONSO','csv')\n",
    "if USE_MONGO:\n",
    "    naas_drivers.mongo.send(db_conso,'FRANCE_DB_CONSO',DB_SRC,True)\n",
    "db_conso"
   ]
  },
  {
   "cell_type": "code",
   "execution_count": null,
   "metadata": {},
   "outputs": [],
   "source": [
    "%%time\n",
    "\n",
    "#--- STEP4 ---: Calculate KPIs (output = DB_ALL)\n",
    "def step4(df):\n",
    "    df = df.copy().sort_values(by='DATE', \n",
    "                               ascending=False)\n",
    "    #-- Calc var vs yesterday\n",
    "    #Add variable date\n",
    "    df['LAST_DAY']= df['DATE'] + timedelta(days=-1)\n",
    "    \n",
    "    #Create new df\n",
    "    cols_to_rename = {\"DATE\": \"LAST_DAY\",'VALUE':'VALUE_D-1'}\n",
    "    df_last = df.drop(['LAST_DAY'],axis=1).rename(index=str, columns=cols_to_rename)\n",
    "    \n",
    "    #Merge variation\n",
    "    cols_to_merge = ['LAST_DAY','STATUS','LABEL','LABEL_GROUPS']\n",
    "    df = df.merge(df_last, on=cols_to_merge)#.drop(['LAST_DAY'],axis=1)\n",
    "    df['SCENARIO']= df['DATE'].dt.strftime('%d/%m/%Y')\n",
    "    df['DATE_ORDER']= df['DATE'].dt.strftime('%Y%m%d')\n",
    "    \n",
    "    #calc var\n",
    "    df['VARV'] = df['VALUE'] - df['VALUE_D-1'] \n",
    "    df['VARP'] = df['VARV'] / abs(df['VALUE_D-1']) * 100\n",
    "    \n",
    "    #-- Rename status\n",
    "    df.loc[df['STATUS'] == 'HOSP','STATUS_NAME'] = 'Hospitalisations'\n",
    "    df.loc[df['STATUS'] == 'REA','STATUS_NAME'] = 'En réanimation'\n",
    "    df.loc[df['STATUS'] == 'RAD','STATUS_NAME'] = 'Retours à domicile'\n",
    "    df.loc[df['STATUS'] == 'DC','STATUS_NAME'] = 'Décès à l’hôpital'\n",
    "    df.loc[df['STATUS'] == 'HOSP','STATUS_ORDER'] = 1\n",
    "    df.loc[df['STATUS'] == 'REA','STATUS_ORDER'] = 2\n",
    "    df.loc[df['STATUS'] == 'RAD','STATUS_ORDER'] = 3\n",
    "    df.loc[df['STATUS'] == 'DC','STATUS_ORDER'] = 4\n",
    "    return df.reset_index(drop=True)\n",
    "\n",
    "db_all=step4(db_conso)    \n",
    "df_save(db_all,'FRANCE_DB_ALL','csv')\n",
    "if USE_MONGO:\n",
    "    naas_drivers.mongo.send(db_all,'FRANCE_DB_ALL',DB_SRC,True)\n",
    "# db_all"
   ]
  },
  {
   "cell_type": "code",
   "execution_count": null,
   "metadata": {},
   "outputs": [],
   "source": [
    "%%time\n",
    "\n",
    "#--- STEP5 ---: DB_TREND (output = DB_TREND)\n",
    "def step5(df):\n",
    "    #-- Melt CALC in rows\n",
    "    cols_to_keep = ['LABEL','LABEL_GROUPS','SCENARIO','DATE','DATE_ORDER','STATUS','STATUS_NAME','STATUS_ORDER']\n",
    "    df= df.drop(['VALUE_D-1','LAST_DAY'],axis=1).melt(id_vars=cols_to_keep, value_name='VALUE',var_name='METRIC')\n",
    "\n",
    "    #-- Get units and precisions\n",
    "    df.loc[:, 'UNIT'] = \" cas\"\n",
    "    df.loc[df['METRIC'] == 'VARP', 'UNIT'] = \" %\"\n",
    "    df.loc[df['METRIC'] == 'VALUE', 'PRECISION'] = \",.0f\"\n",
    "    df.loc[df['METRIC'] == 'VARV', 'PRECISION'] = \"+,.0f\"\n",
    "    df.loc[df['METRIC'] == 'VARP', 'PRECISION'] = \"+,.2f\"\n",
    "    df = df.reset_index(drop=True)\n",
    "    return df\n",
    "\n",
    "db_trend=step5(db_all)   \n",
    "df_save(db_trend,'FRANCE_DB_TREND','csv')\n",
    "if USE_MONGO:\n",
    "    naas_drivers.mongo.send(db_trend,'FRANCE_DB_TREND', DB_SRC, True)\n",
    "# db_trend"
   ]
  }
 ],
 "metadata": {
  "kernelspec": {
   "display_name": "Python 3",
   "language": "python",
   "name": "python3"
  },
  "language_info": {
   "codemirror_mode": {
    "name": "ipython",
    "version": 3
   },
   "file_extension": ".py",
   "mimetype": "text/x-python",
   "name": "python",
   "nbconvert_exporter": "python",
   "pygments_lexer": "ipython3",
   "version": "3.8.6"
  }
 },
 "nbformat": 4,
 "nbformat_minor": 4
}
