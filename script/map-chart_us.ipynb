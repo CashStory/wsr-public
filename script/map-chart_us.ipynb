{
 "cells": [
  {
   "cell_type": "code",
   "execution_count": 1,
   "metadata": {},
   "outputs": [
    {
     "name": "stdout",
     "output_type": "stream",
     "text": [
      "Successfully connected to MongoDB\n"
     ]
    }
   ],
   "source": [
    "%run __init__.ipynb"
   ]
  },
  {
   "cell_type": "code",
   "execution_count": 2,
   "metadata": {},
   "outputs": [],
   "source": [
    "#Highlighted KPIS\n",
    "def domain_108(df):\n",
    "    domain = df.copy()\n",
    "    #Calcul US\n",
    "    domain = domain.groupby('Date', as_index=False).agg({'Confirmed':'sum', 'Deaths':'sum' , 'Population':'sum'})\n",
    "    domain.loc[(domain['Deaths'] != 0),'Fatality Rate'] = round((domain['Deaths']/domain['Confirmed']*100),2)\n",
    "    domain.loc[(domain['Confirmed'] != 0),'Confirmed Ratio'] = round((domain['Confirmed']/domain['Population']*100000),0)\n",
    "    domain.loc[(domain['Deaths'] != 0),'Deaths Ratio'] = round((domain['Deaths']/domain['Population']*100000),0)\n",
    "    \n",
    "    #Create DF for HKPIS\n",
    "    cols_to_keep = ['Date']\n",
    "    domain= domain.melt(id_vars=cols_to_keep,value_name='VALUE',var_name='KPI')\n",
    "    \n",
    "    #Calc variation\n",
    "    kpis = domain['KPI'].drop_duplicates().values.tolist()\n",
    "    final_domain = pd.DataFrame()\n",
    "    for kpi in kpis:\n",
    "        tmp_df = domain[domain['KPI'] == kpi].sort_values(by=\"Date\", ascending=False).reset_index(drop=True)\n",
    "        final_domain = final_domain.append(tmp_df)\n",
    "    \n",
    "    #Create df last + merge\n",
    "    final_domain['D'] = (final_domain.index).astype(str)\n",
    "    final_domain['D-1'] = (final_domain.index + 1).astype(str)\n",
    "    cols_to_rename = {\"D\": \"D-1\",'VALUE':'VALUE_D-1'}\n",
    "    df_last = final_domain[['D','KPI','VALUE']].rename(index=str, columns=cols_to_rename) \n",
    "    final_domain = final_domain.merge(df_last, on= ['D-1','KPI'], how= 'left').drop(['D','D-1'], axis=1)\n",
    "    \n",
    "    #Add fields \n",
    "    #SCENARIO\n",
    "    final_domain['SCENARIO'] = pd.to_datetime(final_domain['Date'], format='%m/%d/%y').dt.strftime('%d/%m/%Y')\n",
    "    \n",
    "    #VARIATION\n",
    "    final_domain['VAR'] = final_domain['VALUE'] - final_domain['VALUE_D-1']\n",
    "    final_domain['VARP'] = final_domain['VAR'] / abs(final_domain['VALUE_D-1']) * 100\n",
    "    \n",
    "    #UNIT & PRECISION\n",
    "    final_domain.loc[:,'UNIT_VALUE'] = ''\n",
    "    final_domain.loc[final_domain['KPI'] == 'Fatality Rate','UNIT_VALUE'] = ' %'\n",
    "    final_domain.loc[:,'UNIT_VAR'] = ''\n",
    "    final_domain.loc[final_domain['KPI'] == 'Fatality Rate','UNIT_VAR'] = ' pts'\n",
    "    final_domain.loc[:,'PRECISION_VALUE'] = ',.0f'\n",
    "    final_domain.loc[final_domain['KPI'] == 'Fatality Rate','PRECISION_VALUE'] = ',.2f'\n",
    "    final_domain.loc[:,'PRECISION_VAR'] = '+,.0f'\n",
    "    final_domain.loc[final_domain['KPI'] == 'Fatality Rate','PRECISION_VAR'] = '+,.3f'\n",
    "    \n",
    "    final_domain = final_domain.drop('Date',axis=1).dropna().reset_index(drop=True)\n",
    "    if not final_domain.empty:\n",
    "        naas_drivers.mongo.send(final_domain, '108', DB_APP, True)\n",
    "    return final_domain"
   ]
  },
  {
   "cell_type": "code",
   "execution_count": 7,
   "metadata": {},
   "outputs": [
    {
     "name": "stdout",
     "output_type": "stream",
     "text": [
      "Dataframe 108 successfully save in database app-wsr in MongoDB. Time: --- 0.10436606407165527 secnds ---\n",
      "US_MAP successfully saved in US_MAP\n",
      "CPU times: user 1.08 s, sys: 185 ms, total: 1.27 s\n",
      "Wall time: 1.53 s\n"
     ]
    },
    {
     "data": {
      "text/html": [
       "<div>\n",
       "<style scoped>\n",
       "    .dataframe tbody tr th:only-of-type {\n",
       "        vertical-align: middle;\n",
       "    }\n",
       "\n",
       "    .dataframe tbody tr th {\n",
       "        vertical-align: top;\n",
       "    }\n",
       "\n",
       "    .dataframe thead th {\n",
       "        text-align: right;\n",
       "    }\n",
       "</style>\n",
       "<table border=\"1\" class=\"dataframe\">\n",
       "  <thead>\n",
       "    <tr style=\"text-align: right;\">\n",
       "      <th></th>\n",
       "      <th>Date</th>\n",
       "      <th>Province_State</th>\n",
       "      <th>Confirmed</th>\n",
       "      <th>Deaths</th>\n",
       "      <th>Population</th>\n",
       "      <th>Fatality Rate</th>\n",
       "      <th>Confirmed Rate</th>\n",
       "      <th>Deaths Rate</th>\n",
       "    </tr>\n",
       "  </thead>\n",
       "  <tbody>\n",
       "  </tbody>\n",
       "</table>\n",
       "</div>"
      ],
      "text/plain": [
       "Empty DataFrame\n",
       "Columns: [Date, Province_State, Confirmed, Deaths, Population, Fatality Rate, Confirmed Rate, Deaths Rate]\n",
       "Index: []"
      ]
     },
     "execution_count": 7,
     "metadata": {},
     "output_type": "execute_result"
    }
   ],
   "source": [
    "%%time\n",
    "\n",
    "# Load Data Source\n",
    "def check_data():\n",
    "    # Data check\n",
    "    file_path_check = os.path.join(OUTPUT_FOLDER,'US_MAP.csv')\n",
    "    df_check = pd.DataFrame()\n",
    "    if path.exists(file_path_check):\n",
    "        df_check = pd.read_csv(file_path_check, sep=\";\")\n",
    "        df_check = df_check[(df_check['Date'] == YESTERDAY.strftime('%d/%m/%y'))].reset_index(drop=True)\n",
    "        if df_check.empty:\n",
    "            print(f'Data already updated !')\n",
    "            %stop \n",
    "    return df_check\n",
    "\n",
    "\n",
    "# Trasnform Data Source\n",
    "def transform_data(df):\n",
    "    #--Create Dataframe\n",
    "    def create_df(df_name, kpi, agg, cols_to_keep):\n",
    "        file_path_conf = os.path.join(OUTPUT_FOLDER, f'{df_name}.csv')\n",
    "        df = pd.read_csv(file_path_conf, sep=\";\")\n",
    "        df = df.drop('Unnamed: 0',axis=1)\n",
    "        df = df.melt(id_vars=cols_to_keep,value_name=kpi,var_name='Date')\n",
    "        df = df.groupby(['Date','Province_State'], as_index=False).agg(agg)\n",
    "        return df\n",
    "    \n",
    "    cols_to_keep = ['UID','iso2', 'iso3',\n",
    "                    'code3','FIPS','Admin2',\n",
    "                    'Lat','Long_','Combined_Key',\n",
    "                    'Province_State','Country_Region']\n",
    "    c_us = create_df('US_CONFIRMED', 'Confirmed' , {'Confirmed':'sum'}, cols_to_keep)\n",
    "    \n",
    "    cols_to_keep = ['UID','iso2', 'iso3',\n",
    "                    'code3','FIPS','Admin2',\n",
    "                    'Lat','Long_','Combined_Key',\n",
    "                    'Province_State','Country_Region','Population'] \n",
    "    d_us = create_df('US_DEATHS', 'Deaths' , {'Deaths':'sum','Population':'sum'}, cols_to_keep)\n",
    "    \n",
    "    # Merge\n",
    "    df_us = pd.merge(c_us, d_us, on=['Date','Province_State'], how='left').reset_index(drop=True)\n",
    "    df_us.loc[(df_us['Deaths'] != 0),'Fatality Rate'] = round((df_us['Deaths']/df_us['Confirmed']*100),2)\n",
    "    df_us.loc[(df_us['Confirmed'] != 0),'Confirmed Rate'] = round((df_us['Confirmed']/df_us['Population']*100000),0)\n",
    "    df_us.loc[(df_us['Deaths'] != 0),'Deaths Rate'] = round((df_us['Deaths']/df_us['Population']*100000),0)\n",
    "    df_us['Date'] = pd.to_datetime(df_us['Date'], format='%m/%d/%y').dt.strftime('%m/%d/%y')\n",
    "    \n",
    "    # Check df\n",
    "    df_check = df_us[(df_us['Date'] == YESTERDAY.strftime('%m/%d/%y')) & \n",
    "                (df_us['Population'] != 0) & \n",
    "                (df_us['Confirmed'] != 0)]\n",
    "    \n",
    "    if df_check.empty:\n",
    "        print(f'Data not updated !')\n",
    "        %stop\n",
    "    else:\n",
    "        # Generate\n",
    "        domain_108(df_us)\n",
    "        df_save(df_us,'US_MAP','csv')\n",
    "        \n",
    "    return df_check\n",
    "\n",
    "df_us = transform_data(check_data())\n",
    "df_us.head(5)"
   ]
  },
  {
   "cell_type": "code",
   "execution_count": 8,
   "metadata": {},
   "outputs": [],
   "source": [
    "def create_map(df,geo,kpi,scale,colors):\n",
    "    file_path = os.path.join(OUTPUT_FOLDER,f'{kpi}.html')\n",
    "    fig = px.choropleth_mapbox(df, geojson=geo, color=kpi,\n",
    "                               locations=\"Province_State\", featureidkey=\"properties.NAME\",\n",
    "                               range_color=scale,\n",
    "                               color_continuous_scale=colors,\n",
    "                               mapbox_style=\"carto-positron\", \n",
    "                               zoom=3, center={\"lat\": 37.0902, \"lon\": -95.7129},\n",
    "                               labels={'Province_State':'State'}\n",
    "                              )\n",
    "    fig.update_layout(margin={\"r\":0,\"l\":0,},autosize=True)\n",
    "    fig.write_html(file_path)\n",
    "    updateChartCss(file_path, os.path.join(INPUT_FOLDER,'map.css'))"
   ]
  },
  {
   "cell_type": "code",
   "execution_count": 9,
   "metadata": {},
   "outputs": [
    {
     "name": "stderr",
     "output_type": "stream",
     "text": [
      "/opt/conda/lib/python3.8/site-packages/numpy/core/fromnumeric.py:3334: RuntimeWarning: Mean of empty slice.\n",
      "  return _methods._mean(a, axis=axis, dtype=dtype,\n",
      "/opt/conda/lib/python3.8/site-packages/numpy/core/_methods.py:161: RuntimeWarning: invalid value encountered in double_scalars\n",
      "  ret = ret.dtype.type(ret / rcount)\n"
     ]
    },
    {
     "name": "stdout",
     "output_type": "stream",
     "text": [
      "Confirmed : Min: nan, Max: nan,Average: nan, AvrMax: nan,Med: nan, MedMax: nan\n",
      "👌 Well done! Your Assets has been sent to production.\n",
      "\n"
     ]
    },
    {
     "data": {
      "application/vnd.jupyter.widget-view+json": {
       "model_id": "9e8ed2801d384f8cab7a2379c59966e0",
       "version_major": 2,
       "version_minor": 0
      },
      "text/plain": [
       "Button(description='Copy URL', style=ButtonStyle())"
      ]
     },
     "metadata": {},
     "output_type": "display_data"
    },
    {
     "data": {
      "application/vnd.jupyter.widget-view+json": {
       "model_id": "40e84eb95e0e4d1eaaac796cbfe5e2a3",
       "version_major": 2,
       "version_minor": 0
      },
      "text/plain": [
       "Output()"
      ]
     },
     "metadata": {},
     "output_type": "display_data"
    },
    {
     "name": "stdout",
     "output_type": "stream",
     "text": [
      "PS: to remove the \"Assets\" feature, just replace .add by .delete\n"
     ]
    }
   ],
   "source": [
    "#Confirmed\n",
    "kpi='Confirmed'\n",
    "scale = (100,250000)\n",
    "colors = [\n",
    "    [0.0, \"#FFFFFF\"],\n",
    "    [0.01,\"#B3D7D2\"],\n",
    "    [0.1, \"#81B1BD\"],\n",
    "    [0.3, \"#437F9D\"],\n",
    "    [1.0, \"#00354E\"]\n",
    "]\n",
    "analysis(df_us, kpi)\n",
    "create_map(df_us,MAP_STATES_20M,kpi,scale,colors)\n",
    "file_html = f'{kpi}.html'\n",
    "\n",
    "#Make html visible\n",
    "token_conf = naas.assets.add(os.path.join(OUTPUT_FOLDER, file_html), params={\"inline\":True})"
   ]
  },
  {
   "cell_type": "code",
   "execution_count": 10,
   "metadata": {},
   "outputs": [
    {
     "name": "stdout",
     "output_type": "stream",
     "text": [
      "Confirmed Rate : Min: nan, Max: nan,Average: nan, AvrMax: nan,Med: nan, MedMax: nan\n"
     ]
    },
    {
     "name": "stderr",
     "output_type": "stream",
     "text": [
      "/opt/conda/lib/python3.8/site-packages/numpy/core/fromnumeric.py:3334: RuntimeWarning:\n",
      "\n",
      "Mean of empty slice.\n",
      "\n",
      "/opt/conda/lib/python3.8/site-packages/numpy/core/_methods.py:161: RuntimeWarning:\n",
      "\n",
      "invalid value encountered in double_scalars\n",
      "\n"
     ]
    },
    {
     "name": "stdout",
     "output_type": "stream",
     "text": [
      "👌 Well done! Your Assets has been sent to production.\n",
      "\n"
     ]
    },
    {
     "data": {
      "application/vnd.jupyter.widget-view+json": {
       "model_id": "b04f0b64da56440ebe6376bc8fc4ac1c",
       "version_major": 2,
       "version_minor": 0
      },
      "text/plain": [
       "Button(description='Copy URL', style=ButtonStyle())"
      ]
     },
     "metadata": {},
     "output_type": "display_data"
    },
    {
     "data": {
      "application/vnd.jupyter.widget-view+json": {
       "model_id": "88de54e20702408ebec2d5b2e3666976",
       "version_major": 2,
       "version_minor": 0
      },
      "text/plain": [
       "Output()"
      ]
     },
     "metadata": {},
     "output_type": "display_data"
    },
    {
     "name": "stdout",
     "output_type": "stream",
     "text": [
      "PS: to remove the \"Assets\" feature, just replace .add by .delete\n"
     ]
    }
   ],
   "source": [
    "#Confirmed Rate\n",
    "colors = [\n",
    "    [0.0, \"#FFFFFF\"],\n",
    "    [0.01,\"#B3D7D2\"],\n",
    "    [0.1, \"#81B1BD\"],\n",
    "    [0.3, \"#437F9D\"],\n",
    "    [1.0, \"#00354E\"]\n",
    "]\n",
    "scale = (100,1000)\n",
    "kpi='Confirmed Rate'\n",
    "analysis(df_us, kpi)\n",
    "create_map(df_us,MAP_STATES_20M,kpi,scale,colors)\n",
    "file_html = f'{kpi}.html'\n",
    "\n",
    "#Make html visible\n",
    "token_conf_rate = naas.assets.add(os.path.join(OUTPUT_FOLDER, file_html), params={\"inline\":True})"
   ]
  },
  {
   "cell_type": "code",
   "execution_count": 11,
   "metadata": {},
   "outputs": [
    {
     "name": "stdout",
     "output_type": "stream",
     "text": [
      "Deaths : Min: nan, Max: nan,Average: nan, AvrMax: nan,Med: nan, MedMax: nan\n",
      "👌 Well done! Your Assets has been sent to production.\n",
      "\n"
     ]
    },
    {
     "data": {
      "application/vnd.jupyter.widget-view+json": {
       "model_id": "a9d44674ca494db28e91049120f42dfc",
       "version_major": 2,
       "version_minor": 0
      },
      "text/plain": [
       "Button(description='Copy URL', style=ButtonStyle())"
      ]
     },
     "metadata": {},
     "output_type": "display_data"
    },
    {
     "data": {
      "application/vnd.jupyter.widget-view+json": {
       "model_id": "5cae2b307445468daa13f3a7a3a736a5",
       "version_major": 2,
       "version_minor": 0
      },
      "text/plain": [
       "Output()"
      ]
     },
     "metadata": {},
     "output_type": "display_data"
    },
    {
     "name": "stdout",
     "output_type": "stream",
     "text": [
      "PS: to remove the \"Assets\" feature, just replace .add by .delete\n"
     ]
    }
   ],
   "source": [
    "#'Deaths'\n",
    "colors = [\n",
    "    [0.0, \"#FFFFFF\"],\n",
    "    [0.01,\"#B3D7D2\"],\n",
    "    [0.1, \"#81B1BD\"],\n",
    "    [0.3, \"#437F9D\"],\n",
    "    [1.0, \"#00354E\"]\n",
    "]\n",
    "scale = (0,10000)\n",
    "kpi='Deaths'\n",
    "analysis(df_us, kpi)\n",
    "create_map(df_us,MAP_STATES_20M,kpi,scale,colors)\n",
    "file_html = f'{kpi}.html'\n",
    "\n",
    "#Make html visible\n",
    "token_death = naas.assets.add(os.path.join(OUTPUT_FOLDER, file_html), params={\"inline\":True})"
   ]
  },
  {
   "cell_type": "code",
   "execution_count": 12,
   "metadata": {},
   "outputs": [
    {
     "name": "stdout",
     "output_type": "stream",
     "text": [
      "Deaths Rate : Min: nan, Max: nan,Average: nan, AvrMax: nan,Med: nan, MedMax: nan\n",
      "👌 Well done! Your Assets has been sent to production.\n",
      "\n"
     ]
    },
    {
     "data": {
      "application/vnd.jupyter.widget-view+json": {
       "model_id": "01135eb526d74c7998ac5fe552264f95",
       "version_major": 2,
       "version_minor": 0
      },
      "text/plain": [
       "Button(description='Copy URL', style=ButtonStyle())"
      ]
     },
     "metadata": {},
     "output_type": "display_data"
    },
    {
     "data": {
      "application/vnd.jupyter.widget-view+json": {
       "model_id": "7f6b7736803e4d73a060156517bd546c",
       "version_major": 2,
       "version_minor": 0
      },
      "text/plain": [
       "Output()"
      ]
     },
     "metadata": {},
     "output_type": "display_data"
    },
    {
     "name": "stdout",
     "output_type": "stream",
     "text": [
      "PS: to remove the \"Assets\" feature, just replace .add by .delete\n"
     ]
    }
   ],
   "source": [
    "#'Deaths Rate'\n",
    "colors = [\n",
    "    [0.0, \"#FFFFFF\"],\n",
    "    [0.01,\"#B3D7D2\"],\n",
    "    [0.1, \"#81B1BD\"],\n",
    "    [0.3, \"#437F9D\"],\n",
    "    [1.0, \"#00354E\"]\n",
    "]\n",
    "scale = (10,100)\n",
    "kpi='Deaths Rate'\n",
    "analysis(df_us, kpi)\n",
    "create_map(df_us,MAP_STATES_20M,kpi,scale,colors)\n",
    "file_html = f'{kpi}.html'\n",
    "\n",
    "#Make html visible\n",
    "token_death_rate = naas.assets.add(os.path.join(OUTPUT_FOLDER, file_html), params={\"inline\":True})"
   ]
  },
  {
   "cell_type": "code",
   "execution_count": 13,
   "metadata": {},
   "outputs": [
    {
     "name": "stdout",
     "output_type": "stream",
     "text": [
      "Fatality Rate : Min: nan, Max: nan,Average: nan, AvrMax: nan,Med: nan, MedMax: nan\n",
      "👌 Well done! Your Assets has been sent to production.\n",
      "\n"
     ]
    },
    {
     "data": {
      "application/vnd.jupyter.widget-view+json": {
       "model_id": "d9743eb38ab243988ca6bc88cb22173f",
       "version_major": 2,
       "version_minor": 0
      },
      "text/plain": [
       "Button(description='Copy URL', style=ButtonStyle())"
      ]
     },
     "metadata": {},
     "output_type": "display_data"
    },
    {
     "data": {
      "application/vnd.jupyter.widget-view+json": {
       "model_id": "3c4325b757c140e9bb469e1ac5691f16",
       "version_major": 2,
       "version_minor": 0
      },
      "text/plain": [
       "Output()"
      ]
     },
     "metadata": {},
     "output_type": "display_data"
    },
    {
     "name": "stdout",
     "output_type": "stream",
     "text": [
      "PS: to remove the \"Assets\" feature, just replace .add by .delete\n"
     ]
    }
   ],
   "source": [
    "#Fatality Rate\n",
    "colors = [\n",
    "    [0.0, \"#FFFFFF\"],\n",
    "    [0.25,\"#B3D7D2\"],\n",
    "    [0.5, \"#81B1BD\"],\n",
    "    [0.75, \"#437F9D\"],\n",
    "    [1.0, \"#00354E\"]\n",
    "]\n",
    "scale = (0,10)\n",
    "kpi='Fatality Rate'\n",
    "analysis(df_us, kpi)\n",
    "create_map(df_us,MAP_STATES_20M,kpi,scale,colors)\n",
    "file_html = f'{kpi}.html'\n",
    "\n",
    "#Make html visible\n",
    "token_fatality_rate = naas.assets.add(os.path.join(OUTPUT_FOLDER, file_html), params={\"inline\":True})"
   ]
  },
  {
   "cell_type": "code",
   "execution_count": 14,
   "metadata": {},
   "outputs": [
    {
     "name": "stdout",
     "output_type": "stream",
     "text": [
      "Dataframe 109 successfully save in database app-wsr in MongoDB. Time: --- 0.019133567810058594 secnds ---\n"
     ]
    },
    {
     "data": {
      "text/html": [
       "<div>\n",
       "<style scoped>\n",
       "    .dataframe tbody tr th:only-of-type {\n",
       "        vertical-align: middle;\n",
       "    }\n",
       "\n",
       "    .dataframe tbody tr th {\n",
       "        vertical-align: top;\n",
       "    }\n",
       "\n",
       "    .dataframe thead th {\n",
       "        text-align: right;\n",
       "    }\n",
       "</style>\n",
       "<table border=\"1\" class=\"dataframe\">\n",
       "  <thead>\n",
       "    <tr style=\"text-align: right;\">\n",
       "      <th></th>\n",
       "      <th>URL</th>\n",
       "      <th>KPI</th>\n",
       "      <th>UPPER_FILTER</th>\n",
       "      <th>VALUE</th>\n",
       "    </tr>\n",
       "  </thead>\n",
       "  <tbody>\n",
       "    <tr>\n",
       "      <th>0</th>\n",
       "      <td>https://public.naas.ai/Ym9iLTQwY2FzaHN0b3J5LTJ...</td>\n",
       "      <td>Confirmed</td>\n",
       "      <td>All population</td>\n",
       "      <td>&lt;iframe src='https://public.naas.ai/Ym9iLTQwY2...</td>\n",
       "    </tr>\n",
       "    <tr>\n",
       "      <th>1</th>\n",
       "      <td>https://public.naas.ai/Ym9iLTQwY2FzaHN0b3J5LTJ...</td>\n",
       "      <td>Deaths</td>\n",
       "      <td>All population</td>\n",
       "      <td>&lt;iframe src='https://public.naas.ai/Ym9iLTQwY2...</td>\n",
       "    </tr>\n",
       "    <tr>\n",
       "      <th>2</th>\n",
       "      <td>https://public.naas.ai/Ym9iLTQwY2FzaHN0b3J5LTJ...</td>\n",
       "      <td>Fatality Rate</td>\n",
       "      <td>All population</td>\n",
       "      <td>&lt;iframe src='https://public.naas.ai/Ym9iLTQwY2...</td>\n",
       "    </tr>\n",
       "    <tr>\n",
       "      <th>3</th>\n",
       "      <td>https://public.naas.ai/Ym9iLTQwY2FzaHN0b3J5LTJ...</td>\n",
       "      <td>Confirmed Ratio</td>\n",
       "      <td>100k inhab</td>\n",
       "      <td>&lt;iframe src='https://public.naas.ai/Ym9iLTQwY2...</td>\n",
       "    </tr>\n",
       "    <tr>\n",
       "      <th>4</th>\n",
       "      <td>https://public.naas.ai/Ym9iLTQwY2FzaHN0b3J5LTJ...</td>\n",
       "      <td>Deaths Ratio</td>\n",
       "      <td>100k inhab</td>\n",
       "      <td>&lt;iframe src='https://public.naas.ai/Ym9iLTQwY2...</td>\n",
       "    </tr>\n",
       "  </tbody>\n",
       "</table>\n",
       "</div>"
      ],
      "text/plain": [
       "                                                 URL              KPI  \\\n",
       "0  https://public.naas.ai/Ym9iLTQwY2FzaHN0b3J5LTJ...        Confirmed   \n",
       "1  https://public.naas.ai/Ym9iLTQwY2FzaHN0b3J5LTJ...           Deaths   \n",
       "2  https://public.naas.ai/Ym9iLTQwY2FzaHN0b3J5LTJ...    Fatality Rate   \n",
       "3  https://public.naas.ai/Ym9iLTQwY2FzaHN0b3J5LTJ...  Confirmed Ratio   \n",
       "4  https://public.naas.ai/Ym9iLTQwY2FzaHN0b3J5LTJ...     Deaths Ratio   \n",
       "\n",
       "     UPPER_FILTER                                              VALUE  \n",
       "0  All population  <iframe src='https://public.naas.ai/Ym9iLTQwY2...  \n",
       "1  All population  <iframe src='https://public.naas.ai/Ym9iLTQwY2...  \n",
       "2  All population  <iframe src='https://public.naas.ai/Ym9iLTQwY2...  \n",
       "3      100k inhab  <iframe src='https://public.naas.ai/Ym9iLTQwY2...  \n",
       "4      100k inhab  <iframe src='https://public.naas.ai/Ym9iLTQwY2...  "
      ]
     },
     "execution_count": 14,
     "metadata": {},
     "output_type": "execute_result"
    }
   ],
   "source": [
    "# html\n",
    "\n",
    "CONFIRMED = [{'URL':  token_conf,\n",
    "             'KPI': 'Confirmed',\n",
    "             'UPPER_FILTER': 'All population'}]\n",
    "\n",
    "DEATHS = [{'URL':  token_death,\n",
    "           'KPI': 'Deaths',\n",
    "           'UPPER_FILTER': 'All population'}]\n",
    "\n",
    "FATALITY_RATE = [{'URL':  token_fatality_rate,\n",
    "            'KPI': 'Fatality Rate',\n",
    "            'UPPER_FILTER': 'All population'}]\n",
    "\n",
    "CONFIRMED_RATE = [{'URL':  token_conf_rate,\n",
    "            'KPI': 'Confirmed Ratio',\n",
    "            'UPPER_FILTER': '100k inhab'}]\n",
    "\n",
    "DEATH_RATE = [{'URL':  token_death_rate,\n",
    "             'KPI': 'Deaths Ratio',\n",
    "             'UPPER_FILTER': '100k inhab'}]\n",
    "\n",
    "#Concat list to create Series\n",
    "LIST_KPIS = (CONFIRMED + DEATHS + FATALITY_RATE + CONFIRMED_RATE + DEATH_RATE)\n",
    "\n",
    "#Create Dataframe\n",
    "DOMAIN = pd.DataFrame(LIST_KPIS)\n",
    "DOMAIN.loc[:, 'VALUE'] = (\"<iframe src='\" +\n",
    "                          DOMAIN['URL'] +\n",
    "                          (\"' frameborder='0' style='overflow:hidden;\"\n",
    "                           \"height:85vh;width:100%' height='100%' \"\n",
    "                           \"width='100%'></iframe> <style>.modebar\"\n",
    "                           \"{display: none!important;}</style>\"))\n",
    "if USE_MONGO:\n",
    "    naas_drivers.mongo.send(DOMAIN,'109',DB_APP,True)\n",
    "DOMAIN"
   ]
  },
  {
   "cell_type": "code",
   "execution_count": null,
   "metadata": {},
   "outputs": [],
   "source": []
  }
 ],
 "metadata": {
  "kernelspec": {
   "display_name": "Python 3",
   "language": "python",
   "name": "python3"
  },
  "language_info": {
   "codemirror_mode": {
    "name": "ipython",
    "version": 3
   },
   "file_extension": ".py",
   "mimetype": "text/x-python",
   "name": "python",
   "nbconvert_exporter": "python",
   "pygments_lexer": "ipython3",
   "version": "3.8.6"
  }
 },
 "nbformat": 4,
 "nbformat_minor": 4
}
