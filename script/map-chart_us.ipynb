{
 "cells": [
  {
   "cell_type": "code",
   "execution_count": 1,
   "metadata": {
    "execution": {
     "iopub.execute_input": "2020-11-10T02:03:02.747729Z",
     "iopub.status.busy": "2020-11-10T02:03:02.747477Z",
     "iopub.status.idle": "2020-11-10T02:03:07.793153Z",
     "shell.execute_reply": "2020-11-10T02:03:07.792424Z",
     "shell.execute_reply.started": "2020-11-10T02:03:02.747686Z"
    }
   },
   "outputs": [
    {
     "name": "stdout",
     "output_type": "stream",
     "text": [
      "Successfully connected to MongoDB\n"
     ]
    }
   ],
   "source": [
    "%run __init__.ipynb"
   ]
  },
  {
   "cell_type": "code",
   "execution_count": 2,
   "metadata": {
    "execution": {
     "iopub.execute_input": "2020-11-10T02:03:07.797798Z",
     "iopub.status.busy": "2020-11-10T02:03:07.797384Z",
     "iopub.status.idle": "2020-11-10T02:03:07.809083Z",
     "shell.execute_reply": "2020-11-10T02:03:07.808473Z",
     "shell.execute_reply.started": "2020-11-10T02:03:07.797767Z"
    }
   },
   "outputs": [],
   "source": [
    "#Highlighted KPIS\n",
    "def domain_108(df):\n",
    "    domain = df.copy()\n",
    "    #Calcul US\n",
    "    domain = domain.groupby('Date', as_index=False).agg({'Confirmed':'sum', 'Deaths':'sum' , 'Population':'sum'})\n",
    "    domain.loc[(domain['Deaths'] != 0),'Fatality Rate'] = round((domain['Deaths']/domain['Confirmed']*100),2)\n",
    "    domain.loc[(domain['Confirmed'] != 0),'Confirmed Ratio'] = round((domain['Confirmed']/domain['Population']*100000),0)\n",
    "    domain.loc[(domain['Deaths'] != 0),'Deaths Ratio'] = round((domain['Deaths']/domain['Population']*100000),0)\n",
    "    \n",
    "    #Create DF for HKPIS\n",
    "    cols_to_keep = ['Date']\n",
    "    domain= domain.melt(id_vars=cols_to_keep,value_name='VALUE',var_name='KPI')\n",
    "    \n",
    "    #Calc variation\n",
    "    kpis = domain['KPI'].drop_duplicates().values.tolist()\n",
    "    final_domain = pd.DataFrame()\n",
    "    for kpi in kpis:\n",
    "        tmp_df = domain[domain['KPI'] == kpi].sort_values(by=\"Date\", ascending=False).reset_index(drop=True)\n",
    "        final_domain = final_domain.append(tmp_df)\n",
    "    \n",
    "    #Create df last + merge\n",
    "    final_domain['D'] = (final_domain.index).astype(str)\n",
    "    final_domain['D-1'] = (final_domain.index + 1).astype(str)\n",
    "    cols_to_rename = {\"D\": \"D-1\",'VALUE':'VALUE_D-1'}\n",
    "    df_last = final_domain[['D','KPI','VALUE']].rename(index=str, columns=cols_to_rename) \n",
    "    final_domain = final_domain.merge(df_last, on= ['D-1','KPI'], how= 'left').drop(['D','D-1'], axis=1)\n",
    "    \n",
    "    #Add fields \n",
    "    #SCENARIO\n",
    "    final_domain['SCENARIO'] = pd.to_datetime(final_domain['Date'], format='%m/%d/%y').dt.strftime('%d/%m/%Y')\n",
    "    \n",
    "    #VARIATION\n",
    "    final_domain['VAR'] = final_domain['VALUE'] - final_domain['VALUE_D-1']\n",
    "    final_domain['VARP'] = final_domain['VAR'] / abs(final_domain['VALUE_D-1']) * 100\n",
    "    \n",
    "    #UNIT & PRECISION\n",
    "    final_domain.loc[:,'UNIT_VALUE'] = ''\n",
    "    final_domain.loc[final_domain['KPI'] == 'Fatality Rate','UNIT_VALUE'] = ' %'\n",
    "    final_domain.loc[:,'UNIT_VAR'] = ''\n",
    "    final_domain.loc[final_domain['KPI'] == 'Fatality Rate','UNIT_VAR'] = ' pts'\n",
    "    final_domain.loc[:,'PRECISION_VALUE'] = ',.0f'\n",
    "    final_domain.loc[final_domain['KPI'] == 'Fatality Rate','PRECISION_VALUE'] = ',.2f'\n",
    "    final_domain.loc[:,'PRECISION_VAR'] = '+,.0f'\n",
    "    final_domain.loc[final_domain['KPI'] == 'Fatality Rate','PRECISION_VAR'] = '+,.3f'\n",
    "    \n",
    "    final_domain = final_domain.drop('Date',axis=1).dropna().reset_index(drop=True)\n",
    "    if not final_domain.empty:\n",
    "        naas_drivers.mongo.send(final_domain, '108', DB_APP, True)\n",
    "    return final_domain"
   ]
  },
  {
   "cell_type": "code",
   "execution_count": 3,
   "metadata": {
    "execution": {
     "iopub.execute_input": "2020-11-10T02:03:07.810781Z",
     "iopub.status.busy": "2020-11-10T02:03:07.810388Z",
     "iopub.status.idle": "2020-11-10T02:03:09.182856Z",
     "shell.execute_reply": "2020-11-10T02:03:09.182164Z",
     "shell.execute_reply.started": "2020-11-10T02:03:07.810751Z"
    }
   },
   "outputs": [
    {
     "name": "stdout",
     "output_type": "stream",
     "text": [
      "Data not updated !\n"
     ]
    },
    {
     "name": "stderr",
     "output_type": "stream",
     "text": [
      "UsageError: Line magic function `%stop` not found.\n"
     ]
    }
   ],
   "source": [
    "%%time\n",
    "\n",
    "continue_script = True\n",
    "\n",
    "# Load Data Source\n",
    "def check_data():\n",
    "    # Data check\n",
    "    file_path_check = os.path.join(OUTPUT_FOLDER,'US_MAP.csv')\n",
    "    df_check = pd.DataFrame()\n",
    "    if path.exists(file_path_check):\n",
    "        df_check = pd.read_csv(file_path_check, sep=\";\")\n",
    "        df_check = df_check[(df_check['Date'] == YESTERDAY.strftime('%d/%m/%y'))].reset_index(drop=True)\n",
    "        if df_check.empty:\n",
    "            print(f'Data already updated !')\n",
    "            continue_script = False\n",
    "    return df_check\n",
    "\n",
    "\n",
    "# Trasnform Data Source\n",
    "def transform_data(df):\n",
    "    #--Create Dataframe\n",
    "    def create_df(df_name, kpi, agg, cols_to_keep):\n",
    "        file_path_conf = os.path.join(OUTPUT_FOLDER, f'{df_name}.csv')\n",
    "        df = pd.read_csv(file_path_conf, sep=\";\")\n",
    "        df = df.drop('Unnamed: 0',axis=1)\n",
    "        df = df.melt(id_vars=cols_to_keep,value_name=kpi,var_name='Date')\n",
    "        df = df.groupby(['Date','Province_State'], as_index=False).agg(agg)\n",
    "        return df\n",
    "    \n",
    "    if not continue_script:\n",
    "        return df\n",
    "    \n",
    "    cols_to_keep = ['UID','iso2', 'iso3',\n",
    "                    'code3','FIPS','Admin2',\n",
    "                    'Lat','Long_','Combined_Key',\n",
    "                    'Province_State','Country_Region']\n",
    "    c_us = create_df('US_CONFIRMED', 'Confirmed' , {'Confirmed':'sum'}, cols_to_keep)\n",
    "    \n",
    "    cols_to_keep = ['UID','iso2', 'iso3',\n",
    "                    'code3','FIPS','Admin2',\n",
    "                    'Lat','Long_','Combined_Key',\n",
    "                    'Province_State','Country_Region','Population'] \n",
    "    d_us = create_df('US_DEATHS', 'Deaths' , {'Deaths':'sum','Population':'sum'}, cols_to_keep)\n",
    "    \n",
    "    # Merge\n",
    "    df_us = pd.merge(c_us, d_us, on=['Date','Province_State'], how='left').reset_index(drop=True)\n",
    "    df_us.loc[(df_us['Deaths'] != 0),'Fatality Rate'] = round((df_us['Deaths']/df_us['Confirmed']*100),2)\n",
    "    df_us.loc[(df_us['Confirmed'] != 0),'Confirmed Rate'] = round((df_us['Confirmed']/df_us['Population']*100000),0)\n",
    "    df_us.loc[(df_us['Deaths'] != 0),'Deaths Rate'] = round((df_us['Deaths']/df_us['Population']*100000),0)\n",
    "    df_us['Date'] = pd.to_datetime(df_us['Date'], format='%m/%d/%y').dt.strftime('%m/%d/%y')\n",
    "    \n",
    "    # Check df\n",
    "    df_check = df_us[(df_us['Date'] == YESTERDAY.strftime('%m/%d/%y')) & \n",
    "                (df_us['Population'] != 0) & \n",
    "                (df_us['Confirmed'] != 0)]\n",
    "    \n",
    "    if df_check.empty:\n",
    "        print(f'Data not updated !')\n",
    "        continue_script = False\n",
    "    else:\n",
    "        # Generate\n",
    "        domain_108(df_us)\n",
    "        df_save(df_us,'US_MAP','csv')\n",
    "        \n",
    "    return df_check\n",
    "\n",
    "df_us = transform_data(check_data())\n",
    "df_us.head(5)"
   ]
  },
  {
   "cell_type": "code",
   "execution_count": 4,
   "metadata": {
    "execution": {
     "iopub.execute_input": "2020-11-10T02:03:09.184514Z",
     "iopub.status.busy": "2020-11-10T02:03:09.184087Z",
     "iopub.status.idle": "2020-11-10T02:03:09.190041Z",
     "shell.execute_reply": "2020-11-10T02:03:09.189563Z",
     "shell.execute_reply.started": "2020-11-10T02:03:09.184481Z"
    }
   },
   "outputs": [],
   "source": [
    "def create_map(df,geo,kpi,scale,colors):\n",
    "    file_path = os.path.join(OUTPUT_FOLDER,f'{kpi}.html')\n",
    "    fig = px.choropleth_mapbox(df, geojson=geo, color=kpi,\n",
    "                               locations=\"Province_State\", featureidkey=\"properties.NAME\",\n",
    "                               range_color=scale,\n",
    "                               color_continuous_scale=colors,\n",
    "                               mapbox_style=\"carto-positron\", \n",
    "                               zoom=3, center={\"lat\": 37.0902, \"lon\": -95.7129},\n",
    "                               labels={'Province_State':'State'}\n",
    "                              )\n",
    "    fig.update_layout(margin={\"r\":0,\"l\":0,},autosize=True)\n",
    "    fig.write_html(file_path)\n",
    "    updateChartCss(file_path, os.path.join(INPUT_FOLDER,'map.css'))"
   ]
  },
  {
   "cell_type": "code",
   "execution_count": 5,
   "metadata": {
    "execution": {
     "iopub.execute_input": "2020-11-10T02:03:09.191188Z",
     "iopub.status.busy": "2020-11-10T02:03:09.190932Z",
     "iopub.status.idle": "2020-11-10T02:03:09.440171Z",
     "shell.execute_reply": "2020-11-10T02:03:09.439098Z",
     "shell.execute_reply.started": "2020-11-10T02:03:09.191137Z"
    }
   },
   "outputs": [
    {
     "ename": "NameError",
     "evalue": "name 'df_us' is not defined",
     "output_type": "error",
     "traceback": [
      "\u001b[0;31m---------------------------------------------------------------------------\u001b[0m",
      "\u001b[0;31mNameError\u001b[0m                                 Traceback (most recent call last)",
      "\u001b[0;32m<ipython-input-5-6346b40a4bf4>\u001b[0m in \u001b[0;36m<module>\u001b[0;34m\u001b[0m\n\u001b[1;32m      9\u001b[0m     \u001b[0;34m[\u001b[0m\u001b[0;36m1.0\u001b[0m\u001b[0;34m,\u001b[0m \u001b[0;34m\"#00354E\"\u001b[0m\u001b[0;34m]\u001b[0m\u001b[0;34m\u001b[0m\u001b[0;34m\u001b[0m\u001b[0m\n\u001b[1;32m     10\u001b[0m ]\n\u001b[0;32m---> 11\u001b[0;31m \u001b[0manalysis\u001b[0m\u001b[0;34m(\u001b[0m\u001b[0mdf_us\u001b[0m\u001b[0;34m,\u001b[0m \u001b[0mkpi\u001b[0m\u001b[0;34m)\u001b[0m\u001b[0;34m\u001b[0m\u001b[0;34m\u001b[0m\u001b[0m\n\u001b[0m\u001b[1;32m     12\u001b[0m \u001b[0mcreate_map\u001b[0m\u001b[0;34m(\u001b[0m\u001b[0mdf_us\u001b[0m\u001b[0;34m,\u001b[0m\u001b[0mMAP_STATES_20M\u001b[0m\u001b[0;34m,\u001b[0m\u001b[0mkpi\u001b[0m\u001b[0;34m,\u001b[0m\u001b[0mscale\u001b[0m\u001b[0;34m,\u001b[0m\u001b[0mcolors\u001b[0m\u001b[0;34m)\u001b[0m\u001b[0;34m\u001b[0m\u001b[0;34m\u001b[0m\u001b[0m\n\u001b[1;32m     13\u001b[0m \u001b[0mfile_html\u001b[0m \u001b[0;34m=\u001b[0m \u001b[0;34mf'{kpi}.html'\u001b[0m\u001b[0;34m\u001b[0m\u001b[0;34m\u001b[0m\u001b[0m\n",
      "\u001b[0;31mNameError\u001b[0m: name 'df_us' is not defined"
     ]
    }
   ],
   "source": [
    "#Confirmed\n",
    "if continue_script:\n",
    "    kpi='Confirmed'\n",
    "    scale = (100,250000)\n",
    "    colors = [\n",
    "        [0.0, \"#FFFFFF\"],\n",
    "        [0.01,\"#B3D7D2\"],\n",
    "        [0.1, \"#81B1BD\"],\n",
    "        [0.3, \"#437F9D\"],\n",
    "        [1.0, \"#00354E\"]\n",
    "    ]\n",
    "    analysis(df_us, kpi)\n",
    "    create_map(df_us,MAP_STATES_20M,kpi,scale,colors)\n",
    "    file_html = f'{kpi}.html'\n",
    "\n",
    "    #Make html visible\n",
    "    token_conf = naas.assets.add(os.path.join(OUTPUT_FOLDER, file_html), params={\"inline\":True})"
   ]
  },
  {
   "cell_type": "code",
   "execution_count": null,
   "metadata": {
    "execution": {
     "iopub.status.busy": "2020-11-10T02:03:09.441033Z",
     "iopub.status.idle": "2020-11-10T02:03:09.441512Z"
    }
   },
   "outputs": [],
   "source": [
    "#Confirmed Rate\n",
    "if continue_script:\n",
    "\n",
    "    colors = [\n",
    "        [0.0, \"#FFFFFF\"],\n",
    "        [0.01,\"#B3D7D2\"],\n",
    "        [0.1, \"#81B1BD\"],\n",
    "        [0.3, \"#437F9D\"],\n",
    "        [1.0, \"#00354E\"]\n",
    "    ]\n",
    "    scale = (100,1000)\n",
    "    kpi='Confirmed Rate'\n",
    "    analysis(df_us, kpi)\n",
    "    create_map(df_us,MAP_STATES_20M,kpi,scale,colors)\n",
    "    file_html = f'{kpi}.html'\n",
    "\n",
    "    #Make html visible\n",
    "    token_conf_rate = naas.assets.add(os.path.join(OUTPUT_FOLDER, file_html), params={\"inline\":True})"
   ]
  },
  {
   "cell_type": "code",
   "execution_count": null,
   "metadata": {
    "execution": {
     "iopub.status.busy": "2020-11-10T02:03:09.442362Z",
     "iopub.status.idle": "2020-11-10T02:03:09.442827Z"
    }
   },
   "outputs": [],
   "source": [
    "#'Deaths'\n",
    "if continue_script:\n",
    "    colors = [\n",
    "        [0.0, \"#FFFFFF\"],\n",
    "        [0.01,\"#B3D7D2\"],\n",
    "        [0.1, \"#81B1BD\"],\n",
    "        [0.3, \"#437F9D\"],\n",
    "        [1.0, \"#00354E\"]\n",
    "    ]\n",
    "    scale = (0,10000)\n",
    "    kpi='Deaths'\n",
    "    analysis(df_us, kpi)\n",
    "    create_map(df_us,MAP_STATES_20M,kpi,scale,colors)\n",
    "    file_html = f'{kpi}.html'\n",
    "\n",
    "    #Make html visible\n",
    "    token_death = naas.assets.add(os.path.join(OUTPUT_FOLDER, file_html), params={\"inline\":True})"
   ]
  },
  {
   "cell_type": "code",
   "execution_count": null,
   "metadata": {
    "execution": {
     "iopub.status.busy": "2020-11-10T02:03:09.443653Z",
     "iopub.status.idle": "2020-11-10T02:03:09.444154Z"
    }
   },
   "outputs": [],
   "source": [
    "#'Deaths Rate'\n",
    "if continue_script:\n",
    "    colors = [\n",
    "        [0.0, \"#FFFFFF\"],\n",
    "        [0.01,\"#B3D7D2\"],\n",
    "        [0.1, \"#81B1BD\"],\n",
    "        [0.3, \"#437F9D\"],\n",
    "        [1.0, \"#00354E\"]\n",
    "    ]\n",
    "    scale = (10,100)\n",
    "    kpi='Deaths Rate'\n",
    "    analysis(df_us, kpi)\n",
    "    create_map(df_us,MAP_STATES_20M,kpi,scale,colors)\n",
    "    file_html = f'{kpi}.html'\n",
    "\n",
    "    #Make html visible\n",
    "    token_death_rate = naas.assets.add(os.path.join(OUTPUT_FOLDER, file_html), params={\"inline\":True})"
   ]
  },
  {
   "cell_type": "code",
   "execution_count": null,
   "metadata": {
    "execution": {
     "iopub.status.busy": "2020-11-10T02:03:09.444977Z",
     "iopub.status.idle": "2020-11-10T02:03:09.445442Z"
    }
   },
   "outputs": [],
   "source": [
    "#Fatality Rate\n",
    "if continue_script:\n",
    "    colors = [\n",
    "        [0.0, \"#FFFFFF\"],\n",
    "        [0.25,\"#B3D7D2\"],\n",
    "        [0.5, \"#81B1BD\"],\n",
    "        [0.75, \"#437F9D\"],\n",
    "        [1.0, \"#00354E\"]\n",
    "    ]\n",
    "    scale = (0,10)\n",
    "    kpi='Fatality Rate'\n",
    "    analysis(df_us, kpi)\n",
    "    create_map(df_us,MAP_STATES_20M,kpi,scale,colors)\n",
    "    file_html = f'{kpi}.html'\n",
    "\n",
    "    #Make html visible\n",
    "    token_fatality_rate = naas.assets.add(os.path.join(OUTPUT_FOLDER, file_html), params={\"inline\":True})"
   ]
  },
  {
   "cell_type": "code",
   "execution_count": null,
   "metadata": {
    "execution": {
     "iopub.status.busy": "2020-11-10T02:03:09.446235Z",
     "iopub.status.idle": "2020-11-10T02:03:09.446694Z"
    }
   },
   "outputs": [],
   "source": [
    "# html\n",
    "if continue_script:\n",
    "    CONFIRMED = [{'URL':  token_conf,\n",
    "                 'KPI': 'Confirmed',\n",
    "                 'UPPER_FILTER': 'All population'}]\n",
    "\n",
    "    DEATHS = [{'URL':  token_death,\n",
    "               'KPI': 'Deaths',\n",
    "               'UPPER_FILTER': 'All population'}]\n",
    "\n",
    "    FATALITY_RATE = [{'URL':  token_fatality_rate,\n",
    "                'KPI': 'Fatality Rate',\n",
    "                'UPPER_FILTER': 'All population'}]\n",
    "\n",
    "    CONFIRMED_RATE = [{'URL':  token_conf_rate,\n",
    "                'KPI': 'Confirmed Ratio',\n",
    "                'UPPER_FILTER': '100k inhab'}]\n",
    "\n",
    "    DEATH_RATE = [{'URL':  token_death_rate,\n",
    "                 'KPI': 'Deaths Ratio',\n",
    "                 'UPPER_FILTER': '100k inhab'}]\n",
    "\n",
    "    #Concat list to create Series\n",
    "    LIST_KPIS = (CONFIRMED + DEATHS + FATALITY_RATE + CONFIRMED_RATE + DEATH_RATE)\n",
    "\n",
    "    #Create Dataframe\n",
    "    DOMAIN = pd.DataFrame(LIST_KPIS)\n",
    "    DOMAIN.loc[:, 'VALUE'] = (\"<iframe src='\" +\n",
    "                              DOMAIN['URL'] +\n",
    "                              (\"' frameborder='0' style='overflow:hidden;\"\n",
    "                               \"height:85vh;width:100%' height='100%' \"\n",
    "                               \"width='100%'></iframe> <style>.modebar\"\n",
    "                               \"{display: none!important;}</style>\"))\n",
    "    if USE_MONGO:\n",
    "        naas_drivers.mongo.send(DOMAIN,'109',DB_APP,True)\n",
    "    DOMAIN"
   ]
  },
  {
   "cell_type": "code",
   "execution_count": null,
   "metadata": {},
   "outputs": [],
   "source": []
  }
 ],
 "metadata": {
  "kernelspec": {
   "display_name": "Python 3",
   "language": "python",
   "name": "python3"
  },
  "language_info": {
   "codemirror_mode": {
    "name": "ipython",
    "version": 3
   },
   "file_extension": ".py",
   "mimetype": "text/x-python",
   "name": "python",
   "nbconvert_exporter": "python",
   "pygments_lexer": "ipython3",
   "version": "3.8.6"
  }
 },
 "nbformat": 4,
 "nbformat_minor": 4
}
