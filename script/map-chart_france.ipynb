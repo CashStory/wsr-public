{
 "cells": [
  {
   "cell_type": "code",
   "execution_count": 1,
   "metadata": {},
   "outputs": [
    {
     "name": "stdout",
     "output_type": "stream",
     "text": [
      "Successfully connected to MongoDB\n"
     ]
    }
   ],
   "source": [
    "%run __init__.ipynb"
   ]
  },
  {
   "cell_type": "code",
   "execution_count": 2,
   "metadata": {},
   "outputs": [
    {
     "name": "stdout",
     "output_type": "stream",
     "text": [
      "CPU times: user 192 µs, sys: 26 µs, total: 218 µs\n",
      "Wall time: 5.67 ms\n"
     ]
    }
   ],
   "source": [
    "%%time\n",
    "\n",
    "continue_script = True\n",
    "# Init script\n",
    "def init_script():\n",
    "    file_path = os.path.join(OUTPUT_FOLDER, '107_FRANCE.csv')\n",
    "    if path.exists(file_path):\n",
    "        df_check = pd.read_csv(file_path, sep=';', low_memory=False)\n",
    "        date_check = df_check[df_check['SCENARIO'] == YESTERDAY.strftime('%d/%m/%Y')]\n",
    "        if len(date_check) > 0:\n",
    "            print(f'Data already updated !')\n",
    "            continue_script = False\n",
    "\n",
    "init_script()"
   ]
  },
  {
   "cell_type": "code",
   "execution_count": 3,
   "metadata": {},
   "outputs": [
    {
     "name": "stdout",
     "output_type": "stream",
     "text": [
      "DataFrame empty !\n",
      "CPU times: user 982 µs, sys: 0 ns, total: 982 µs\n",
      "Wall time: 5.51 ms\n"
     ]
    },
    {
     "data": {
      "text/html": [
       "<div>\n",
       "<style scoped>\n",
       "    .dataframe tbody tr th:only-of-type {\n",
       "        vertical-align: middle;\n",
       "    }\n",
       "\n",
       "    .dataframe tbody tr th {\n",
       "        vertical-align: top;\n",
       "    }\n",
       "\n",
       "    .dataframe thead th {\n",
       "        text-align: right;\n",
       "    }\n",
       "</style>\n",
       "<table border=\"1\" class=\"dataframe\">\n",
       "  <thead>\n",
       "    <tr style=\"text-align: right;\">\n",
       "      <th></th>\n",
       "    </tr>\n",
       "  </thead>\n",
       "  <tbody>\n",
       "  </tbody>\n",
       "</table>\n",
       "</div>"
      ],
      "text/plain": [
       "Empty DataFrame\n",
       "Columns: []\n",
       "Index: []"
      ]
     },
     "execution_count": 3,
     "metadata": {},
     "output_type": "execute_result"
    }
   ],
   "source": [
    "%%time\n",
    "\n",
    "# Load Data Source\n",
    "def load_source():\n",
    "    file_path = os.path.join(OUTPUT_FOLDER,'107.csv')\n",
    "    df = pd.DataFrame()\n",
    "    \n",
    "    if path.exists(file_path):\n",
    "        df = pd.read_csv(file_path,sep=\";\")\n",
    "        df = df.drop('Unnamed: 0',axis=1)\n",
    "        df = df[(df['SCENARIO'] == YESTERDAY.strftime('%d/%m/%Y'))].reset_index(drop=True)\n",
    "        if len(df) == 0:\n",
    "            print(f'Data not updated !')\n",
    "            continue_script = False\n",
    "        else:\n",
    "            df_save(df,'107_FRANCE','csv')\n",
    "    return df\n",
    "\n",
    "\n",
    "# Trasnform Data Source\n",
    "def transform_data(df):\n",
    "    if not df.empty:\n",
    "        df = pd.merge(df, REF_FRANCE, left_on='CHILD', right_on='DEP_FULL', how='left'\n",
    "                     ).rename(index=str, columns={\"DEP_NAME\":\"LABEL\"}\n",
    "                             ).drop(['DEP_CODE','DEP_FULL','REG_NAME'], axis=1)\n",
    "\n",
    "        df.loc[df['PARENT'] == 'root', 'LABEL'] = df['CHILD']\n",
    "        df = df.drop(['UNIT_VARP','PRECISION_VALUE',\n",
    "                      'PRECISION_VAR','PRECISION_VARP',\n",
    "                      'LAST_UPDATE'], axis=1)\n",
    "    else:\n",
    "        print(f'DataFrame empty !')\n",
    "    return df\n",
    "\n",
    "if continue_script:\n",
    "    df_france = transform_data(load_source())\n",
    "    df_france.head(5)"
   ]
  },
  {
   "cell_type": "code",
   "execution_count": 4,
   "metadata": {},
   "outputs": [],
   "source": [
    "#Var France\n",
    "map_center = {\"lat\": 46.7667, \"lon\": 2.45}\n",
    "def create_map(df,geo,dfKey,geoKey,scale,colors,map_center,label,file_html):\n",
    "    file_path = os.path.join(OUTPUT_FOLDER,file_html)\n",
    "    fig = px.choropleth_mapbox(df, \n",
    "                               geojson=geo, \n",
    "                               color=\"VALUE\",\n",
    "                               locations=dfKey, \n",
    "                               featureidkey=geoKey,\n",
    "                               range_color=scale,\n",
    "                               color_continuous_scale=colors,\n",
    "                               mapbox_style=\"carto-positron\", \n",
    "                               zoom=5, \n",
    "                               center=map_center,\n",
    "                               hover_data=[\"VALUE\",\"VAR\"],\n",
    "                               labels=label,\n",
    "                              )\n",
    "    fig.update_layout(margin={\"r\":0,\"l\":0,},autosize=True)\n",
    "    fig.write_html(file_path)\n",
    "    updateChartCss(file_path, os.path.join(INPUT_FOLDER,'map.css'))\n",
    "#     return fig"
   ]
  },
  {
   "cell_type": "code",
   "execution_count": 5,
   "metadata": {},
   "outputs": [],
   "source": [
    "# MAP_WSR = pd.read_excel(REF_WSR_PATH, sheet_name=\"MAP_FRANCE\")\n",
    "\n",
    "# def generate_map(df):\n",
    "#     for _, row in MAP_WSR.iterrows():\n",
    "#         kpi = row['KPI']\n",
    "#         print(kpi)\n",
    "#         file_html = row['FILE_HTML']\n",
    "#         print(file_html)\n",
    "#         scale_min = row['SCALE_MIN']\n",
    "#         scale_max = row['SCALE_MAX']\n",
    "#         scale = (scale_min, scale_max)\n",
    "#         print(scale)\n",
    "#         colors_s1 = row['COLORS_S1']\n",
    "#         colors_c1 = row['COLORS_C1']\n",
    "#         colors_s2 = row['COLORS_S2']\n",
    "#         colors_c2 = row['COLORS_C2']\n",
    "#         colors_s3 = row['COLORS_S3']\n",
    "#         colors_c3 = row['COLORS_C3']\n",
    "#         colors_s4 = row['COLORS_S4']\n",
    "#         colors_c4 = row['COLORS_C4']\n",
    "#         colors_s5 = row['COLORS_S5']\n",
    "#         colors_c5 = row['COLORS_C5']\n",
    "#         colors = [[colors_s1,colors_c1],[colors_s2,colors_c2],[colors_s3,colors_c3],[colors_s4,colors_c4],[colors_s5,colors_c5]]\n",
    "#         print(colors)\n",
    "#         dfKey = row['DF_KEY']\n",
    "#         print(dfKey)\n",
    "#         geoKey = row['GEO_KEY']\n",
    "#         print(geoKey)\n",
    "#         to_rename = row['TO_RENAME']\n",
    "#         print(to_rename)\n",
    "        \n",
    "#         df_map = df.copy()[(df['UPPER_FILTER_M'] == kpi) & (df['PARENT'] != 'root')]\n",
    "#         analysis(df_map,'VALUE')\n",
    "        \n",
    "#         create_map(df_map,MAP_FRANCE_DEP,dfKey,geoKey,scale,colors,map_center,to_rename,file_html)\n",
    "#         print(token_hosp_dep)\n",
    "        \n",
    "# generate_map(df_france)"
   ]
  },
  {
   "cell_type": "code",
   "execution_count": 6,
   "metadata": {},
   "outputs": [
    {
     "ename": "KeyError",
     "evalue": "'UPPER_FILTER_M'",
     "output_type": "error",
     "traceback": [
      "\u001b[0;31m---------------------------------------------------------------------------\u001b[0m",
      "\u001b[0;31mKeyError\u001b[0m                                  Traceback (most recent call last)",
      "\u001b[0;32m/opt/conda/lib/python3.8/site-packages/pandas/core/indexes/base.py\u001b[0m in \u001b[0;36mget_loc\u001b[0;34m(self, key, method, tolerance)\u001b[0m\n\u001b[1;32m   2894\u001b[0m             \u001b[0;32mtry\u001b[0m\u001b[0;34m:\u001b[0m\u001b[0;34m\u001b[0m\u001b[0;34m\u001b[0m\u001b[0m\n\u001b[0;32m-> 2895\u001b[0;31m                 \u001b[0;32mreturn\u001b[0m \u001b[0mself\u001b[0m\u001b[0;34m.\u001b[0m\u001b[0m_engine\u001b[0m\u001b[0;34m.\u001b[0m\u001b[0mget_loc\u001b[0m\u001b[0;34m(\u001b[0m\u001b[0mcasted_key\u001b[0m\u001b[0;34m)\u001b[0m\u001b[0;34m\u001b[0m\u001b[0;34m\u001b[0m\u001b[0m\n\u001b[0m\u001b[1;32m   2896\u001b[0m             \u001b[0;32mexcept\u001b[0m \u001b[0mKeyError\u001b[0m \u001b[0;32mas\u001b[0m \u001b[0merr\u001b[0m\u001b[0;34m:\u001b[0m\u001b[0;34m\u001b[0m\u001b[0;34m\u001b[0m\u001b[0m\n",
      "\u001b[0;32mpandas/_libs/index.pyx\u001b[0m in \u001b[0;36mpandas._libs.index.IndexEngine.get_loc\u001b[0;34m()\u001b[0m\n",
      "\u001b[0;32mpandas/_libs/index.pyx\u001b[0m in \u001b[0;36mpandas._libs.index.IndexEngine.get_loc\u001b[0;34m()\u001b[0m\n",
      "\u001b[0;32mpandas/_libs/hashtable_class_helper.pxi\u001b[0m in \u001b[0;36mpandas._libs.hashtable.PyObjectHashTable.get_item\u001b[0;34m()\u001b[0m\n",
      "\u001b[0;32mpandas/_libs/hashtable_class_helper.pxi\u001b[0m in \u001b[0;36mpandas._libs.hashtable.PyObjectHashTable.get_item\u001b[0;34m()\u001b[0m\n",
      "\u001b[0;31mKeyError\u001b[0m: 'UPPER_FILTER_M'",
      "\nThe above exception was the direct cause of the following exception:\n",
      "\u001b[0;31mKeyError\u001b[0m                                  Traceback (most recent call last)",
      "\u001b[0;32m<ipython-input-6-fc410c1f304d>\u001b[0m in \u001b[0;36m<module>\u001b[0;34m\u001b[0m\n\u001b[1;32m      3\u001b[0m \u001b[0mfile_html\u001b[0m \u001b[0;34m=\u001b[0m \u001b[0;34m\"France_HOSP_DEP_NAME.html\"\u001b[0m\u001b[0;34m\u001b[0m\u001b[0;34m\u001b[0m\u001b[0m\n\u001b[1;32m      4\u001b[0m \u001b[0;34m\u001b[0m\u001b[0m\n\u001b[0;32m----> 5\u001b[0;31m \u001b[0mdf_map\u001b[0m \u001b[0;34m=\u001b[0m \u001b[0mdf_france\u001b[0m\u001b[0;34m.\u001b[0m\u001b[0mcopy\u001b[0m\u001b[0;34m(\u001b[0m\u001b[0;34m)\u001b[0m\u001b[0;34m[\u001b[0m\u001b[0;34m(\u001b[0m\u001b[0mdf_france\u001b[0m\u001b[0;34m[\u001b[0m\u001b[0;34m'UPPER_FILTER_M'\u001b[0m\u001b[0;34m]\u001b[0m \u001b[0;34m==\u001b[0m \u001b[0mkpi\u001b[0m\u001b[0;34m)\u001b[0m \u001b[0;34m&\u001b[0m \u001b[0;34m(\u001b[0m\u001b[0mdf_france\u001b[0m\u001b[0;34m[\u001b[0m\u001b[0;34m'PARENT'\u001b[0m\u001b[0;34m]\u001b[0m \u001b[0;34m!=\u001b[0m \u001b[0;34m'root'\u001b[0m\u001b[0;34m)\u001b[0m\u001b[0;34m]\u001b[0m\u001b[0;34m\u001b[0m\u001b[0;34m\u001b[0m\u001b[0m\n\u001b[0m\u001b[1;32m      6\u001b[0m \u001b[0manalysis\u001b[0m\u001b[0;34m(\u001b[0m\u001b[0mdf_map\u001b[0m\u001b[0;34m,\u001b[0m\u001b[0;34m'VALUE'\u001b[0m\u001b[0;34m)\u001b[0m\u001b[0;34m\u001b[0m\u001b[0;34m\u001b[0m\u001b[0m\n\u001b[1;32m      7\u001b[0m \u001b[0;34m\u001b[0m\u001b[0m\n",
      "\u001b[0;32m/opt/conda/lib/python3.8/site-packages/pandas/core/frame.py\u001b[0m in \u001b[0;36m__getitem__\u001b[0;34m(self, key)\u001b[0m\n\u001b[1;32m   2904\u001b[0m             \u001b[0;32mif\u001b[0m \u001b[0mself\u001b[0m\u001b[0;34m.\u001b[0m\u001b[0mcolumns\u001b[0m\u001b[0;34m.\u001b[0m\u001b[0mnlevels\u001b[0m \u001b[0;34m>\u001b[0m \u001b[0;36m1\u001b[0m\u001b[0;34m:\u001b[0m\u001b[0;34m\u001b[0m\u001b[0;34m\u001b[0m\u001b[0m\n\u001b[1;32m   2905\u001b[0m                 \u001b[0;32mreturn\u001b[0m \u001b[0mself\u001b[0m\u001b[0;34m.\u001b[0m\u001b[0m_getitem_multilevel\u001b[0m\u001b[0;34m(\u001b[0m\u001b[0mkey\u001b[0m\u001b[0;34m)\u001b[0m\u001b[0;34m\u001b[0m\u001b[0;34m\u001b[0m\u001b[0m\n\u001b[0;32m-> 2906\u001b[0;31m             \u001b[0mindexer\u001b[0m \u001b[0;34m=\u001b[0m \u001b[0mself\u001b[0m\u001b[0;34m.\u001b[0m\u001b[0mcolumns\u001b[0m\u001b[0;34m.\u001b[0m\u001b[0mget_loc\u001b[0m\u001b[0;34m(\u001b[0m\u001b[0mkey\u001b[0m\u001b[0;34m)\u001b[0m\u001b[0;34m\u001b[0m\u001b[0;34m\u001b[0m\u001b[0m\n\u001b[0m\u001b[1;32m   2907\u001b[0m             \u001b[0;32mif\u001b[0m \u001b[0mis_integer\u001b[0m\u001b[0;34m(\u001b[0m\u001b[0mindexer\u001b[0m\u001b[0;34m)\u001b[0m\u001b[0;34m:\u001b[0m\u001b[0;34m\u001b[0m\u001b[0;34m\u001b[0m\u001b[0m\n\u001b[1;32m   2908\u001b[0m                 \u001b[0mindexer\u001b[0m \u001b[0;34m=\u001b[0m \u001b[0;34m[\u001b[0m\u001b[0mindexer\u001b[0m\u001b[0;34m]\u001b[0m\u001b[0;34m\u001b[0m\u001b[0;34m\u001b[0m\u001b[0m\n",
      "\u001b[0;32m/opt/conda/lib/python3.8/site-packages/pandas/core/indexes/base.py\u001b[0m in \u001b[0;36mget_loc\u001b[0;34m(self, key, method, tolerance)\u001b[0m\n\u001b[1;32m   2895\u001b[0m                 \u001b[0;32mreturn\u001b[0m \u001b[0mself\u001b[0m\u001b[0;34m.\u001b[0m\u001b[0m_engine\u001b[0m\u001b[0;34m.\u001b[0m\u001b[0mget_loc\u001b[0m\u001b[0;34m(\u001b[0m\u001b[0mcasted_key\u001b[0m\u001b[0;34m)\u001b[0m\u001b[0;34m\u001b[0m\u001b[0;34m\u001b[0m\u001b[0m\n\u001b[1;32m   2896\u001b[0m             \u001b[0;32mexcept\u001b[0m \u001b[0mKeyError\u001b[0m \u001b[0;32mas\u001b[0m \u001b[0merr\u001b[0m\u001b[0;34m:\u001b[0m\u001b[0;34m\u001b[0m\u001b[0;34m\u001b[0m\u001b[0m\n\u001b[0;32m-> 2897\u001b[0;31m                 \u001b[0;32mraise\u001b[0m \u001b[0mKeyError\u001b[0m\u001b[0;34m(\u001b[0m\u001b[0mkey\u001b[0m\u001b[0;34m)\u001b[0m \u001b[0;32mfrom\u001b[0m \u001b[0merr\u001b[0m\u001b[0;34m\u001b[0m\u001b[0;34m\u001b[0m\u001b[0m\n\u001b[0m\u001b[1;32m   2898\u001b[0m \u001b[0;34m\u001b[0m\u001b[0m\n\u001b[1;32m   2899\u001b[0m         \u001b[0;32mif\u001b[0m \u001b[0mtolerance\u001b[0m \u001b[0;32mis\u001b[0m \u001b[0;32mnot\u001b[0m \u001b[0;32mNone\u001b[0m\u001b[0;34m:\u001b[0m\u001b[0;34m\u001b[0m\u001b[0;34m\u001b[0m\u001b[0m\n",
      "\u001b[0;31mKeyError\u001b[0m: 'UPPER_FILTER_M'"
     ]
    }
   ],
   "source": [
    "#Hospitalisation - Département\n",
    "def generate_map_asset(kpi, filename, map_base, scale, colors):\n",
    "\n",
    "    df_map = df_france.copy()[(df_france['UPPER_FILTER_M'] == kpi) & (df_france['PARENT'] != 'root')]\n",
    "    analysis(df_map,'VALUE')\n",
    "\n",
    "    dfKey = \"LABEL\"\n",
    "    geoKey=\"properties.nom\"\n",
    "    to_rename = {'LABEL':'Département','VALUE': kpi, 'VAR': 'Variation en nb.'}\n",
    "    create_map(df_map,map_base,dfKey,geoKey,scale,colors,map_center,to_rename,file_html)\n",
    "\n",
    "    #Make html visible\n",
    "    return naas.assets.add(os.path.join(OUTPUT_FOLDER, file_html), params={\"inline\":True})\n"
   ]
  },
  {
   "cell_type": "code",
   "execution_count": null,
   "metadata": {},
   "outputs": [],
   "source": [
    "#Hospitalisation - Département\n",
    "scale = (0,3000)\n",
    "colors = [\n",
    "    [0.0, \"#FFFFFF\"],\n",
    "    [0.05,\"#B3D7D2\"],\n",
    "    [0.10, \"#81B1BD\"],\n",
    "    [0.55, \"#437F9D\"],\n",
    "    [1.0, \"#00354E\"]\n",
    "]\n",
    "if continue_script:\n",
    "    url_hosp_dep = generate_map_asset('Hospitalisations', \"France_HOSP_DEP_NAME.html\", MAP_FRANCE_DEP, scale, colors)"
   ]
  },
  {
   "cell_type": "code",
   "execution_count": 7,
   "metadata": {},
   "outputs": [
    {
     "ename": "KeyError",
     "evalue": "'UPPER_FILTER_M'",
     "output_type": "error",
     "traceback": [
      "\u001b[0;31m---------------------------------------------------------------------------\u001b[0m",
      "\u001b[0;31mKeyError\u001b[0m                                  Traceback (most recent call last)",
      "\u001b[0;32m/opt/conda/lib/python3.8/site-packages/pandas/core/indexes/base.py\u001b[0m in \u001b[0;36mget_loc\u001b[0;34m(self, key, method, tolerance)\u001b[0m\n\u001b[1;32m   2894\u001b[0m             \u001b[0;32mtry\u001b[0m\u001b[0;34m:\u001b[0m\u001b[0;34m\u001b[0m\u001b[0;34m\u001b[0m\u001b[0m\n\u001b[0;32m-> 2895\u001b[0;31m                 \u001b[0;32mreturn\u001b[0m \u001b[0mself\u001b[0m\u001b[0;34m.\u001b[0m\u001b[0m_engine\u001b[0m\u001b[0;34m.\u001b[0m\u001b[0mget_loc\u001b[0m\u001b[0;34m(\u001b[0m\u001b[0mcasted_key\u001b[0m\u001b[0;34m)\u001b[0m\u001b[0;34m\u001b[0m\u001b[0;34m\u001b[0m\u001b[0m\n\u001b[0m\u001b[1;32m   2896\u001b[0m             \u001b[0;32mexcept\u001b[0m \u001b[0mKeyError\u001b[0m \u001b[0;32mas\u001b[0m \u001b[0merr\u001b[0m\u001b[0;34m:\u001b[0m\u001b[0;34m\u001b[0m\u001b[0;34m\u001b[0m\u001b[0m\n",
      "\u001b[0;32mpandas/_libs/index.pyx\u001b[0m in \u001b[0;36mpandas._libs.index.IndexEngine.get_loc\u001b[0;34m()\u001b[0m\n",
      "\u001b[0;32mpandas/_libs/index.pyx\u001b[0m in \u001b[0;36mpandas._libs.index.IndexEngine.get_loc\u001b[0;34m()\u001b[0m\n",
      "\u001b[0;32mpandas/_libs/hashtable_class_helper.pxi\u001b[0m in \u001b[0;36mpandas._libs.hashtable.PyObjectHashTable.get_item\u001b[0;34m()\u001b[0m\n",
      "\u001b[0;32mpandas/_libs/hashtable_class_helper.pxi\u001b[0m in \u001b[0;36mpandas._libs.hashtable.PyObjectHashTable.get_item\u001b[0;34m()\u001b[0m\n",
      "\u001b[0;31mKeyError\u001b[0m: 'UPPER_FILTER_M'",
      "\nThe above exception was the direct cause of the following exception:\n",
      "\u001b[0;31mKeyError\u001b[0m                                  Traceback (most recent call last)",
      "\u001b[0;32m<ipython-input-7-a7122e4b114e>\u001b[0m in \u001b[0;36m<module>\u001b[0;34m\u001b[0m\n\u001b[1;32m      3\u001b[0m \u001b[0mfile_html\u001b[0m \u001b[0;34m=\u001b[0m \u001b[0;34m\"France_REA_DEP_NAME.html\"\u001b[0m\u001b[0;34m\u001b[0m\u001b[0;34m\u001b[0m\u001b[0m\n\u001b[1;32m      4\u001b[0m \u001b[0;34m\u001b[0m\u001b[0m\n\u001b[0;32m----> 5\u001b[0;31m \u001b[0mdf_map\u001b[0m \u001b[0;34m=\u001b[0m \u001b[0mdf_france\u001b[0m\u001b[0;34m.\u001b[0m\u001b[0mcopy\u001b[0m\u001b[0;34m(\u001b[0m\u001b[0;34m)\u001b[0m\u001b[0;34m[\u001b[0m\u001b[0;34m(\u001b[0m\u001b[0mdf_france\u001b[0m\u001b[0;34m[\u001b[0m\u001b[0;34m'UPPER_FILTER_M'\u001b[0m\u001b[0;34m]\u001b[0m \u001b[0;34m==\u001b[0m \u001b[0mkpi\u001b[0m\u001b[0;34m)\u001b[0m \u001b[0;34m&\u001b[0m \u001b[0;34m(\u001b[0m\u001b[0mdf_france\u001b[0m\u001b[0;34m[\u001b[0m\u001b[0;34m'PARENT'\u001b[0m\u001b[0;34m]\u001b[0m \u001b[0;34m!=\u001b[0m \u001b[0;34m'root'\u001b[0m\u001b[0;34m)\u001b[0m\u001b[0;34m]\u001b[0m\u001b[0;34m\u001b[0m\u001b[0;34m\u001b[0m\u001b[0m\n\u001b[0m\u001b[1;32m      6\u001b[0m \u001b[0manalysis\u001b[0m\u001b[0;34m(\u001b[0m\u001b[0mdf_map\u001b[0m\u001b[0;34m,\u001b[0m\u001b[0;34m'VALUE'\u001b[0m\u001b[0;34m)\u001b[0m\u001b[0;34m\u001b[0m\u001b[0;34m\u001b[0m\u001b[0m\n\u001b[1;32m      7\u001b[0m \u001b[0;34m\u001b[0m\u001b[0m\n",
      "\u001b[0;32m/opt/conda/lib/python3.8/site-packages/pandas/core/frame.py\u001b[0m in \u001b[0;36m__getitem__\u001b[0;34m(self, key)\u001b[0m\n\u001b[1;32m   2904\u001b[0m             \u001b[0;32mif\u001b[0m \u001b[0mself\u001b[0m\u001b[0;34m.\u001b[0m\u001b[0mcolumns\u001b[0m\u001b[0;34m.\u001b[0m\u001b[0mnlevels\u001b[0m \u001b[0;34m>\u001b[0m \u001b[0;36m1\u001b[0m\u001b[0;34m:\u001b[0m\u001b[0;34m\u001b[0m\u001b[0;34m\u001b[0m\u001b[0m\n\u001b[1;32m   2905\u001b[0m                 \u001b[0;32mreturn\u001b[0m \u001b[0mself\u001b[0m\u001b[0;34m.\u001b[0m\u001b[0m_getitem_multilevel\u001b[0m\u001b[0;34m(\u001b[0m\u001b[0mkey\u001b[0m\u001b[0;34m)\u001b[0m\u001b[0;34m\u001b[0m\u001b[0;34m\u001b[0m\u001b[0m\n\u001b[0;32m-> 2906\u001b[0;31m             \u001b[0mindexer\u001b[0m \u001b[0;34m=\u001b[0m \u001b[0mself\u001b[0m\u001b[0;34m.\u001b[0m\u001b[0mcolumns\u001b[0m\u001b[0;34m.\u001b[0m\u001b[0mget_loc\u001b[0m\u001b[0;34m(\u001b[0m\u001b[0mkey\u001b[0m\u001b[0;34m)\u001b[0m\u001b[0;34m\u001b[0m\u001b[0;34m\u001b[0m\u001b[0m\n\u001b[0m\u001b[1;32m   2907\u001b[0m             \u001b[0;32mif\u001b[0m \u001b[0mis_integer\u001b[0m\u001b[0;34m(\u001b[0m\u001b[0mindexer\u001b[0m\u001b[0;34m)\u001b[0m\u001b[0;34m:\u001b[0m\u001b[0;34m\u001b[0m\u001b[0;34m\u001b[0m\u001b[0m\n\u001b[1;32m   2908\u001b[0m                 \u001b[0mindexer\u001b[0m \u001b[0;34m=\u001b[0m \u001b[0;34m[\u001b[0m\u001b[0mindexer\u001b[0m\u001b[0;34m]\u001b[0m\u001b[0;34m\u001b[0m\u001b[0;34m\u001b[0m\u001b[0m\n",
      "\u001b[0;32m/opt/conda/lib/python3.8/site-packages/pandas/core/indexes/base.py\u001b[0m in \u001b[0;36mget_loc\u001b[0;34m(self, key, method, tolerance)\u001b[0m\n\u001b[1;32m   2895\u001b[0m                 \u001b[0;32mreturn\u001b[0m \u001b[0mself\u001b[0m\u001b[0;34m.\u001b[0m\u001b[0m_engine\u001b[0m\u001b[0;34m.\u001b[0m\u001b[0mget_loc\u001b[0m\u001b[0;34m(\u001b[0m\u001b[0mcasted_key\u001b[0m\u001b[0;34m)\u001b[0m\u001b[0;34m\u001b[0m\u001b[0;34m\u001b[0m\u001b[0m\n\u001b[1;32m   2896\u001b[0m             \u001b[0;32mexcept\u001b[0m \u001b[0mKeyError\u001b[0m \u001b[0;32mas\u001b[0m \u001b[0merr\u001b[0m\u001b[0;34m:\u001b[0m\u001b[0;34m\u001b[0m\u001b[0;34m\u001b[0m\u001b[0m\n\u001b[0;32m-> 2897\u001b[0;31m                 \u001b[0;32mraise\u001b[0m \u001b[0mKeyError\u001b[0m\u001b[0;34m(\u001b[0m\u001b[0mkey\u001b[0m\u001b[0;34m)\u001b[0m \u001b[0;32mfrom\u001b[0m \u001b[0merr\u001b[0m\u001b[0;34m\u001b[0m\u001b[0;34m\u001b[0m\u001b[0m\n\u001b[0m\u001b[1;32m   2898\u001b[0m \u001b[0;34m\u001b[0m\u001b[0m\n\u001b[1;32m   2899\u001b[0m         \u001b[0;32mif\u001b[0m \u001b[0mtolerance\u001b[0m \u001b[0;32mis\u001b[0m \u001b[0;32mnot\u001b[0m \u001b[0;32mNone\u001b[0m\u001b[0;34m:\u001b[0m\u001b[0;34m\u001b[0m\u001b[0;34m\u001b[0m\u001b[0m\n",
      "\u001b[0;31mKeyError\u001b[0m: 'UPPER_FILTER_M'"
     ]
    }
   ],
   "source": [
    "#En réanimation - Département\n",
    "scale = (0,800)\n",
    "colors = [\n",
    "    [0.0, \"#FFFFFF\"],\n",
    "    [0.025,\"#B3D7D2\"],\n",
    "    [0.10, \"#81B1BD\"],\n",
    "    [0.55, \"#437F9D\"],\n",
    "    [1.0, \"#00354E\"]\n",
    "]\n",
    "\n",
    "if continue_script:\n",
    "    url_rea_dep = generate_map_asset('En réanimation', \"France_REA_DEP_NAME.html\", MAP_FRANCE_DEP, scale, colors)"
   ]
  },
  {
   "cell_type": "code",
   "execution_count": null,
   "metadata": {},
   "outputs": [],
   "source": [
    "#\"Décès à l’hôpital\" - Département\n",
    "scale = (0,1500)\n",
    "colors = [\n",
    "    [0.0, \"#FFFFFF\"],\n",
    "    [0.05,\"#B3D7D2\"],\n",
    "    [0.10, \"#81B1BD\"],\n",
    "    [0.55, \"#437F9D\"],\n",
    "    [1.0, \"#00354E\"]\n",
    "]\n",
    "\n",
    "if continue_script:\n",
    "    url_dc_dep = generate_map_asset('Décès à l’hôpital', \"France_DC_DEP_NAME.html\", MAP_FRANCE_DEP, scale, colors)"
   ]
  },
  {
   "cell_type": "code",
   "execution_count": null,
   "metadata": {},
   "outputs": [],
   "source": [
    "#'Retours à domicile' - Département\n",
    "scale = (0,3000)\n",
    "colors = [\n",
    "    [0.0, \"#FFFFFF\"],\n",
    "    [0.05,\"#B3D7D2\"],\n",
    "    [0.10, \"#81B1BD\"],\n",
    "    [0.55, \"#437F9D\"],\n",
    "    [1.0, \"#00354E\"]\n",
    "]\n",
    "\n",
    "if continue_script:\n",
    "    url_rad_dep = generate_map_asset('Retours à domicile', \"France_RAD_DEP_NAME.html\", MAP_FRANCE_DEP, scale, colors)"
   ]
  },
  {
   "cell_type": "markdown",
   "metadata": {},
   "source": [
    "#ANALYSIS BY REGION"
   ]
  },
  {
   "cell_type": "code",
   "execution_count": null,
   "metadata": {},
   "outputs": [],
   "source": [
    "#Hospitalisation - Région\n",
    "scale = (100,13000)\n",
    "colors = [\n",
    "    [0.0, \"#FFFFFF\"],\n",
    "    [0.075,\"#B3D7D2\"],\n",
    "    [0.15, \"#81B1BD\"],\n",
    "    [0.4, \"#437F9D\"],\n",
    "    [1.0, \"#00354E\"]\n",
    "]\n",
    "\n",
    "if continue_script:\n",
    "    url_hosp_reg = generate_map_asset('Hospitalisations', \"France_HOSP_REG_NAME.html\", MAP_FRANCE_REG, scale, colors)"
   ]
  },
  {
   "cell_type": "code",
   "execution_count": null,
   "metadata": {},
   "outputs": [],
   "source": [
    "#En réanimation - Région\n",
    "scale = (50,2500)\n",
    "colors = [\n",
    "    [0.0, \"#FFFFFF\"],\n",
    "    [0.075,\"#B3D7D2\"],\n",
    "    [0.15, \"#81B1BD\"],\n",
    "    [0.55, \"#437F9D\"],\n",
    "    [1.0, \"#00354E\"]\n",
    "]\n",
    "\n",
    "if continue_script:\n",
    "    url_rea_reg = generate_map_asset('En réanimation', \"France_REA_REG_NAME.html\", MAP_FRANCE_REG, scale, colors)"
   ]
  },
  {
   "cell_type": "code",
   "execution_count": null,
   "metadata": {},
   "outputs": [],
   "source": [
    "#\"Décès à l’hôpital\" - Région\n",
    "scale = (100,5500)\n",
    "colors = [\n",
    "    [0.0, \"#FFFFFF\"],\n",
    "    [0.075,\"#B3D7D2\"],\n",
    "    [0.15, \"#81B1BD\"],\n",
    "    [0.4, \"#437F9D\"],\n",
    "    [1.0, \"#00354E\"]\n",
    "]\n",
    "\n",
    "if continue_script:\n",
    "    url_dc_reg = generate_map_asset('Décès à l’hôpital', \"France_DC_REG_NAME.html\", MAP_FRANCE_REG, scale, colors)"
   ]
  },
  {
   "cell_type": "code",
   "execution_count": null,
   "metadata": {},
   "outputs": [],
   "source": [
    "#Retours à domicile - Région\n",
    "scale = (200,15000)\n",
    "colors = [\n",
    "    [0.0, \"#FFFFFF\"],\n",
    "    [0.075,\"#B3D7D2\"],\n",
    "    [0.15, \"#81B1BD\"],\n",
    "    [0.4, \"#437F9D\"],\n",
    "    [1.0, \"#00354E\"]\n",
    "]\n",
    "\n",
    "if continue_script:\n",
    "    url_rad_reg = generate_map_asset('Retours à domicile', \"France_RAD_REG_NAME.html\", MAP_FRANCE_REG, scale, colors)"
   ]
  },
  {
   "cell_type": "code",
   "execution_count": null,
   "metadata": {},
   "outputs": [],
   "source": [
    "map_center = {\"lat\": 46.7667, \"lon\": 2.45}\n",
    "def create_map_epid(df,geo,dfKey,geoKey,col_color,hoverdata,map_center,label,file_html):\n",
    "    fig = px.choropleth_mapbox(df, \n",
    "                               geojson=geo, \n",
    "                               color=col_color,\n",
    "                               locations=dfKey, \n",
    "                               featureidkey=geoKey,\n",
    "                                color_discrete_map={ # replaces default color mapping by value\n",
    "                                    \"vert\": \"#4CCD88\", \"orange\": \"#FDB47A\", \"rouge\": \"#DD6D88\"\n",
    "                                },\n",
    "                               mapbox_style=\"carto-positron\", \n",
    "                               zoom=5, \n",
    "                               center=map_center,\n",
    "                               hover_data= hoverdata,\n",
    "                               labels=label,\n",
    "                               opacity=0.8\n",
    "                              )\n",
    "    fig.update_layout(margin={\"r\":0,\"l\":0,},autosize=True, showlegend=False)\n",
    "    fig.write_html(os.path.join(OUTPUT_FOLDER,file_html))\n",
    "    updateChartCss(os.path.join(OUTPUT_FOLDER,file_html), os.path.join(INPUT_FOLDER,'map.css'))\n",
    "#     return fig"
   ]
  },
  {
   "cell_type": "code",
   "execution_count": null,
   "metadata": {},
   "outputs": [],
   "source": [
    "#--- Situation epidémiologique DATA\n",
    "if continue_script:\n",
    "    cols = ['DEP','DEP_NAME','REA_2013','REA_2018','SI_2013','SI_2018','SC_2013','SC_2018','ALL_2013','ALL_2018']\n",
    "    ref_france_lits = pd.read_excel(os.path.join(INPUT_FOLDER,'drees_lits_reanimation_2013-2018.xlsx'), sheet_name = 'Lits_2013-2018', header=7, names=cols)\n",
    "    ref_france_lits = ref_france_lits[['DEP','DEP_NAME','REA_2018']]\n",
    "    ref_france_lits['DEP'] = ref_france_lits['DEP'].astype(str)\n",
    "    ref_france_lits.head(5)"
   ]
  },
  {
   "cell_type": "code",
   "execution_count": null,
   "metadata": {},
   "outputs": [],
   "source": [
    "#---Tension Data\n",
    "if continue_script:\n",
    "    df_rea = pd.read_csv(os.path.join(OUTPUT_FOLDER,'107_FRANCE.csv'),sep=\";\").drop('Unnamed: 0',axis=1)\n",
    "    df_rea = df_rea[['ENTITY','SCENARIO','CHILD','PARENT','UPPER_FILTER_M','VALUE','VAR']]\n",
    "    df_rea = pd.merge(df_rea, REF_FRANCE, left_on='CHILD', right_on='DEP_FULL',how='left').rename(index=str, columns={\"DEP_NAME\":\"LABEL\"}).drop(['DEP_FULL'], axis=1)\n",
    "    df_rea.loc[df_rea['PARENT'] == 'root', 'LABEL'] = df_rea['CHILD']\n",
    "    df_rea['DEP_CODE'] = df_rea['DEP_CODE'].astype(str)\n",
    "\n",
    "    df_rea.loc[df_rea['CHILD'] == 'France', 'DEP_CODE'] = 'FR'\n",
    "    df_rea = pd.merge(df_rea,ref_france_lits, left_on='DEP_CODE', right_on='DEP',how='left').drop(['DEP','DEP_NAME'], axis=1)\n",
    "    df_rea.head(5)"
   ]
  },
  {
   "cell_type": "code",
   "execution_count": null,
   "metadata": {},
   "outputs": [],
   "source": [
    "#---HKPIS\n",
    "if continue_script:\n",
    "    df_hkpis = df_rea.copy()[(df_rea['CHILD'] == 'France') & (df_rea['SCENARIO'] == YESTERDAY.strftime('%d/%m/%Y'))]\n",
    "    df_kpis = df_hkpis[['ENTITY','SCENARIO','UPPER_FILTER_M','VALUE','VAR']]\n",
    "\n",
    "    df_reakpi = df_hkpis.copy()[df_hkpis['UPPER_FILTER_M'] == 'En réanimation'][['ENTITY','SCENARIO','UPPER_FILTER_M','VALUE','VAR','REA_2018']]\n",
    "    df_reakpi['VALUEP'] = round((df_reakpi['VALUE'] / df_reakpi['REA_2018'] * 100),2)\n",
    "    df_reakpi['VALUE_N1'] = (df_reakpi['VALUE'] - df_reakpi['VAR'])\n",
    "    df_reakpi['VALUEP_N1'] = round(((df_reakpi['VALUE_N1'] / df_reakpi['REA_2018']) * 100),2)\n",
    "    df_reakpi['VALUEP_VAR'] = df_reakpi['VALUEP'] - df_reakpi['VALUEP_N1']\n",
    "\n",
    "    df_reakpi = df_reakpi.drop(['VALUE','VAR','REA_2018','VALUE_N1','VALUEP_N1'],axis=1).rename(index=str, columns={\"VALUEP\":\"VALUE\",\"VALUEP_VAR\":\"VAR\"})\n",
    "    df_reakpi['UPPER_FILTER_M'] = 'Tensions hospitalières'\n",
    "\n",
    "    df_final = pd.concat([df_kpis,df_reakpi], axis=0)\n",
    "    df_final.loc[df_final['UPPER_FILTER_M'] == 'Tensions hospitalières','UNIT_VALUE'] = ' %'\n",
    "    df_final.loc[df_final['UPPER_FILTER_M'] == 'Tensions hospitalières','UNIT_VAR'] = ' pts'\n",
    "    df_final.loc[:,'PRECISION'] = ',.0f'\n",
    "    df_final.loc[df_final['UPPER_FILTER_M'] == 'Tensions hospitalières','PRECISION'] = ',.2f'\n",
    "\n",
    "    if USE_MONGO:\n",
    "        naas_drivers.mongo.send(df_final,'110_BIS',DB_APP,True)\n",
    "    df_final"
   ]
  },
  {
   "cell_type": "code",
   "execution_count": null,
   "metadata": {},
   "outputs": [],
   "source": [
    "#Par département\n",
    "if continue_script:\n",
    "    df_rea_dep = df_rea.copy()[(df_rea['UPPER_FILTER_M'] == 'En réanimation') & (df_rea['PARENT'] != 'root') & (df_rea['SCENARIO'] == YESTERDAY.strftime('%d/%m/%Y'))]\n",
    "    df_rea_dep['VALUEP'] = round((df_rea_dep['VALUE'] / df_rea_dep['REA_2018'] * 100),2)\n",
    "    df_rea_dep.loc[df_rea_dep['VALUEP'] < 60 ,'COLOR'] = 'vert'\n",
    "    df_rea_dep.loc[df_rea_dep['VALUEP'] >= 60, 'COLOR'] = 'orange'\n",
    "    df_rea_dep.loc[df_rea_dep['VALUEP'] >= 80, 'COLOR'] = 'rouge'\n",
    "    df_rea_dep.head(5)"
   ]
  },
  {
   "cell_type": "code",
   "execution_count": null,
   "metadata": {},
   "outputs": [],
   "source": [
    "#---Tension_Département\n",
    "if continue_script:\n",
    "    kpi = 'Tension hospitalière (%)'\n",
    "    file_html = \"France_TSHOSP_DEP_NAME.html\"\n",
    "    dfKey = \"LABEL\"\n",
    "    geoKey=\"properties.nom\"\n",
    "    col_color = 'COLOR'\n",
    "    hoverdata=[\"VALUE\",\"VAR\",\"REA_2018\",'VALUEP']\n",
    "    to_rename = {'COLOR': \"Niveau\",'LABEL':'Département', 'VALUE': 'Nombre de cas en réanimation', 'VAR': 'Evolution en réanimation','REA_2018': 'Nombre de lits en service réanimation','VALUEP': kpi}\n",
    "    create_map_epid(df_rea_dep,MAP_FRANCE_DEP,dfKey,geoKey,col_color,hoverdata,map_center,to_rename,file_html)\n",
    "\n",
    "    #Make html visible\n",
    "    url_th_dep = naas.assets.add(os.path.join(OUTPUT_FOLDER, file_html), params={\"inline\":True})"
   ]
  },
  {
   "cell_type": "code",
   "execution_count": null,
   "metadata": {},
   "outputs": [],
   "source": [
    "#Par région\n",
    "if continue_script:\n",
    "    df_rea_re = df_rea.copy()[(df_rea['UPPER_FILTER_M'] == 'En réanimation') & (df_rea['PARENT'] != 'root') & (df_rea['SCENARIO'] == YESTERDAY.strftime('%d/%m/%Y'))]\n",
    "    cols_to_group = ['ENTITY','SCENARIO','REG_NAME']\n",
    "    df_rea_re['VALUE'] = df_rea_re['VALUE'].astype(int)\n",
    "    df_rea_re['VAR'] = df_rea_re['VAR'].astype(int)\n",
    "    df_rea_re = df_rea_re.groupby(cols_to_group, as_index=False).agg({\"VALUE\":'sum',\"VAR\":'sum',\"REA_2018\":'sum'})\n",
    "\n",
    "    df_rea_re['VALUEP'] = round((df_rea_re['VALUE'] / df_rea_re['REA_2018'] * 100),2)\n",
    "    df_rea_re.loc[df_rea_re['VALUEP'] < 60 ,'COLOR'] = 'vert'\n",
    "    df_rea_re.loc[df_rea_re['VALUEP'] >= 60, 'COLOR'] = 'orange'\n",
    "    df_rea_re.loc[df_rea_re['VALUEP'] >= 80, 'COLOR'] = 'rouge'\n",
    "    df_rea_re.head(5)"
   ]
  },
  {
   "cell_type": "code",
   "execution_count": null,
   "metadata": {},
   "outputs": [],
   "source": [
    "#---Tension_Région\n",
    "if continue_script:\n",
    "    kpi = 'Tension hospitalière (%)'\n",
    "    file_html = \"France_TSHOSP_REG_NAME.html\"\n",
    "    dfKey = \"REG_NAME\"\n",
    "    geoKey=\"properties.nom\"\n",
    "    col_color = 'COLOR'\n",
    "    hoverdata=[\"VALUE\",\"VAR\",\"REA_2018\",'VALUEP']\n",
    "    to_rename = {'REG_NAME':'Région','COLOR': \"Niveau\", 'VALUE': 'Nombre de cas en réanimation','VAR': 'Evolution en réanimation', 'REA_2018': 'Nombre de lits en service réanimation','VALUEP': kpi}\n",
    "    create_map_epid(df_rea_re,MAP_FRANCE_REG,dfKey,geoKey,col_color,hoverdata,map_center,to_rename,file_html)\n",
    "\n",
    "    #Make html visible\n",
    "    url_th_reg = naas.assets.add(os.path.join(OUTPUT_FOLDER, file_html), params={\"inline\":True})"
   ]
  },
  {
   "cell_type": "code",
   "execution_count": null,
   "metadata": {},
   "outputs": [],
   "source": [
    "# html\n",
    "# Par département\n",
    "if continue_script:\n",
    "\n",
    "    HOSP_DEP = [{'URL': url_hosp_dep,\n",
    "                 'KPI': 'Hospitalisations',\n",
    "                 'UPPER_FILTER': 'Par département'}]\n",
    "\n",
    "    REA_DEP = [{'URL': url_rea_dep,\n",
    "                'KPI': 'En réanimation',\n",
    "                'UPPER_FILTER': 'Par département'}]\n",
    "\n",
    "    DC_DEP = [{'URL': url_dc_dep,\n",
    "               'KPI': 'Retours à domicile',\n",
    "               'UPPER_FILTER': 'Par département'}]\n",
    "\n",
    "    RAD_DEP = [{'URL': url_rad_dep,\n",
    "                'KPI': 'Décès à l’hôpital',\n",
    "                'UPPER_FILTER': 'Par département'}]\n",
    "\n",
    "    REAT_DEP = [{'URL': url_th_dep,\n",
    "                 'KPI': 'Tensions hospitalières',\n",
    "                 'UPPER_FILTER': 'Par département'}]\n",
    "\n",
    "    # Par région\n",
    "    HOSP_REG = [{'URL': url_hosp_reg,\n",
    "                 'KPI': 'Hospitalisations',\n",
    "                 'UPPER_FILTER': 'Par région'}]\n",
    "\n",
    "    REA_REG = [{'URL': url_rea_reg,\n",
    "                'KPI': 'En réanimation',\n",
    "                'UPPER_FILTER': 'Par région'}]\n",
    "\n",
    "    DC_REG = [{'URL': url_dc_reg,\n",
    "               'KPI': 'Retours à domicile',\n",
    "               'UPPER_FILTER': 'Par région'}]\n",
    "\n",
    "    RAD_REG = [{'URL': url_rad_reg,\n",
    "                'KPI': 'Décès à l’hôpital',\n",
    "                'UPPER_FILTER': 'Par région'}]\n",
    "\n",
    "    REAT_REG = [{'URL': url_th_reg,\n",
    "                 'KPI': 'Tensions hospitalières',\n",
    "                 'UPPER_FILTER': 'Par région'}]\n",
    "\n",
    "    # Concat list to create Series\n",
    "    LIST_KPIS = (HOSP_DEP + REA_DEP + DC_DEP + RAD_DEP +\n",
    "                 HOSP_REG + REA_REG + DC_REG + RAD_REG + \n",
    "                 REAT_DEP + REAT_REG)\n",
    "\n",
    "    # Create Dataframe\n",
    "    DOMAIN = pd.DataFrame(LIST_KPIS)\n",
    "    DOMAIN.loc[:, 'VALUE'] = (\"<iframe src='\" +\n",
    "                              DOMAIN['URL'] +\n",
    "                              (\"' frameborder='0' style='overflow:hidden;\"\n",
    "                               \"height:85vh;width:100%' height='100%' \"\n",
    "                               \"width='100%'></iframe> <style>.modebar\"\n",
    "                               \"{display: none!important;}</style>\"))\n",
    "    if USE_MONGO:\n",
    "        naas_drivers.mongo.send(DOMAIN,'110',DB_APP,True)\n",
    "    DOMAIN"
   ]
  }
 ],
 "metadata": {
  "kernelspec": {
   "display_name": "Python 3",
   "language": "python",
   "name": "python3"
  },
  "language_info": {
   "codemirror_mode": {
    "name": "ipython",
    "version": 3
   },
   "file_extension": ".py",
   "mimetype": "text/x-python",
   "name": "python",
   "nbconvert_exporter": "python",
   "pygments_lexer": "ipython3",
   "version": "3.8.6"
  }
 },
 "nbformat": 4,
 "nbformat_minor": 4
}
