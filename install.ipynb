{
 "cells": [
  {
   "cell_type": "markdown",
   "metadata": {},
   "source": [
    "# Install\n",
    "If you have download this to jupyter instead of [Naas](https://naas.ai) you have to install it, run the cell below"
   ]
  },
  {
   "cell_type": "code",
   "execution_count": null,
   "metadata": {},
   "outputs": [],
   "source": [
    "!pip install naas"
   ]
  },
  {
   "cell_type": "markdown",
   "metadata": {},
   "source": [
    "# Import it"
   ]
  },
  {
   "cell_type": "code",
   "execution_count": 1,
   "metadata": {},
   "outputs": [],
   "source": [
    "import naas"
   ]
  },
  {
   "cell_type": "markdown",
   "metadata": {},
   "source": [
    "## Add your custom key to get google analytics data"
   ]
  },
  {
   "cell_type": "code",
   "execution_count": 6,
   "metadata": {},
   "outputs": [],
   "source": [
    "key = {\"type\": \"service_account\", \n",
    "       \"project_id\": \"bob-prod\", \n",
    "       \"private_key_id\": \"***********************************\", \n",
    "       \"private_key\": \"***********************************\",\n",
    "       \"client_email\": \"****s@****.iam.gserviceaccount.com\", \n",
    "       \"client_id\": \"*****\", \n",
    "       \"auth_uri\": \"https://accounts.google.com/o/oauth2/auth\", \n",
    "       \"token_uri\": \"https://oauth2.googleapis.com/token\", \n",
    "       \"auth_provider_x509_cert_url\": \"https://www.googleapis.com/oauth2/v1/certs\", \n",
    "       \"client_x509_cert_url\": \"https://www.googleapis.com/robot/v1/metadata/x509/@****..iam.gserviceaccount.com\"}"
   ]
  },
  {
   "cell_type": "markdown",
   "metadata": {},
   "source": [
    "## Set your mongodb uri"
   ]
  },
  {
   "cell_type": "code",
   "execution_count": null,
   "metadata": {},
   "outputs": [],
   "source": [
    "mongo_uri = 'mongodb://****:****@****'"
   ]
  },
  {
   "cell_type": "markdown",
   "metadata": {},
   "source": [
    "## Save then in secret"
   ]
  },
  {
   "cell_type": "code",
   "execution_count": null,
   "metadata": {},
   "outputs": [],
   "source": [
    "import json\n",
    "naas.secret.add('KEY_FILE_GOOGLE', json.dumps(key)\n",
    "naas.secret.add(\"mongo_secret\", mongo_uri)"
   ]
  }
 ],
 "metadata": {
  "kernelspec": {
   "display_name": "Python 3",
   "language": "python",
   "name": "python3"
  },
  "language_info": {
   "codemirror_mode": {
    "name": "ipython",
    "version": 3
   },
   "file_extension": ".py",
   "mimetype": "text/x-python",
   "name": "python",
   "nbconvert_exporter": "python",
   "pygments_lexer": "ipython3",
   "version": "3.8.6"
  }
 },
 "nbformat": 4,
 "nbformat_minor": 4
}
