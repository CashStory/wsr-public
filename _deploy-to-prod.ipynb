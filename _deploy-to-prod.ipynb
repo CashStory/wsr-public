{
 "cells": [
  {
   "cell_type": "code",
   "execution_count": 1,
   "metadata": {
    "execution": {
     "iopub.execute_input": "2020-11-10T02:01:08.397117Z",
     "iopub.status.busy": "2020-11-10T02:01:08.396853Z",
     "iopub.status.idle": "2020-11-10T02:01:12.085497Z",
     "shell.execute_reply": "2020-11-10T02:01:12.080192Z",
     "shell.execute_reply.started": "2020-11-10T02:01:08.397055Z"
    }
   },
   "outputs": [],
   "source": [
    "import naas"
   ]
  },
  {
   "cell_type": "markdown",
   "metadata": {},
   "source": [
    "### STEP 1 - Input"
   ]
  },
  {
   "cell_type": "code",
   "execution_count": 2,
   "metadata": {
    "execution": {
     "iopub.execute_input": "2020-11-10T02:01:12.090312Z",
     "iopub.status.busy": "2020-11-10T02:01:12.089874Z",
     "iopub.status.idle": "2020-11-10T02:01:14.342885Z",
     "shell.execute_reply": "2020-11-10T02:01:14.342171Z",
     "shell.execute_reply.started": "2020-11-10T02:01:12.090278Z"
    }
   },
   "outputs": [
    {
     "name": "stdout",
     "output_type": "stream",
     "text": [
      "👌 Well done! Your Dependency has been sent to production. \n",
      "\n",
      "PS: to remove the \"Dependency\" feature, just replace .add by .delete\n",
      "👌 Well done! Your Dependency has been sent to production. \n",
      "\n",
      "PS: to remove the \"Dependency\" feature, just replace .add by .delete\n",
      "👌 Well done! Your Dependency has been sent to production. \n",
      "\n",
      "PS: to remove the \"Dependency\" feature, just replace .add by .delete\n",
      "👌 Well done! Your Dependency has been sent to production. \n",
      "\n",
      "PS: to remove the \"Dependency\" feature, just replace .add by .delete\n",
      "👌 Well done! Your Dependency has been sent to production. \n",
      "\n",
      "PS: to remove the \"Dependency\" feature, just replace .add by .delete\n",
      "👌 Well done! Your Dependency has been sent to production. \n",
      "\n",
      "PS: to remove the \"Dependency\" feature, just replace .add by .delete\n",
      "👌 Well done! Your Dependency has been sent to production. \n",
      "\n",
      "PS: to remove the \"Dependency\" feature, just replace .add by .delete\n",
      "👌 Well done! Your Dependency has been sent to production. \n",
      "\n",
      "PS: to remove the \"Dependency\" feature, just replace .add by .delete\n",
      "👌 Well done! Your Dependency has been sent to production. \n",
      "\n",
      "PS: to remove the \"Dependency\" feature, just replace .add by .delete\n",
      "👌 Well done! Your Dependency has been sent to production. \n",
      "\n",
      "PS: to remove the \"Dependency\" feature, just replace .add by .delete\n",
      "👌 Well done! Your Dependency has been sent to production. \n",
      "\n",
      "PS: to remove the \"Dependency\" feature, just replace .add by .delete\n",
      "Done\n"
     ]
    }
   ],
   "source": [
    "import glob\n",
    "\n",
    "for file in glob.glob(\"input/*\"):\n",
    "    naas.dependency.add(file)\n",
    "print('Done')"
   ]
  },
  {
   "cell_type": "markdown",
   "metadata": {},
   "source": [
    "### STEP 2 - Scripts and automations"
   ]
  },
  {
   "cell_type": "code",
   "execution_count": 3,
   "metadata": {
    "execution": {
     "iopub.execute_input": "2020-11-10T02:01:14.344418Z",
     "iopub.status.busy": "2020-11-10T02:01:14.344193Z",
     "iopub.status.idle": "2020-11-10T02:01:14.532058Z",
     "shell.execute_reply": "2020-11-10T02:01:14.531343Z",
     "shell.execute_reply.started": "2020-11-10T02:01:14.344389Z"
    }
   },
   "outputs": [
    {
     "name": "stdout",
     "output_type": "stream",
     "text": [
      "👌 Well done! Your Dependency has been sent to production. \n",
      "\n",
      "PS: to remove the \"Dependency\" feature, just replace .add by .delete\n",
      "Done\n"
     ]
    }
   ],
   "source": [
    "# Init\n",
    "naas.dependency.add(\"script/__init__.ipynb\")\n",
    "print('Done')"
   ]
  },
  {
   "cell_type": "code",
   "execution_count": 4,
   "metadata": {
    "execution": {
     "iopub.execute_input": "2020-11-10T02:01:14.533411Z",
     "iopub.status.busy": "2020-11-10T02:01:14.533058Z",
     "iopub.status.idle": "2020-11-10T02:01:15.245948Z",
     "shell.execute_reply": "2020-11-10T02:01:15.244799Z",
     "shell.execute_reply.started": "2020-11-10T02:01:14.533380Z"
    }
   },
   "outputs": [
    {
     "name": "stdout",
     "output_type": "stream",
     "text": [
      "👌 Well done! Your Dependency has been sent to production. \n",
      "\n",
      "PS: to remove the \"Dependency\" feature, just replace .add by .delete\n",
      "👌 Well done! Your Dependency has been sent to production. \n",
      "\n",
      "PS: to remove the \"Dependency\" feature, just replace .add by .delete\n",
      "👌 Well done! Your Dependency has been sent to production. \n",
      "\n",
      "PS: to remove the \"Dependency\" feature, just replace .add by .delete\n",
      "👌 Well done! Your Notebook has been sent to production. \n",
      "\n",
      "⏰ It will be scheduled \"5,25 2-23 * * *\" (more on the syntax on https://crontab.guru/).\n",
      "\n",
      "Ps: to remove the \"Scheduler\", just replace .add by .delete\n",
      "Done\n"
     ]
    }
   ],
   "source": [
    "# Health - Covid-19 WORLD\n",
    "naas.dependency.add(\"script/covid-19_world.ipynb\")\n",
    "naas.dependency.add(\"script/map-chart_world.ipynb\")\n",
    "naas.dependency.add(\"script/map-chart_us.ipynb\")\n",
    "\n",
    "naas.scheduler.add(path=\"script/health_world.ipynb\", recurrence=\"5,25 2-23 * * *\")\n",
    "print('Done')"
   ]
  },
  {
   "cell_type": "code",
   "execution_count": 5,
   "metadata": {
    "execution": {
     "iopub.execute_input": "2020-11-10T02:01:15.247249Z",
     "iopub.status.busy": "2020-11-10T02:01:15.246953Z",
     "iopub.status.idle": "2020-11-10T02:01:15.739221Z",
     "shell.execute_reply": "2020-11-10T02:01:15.738600Z",
     "shell.execute_reply.started": "2020-11-10T02:01:15.247215Z"
    }
   },
   "outputs": [
    {
     "name": "stdout",
     "output_type": "stream",
     "text": [
      "👌 Well done! Your Dependency has been sent to production. \n",
      "\n",
      "PS: to remove the \"Dependency\" feature, just replace .add by .delete\n",
      "👌 Well done! Your Dependency has been sent to production. \n",
      "\n",
      "PS: to remove the \"Dependency\" feature, just replace .add by .delete\n",
      "👌 Well done! Your Notebook has been sent to production. \n",
      "\n",
      "⏰ It will be scheduled \"10,30 8-23 * * *\" (more on the syntax on https://crontab.guru/).\n",
      "\n",
      "Ps: to remove the \"Scheduler\", just replace .add by .delete\n",
      "Done\n"
     ]
    }
   ],
   "source": [
    "# Health - Covid-19 FRANCE\n",
    "naas.dependency.add(\"script/covid-19_france.ipynb\")\n",
    "naas.dependency.add(\"script/map-chart_france.ipynb\")\n",
    "\n",
    "naas.scheduler.add(path=\"script/health_france.ipynb\", recurrence=\"10,30 8-23 * * *\")\n",
    "print('Done')"
   ]
  },
  {
   "cell_type": "code",
   "execution_count": 6,
   "metadata": {
    "execution": {
     "iopub.execute_input": "2020-11-10T02:01:15.740218Z",
     "iopub.status.busy": "2020-11-10T02:01:15.740043Z",
     "iopub.status.idle": "2020-11-10T02:01:15.929434Z",
     "shell.execute_reply": "2020-11-10T02:01:15.928672Z",
     "shell.execute_reply.started": "2020-11-10T02:01:15.740199Z"
    }
   },
   "outputs": [
    {
     "name": "stdout",
     "output_type": "stream",
     "text": [
      "👌 Well done! Your Notebook has been sent to production. \n",
      "\n",
      "⏰ It will be scheduled \"15 9-23 * * *\" (more on the syntax on https://crontab.guru/).\n",
      "\n",
      "Ps: to remove the \"Scheduler\", just replace .add by .delete\n",
      "Done\n"
     ]
    }
   ],
   "source": [
    "# Economy - Market data\n",
    "naas.scheduler.add(path=\"script/economy_market-data.ipynb\", recurrence=\"15 9-23 * * *\")\n",
    "print('Done')"
   ]
  },
  {
   "cell_type": "code",
   "execution_count": 7,
   "metadata": {
    "execution": {
     "iopub.execute_input": "2020-11-10T02:01:15.930589Z",
     "iopub.status.busy": "2020-11-10T02:01:15.930356Z",
     "iopub.status.idle": "2020-11-10T02:01:16.113584Z",
     "shell.execute_reply": "2020-11-10T02:01:16.112515Z",
     "shell.execute_reply.started": "2020-11-10T02:01:15.930562Z"
    }
   },
   "outputs": [
    {
     "name": "stdout",
     "output_type": "stream",
     "text": [
      "👌 Well done! Your Notebook has been sent to production. \n",
      "\n",
      "⏰ It will be scheduled \"At 0 minutes past every hour of every day\" (more on the syntax on https://crontab.guru/).\n",
      "\n",
      "Ps: to remove the \"Scheduler\", just replace .add by .delete\n",
      "Done\n"
     ]
    }
   ],
   "source": [
    "# Other - Google analytics\n",
    "naas.scheduler.add(path=\"script/other.ipynb\", recurrence=\"0 * * * *\")\n",
    "print('Done')"
   ]
  },
  {
   "cell_type": "markdown",
   "metadata": {},
   "source": [
    "# Get prod file to check eventual errors"
   ]
  },
  {
   "cell_type": "code",
   "execution_count": 8,
   "metadata": {
    "execution": {
     "iopub.execute_input": "2020-11-10T02:01:16.120578Z",
     "iopub.status.busy": "2020-11-10T02:01:16.118403Z",
     "iopub.status.idle": "2020-11-10T02:01:16.124159Z",
     "shell.execute_reply": "2020-11-10T02:01:16.123575Z",
     "shell.execute_reply.started": "2020-11-10T02:01:16.120527Z"
    }
   },
   "outputs": [],
   "source": [
    "# naas.scheduler.get_output(\"script/health_world.ipynb\")\n",
    "# naas.scheduler.get_output(\"script/health_france.ipynb\")\n",
    "# naas.scheduler.get_output(\"script/economy_market-data.ipynb\")"
   ]
  },
  {
   "cell_type": "code",
   "execution_count": 9,
   "metadata": {
    "execution": {
     "iopub.execute_input": "2020-11-10T02:01:16.125433Z",
     "iopub.status.busy": "2020-11-10T02:01:16.125108Z",
     "iopub.status.idle": "2020-11-10T02:01:16.214932Z",
     "shell.execute_reply": "2020-11-10T02:01:16.214260Z",
     "shell.execute_reply.started": "2020-11-10T02:01:16.125403Z"
    }
   },
   "outputs": [],
   "source": [
    "# naas.scheduler.get(\"script/covid-19_world.ipynb\")\n",
    "# naas.scheduler.get(\"script/economy_market-data.ipynb\")"
   ]
  },
  {
   "cell_type": "code",
   "execution_count": null,
   "metadata": {},
   "outputs": [],
   "source": []
  }
 ],
 "metadata": {
  "kernelspec": {
   "display_name": "Python 3",
   "language": "python",
   "name": "python3"
  },
  "language_info": {
   "codemirror_mode": {
    "name": "ipython",
    "version": 3
   },
   "file_extension": ".py",
   "mimetype": "text/x-python",
   "name": "python",
   "nbconvert_exporter": "python",
   "pygments_lexer": "ipython3",
   "version": "3.8.6"
  }
 },
 "nbformat": 4,
 "nbformat_minor": 4
}
