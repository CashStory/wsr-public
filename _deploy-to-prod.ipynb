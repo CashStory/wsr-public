{
 "cells": [
  {
   "cell_type": "code",
   "execution_count": null,
   "metadata": {},
   "outputs": [],
   "source": [
    "import naas"
   ]
  },
  {
   "cell_type": "markdown",
   "metadata": {},
   "source": [
    "### STEP 1 - Input"
   ]
  },
  {
   "cell_type": "code",
   "execution_count": null,
   "metadata": {},
   "outputs": [],
   "source": [
    "import glob\n",
    "\n",
    "for file in glob.glob(\"input/*\"):\n",
    "    naas.dependency.add(file)\n",
    "print('Done')"
   ]
  },
  {
   "cell_type": "markdown",
   "metadata": {},
   "source": [
    "### STEP 2 - Scripts and automations"
   ]
  },
  {
   "cell_type": "code",
   "execution_count": null,
   "metadata": {},
   "outputs": [],
   "source": [
    "# Init\n",
    "naas.dependency.add(\"script/__init__.ipynb\")\n",
    "print('Done')"
   ]
  },
  {
   "cell_type": "code",
   "execution_count": null,
   "metadata": {},
   "outputs": [],
   "source": [
    "# Health - Covid-19 WORLD\n",
    "naas.dependency.add(\"script/covid-19_world.ipynb\")\n",
    "naas.dependency.add(\"script/map-chart_world.ipynb\")\n",
    "naas.dependency.add(\"script/map-chart_us.ipynb\")\n",
    "\n",
    "naas.scheduler.add(path=\"script/health_world.ipynb\", recurrence=\"5,25 2-23 * * *\")\n",
    "print('Done')"
   ]
  },
  {
   "cell_type": "code",
   "execution_count": null,
   "metadata": {},
   "outputs": [],
   "source": [
    "# Health - Covid-19 FRANCE\n",
    "naas.dependency.add(\"script/covid-19_france.ipynb\")\n",
    "naas.dependency.add(\"script/map-chart_france.ipynb\")\n",
    "\n",
    "naas.scheduler.add(path=\"script/health_france.ipynb\", recurrence=\"10,30 8-23 * * *\")\n",
    "print('Done')"
   ]
  },
  {
   "cell_type": "code",
   "execution_count": null,
   "metadata": {},
   "outputs": [],
   "source": [
    "# Economy - Market data\n",
    "naas.scheduler.add(path=\"script/economy_market-data.ipynb\", recurrence=\"15 9-23 * * *\")\n",
    "print('Done')"
   ]
  },
  {
   "cell_type": "code",
   "execution_count": null,
   "metadata": {},
   "outputs": [],
   "source": [
    "# Other - Google analytics\n",
    "naas.scheduler.add(path=\"script/other.ipynb\", recurrence=\"0 * * * *\")\n",
    "print('Done')"
   ]
  },
  {
   "cell_type": "markdown",
   "metadata": {},
   "source": [
    "# Get prod file to check eventual errors"
   ]
  },
  {
   "cell_type": "code",
   "execution_count": null,
   "metadata": {},
   "outputs": [],
   "source": [
    "# naas.scheduler.get_output(\"script/health_world.ipynb\")\n",
    "# naas.scheduler.get_output(\"script/health_france.ipynb\")\n",
    "# naas.scheduler.get_output(\"script/economy_market-data.ipynb\")"
   ]
  },
  {
   "cell_type": "code",
   "execution_count": null,
   "metadata": {},
   "outputs": [],
   "source": [
    "# naas.scheduler.get(\"script/covid-19_world.ipynb\")\n",
    "# naas.scheduler.get(\"script/economy_market-data.ipynb\")\n",
    "naas.scheduler.get(\"script/map-chart_france.ipynb\")"
   ]
  },
  {
   "cell_type": "code",
   "execution_count": null,
   "metadata": {},
   "outputs": [],
   "source": []
  }
 ],
 "metadata": {
  "kernelspec": {
   "display_name": "Python 3",
   "language": "python",
   "name": "python3"
  },
  "language_info": {
   "codemirror_mode": {
    "name": "ipython",
    "version": 3
   },
   "file_extension": ".py",
   "mimetype": "text/x-python",
   "name": "python",
   "nbconvert_exporter": "python",
   "pygments_lexer": "ipython3",
   "version": "3.8.6"
  }
 },
 "nbformat": 4,
 "nbformat_minor": 4
}
